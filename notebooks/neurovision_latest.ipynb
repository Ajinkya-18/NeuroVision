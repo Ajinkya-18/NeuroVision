{
  "cells": [
    {
      "cell_type": "markdown",
      "metadata": {
        "id": "view-in-github",
        "colab_type": "text"
      },
      "source": [
        "<a href=\"https://colab.research.google.com/github/Ajinkya-18/NeuroVision/blob/main/notebooks/neurovision_latest.ipynb\" target=\"_parent\"><img src=\"https://colab.research.google.com/assets/colab-badge.svg\" alt=\"Open In Colab\"/></a>"
      ]
    },
    {
      "cell_type": "markdown",
      "id": "58f68d0c-a42d-4ede-a02d-d2ea6dbf9275",
      "metadata": {
        "id": "58f68d0c-a42d-4ede-a02d-d2ea6dbf9275"
      },
      "source": [
        "# NeuroVision"
      ]
    },
    {
      "cell_type": "markdown",
      "id": "7162949c-6fe9-43c2-a775-7dbf886ab75a",
      "metadata": {
        "id": "7162949c-6fe9-43c2-a775-7dbf886ab75a"
      },
      "source": [
        "## Dataset Preparation"
      ]
    },
    {
      "cell_type": "code",
      "source": [
        "# Make sure your Google Drive is mounted\n",
        "from google.colab import drive\n",
        "drive.mount('/content/drive')\n",
        "\n",
        "# --- This is the key step ---\n",
        "# Use 'cp -r' to recursively copy the entire folder.\n",
        "# This will be SLOW, as it's copying thousands of individual files over the network.\n",
        "# Let it run until it's finished.\n",
        "\n",
        "print(\"Starting to copy dataset folder from Drive to local storage...\")\n",
        "print(\"This may take a significant amount of time, please be patient.\")\n",
        "\n",
        "# !cp -r \"/content/drive/MyDrive/NeuroVision/data/Classes_Regrouped_Dataset\" \"/content/eeg_dataset\"\n",
        "\n",
        "print(\"Copying complete!\")"
      ],
      "metadata": {
        "colab": {
          "base_uri": "https://localhost:8080/"
        },
        "id": "ZDgv-pwx8Zvr",
        "outputId": "782b2f05-73a0-4841-c399-ac1e11e56d63"
      },
      "id": "ZDgv-pwx8Zvr",
      "execution_count": 1,
      "outputs": [
        {
          "output_type": "stream",
          "name": "stdout",
          "text": [
            "Drive already mounted at /content/drive; to attempt to forcibly remount, call drive.mount(\"/content/drive\", force_remount=True).\n",
            "Starting to copy dataset folder from Drive to local storage...\n",
            "This may take a significant amount of time, please be patient.\n",
            "Copying complete!\n"
          ]
        }
      ]
    },
    {
      "cell_type": "code",
      "execution_count": 2,
      "id": "6fce1e7a-a9dd-47e5-970b-682938b29ae3",
      "metadata": {
        "id": "6fce1e7a-a9dd-47e5-970b-682938b29ae3"
      },
      "outputs": [],
      "source": [
        "import numpy as np\n",
        "import pandas as pd\n",
        "import matplotlib.pyplot as plt\n",
        "import seaborn as sns\n",
        "import os\n",
        "import shutil"
      ]
    },
    {
      "cell_type": "code",
      "execution_count": 3,
      "id": "9fbc4228-6ab9-4fb4-8dbc-13d2b07e5d17",
      "metadata": {
        "id": "9fbc4228-6ab9-4fb4-8dbc-13d2b07e5d17"
      },
      "outputs": [],
      "source": [
        "# function to read the dir contents of dataset folder and segregate them\n",
        "# into n separate classes.\n",
        "def create_dataset_folders(metadata_file:str, csv_dir:str, output_dir:str):\n",
        "    class_id_to_folder = {}\n",
        "\n",
        "    with open(metadata_file, 'r', encoding='utf-8') as f:\n",
        "        for line in f:\n",
        "            parts = line.strip().split('\\t')\n",
        "\n",
        "            if len(parts) < 3:\n",
        "                continue\n",
        "\n",
        "            label_str, _, class_id = parts\n",
        "            # print(label_str, class_id)\n",
        "            first_label = label_str.split(',')[0].strip()\n",
        "            # print(first_label)\n",
        "            class_id_to_folder[class_id] = first_label\n",
        "\n",
        "        count = 0\n",
        "        for filename in os.listdir(csv_dir):\n",
        "            if not filename.endswith('.csv'):\n",
        "                continue\n",
        "\n",
        "            class_id = filename.split('_')[3]\n",
        "\n",
        "            folder_name = class_id_to_folder.get(class_id)\n",
        "            print(folder_name)\n",
        "\n",
        "            if not folder_name:\n",
        "                print(f'Unknown class id: {class_id}')\n",
        "                continue\n",
        "\n",
        "            safe_folder = folder_name.replace('/', '_').replace('\\\\', '_').strip()\n",
        "\n",
        "            dest_folder = os.path.join(output_dir, safe_folder)\n",
        "            os.makedirs(dest_folder, exist_ok=True)\n",
        "\n",
        "            src_path = os.path.join(csv_dir, filename)\n",
        "            dst_path = os.path.join(dest_folder, filename)\n",
        "\n",
        "            # print(f\"Move: {src_path} to {dst_path}\")\n",
        "            count+=1\n",
        "            print(count)\n",
        "            shutil.copy(src_path, dst_path)\n"
      ]
    },
    {
      "cell_type": "code",
      "execution_count": 4,
      "id": "4ee0ee6e-277d-43c4-8269-88ef54a61c04",
      "metadata": {
        "id": "4ee0ee6e-277d-43c4-8269-88ef54a61c04",
        "scrolled": true
      },
      "outputs": [],
      "source": [
        "# create_dataset_folders('../data/WordReport-v1.04.txt',\n",
        "#                        '../data/MindBigData-Imagenet',\n",
        "#                        '../data/Segregated_Dataset')"
      ]
    },
    {
      "cell_type": "code",
      "source": [
        "import shutil\n",
        "import json\n",
        "import os\n",
        "\n",
        "def reorganize_dataset(mapping_file, src_root, dst_root, move=False):\n",
        "    with open(mapping_file, 'r') as f:\n",
        "        mapping = json.load(f)\n",
        "\n",
        "    os.makedirs(os.path.dirname(dst_root), exist_ok=True)\n",
        "    # src_root = os.path.dirname(src_root)\n",
        "\n",
        "    for super_class, sub_classes in mapping.items():\n",
        "        super_cls_dir = os.path.join(dst_root, super_class)\n",
        "        os.makedirs(super_cls_dir, exist_ok=True)\n",
        "\n",
        "        for sub_class in sub_classes:\n",
        "            sub_cls_dir = os.path.join(src_root, sub_class)\n",
        "            if not os.path.exists(sub_cls_dir):\n",
        "                print(f\"[Warning] Sub-class folder not found: {sub_cls_dir}\")\n",
        "                continue\n",
        "\n",
        "            for file_name in os.listdir(sub_cls_dir):\n",
        "                src_file = os.path.join(sub_cls_dir, file_name)\n",
        "                dst_file = os.path.join(super_cls_dir, file_name)\n",
        "\n",
        "                if move:\n",
        "                    shutil.move(src_file, dst_file)\n",
        "\n",
        "                else:\n",
        "                    shutil.copy2(src_file, dst_file)\n",
        "\n",
        "            print(f\"[OK] {'Moved' if move else 'Copied'} {sub_class} -> {super_class}\")\n",
        "    print(\"Dataset reorganization complete!\")"
      ],
      "metadata": {
        "id": "vbgSZe26XQUQ"
      },
      "id": "vbgSZe26XQUQ",
      "execution_count": 5,
      "outputs": []
    },
    {
      "cell_type": "code",
      "execution_count": 6,
      "id": "f93d8148-91b6-47b6-890f-46ed86a39094",
      "metadata": {
        "id": "f93d8148-91b6-47b6-890f-46ed86a39094",
        "scrolled": true,
        "collapsed": true
      },
      "outputs": [],
      "source": [
        "# reorganize_dataset(mapping_file='../content/drive/MyDrive/NeuroVision/class_mapping_v4.json',\n",
        "#                    src_root='../content/drive/MyDrive/NeuroVision/Segregated_Dataset',\n",
        "#                    dst_root='../content/drive/MyDrive/NeuroVision/data/Classes_Regrouped_Dataset',\n",
        "#                    move=False)"
      ]
    },
    {
      "cell_type": "markdown",
      "id": "ff0a4f18-0cbf-451e-be8c-1aa156eff8a7",
      "metadata": {
        "id": "ff0a4f18-0cbf-451e-be8c-1aa156eff8a7"
      },
      "source": [
        "## Dataset Processing for PyTorch"
      ]
    },
    {
      "cell_type": "code",
      "execution_count": 7,
      "id": "a6f7ba77-0e7b-46c4-9823-85ed74ec2bda",
      "metadata": {
        "id": "a6f7ba77-0e7b-46c4-9823-85ed74ec2bda"
      },
      "outputs": [],
      "source": [
        "import torch\n",
        "import os\n",
        "import pandas as pd\n",
        "from torch.utils.data import DataLoader, Dataset, Subset\n",
        "from sklearn.model_selection import train_test_split"
      ]
    },
    {
      "cell_type": "code",
      "source": [
        "def simple_collate_fn(batch):\n",
        "  sequences, _ = zip(*batch)\n",
        "  padded_seqs = pad_sequence(sequences, batch_first=True, padding_value=0.0)\n",
        "\n",
        "  return padded_seqs, None"
      ],
      "metadata": {
        "id": "HnvdOhuonfeY"
      },
      "id": "HnvdOhuonfeY",
      "execution_count": 8,
      "outputs": []
    },
    {
      "cell_type": "code",
      "source": [
        "def get_dataset_stats(dataset, collate_fn):\n",
        "  from tqdm import tqdm\n",
        "\n",
        "  loader = DataLoader(dataset, batch_size=64, shuffle=False, num_workers=2, collate_fn=collate_fn)\n",
        "\n",
        "  all_channels_data = [[] for _ in range(5)]\n",
        "\n",
        "  print(\"Calculating dataset stats...\")\n",
        "\n",
        "  for data, _ in tqdm(loader):\n",
        "    for i in range(5):\n",
        "      all_channels_data[i].append(data[:, :, i].flatten())\n",
        "\n",
        "    channel_means = [torch.cat(ch_data).mean() for ch_data in all_channels_data]\n",
        "    channel_stds = [torch.cat(ch_data).std() for ch_data in all_channels_data]\n",
        "\n",
        "  return torch.tensor(channel_means), torch.tensor(channel_stds)\n"
      ],
      "metadata": {
        "id": "MCA5zBFxaqh_"
      },
      "id": "MCA5zBFxaqh_",
      "execution_count": 9,
      "outputs": []
    },
    {
      "cell_type": "code",
      "execution_count": 10,
      "id": "027fe9b8-8ee9-4f76-b0b0-20f528f20261",
      "metadata": {
        "id": "027fe9b8-8ee9-4f76-b0b0-20f528f20261"
      },
      "outputs": [],
      "source": [
        "class EEGDataset(Dataset):\n",
        "    def __init__(self, root_dir, samples, num_channels=5, mean=None, std=None, transform=None):\n",
        "        self.root_dir = root_dir\n",
        "        self.samples = samples\n",
        "        self.transform = transform\n",
        "        self.num_channels = num_channels\n",
        "        self.class_to_idx = list(set([label for _, label in self.samples]))\n",
        "        self.mean = mean\n",
        "        self.std = std\n",
        "\n",
        "    def __len__(self):\n",
        "        return len(self.samples)\n",
        "\n",
        "    def __getitem__(self, idx):\n",
        "        file_path, label = self.samples[idx]\n",
        "\n",
        "        df = pd.read_csv(file_path, header=None, index_col=0)\n",
        "        eeg_data = torch.tensor(df.values, dtype=torch.float32)\n",
        "\n",
        "        if eeg_data.shape[1] != self.num_channels:\n",
        "          if eeg_data.shape[0] == self.num_channels:\n",
        "            eeg_data = eeg_data.T\n",
        "\n",
        "          else:\n",
        "            raise ValueError(f\"File {file_path} has invalid shape: {eeg_data.shape}\")\n",
        "\n",
        "        if self.mean is not None and self.std is not None:\n",
        "          eeg_data = (eeg_data - self.mean) / self.std\n",
        "\n",
        "        if self.transform:\n",
        "            eeg_data = self.transform(eeg_data)\n",
        "\n",
        "        return eeg_data, label\n"
      ]
    },
    {
      "cell_type": "code",
      "execution_count": 11,
      "id": "cd4342db-dfec-4a91-bd75-848017a33149",
      "metadata": {
        "id": "cd4342db-dfec-4a91-bd75-848017a33149"
      },
      "outputs": [],
      "source": [
        "def make_datasets(root_dir, val_ratio=0.3, random_state=42):\n",
        "    class_names = os.listdir(root_dir)\n",
        "    class_to_idx = {cls:idx for idx, cls in enumerate(class_names)}\n",
        "\n",
        "    all_samples = []\n",
        "    all_labels = []\n",
        "\n",
        "    for cls in class_names:\n",
        "        cls_dir = os.path.join(root_dir, cls)\n",
        "\n",
        "        for fname in os.listdir(cls_dir):\n",
        "            if fname.endswith('.csv'):\n",
        "                path = os.path.join(cls_dir, fname)\n",
        "                all_samples.append((path, class_to_idx[cls]))\n",
        "                all_labels.append(class_to_idx[cls])\n",
        "\n",
        "    train_idx, val_idx = train_test_split(\n",
        "        list(range(len(all_samples))),\n",
        "        test_size=val_ratio,\n",
        "        random_state=random_state,\n",
        "        stratify=all_labels\n",
        "    )\n",
        "\n",
        "    train_samples = [all_samples[i] for i in train_idx]\n",
        "    val_samples = [all_samples[i] for i in val_idx]\n",
        "\n",
        "    # train_dataset = EEGDataset(root_dir, train_samples)\n",
        "    # val_dataset = EEGDataset(root_dir, val_samples)\n",
        "\n",
        "    return train_samples, val_samples"
      ]
    },
    {
      "cell_type": "code",
      "source": [
        "import torch\n",
        "import pandas as pd\n",
        "import numpy as np\n",
        "from torch.utils.data import Dataset\n",
        "from scipy import signal"
      ],
      "metadata": {
        "id": "ystIJ3GLNI7b"
      },
      "id": "ystIJ3GLNI7b",
      "execution_count": 12,
      "outputs": []
    },
    {
      "cell_type": "code",
      "source": [
        "class EEGSpectrogramDataset(Dataset):\n",
        "  def __init__(self, root_dir, samples, is_train=False, fs=128, nperseg=64, noverlap=32, mean=None, std=None, transforms=None):\n",
        "    self.root_dir = root_dir\n",
        "    self.samples = samples\n",
        "    self.is_train = is_train\n",
        "    self.class_to_idx = list(set([label for _, label in self.samples]))\n",
        "    self.transform_params = {'fs': fs, 'nperseg': nperseg, 'noverlap': noverlap}\n",
        "    self.mean = mean\n",
        "    self.std = std\n",
        "    self.num_channels = 5\n",
        "    self.target_freq_bins = 33\n",
        "    self.target_time_bins = 10\n",
        "    self.transforms=transforms\n",
        "\n",
        "  def __len__(self):\n",
        "    return len(self.samples)\n",
        "\n",
        "  def __getitem__(self, idx):\n",
        "    file_path, label = self.samples[idx]\n",
        "\n",
        "    eeg_data_1d = pd.read_csv(file_path, header=None, index_col=0).values\n",
        "\n",
        "    if eeg_data_1d.shape[1] != self.num_channels:\n",
        "      if eeg_data_1d.shape[0] == self.num_channels:\n",
        "        eeg_data_1d = eeg_data_1d.T\n",
        "      else:\n",
        "        raise ValueError(f\"File {file_path} has an invalid shape: {eeg_data_1d.shape}\")\n",
        "\n",
        "\n",
        "    channel_spectrograms = []\n",
        "\n",
        "    for i in range(self.num_channels):\n",
        "      channel_signal = eeg_data_1d[:, i]\n",
        "\n",
        "      f, t, Sxx = signal.spectrogram(channel_signal, **self.transform_params)\n",
        "\n",
        "      Sxx = np.log1p(Sxx)\n",
        "\n",
        "      channel_spectrograms.append(Sxx)\n",
        "\n",
        "    spectrogram = torch.tensor(np.array(channel_spectrograms), dtype=torch.float32)\n",
        "\n",
        "    _, current_freqs, current_times = spectrogram.shape\n",
        "    resized_spectrogram = torch.zeros((self.num_channels, self.target_freq_bins, self.target_time_bins))\n",
        "\n",
        "    copy_freqs = min(current_freqs, self.target_freq_bins)\n",
        "    copy_times = min(current_times, self.target_time_bins)\n",
        "\n",
        "    resized_spectrogram[:, :copy_freqs, :copy_times] = spectrogram[:, :copy_freqs, :copy_times]\n",
        "\n",
        "    spectrogram = resized_spectrogram\n",
        "\n",
        "    if self.mean is not None and self.std is not None:\n",
        "      mean = self.mean.view(self.num_channels, 1, 1)\n",
        "      std = self.std.view(self.num_channels, 1, 1)\n",
        "\n",
        "      spectrogram = (spectrogram - mean) / (std + 1e-9)\n",
        "\n",
        "    if self.is_train and self.transforms:\n",
        "      transformed_channels = []\n",
        "\n",
        "      for i in range(self.num_channels):\n",
        "        channel_spectrogram = spectrogram[i, :, :]\n",
        "        transformed_channel = self.transforms(channel_spectrogram)\n",
        "        transformed_channels.append(transformed_channel)\n",
        "\n",
        "      spectrogram = torch.cat(transformed_channels, dim=0)\n",
        "\n",
        "    elif not self.is_train and self.transforms:\n",
        "      transformed_channels = []\n",
        "\n",
        "      for i in range(self.num_channels):\n",
        "        channel_spectrogram = spectrogram[i, :, :]\n",
        "        transformed_channel = self.transforms(channel_spectrogram)\n",
        "        transformed_channels.append(transformed_channel)\n",
        "\n",
        "      spectrogram = torch.cat(transformed_channels, dim=0)\n",
        "\n",
        "\n",
        "    return spectrogram, label\n"
      ],
      "metadata": {
        "id": "qd6ZuxeuNHYq"
      },
      "id": "qd6ZuxeuNHYq",
      "execution_count": 13,
      "outputs": []
    },
    {
      "cell_type": "code",
      "execution_count": 14,
      "id": "d0696ba6-64c0-427e-895e-0dead7a43cea",
      "metadata": {
        "id": "d0696ba6-64c0-427e-895e-0dead7a43cea"
      },
      "outputs": [],
      "source": [
        "from torch.nn.utils.rnn import pad_sequence\n",
        "\n",
        "def collate_fn(batch):\n",
        "    MIN_LENGTH = 4\n",
        "    valid_batch = [item for item in batch if item[0].shape[0] >= MIN_LENGTH]\n",
        "\n",
        "    if not valid_batch:\n",
        "      return None, None, None, None\n",
        "\n",
        "    sequences, labels = zip(*valid_batch)\n",
        "    lengths = torch.tensor([seq.shape[0] for seq in sequences], dtype=torch.long)\n",
        "\n",
        "    padded_seqs = pad_sequence(sequences, batch_first=True, padding_value=0.0)\n",
        "\n",
        "    mask = torch.arange(padded_seqs.shape[1])[None, :] < lengths[:, None]\n",
        "\n",
        "    return padded_seqs, torch.tensor(labels, dtype=torch.long), lengths, mask"
      ]
    },
    {
      "cell_type": "code",
      "execution_count": 15,
      "id": "44d72aba-d8c1-46e8-a055-52cf6ba2cae1",
      "metadata": {
        "id": "44d72aba-d8c1-46e8-a055-52cf6ba2cae1"
      },
      "outputs": [],
      "source": [
        "def create_sampler(dataset):\n",
        "  from collections import Counter\n",
        "  from torch.utils.data import WeightedRandomSampler\n",
        "\n",
        "  all_labels = [label for _, label in dataset.samples]\n",
        "\n",
        "  class_counts = Counter(all_labels)\n",
        "\n",
        "  num_classes = len(dataset.class_to_idx)\n",
        "  class_weights = torch.zeros(num_classes)\n",
        "\n",
        "  for class_idx, count in class_counts.items():\n",
        "    if count > 0:\n",
        "      class_weights[class_idx] = 1.0 / count\n",
        "\n",
        "  sample_weights = [class_weights[label] for label in all_labels]\n",
        "\n",
        "  sampler = WeightedRandomSampler(\n",
        "      weights=sample_weights,\n",
        "      num_samples=len(dataset.samples),\n",
        "      replacement=True\n",
        "  )\n",
        "\n",
        "  return sampler"
      ]
    },
    {
      "cell_type": "code",
      "execution_count": 16,
      "id": "cc8180c7-8721-41be-9a88-1dfd1e25a3ca",
      "metadata": {
        "id": "cc8180c7-8721-41be-9a88-1dfd1e25a3ca"
      },
      "outputs": [],
      "source": [
        "# root_dir = '../content/drive/MyDrive/NeuroVision/data/Classes_Regrouped_Dataset'\n",
        "root_dir = '/content/eeg_dataset'"
      ]
    },
    {
      "cell_type": "code",
      "execution_count": 17,
      "id": "d3aa364a-238c-4491-b180-38f91b9e998f",
      "metadata": {
        "id": "d3aa364a-238c-4491-b180-38f91b9e998f"
      },
      "outputs": [],
      "source": [
        "train_samples, val_samples = make_datasets(root_dir)"
      ]
    },
    {
      "cell_type": "code",
      "source": [
        "train_dataset = EEGSpectrogramDataset(root_dir, train_samples, 5)\n",
        "val_dataset = EEGSpectrogramDataset(root_dir, val_samples, 5)"
      ],
      "metadata": {
        "id": "5XCiiIVMkLiy"
      },
      "id": "5XCiiIVMkLiy",
      "execution_count": 18,
      "outputs": []
    },
    {
      "cell_type": "code",
      "source": [
        "len(train_dataset), len(val_dataset)"
      ],
      "metadata": {
        "colab": {
          "base_uri": "https://localhost:8080/"
        },
        "id": "0_ZvO9_x5KTD",
        "outputId": "ab39af25-8af9-4596-b30b-5456c0869a93"
      },
      "id": "0_ZvO9_x5KTD",
      "execution_count": 19,
      "outputs": [
        {
          "output_type": "execute_result",
          "data": {
            "text/plain": [
              "(9602, 4116)"
            ]
          },
          "metadata": {},
          "execution_count": 19
        }
      ]
    },
    {
      "cell_type": "code",
      "source": [
        "from torchvision import transforms\n",
        "train_means, train_stds = get_dataset_stats(train_dataset, simple_collate_fn)"
      ],
      "metadata": {
        "colab": {
          "base_uri": "https://localhost:8080/"
        },
        "id": "oV9ii4uDc1oi",
        "outputId": "8f4f6ebe-1fa8-4211-ad2a-5e5dad149ba6"
      },
      "id": "oV9ii4uDc1oi",
      "execution_count": 20,
      "outputs": [
        {
          "output_type": "stream",
          "name": "stdout",
          "text": [
            "Calculating dataset stats...\n"
          ]
        },
        {
          "output_type": "stream",
          "name": "stderr",
          "text": [
            "100%|██████████| 151/151 [01:22<00:00,  1.84it/s]\n"
          ]
        }
      ]
    },
    {
      "cell_type": "code",
      "source": [
        "train_sampler = create_sampler(train_dataset)"
      ],
      "metadata": {
        "id": "QKkZtYDZZ_mh"
      },
      "id": "QKkZtYDZZ_mh",
      "execution_count": 21,
      "outputs": []
    },
    {
      "cell_type": "code",
      "source": [
        "from torchvision.transforms.v2 import GaussianNoise"
      ],
      "metadata": {
        "id": "XqxvU5HPwMmp"
      },
      "id": "XqxvU5HPwMmp",
      "execution_count": 22,
      "outputs": []
    },
    {
      "cell_type": "code",
      "source": [
        "train_transforms = transforms.Compose([\n",
        "    transforms.ToPILImage(),\n",
        "    transforms.Resize((256, 256)),\n",
        "    transforms.ToTensor(),\n",
        "    GaussianNoise(),\n",
        "    transforms.RandomErasing(p=0.5, scale=(0.02, 0.1), ratio=(0.1, 10.0), value=0)\n",
        "])\n",
        "\n",
        "val_transforms = transforms.Compose([\n",
        "    transforms.ToPILImage(),\n",
        "    transforms.Resize((256, 256)),\n",
        "    transforms.ToTensor()\n",
        "])"
      ],
      "metadata": {
        "id": "ufMYyijpZuxy"
      },
      "id": "ufMYyijpZuxy",
      "execution_count": 23,
      "outputs": []
    },
    {
      "cell_type": "code",
      "source": [
        "train_dataset_scaled = EEGSpectrogramDataset(root_dir, train_samples, is_train=True, mean=train_means,\n",
        "                                             std=train_stds, transforms=train_transforms)\n",
        "\n",
        "val_dataset_scaled = EEGSpectrogramDataset(root_dir, val_samples, is_train=False, mean=train_means,\n",
        "                                             std=train_stds, transforms=val_transforms)"
      ],
      "metadata": {
        "id": "nMfb5iffZUoN"
      },
      "id": "nMfb5iffZUoN",
      "execution_count": 66,
      "outputs": []
    },
    {
      "cell_type": "code",
      "source": [
        "train_loader = DataLoader(train_dataset_scaled, batch_size=128, shuffle=False, sampler=train_sampler,\n",
        "                          collate_fn=collate_fn, num_workers=2, pin_memory=True,\n",
        "                          persistent_workers=True, prefetch_factor=3)\n",
        "\n",
        "val_loader = DataLoader(val_dataset_scaled, batch_size=128, shuffle=False, collate_fn=collate_fn,\n",
        "                        num_workers=2, pin_memory=True, persistent_workers=True, prefetch_factor=3)"
      ],
      "metadata": {
        "id": "bjw3UR-DaF0A"
      },
      "id": "bjw3UR-DaF0A",
      "execution_count": 67,
      "outputs": []
    },
    {
      "cell_type": "markdown",
      "source": [
        "## Past Model Architectures"
      ],
      "metadata": {
        "id": "1NTPqRswu6E_"
      },
      "id": "1NTPqRswu6E_"
    },
    {
      "cell_type": "code",
      "execution_count": 27,
      "id": "1e6a7229-ac9e-4bed-bd54-97f1e0cbc70c",
      "metadata": {
        "id": "1e6a7229-ac9e-4bed-bd54-97f1e0cbc70c"
      },
      "outputs": [],
      "source": [
        "# class EegLstm(nn.Module):\n",
        "#     def __init__(self, input_dims=5, hidden_dims=128, num_layers=3, dropout=0.3 , num_classes=len(os.listdir(root_dir))):\n",
        "#         super(EegLstm, self).__init__()\n",
        "\n",
        "#         self.lstm = nn.LSTM(\n",
        "#             input_size=input_dims,\n",
        "#             hidden_size=hidden_dims,\n",
        "#             num_layers=num_layers,\n",
        "#             batch_first=True,\n",
        "#             dropout=dropout if num_layers >= 2 else 0,\n",
        "#             bidirectional=True\n",
        "#         )\n",
        "\n",
        "#         self.conv_stack = nn.Sequential(\n",
        "#             nn.Conv2d(hidden_dims*2)\n",
        "#         )\n",
        "\n",
        "#         self.fc = nn.Sequential(\n",
        "#             nn.Linear(hidden_dims*2, hidden_dims),\n",
        "#             nn.BatchNorm1d(hidden_dims),\n",
        "#             nn.SELU(),\n",
        "#             nn.Dropout(dropout),\n",
        "#             nn.Linear(hidden_dims, hidden_dims),\n",
        "#             nn.BatchNorm1d(hidden_dims),\n",
        "#             nn.SELU(),\n",
        "#             nn.Dropout(dropout),\n",
        "#             nn.Linear(hidden_dims, hidden_dims//2),\n",
        "#             nn.BatchNorm1d(hidden_dims//2),\n",
        "#             nn.SELU(),\n",
        "#             nn.Linear(hidden_dims, num_classes)\n",
        "#         )\n",
        "\n",
        "#     def forward(self, x, lengths=None):\n",
        "#         if lengths is not None:\n",
        "#             packed = nn.utils.rnn.pack_padded_sequence(\n",
        "#                 x, lengths.cpu(), batch_first=True, enforce_sorted=False\n",
        "#             )\n",
        "\n",
        "#             packed_out, (h_n, c_n) = self.lstm(packed)\n",
        "\n",
        "#         else:\n",
        "#             out, (h_n, c_n) = self.lstm(x)\n",
        "\n",
        "#         last_hidden_backward, last_hidden_forward = h_n[-1], h_n[-2]\n",
        "#         logits=self.fc(torch.cat((last_hidden_backward, last_hidden_forward), dim=1))\n",
        "\n",
        "#         return logits"
      ]
    },
    {
      "cell_type": "code",
      "source": [
        "# class HybridExtractor(nn.Module):\n",
        "#     def __init__(self, input_dims=5, cnn_out_channels=64, kernel_size=50, lstm_hidden_dims=128, num_layers=3, dropout=0.3 , num_classes=len(os.listdir(root_dir))):\n",
        "#         super(HybridExtractor, self).__init__()\n",
        "\n",
        "#         # CNN block\n",
        "#         self.cnn_stack = nn.Sequential(\n",
        "#             nn.Conv1d(input_dims, 32, kernel_size=kernel_size, stride=1, padding='same'),\n",
        "#             nn.BatchNorm1d(32),\n",
        "#             nn.ELU(),\n",
        "#             nn.AvgPool1d(kernel_size=2, stride=2),\n",
        "\n",
        "#             nn.Conv1d(32, cnn_out_channels, kernel_size=kernel_size//2, stride=1, padding='same'),\n",
        "#             nn.BatchNorm1d(cnn_out_channels),\n",
        "#             nn.ELU(),\n",
        "#             nn.AvgPool1d(kernel_size=2, stride=2)\n",
        "#         )\n",
        "\n",
        "#         self.lstm = nn.LSTM(\n",
        "#             input_size=cnn_out_channels,\n",
        "#             hidden_size=lstm_hidden_dims,\n",
        "#             num_layers=num_layers,\n",
        "#             batch_first=True,\n",
        "#             dropout=dropout if num_layers > 1 else 0,\n",
        "#             bidirectional=True\n",
        "#         )\n",
        "\n",
        "#         self.fc = nn.Sequential(\n",
        "#             nn.Linear(lstm_hidden_dims*2, lstm_hidden_dims),\n",
        "#             nn.BatchNorm1d(lstm_hidden_dims),\n",
        "#             nn.SELU(),\n",
        "#             nn.Dropout(dropout),\n",
        "#             nn.Linear(lstm_hidden_dims, lstm_hidden_dims),\n",
        "#             nn.BatchNorm1d(lstm_hidden_dims),\n",
        "#             nn.SELU(),\n",
        "#             nn.Dropout(dropout),\n",
        "#             nn.Linear(lstm_hidden_dims, num_classes)\n",
        "#         )\n",
        "\n",
        "#     def forward(self, x, lengths=None):\n",
        "#       x = x.permute(0, 2, 1)\n",
        "\n",
        "#       cnn_out = self.cnn_stack(x)\n",
        "\n",
        "#       lstm_input = cnn_out.permute(0, 2, 1)\n",
        "\n",
        "\n",
        "#       if lengths is not None:\n",
        "#         new_lengths = (lengths//4).long()\n",
        "\n",
        "#         packed = nn.utils.rnn.pack_padded_sequence(\n",
        "#                 lstm_input, new_lengths.cpu(), batch_first=True, enforce_sorted=False\n",
        "#             )\n",
        "\n",
        "#         packed_out, (h_n, c_n) = self.lstm(packed)\n",
        "\n",
        "#       else:\n",
        "#           out, (h_n, c_n) = self.lstm(lstm_input)\n",
        "\n",
        "#       last_hidden_backward, last_hidden_forward = h_n[-1, :, :], h_n[-2, :, :]\n",
        "#       logits=self.fc(torch.cat((last_hidden_backward, last_hidden_forward), dim=1))\n",
        "\n",
        "#       return logits"
      ],
      "metadata": {
        "id": "rQRrJAdUPJqj"
      },
      "id": "rQRrJAdUPJqj",
      "execution_count": 28,
      "outputs": []
    },
    {
      "cell_type": "markdown",
      "source": [
        "## Newer Architectures"
      ],
      "metadata": {
        "id": "UJccjfqsvB18"
      },
      "id": "UJccjfqsvB18"
    },
    {
      "cell_type": "code",
      "source": [
        "import torch\n",
        "import torch.nn as nn"
      ],
      "metadata": {
        "id": "NjL80aWJu16j"
      },
      "id": "NjL80aWJu16j",
      "execution_count": 68,
      "outputs": []
    },
    {
      "cell_type": "code",
      "source": [
        "class DepthwiseSeparableConv(nn.Module):\n",
        "  def __init__(self, in_channels, out_channels, kernel_size, padding):\n",
        "    super(DepthwiseSeparableConv, self).__init__()\n",
        "    self.depthwise = nn.Conv1d(in_channels, in_channels, kernel_size, padding=padding, groups=in_channels, bias=False)\n",
        "    self.pointwise = nn.Conv1d(in_channels, out_channels, 1, bias=False)\n",
        "    self.bn = nn.BatchNorm1d(out_channels)\n",
        "    self.elu = nn.ELU()\n",
        "\n",
        "  def forward(self, x):\n",
        "    x = self.depthwise(x)\n",
        "    x = self.pointwise(x)\n",
        "    x = self.bn(x)\n",
        "\n",
        "    return self.elu(x)\n",
        "\n",
        "class MesoHybridNet(nn.Module):\n",
        "  def __init__(self, input_dims=5, num_classes=118, gru_hidden_dims=128, gru_num_layers=2, dropout=0.4):\n",
        "    super(MesoHybridNet, self).__init__()\n",
        "\n",
        "    channels=24\n",
        "    self.branch_fine = DepthwiseSeparableConv(input_dims, channels, kernel_size=10, padding='same')\n",
        "    self.branch_medium = DepthwiseSeparableConv(input_dims, channels, kernel_size=50, padding='same')\n",
        "    self.branch_coarse = DepthwiseSeparableConv(input_dims, channels, kernel_size=150, padding='same')\n",
        "\n",
        "    combined_channels = 3 * channels\n",
        "    self.pool = nn.AvgPool1d(4)\n",
        "\n",
        "    self.gru = nn.GRU(\n",
        "        input_size=combined_channels,\n",
        "        hidden_size=gru_hidden_dims,\n",
        "        num_layers=gru_num_layers,\n",
        "        batch_first=True,\n",
        "        bidirectional=True,\n",
        "        dropout=dropout if gru_num_layers > 1 else 0\n",
        "    )\n",
        "\n",
        "    gru_output_dim = gru_hidden_dims * 2\n",
        "    self.fc = nn.Sequential(\n",
        "        nn.Linear(gru_output_dim, 256),\n",
        "        nn.BatchNorm1d(256),\n",
        "        nn.ELU(),\n",
        "        nn.Linear(256, 256),\n",
        "        nn.BatchNorm1d(256),\n",
        "        nn.ELU(),\n",
        "        nn.Dropout(dropout),\n",
        "        nn.Linear(256, num_classes)\n",
        "    )\n",
        "\n",
        "  def forward(self, x, lengths=None, mask=None):\n",
        "    x = x.permute(0,2,1)\n",
        "\n",
        "    out_fine = self.branch_fine(x)\n",
        "    out_medium = self.branch_medium(x)\n",
        "    out_coarse = self.branch_coarse(x)\n",
        "\n",
        "    combined_features = torch.cat([out_fine, out_medium, out_coarse], dim=1)\n",
        "    pooled_features = self.pool(combined_features)\n",
        "\n",
        "    gru_input = pooled_features.permute(0,2,1)\n",
        "\n",
        "    if lengths is not None:\n",
        "      new_lengths = (lengths//4).clamp(min=1).long()\n",
        "      packed = nn.utils.rnn.pack_padded_sequence(\n",
        "          gru_input, new_lengths.cpu(), batch_first=True, enforce_sorted=False\n",
        "      )\n",
        "      _, h_n = self.gru(packed)\n",
        "\n",
        "    else:\n",
        "      _, h_n = self.gru(gru_input)\n",
        "\n",
        "    features = torch.cat((h_n[-2, :, :], h_n[-1, :, :]), dim=1)\n",
        "\n",
        "    # if mask is not None:\n",
        "    #   mask = mask[:, ::4]\n",
        "    #   mask = mask.unsqueeze(1)\n",
        "\n",
        "    #   combined_features = combined_features * mask\n",
        "    #   summed_features = torch.sum(combined_features, dim=2)\n",
        "\n",
        "    #   true_lengths = torch.sum(mask, dim=2) + 1e-9\n",
        "    #   pooled_features = summed_features / true_lengths\n",
        "\n",
        "    # else:\n",
        "    #   pooled_features = torch.mean(combined_features, dim=2)\n",
        "\n",
        "    logits = self.fc(features)\n",
        "\n",
        "    return logits\n"
      ],
      "metadata": {
        "id": "di-ptzIovFh_"
      },
      "id": "di-ptzIovFh_",
      "execution_count": 69,
      "outputs": []
    },
    {
      "cell_type": "code",
      "source": [
        "class ConvBranch(nn.Module):\n",
        "  def __init__(self, input_dims, output_channels, kernel_size, pooling_type, pool_size=4):\n",
        "    super(ConvBranch, self).__init__()\n",
        "    self.conv = nn.Conv1d(input_dims, output_channels, kernel_size, padding='same', bias=False)\n",
        "    self.bn = nn.BatchNorm1d(output_channels)\n",
        "    if pooling_type.lower() == 'max':\n",
        "      self.pool = nn.MaxPool1d(pool_size)\n",
        "    else:\n",
        "      self.pool = nn.AvgPool1d(pool_size)\n",
        "\n",
        "    self.elu = nn.ELU()\n",
        "\n",
        "  def forward(self, x):\n",
        "    return self.pool(self.elu(self.bn(self.conv(x))))\n",
        "\n",
        "class EEGMesoNet(nn.Module):\n",
        "  def __init__(self, input_dims=5, num_classes=118, dropout=0.5):\n",
        "    super(EEGMesoNet, self).__init__()\n",
        "\n",
        "    channels = 64\n",
        "    self.branch_fine = ConvBranch(input_dims, channels, kernel_size=10, pooling_type='max')\n",
        "    self.branch_medium = ConvBranch(input_dims, channels, kernel_size=50, pooling_type='avg')\n",
        "    self.branch_coarse = ConvBranch(input_dims, channels, kernel_size=150, pooling_type='avg')\n",
        "\n",
        "    combined_channels = channels * 3\n",
        "\n",
        "    self.fc = nn.Sequential(\n",
        "        nn.Linear(combined_channels, 512),\n",
        "        nn.BatchNorm1d(512),\n",
        "        nn.ELU(),\n",
        "        nn.Linear(512, 256),\n",
        "        nn.BatchNorm1d(256),\n",
        "        nn.ELU(),\n",
        "        nn.Dropout(dropout),\n",
        "        nn.Linear(256, num_classes)\n",
        "    )\n",
        "\n",
        "  def forward(self, x, lengths=None, mask=None):\n",
        "    x = x.permute(0, 2, 1)\n",
        "\n",
        "    out_fine = self.branch_fine(x)\n",
        "    out_medium = self.branch_medium(x)\n",
        "    out_coarse = self.branch_coarse(x)\n",
        "\n",
        "    combined_features = torch.cat([out_fine, out_medium, out_coarse], dim=1)\n",
        "\n",
        "    if mask is not None:\n",
        "      mask = mask[:, ::4]\n",
        "      mask = mask.unsqueeze(1)\n",
        "\n",
        "      combined_features = combined_features * mask\n",
        "      summed_features = torch.sum(combined_features, dim=2)\n",
        "      true_lengths = torch.sum(mask, dim=2) + 1e-9\n",
        "      pooled_features = summed_features / true_lengths\n",
        "\n",
        "    else:\n",
        "      pooled_features = torch.mean(combined_features, dim=2)\n",
        "\n",
        "    logits = self.fc(pooled_features)\n",
        "\n",
        "    return logits"
      ],
      "metadata": {
        "id": "6tX04uvJJqIH"
      },
      "id": "6tX04uvJJqIH",
      "execution_count": 70,
      "outputs": []
    },
    {
      "cell_type": "code",
      "source": [
        "def weights_init(m):\n",
        "  if isinstance(m, (nn.Conv2d, nn.Linear)):\n",
        "    nn.init.kaiming_normal_(m.weight, mode='fan_in', nonlinearity='relu')\n",
        "\n",
        "    if m.bias is not None:\n",
        "      nn.init.constant_(m.bias, 0)"
      ],
      "metadata": {
        "id": "zNsDXuvBSzsx"
      },
      "id": "zNsDXuvBSzsx",
      "execution_count": 71,
      "outputs": []
    },
    {
      "cell_type": "code",
      "execution_count": 72,
      "id": "bf8cb365-9915-4f3a-afd4-6946979a0590",
      "metadata": {
        "id": "bf8cb365-9915-4f3a-afd4-6946979a0590"
      },
      "outputs": [],
      "source": [
        "from tqdm import tqdm\n",
        "import torch.optim as optim\n",
        "from torch.utils.tensorboard import SummaryWriter"
      ]
    },
    {
      "cell_type": "code",
      "execution_count": 73,
      "id": "89fb3cb9-1dec-4a6a-9c4e-7a445954daaf",
      "metadata": {
        "id": "89fb3cb9-1dec-4a6a-9c4e-7a445954daaf"
      },
      "outputs": [],
      "source": [
        "class EarlyStopping(object):\n",
        "    def __init__(self, model, save_path='../content/drive/MyDrive/eeg_classifier.pt', patience=4, tol=1e-3):\n",
        "        self.model = model\n",
        "        self.save_path = save_path\n",
        "        self.patience = patience\n",
        "        self.counter = 0\n",
        "        self.tol = tol\n",
        "        self.best_val_loss = float('inf')\n",
        "        self.early_stop = False\n",
        "\n",
        "    def __call__(self, batch_val_loss):\n",
        "        if batch_val_loss < self.best_val_loss - self.tol:\n",
        "            torch.save(self.model.state_dict(), self.save_path)\n",
        "            self.best_val_loss = batch_val_loss\n",
        "            self.counter = 0\n",
        "            print(f'Validation Loss improved -> model saved to {self.save_path}')\n",
        "\n",
        "        else:\n",
        "            if self.counter < self.patience:\n",
        "                self.counter += 1\n",
        "                print(f'No improvement in Val Loss. Counter: {self.counter}/{self.patience}')\n",
        "\n",
        "            else:\n",
        "                self.early_stop = True\n",
        "                print(f\"Early Stopping triggered!\")\n"
      ]
    },
    {
      "cell_type": "code",
      "execution_count": 75,
      "id": "0401a423-49b1-40f1-b535-4db7af34c7d6",
      "metadata": {
        "id": "0401a423-49b1-40f1-b535-4db7af34c7d6"
      },
      "outputs": [],
      "source": [
        "def train_model(model, model_name, train_loader, val_loader, batch_size, epochs=15, lr=1e-3, device='cpu'):\n",
        "    log_dir = f'../content/drive/MyDrive/NeuroVision/runs/{model_name}_v1'\n",
        "    save_path = f'../content/drive/MyDrive/NeuroVision/models/{model_name}_v1_best.pth'\n",
        "    os.makedirs(os.path.dirname(log_dir), exist_ok=True)\n",
        "    os.makedirs(os.path.dirname(save_path), exist_ok=True)\n",
        "\n",
        "    # params_to_update = [p for p in model.parameters() if p.requires_grad]\n",
        "\n",
        "    criterion = nn.CrossEntropyLoss()\n",
        "    optimizer = optim.NAdam([\n",
        "        {'params': resnet18.conv1.parameters(), 'lr': 1e-4},\n",
        "        {'params': resnet18.fc.parameters(), 'lr': 1e-3},\n",
        "        {'params': resnet18.layer1.parameters(), 'lr':1e-5},\n",
        "        {'params': resnet18.layer2.parameters(), 'lr': 1e-5},\n",
        "        {'params': resnet18.layer3.parameters(), 'lr': 1e-5},\n",
        "        {'params': resnet18.layer4.parameters(), 'lr': 1e-5}\n",
        "    ], weight_decay=0.01)\n",
        "\n",
        "    writer = SummaryWriter(log_dir=log_dir)\n",
        "\n",
        "    scheduler = optim.lr_scheduler.ReduceLROnPlateau(optimizer, mode='min', factor=0.1, patience=3)\n",
        "    # scheduler = optim.lr_scheduler.OneCycleLR(optimizer, max_lr=2e-4,\n",
        "    #                                           total_steps=epochs * len(train_loader),\n",
        "    #                                           pct_start=0.05)\n",
        "    # scheduler = optim.lr_scheduler.CosineAnnealingWarmRestarts(optimizer=optimizer,\n",
        "    #                                                            T_0=len(train_loader)*5,\n",
        "    #                                                            T_mult=2,\n",
        "    #                                                            eta_min=1e-6)\n",
        "\n",
        "    early_stopping = EarlyStopping(model, save_path=save_path, patience=20)\n",
        "    model.to(device)\n",
        "\n",
        "    for epoch in range(epochs):\n",
        "        model.train()\n",
        "        train_loss, train_correct, train_total = 0.0, 0, 0\n",
        "        train_bar = tqdm(train_loader, desc=f'Epoch {epoch+1}/{epochs} [Train Pass]', leave=True)\n",
        "\n",
        "        for batch_x, batch_y, _, _ in train_bar:\n",
        "            batch_x += torch.randn_like(batch_x) * 0.01\n",
        "            batch_x, batch_y= batch_x.to(device), batch_y.to(device)\n",
        "\n",
        "            optimizer.zero_grad()\n",
        "            y_preds = model(batch_x)\n",
        "\n",
        "            loss = criterion(y_preds, batch_y)\n",
        "            loss.backward()\n",
        "            torch.nn.utils.clip_grad_norm_(model.parameters(), max_norm=1.0)\n",
        "            optimizer.step()\n",
        "\n",
        "            # scheduler.step()\n",
        "\n",
        "            train_loss += loss.item() * batch_x.size(0)\n",
        "            _, preds = torch.max(y_preds, 1)\n",
        "            train_correct += (preds == batch_y).sum().item()\n",
        "            train_total += batch_y.size(0)\n",
        "\n",
        "            train_bar.set_postfix(loss=loss.item())\n",
        "\n",
        "        train_acc = train_correct / train_total\n",
        "        train_loss /= train_total\n",
        "\n",
        "\n",
        "        model.eval()\n",
        "        val_loss, val_correct, val_total = 0.0, 0, 0\n",
        "\n",
        "        val_bar = tqdm(val_loader, desc=f\"Epoch{epoch+1}/{epochs} [Val Pass]\", leave=True)\n",
        "\n",
        "        with torch.no_grad():\n",
        "            for batch_x, batch_y, _, _ in val_bar:\n",
        "                batch_x, batch_y = batch_x.to(device), batch_y.to(device)\n",
        "\n",
        "                y_preds = model(batch_x)\n",
        "                loss = criterion(y_preds, batch_y)\n",
        "\n",
        "                val_loss += loss.item() * batch_x.size(0)\n",
        "                _, preds = torch.max(y_preds, 1)\n",
        "                print(f\"Sample Predictions: {preds.cpu().numpy()}\")\n",
        "                val_correct += (preds == batch_y).sum().item()\n",
        "                val_total += batch_y.size(0)\n",
        "\n",
        "                val_bar.set_postfix(loss=loss.item())\n",
        "\n",
        "        val_acc = val_correct / val_total\n",
        "        val_loss /= val_total\n",
        "\n",
        "        scheduler.step(val_loss)\n",
        "\n",
        "        early_stopping(val_loss)\n",
        "        if early_stopping.early_stop:\n",
        "            break\n",
        "\n",
        "\n",
        "        # logging\n",
        "        writer.add_scalar('Loss/train', train_loss, epoch)\n",
        "        writer.add_scalar('Loss/val', val_loss, epoch)\n",
        "        writer.add_scalar('Accuracy/train', train_acc, epoch)\n",
        "        writer.add_scalar('Accuracy/val', val_acc, epoch)\n",
        "\n",
        "        print(f\"Epoch {epoch+1}/{epochs}:\\nTrain Loss: {train_loss:.3f} | Train Acc: {train_acc*100:.2f} %\\nVal Loss: {val_loss:.3f} | Val Acc: {val_acc*100:.2f} %\")\n",
        "\n",
        "    writer.close()"
      ]
    },
    {
      "cell_type": "code",
      "execution_count": 76,
      "id": "bdc98eb7-1f94-448f-9631-a983d33d4c14",
      "metadata": {
        "id": "bdc98eb7-1f94-448f-9631-a983d33d4c14"
      },
      "outputs": [],
      "source": [
        "def model_summary(model):\n",
        "    print('========================================= Model Summary ==============================================\\n')\n",
        "    print(f\"\\n{'='*55}\")\n",
        "    print(f\"{'| Parameter Name':31}|| Number of Parameters|\")\n",
        "    print(f\"{'='*55}\")\n",
        "\n",
        "    total_params = 0\n",
        "\n",
        "    for name, param in model.named_parameters():\n",
        "        print(f'| {name:30}|{param.numel():20} |')\n",
        "        print(f\"{'-'*55}\")\n",
        "        total_params += param.numel()\n",
        "\n",
        "    print(f\"\\nTotal Parameters: {total_params:,}\")"
      ]
    },
    {
      "cell_type": "markdown",
      "source": [
        "## Spectrogram Approach"
      ],
      "metadata": {
        "id": "SYQ-8v8RH6VB"
      },
      "id": "SYQ-8v8RH6VB"
    },
    {
      "cell_type": "code",
      "source": [
        "class BasicBlock(nn.Module):\n",
        "  expansion = 1\n",
        "\n",
        "  def __init__(self, in_planes, planes, stride):\n",
        "    super(BasicBlock, self).__init__()\n",
        "    self.conv1 = nn.Conv2d(in_planes, planes, kernel_size=3, stride=stride, padding=1, bias=False)\n",
        "    self.bn1 = nn.BatchNorm2d(planes)\n",
        "    self.conv2 = nn.Conv2d(planes, planes, kernel_size=3, stride=1, padding=1, bias=False)\n",
        "    self.bn2 = nn.BatchNorm2d(planes)\n",
        "\n",
        "    self.cbam = CBAM(planes)\n",
        "\n",
        "    self.shortcut = nn.Sequential()\n",
        "    if stride != 1 or in_planes != self.expansion*planes:\n",
        "      self.shortcut = nn.Sequential(\n",
        "          nn.Conv2d(in_planes, self.expansion*planes, kernel_size=1, stride=stride, bias=False),\n",
        "          nn.BatchNorm2d(self.expansion*planes)\n",
        "      )\n",
        "\n",
        "    def forward(self, x):\n",
        "      out = nn.functional.relu(self.bn1(self.conv1(x)))\n",
        "      out = self.bn2(self.conv2(out))\n",
        "\n",
        "      out = self.cbam(out)\n",
        "\n",
        "      out += self.shortcut(x)\n",
        "      out = nn.functional.relu(out)\n",
        "\n",
        "      return out"
      ],
      "metadata": {
        "id": "cV13LWJvnozS"
      },
      "id": "cV13LWJvnozS",
      "execution_count": 77,
      "outputs": []
    },
    {
      "cell_type": "code",
      "source": [
        "import torch\n",
        "import torch.nn as nn\n",
        "\n",
        "class ChannelAttention(nn.Module):\n",
        "  def __init__(self, in_planes, ratio=16):\n",
        "    super(ChannelAttention, self).__init__()\n",
        "    self.avg_pool = nn.AdaptiveAvgPool2d(1)\n",
        "    self.max_pool = nn.AdaptiveMaxPool2d(1)\n",
        "\n",
        "    self.fc = nn.Sequential(nn.Conv2d(in_planes, in_planes//ratio, 1, bias=False),\n",
        "                            nn.ReLU(),\n",
        "                            nn.Conv2d(in_planes//ratio, in_planes, 1, bias=False)\n",
        "                            )\n",
        "\n",
        "    self.sigmoid = nn.Sigmoid()\n",
        "\n",
        "  def forward(self, x):\n",
        "    avg_out = self.fc(self.avg_pool(x))\n",
        "    max_out = self.fc(self.max_pool(x))\n",
        "    out = avg_out + max_out\n",
        "    return self.sigmoid(out)\n",
        "\n",
        "class SpatialAttention(nn.Module):\n",
        "  def __init__(self, kernel_size=7):\n",
        "    super(SpatialAttention, self).__init__()\n",
        "\n",
        "    self.conv1 = nn.Conv2d(2, 1, kernel_size, padding=kernel_size//2, bias=False)\n",
        "    self.sigmoid = nn.Sigmoid()\n",
        "\n",
        "  def forward(self, x):\n",
        "    avg_out = torch.mean(x, dim=1, keepdim=True)\n",
        "    max_out, _ = torch.max(x, dim=1, keepdim=True)\n",
        "    x = torch.cat([avg_out, max_out], dim=1)\n",
        "    x = self.conv1(x)\n",
        "\n",
        "    return self.sigmoid(x)\n",
        "\n",
        "\n",
        "class CBAM(nn.Module):\n",
        "  def __init__(self, in_planes, ratio=16,  kernel_size=7):\n",
        "    super(CBAM, self).__init__()\n",
        "    self.ca = ChannelAttention(in_planes, ratio)\n",
        "    self.sa = SpatialAttention(kernel_size)\n",
        "\n",
        "  def forward(self, x):\n",
        "    channel_attention_map = self.ca(x)\n",
        "    x = x * channel_attention_map\n",
        "\n",
        "    spatial_attention_map = self.sa(x)\n",
        "    x = x * spatial_attention_map\n",
        "\n",
        "    return x\n",
        ""
      ],
      "metadata": {
        "id": "bonFtsSChk1f"
      },
      "id": "bonFtsSChk1f",
      "execution_count": 78,
      "outputs": []
    },
    {
      "cell_type": "code",
      "source": [
        "from torchvision.models import resnet18, ResNet18_Weights\n",
        "resnet18 = resnet18(weights=ResNet18_Weights.DEFAULT, progress=True)\n",
        "\n",
        "for param in resnet18.parameters():\n",
        "  param.requires_grad = False"
      ],
      "metadata": {
        "id": "AhYKXo07QjXI"
      },
      "id": "AhYKXo07QjXI",
      "execution_count": 79,
      "outputs": []
    },
    {
      "cell_type": "code",
      "source": [
        "old_conv1 = resnet18.conv1\n",
        "old_fc = resnet18.fc\n",
        "\n",
        "new_conv1 = nn.Conv2d(5, old_conv1.out_channels, old_conv1.kernel_size,\n",
        "                      old_conv1.stride, old_conv1.padding, bias=False)\n",
        "\n",
        "with torch.no_grad():\n",
        "  new_conv1.weight[:, :3, :, :] = old_conv1.weight.clone()\n",
        "  mean_weights = torch.mean(old_conv1.weight, dim=1, keepdim=True)\n",
        "  new_conv1.weight[:, 3:5, :, :] = mean_weights.repeat(1, 2, 1, 1)\n",
        "\n",
        "new_fc = nn.Linear(in_features=old_fc.in_features, out_features=118)\n",
        "new_fc.apply(weights_init)\n",
        "\n",
        "resnet18.fc = new_fc\n",
        "resnet18.conv1 = new_conv1\n",
        "\n",
        "resnet18.fc.requires_grad = True\n",
        "resnet18.conv1.requires_grad = True\n"
      ],
      "metadata": {
        "id": "LKX0ZbDKyHuJ"
      },
      "id": "LKX0ZbDKyHuJ",
      "execution_count": 80,
      "outputs": []
    },
    {
      "cell_type": "code",
      "source": [
        "import types\n",
        "from torchvision.models import resnet\n",
        "\n",
        "def new_forward(self, x):\n",
        "  identity = x\n",
        "\n",
        "  out = self.conv1(x)\n",
        "  out = self.bn1(out)\n",
        "  out = self.relu(out)\n",
        "\n",
        "  out = self.conv2(out)\n",
        "  out = self.bn2(out)\n",
        "\n",
        "  if hasattr(self, 'cbam'):\n",
        "    out = self.cbam(out)\n",
        "\n",
        "  if self.downsample is not None:\n",
        "    identity = self.downsample(x)\n",
        "\n",
        "  out += identity\n",
        "  out = self.relu(out)\n",
        "\n",
        "  return out\n",
        "\n",
        "for layer_name in ['layer1', 'layer2', 'layer3', 'layer4']:\n",
        "  layer = getattr(resnet18, layer_name)\n",
        "\n",
        "  for i in range(len(layer)):\n",
        "    block = layer[i]\n",
        "\n",
        "    if isinstance(block, resnet.BasicBlock):\n",
        "      num_channels = block.conv2.out_channels\n",
        "\n",
        "      block.cbam = CBAM(num_channels)\n",
        "      block.forward = types.MethodType(new_forward, block)\n",
        "\n"
      ],
      "metadata": {
        "id": "PiVLzKoMruzq"
      },
      "id": "PiVLzKoMruzq",
      "execution_count": 81,
      "outputs": []
    },
    {
      "cell_type": "code",
      "source": [
        "resnet18.conv1.in_channels, resnet18.fc.out_features"
      ],
      "metadata": {
        "colab": {
          "base_uri": "https://localhost:8080/"
        },
        "id": "SWaHSOg5zXQJ",
        "outputId": "bc3789fc-df5b-4ec4-c03d-8ea2de351170"
      },
      "id": "SWaHSOg5zXQJ",
      "execution_count": 82,
      "outputs": [
        {
          "output_type": "execute_result",
          "data": {
            "text/plain": [
              "(5, 118)"
            ]
          },
          "metadata": {},
          "execution_count": 82
        }
      ]
    },
    {
      "cell_type": "code",
      "source": [
        "model_summary(resnet18)"
      ],
      "metadata": {
        "colab": {
          "base_uri": "https://localhost:8080/"
        },
        "collapsed": true,
        "id": "xcybqP8SSfOZ",
        "outputId": "a412a7fa-ef39-424a-fee0-4bed2f9554a5"
      },
      "id": "xcybqP8SSfOZ",
      "execution_count": 83,
      "outputs": [
        {
          "output_type": "stream",
          "name": "stdout",
          "text": [
            "========================================= Model Summary ==============================================\n",
            "\n",
            "\n",
            "=======================================================\n",
            "| Parameter Name               || Number of Parameters|\n",
            "=======================================================\n",
            "| conv1.weight                  |               15680 |\n",
            "-------------------------------------------------------\n",
            "| bn1.weight                    |                  64 |\n",
            "-------------------------------------------------------\n",
            "| bn1.bias                      |                  64 |\n",
            "-------------------------------------------------------\n",
            "| layer1.0.conv1.weight         |               36864 |\n",
            "-------------------------------------------------------\n",
            "| layer1.0.bn1.weight           |                  64 |\n",
            "-------------------------------------------------------\n",
            "| layer1.0.bn1.bias             |                  64 |\n",
            "-------------------------------------------------------\n",
            "| layer1.0.conv2.weight         |               36864 |\n",
            "-------------------------------------------------------\n",
            "| layer1.0.bn2.weight           |                  64 |\n",
            "-------------------------------------------------------\n",
            "| layer1.0.bn2.bias             |                  64 |\n",
            "-------------------------------------------------------\n",
            "| layer1.0.cbam.ca.fc.0.weight  |                 256 |\n",
            "-------------------------------------------------------\n",
            "| layer1.0.cbam.ca.fc.2.weight  |                 256 |\n",
            "-------------------------------------------------------\n",
            "| layer1.0.cbam.sa.conv1.weight |                  98 |\n",
            "-------------------------------------------------------\n",
            "| layer1.1.conv1.weight         |               36864 |\n",
            "-------------------------------------------------------\n",
            "| layer1.1.bn1.weight           |                  64 |\n",
            "-------------------------------------------------------\n",
            "| layer1.1.bn1.bias             |                  64 |\n",
            "-------------------------------------------------------\n",
            "| layer1.1.conv2.weight         |               36864 |\n",
            "-------------------------------------------------------\n",
            "| layer1.1.bn2.weight           |                  64 |\n",
            "-------------------------------------------------------\n",
            "| layer1.1.bn2.bias             |                  64 |\n",
            "-------------------------------------------------------\n",
            "| layer1.1.cbam.ca.fc.0.weight  |                 256 |\n",
            "-------------------------------------------------------\n",
            "| layer1.1.cbam.ca.fc.2.weight  |                 256 |\n",
            "-------------------------------------------------------\n",
            "| layer1.1.cbam.sa.conv1.weight |                  98 |\n",
            "-------------------------------------------------------\n",
            "| layer2.0.conv1.weight         |               73728 |\n",
            "-------------------------------------------------------\n",
            "| layer2.0.bn1.weight           |                 128 |\n",
            "-------------------------------------------------------\n",
            "| layer2.0.bn1.bias             |                 128 |\n",
            "-------------------------------------------------------\n",
            "| layer2.0.conv2.weight         |              147456 |\n",
            "-------------------------------------------------------\n",
            "| layer2.0.bn2.weight           |                 128 |\n",
            "-------------------------------------------------------\n",
            "| layer2.0.bn2.bias             |                 128 |\n",
            "-------------------------------------------------------\n",
            "| layer2.0.downsample.0.weight  |                8192 |\n",
            "-------------------------------------------------------\n",
            "| layer2.0.downsample.1.weight  |                 128 |\n",
            "-------------------------------------------------------\n",
            "| layer2.0.downsample.1.bias    |                 128 |\n",
            "-------------------------------------------------------\n",
            "| layer2.0.cbam.ca.fc.0.weight  |                1024 |\n",
            "-------------------------------------------------------\n",
            "| layer2.0.cbam.ca.fc.2.weight  |                1024 |\n",
            "-------------------------------------------------------\n",
            "| layer2.0.cbam.sa.conv1.weight |                  98 |\n",
            "-------------------------------------------------------\n",
            "| layer2.1.conv1.weight         |              147456 |\n",
            "-------------------------------------------------------\n",
            "| layer2.1.bn1.weight           |                 128 |\n",
            "-------------------------------------------------------\n",
            "| layer2.1.bn1.bias             |                 128 |\n",
            "-------------------------------------------------------\n",
            "| layer2.1.conv2.weight         |              147456 |\n",
            "-------------------------------------------------------\n",
            "| layer2.1.bn2.weight           |                 128 |\n",
            "-------------------------------------------------------\n",
            "| layer2.1.bn2.bias             |                 128 |\n",
            "-------------------------------------------------------\n",
            "| layer2.1.cbam.ca.fc.0.weight  |                1024 |\n",
            "-------------------------------------------------------\n",
            "| layer2.1.cbam.ca.fc.2.weight  |                1024 |\n",
            "-------------------------------------------------------\n",
            "| layer2.1.cbam.sa.conv1.weight |                  98 |\n",
            "-------------------------------------------------------\n",
            "| layer3.0.conv1.weight         |              294912 |\n",
            "-------------------------------------------------------\n",
            "| layer3.0.bn1.weight           |                 256 |\n",
            "-------------------------------------------------------\n",
            "| layer3.0.bn1.bias             |                 256 |\n",
            "-------------------------------------------------------\n",
            "| layer3.0.conv2.weight         |              589824 |\n",
            "-------------------------------------------------------\n",
            "| layer3.0.bn2.weight           |                 256 |\n",
            "-------------------------------------------------------\n",
            "| layer3.0.bn2.bias             |                 256 |\n",
            "-------------------------------------------------------\n",
            "| layer3.0.downsample.0.weight  |               32768 |\n",
            "-------------------------------------------------------\n",
            "| layer3.0.downsample.1.weight  |                 256 |\n",
            "-------------------------------------------------------\n",
            "| layer3.0.downsample.1.bias    |                 256 |\n",
            "-------------------------------------------------------\n",
            "| layer3.0.cbam.ca.fc.0.weight  |                4096 |\n",
            "-------------------------------------------------------\n",
            "| layer3.0.cbam.ca.fc.2.weight  |                4096 |\n",
            "-------------------------------------------------------\n",
            "| layer3.0.cbam.sa.conv1.weight |                  98 |\n",
            "-------------------------------------------------------\n",
            "| layer3.1.conv1.weight         |              589824 |\n",
            "-------------------------------------------------------\n",
            "| layer3.1.bn1.weight           |                 256 |\n",
            "-------------------------------------------------------\n",
            "| layer3.1.bn1.bias             |                 256 |\n",
            "-------------------------------------------------------\n",
            "| layer3.1.conv2.weight         |              589824 |\n",
            "-------------------------------------------------------\n",
            "| layer3.1.bn2.weight           |                 256 |\n",
            "-------------------------------------------------------\n",
            "| layer3.1.bn2.bias             |                 256 |\n",
            "-------------------------------------------------------\n",
            "| layer3.1.cbam.ca.fc.0.weight  |                4096 |\n",
            "-------------------------------------------------------\n",
            "| layer3.1.cbam.ca.fc.2.weight  |                4096 |\n",
            "-------------------------------------------------------\n",
            "| layer3.1.cbam.sa.conv1.weight |                  98 |\n",
            "-------------------------------------------------------\n",
            "| layer4.0.conv1.weight         |             1179648 |\n",
            "-------------------------------------------------------\n",
            "| layer4.0.bn1.weight           |                 512 |\n",
            "-------------------------------------------------------\n",
            "| layer4.0.bn1.bias             |                 512 |\n",
            "-------------------------------------------------------\n",
            "| layer4.0.conv2.weight         |             2359296 |\n",
            "-------------------------------------------------------\n",
            "| layer4.0.bn2.weight           |                 512 |\n",
            "-------------------------------------------------------\n",
            "| layer4.0.bn2.bias             |                 512 |\n",
            "-------------------------------------------------------\n",
            "| layer4.0.downsample.0.weight  |              131072 |\n",
            "-------------------------------------------------------\n",
            "| layer4.0.downsample.1.weight  |                 512 |\n",
            "-------------------------------------------------------\n",
            "| layer4.0.downsample.1.bias    |                 512 |\n",
            "-------------------------------------------------------\n",
            "| layer4.0.cbam.ca.fc.0.weight  |               16384 |\n",
            "-------------------------------------------------------\n",
            "| layer4.0.cbam.ca.fc.2.weight  |               16384 |\n",
            "-------------------------------------------------------\n",
            "| layer4.0.cbam.sa.conv1.weight |                  98 |\n",
            "-------------------------------------------------------\n",
            "| layer4.1.conv1.weight         |             2359296 |\n",
            "-------------------------------------------------------\n",
            "| layer4.1.bn1.weight           |                 512 |\n",
            "-------------------------------------------------------\n",
            "| layer4.1.bn1.bias             |                 512 |\n",
            "-------------------------------------------------------\n",
            "| layer4.1.conv2.weight         |             2359296 |\n",
            "-------------------------------------------------------\n",
            "| layer4.1.bn2.weight           |                 512 |\n",
            "-------------------------------------------------------\n",
            "| layer4.1.bn2.bias             |                 512 |\n",
            "-------------------------------------------------------\n",
            "| layer4.1.cbam.ca.fc.0.weight  |               16384 |\n",
            "-------------------------------------------------------\n",
            "| layer4.1.cbam.ca.fc.2.weight  |               16384 |\n",
            "-------------------------------------------------------\n",
            "| layer4.1.cbam.sa.conv1.weight |                  98 |\n",
            "-------------------------------------------------------\n",
            "| fc.weight                     |               60416 |\n",
            "-------------------------------------------------------\n",
            "| fc.bias                       |                 118 |\n",
            "-------------------------------------------------------\n",
            "\n",
            "Total Parameters: 11,331,142\n"
          ]
        }
      ]
    },
    {
      "cell_type": "markdown",
      "id": "9df9cb8d-ac5b-4ba4-a4ec-8b2d0877b6f0",
      "metadata": {
        "id": "9df9cb8d-ac5b-4ba4-a4ec-8b2d0877b6f0"
      },
      "source": [
        "## Model Training"
      ]
    },
    {
      "cell_type": "code",
      "execution_count": null,
      "id": "a1b77474-4ff5-4ad0-8f17-2cb024182b02",
      "metadata": {
        "colab": {
          "base_uri": "https://localhost:8080/"
        },
        "id": "a1b77474-4ff5-4ad0-8f17-2cb024182b02",
        "outputId": "d4c6aadc-c4bf-492c-e3bf-310a5a457586",
        "collapsed": true
      },
      "outputs": [
        {
          "output_type": "stream",
          "name": "stderr",
          "text": [
            "Epoch 1/100 [Train Pass]: 100%|██████████| 76/76 [03:17<00:00,  2.60s/it, loss=4.7]\n",
            "Epoch1/100 [Val Pass]:   3%|▎         | 1/33 [00:03<01:53,  3.55s/it, loss=5.2] "
          ]
        },
        {
          "output_type": "stream",
          "name": "stdout",
          "text": [
            "Sample Predictions: [55 55 57 55 55 55 55 55 55 57 57 33 57 55 57 55 57 57 57 57 55 57 55 57\n",
            " 55 57 55 57 55 57 57 57 55 55 55 55 55 55 55 55 57 55 55 57 55 55 57 55\n",
            " 55 57 57 55 57 55 55 55 55 55 57 57 55 55 57 55 57 55 57 55 55 57 55 33\n",
            " 57 57 55 55 55 57 55 57 55 55 57 57 55 55 57 55 57 55 55 57 55 55 57 55\n",
            " 55 55 55 55 55 55 33 55 57 55 55 55 55 55 55 57 55 55 55 55 55 55 57 57\n",
            " 57 57 55 55 57 55 55 57]\n",
            "Sample Predictions: [55 55 55 55 57 33 57 55 55 57 55 33 57 55 57 55 55 55 55 55 55 55 55 57\n",
            " 57 57 55 55 57 57 57 57 55 57 55 57 55 55 57 57 55 57 57 55 55 57 33 55\n",
            " 55 57 55 55 57 55 57 55 55 55 55 55 57 55 55 55 33 55 55 55 55 55 55 55\n",
            " 55 55 55 57 55 55 55 57 55 57 57 57 57 57 55 33 55 57 55 57 55 55 55 57\n",
            " 55 55 33 57 57 55 55 55 55 57 57 55 57 57 55 55 57 57 55 55 57 55 55 55\n",
            " 57 55 57 55 55 57 55 57]\n"
          ]
        },
        {
          "output_type": "stream",
          "name": "stderr",
          "text": [
            "Epoch1/100 [Val Pass]:  12%|█▏        | 4/33 [00:06<00:39,  1.36s/it, loss=5.13]"
          ]
        },
        {
          "output_type": "stream",
          "name": "stdout",
          "text": [
            "Sample Predictions: [57 57 57 57 55 57 55 55 55 55 57 55 57 55 57 57 55 55 55 55 55 55 55 55\n",
            " 33 55 57 55 55 55 57 57 55 55 55 55 55 57 55 55 55 57 57 55 55 55 57 55\n",
            " 55 55 55 57 55 57 57 55 55 55 55 55 57 55 55 55 55 57 55 33 55 57 55 57\n",
            " 55 55 55 55 55 55 57 57 55 55 55 57 55 55 55 57 57 55 55 55 55 55 57 57\n",
            " 55 55 55 55 55 57 57 57 55 55 57 55 55 55 57 55 57 57 55 33 55 55 57 55\n",
            " 55 55 57 55 55 55 55 57]\n",
            "Sample Predictions: [55 57 55 55 55 55 55 55 55 55 57 57 57 55 55 55 55 55 55 55 55 55 55 57\n",
            " 33 57 55 57 55 57 57 57 57 57 55 55 55 57 55 55 55 55 55 57 55 55 55 55\n",
            " 57 55 57 55 57 55 55 57 33 55 55 55 55 55 55 55 57 55 55 55 55 55 55 55\n",
            " 57 57 55 55 57 57 55 55 33 57 55 57 55 57 57 57 55 55 57 57 57 55 57 57\n",
            " 55 57 55 55 55 55 55 55 57 55 57 55 55 55 55 57 55 55 57 57 57 55 55 55\n",
            " 55 55 55 57 57 55 55 55]\n"
          ]
        },
        {
          "output_type": "stream",
          "name": "stderr",
          "text": [
            "Epoch1/100 [Val Pass]:  15%|█▌        | 5/33 [00:09<00:51,  1.83s/it, loss=5.04]"
          ]
        },
        {
          "output_type": "stream",
          "name": "stdout",
          "text": [
            "Sample Predictions: [55 57 55 55 55 55 57 55 57 57 57 55 55 57 55 57 55 55 57 57 55 55 55 55\n",
            " 57 55 55 57 55 55 55 55 55 55 55 57 57 55 57 55 55 55 57 55 57 55 55 57\n",
            " 55 55 33 55 55 55 55 55 55 57 55 57 55 55 55 55 55 57 55 57 55 55 57 57\n",
            " 55 57 55 57 57 55 55 57 57 55 55 55 55 55 57 55 57 57 55 55 57 55 55 57\n",
            " 55 55 55 55 55 55 55 57 55 57 55 55 55 55 57 55 55 55 57 55 55 57 55 55\n",
            " 57 55 57 55 57 55 55 55]\n"
          ]
        },
        {
          "output_type": "stream",
          "name": "stderr",
          "text": [
            "Epoch1/100 [Val Pass]:  18%|█▊        | 6/33 [00:09<00:35,  1.32s/it, loss=5.04]"
          ]
        },
        {
          "output_type": "stream",
          "name": "stdout",
          "text": [
            "Sample Predictions: [57 55 55 57 55 55 55 57 55 55 55 55 57 55 55 55 55 55 57 57 57 57 33 55\n",
            " 55 55 55 55 57 55 55 55 57 55 55 57 55 55 55 57 55 57 55 55 33 57 55 55\n",
            " 33 57 55 55 55 55 55 55 55 55 57 57 55 55 55 55 55 55 55 57 55 55 55 55\n",
            " 57 57 57 57 57 55 55 55 55 55 55 55 55 55 33 55 55 57 55 55 57 57 55 55\n",
            " 57 55 55 55 55 57 57 55 55 57 55 55 55 55 57 55 55 55 55 55 55 57 57 55\n",
            " 57 55 55 55 55 55 57 55]\n"
          ]
        },
        {
          "output_type": "stream",
          "name": "stderr",
          "text": [
            "Epoch1/100 [Val Pass]:  21%|██        | 7/33 [00:13<00:57,  2.22s/it, loss=5.06]"
          ]
        },
        {
          "output_type": "stream",
          "name": "stdout",
          "text": [
            "Sample Predictions: [57 55 57 55 57 55 57 55 57 55 55 57 57 55 57 55 55 57 55 55 55 57 55 55\n",
            " 57 55 55 55 57 55 55 55 57 55 57 55 55 55 57 55 55 57 55 57 55 57 55 55\n",
            " 55 33 55 57 55 55 55 57 55 57 57 55 55 33 57 57 57 55 57 55 57 57 57 57\n",
            " 55 55 57 57 33 55 55 55 57 55 57 55 55 55 57 55 55 55 55 57 55 57 57 55\n",
            " 55 57 55 57 55 57 55 57 55 55 55 57 33 57 57 55 55 55 55 55 55 55 55 57\n",
            " 57 55 57 57 55 55 55 55]\n"
          ]
        },
        {
          "output_type": "stream",
          "name": "stderr",
          "text": [
            "Epoch1/100 [Val Pass]:  24%|██▍       | 8/33 [00:14<00:42,  1.68s/it, loss=5.07]"
          ]
        },
        {
          "output_type": "stream",
          "name": "stdout",
          "text": [
            "Sample Predictions: [55 55 55 55 33 55 55 55 55 55 55 55 55 57 55 55 55 55 55 55 55 57 57 55\n",
            " 55 57 55 57 57 55 57 57 55 55 55 55 55 55 57 55 55 55 57 55 55 55 55 57\n",
            " 55 57 55 57 55 55 55 55 55 55 55 55 55 57 57 57 55 55 55 55 55 55 57 57\n",
            " 57 55 55 57 57 55 57 55 55 55 55 55 55 55 55 55 55 57 57 55 55 55 55 55\n",
            " 55 55 55 57 55 55 55 55 57 57 55 55 57 55 55 55 55 57 57 55 55 55 57 33\n",
            " 57 33 55 57 33 55 55 55]\n"
          ]
        },
        {
          "output_type": "stream",
          "name": "stderr",
          "text": [
            "Epoch1/100 [Val Pass]:  27%|██▋       | 9/33 [00:16<00:47,  1.96s/it, loss=5.11]"
          ]
        },
        {
          "output_type": "stream",
          "name": "stdout",
          "text": [
            "Sample Predictions: [55 55 55 55 55 57 55 57 55 55 57 57 55 55 55 55 55 57 55 55 55 57 55 55\n",
            " 55 55 55 55 55 57 57 57 55 55 55 57 57 57 55 55 55 57 57 55 57 57 55 55\n",
            " 55 55 57 57 55 55 55 57 57 55 57 57 55 55 57 55 55 57 57 57 57 55 55 57\n",
            " 55 55 55 55 55 55 33 55 55 55 55 55 57 57 55 55 55 55 55 57 55 57 55 55\n",
            " 55 57 57 55 55 55 55 57 55 55 57 57 55 55 55 57 55 57 55 55 55 55 55 55\n",
            " 55 57 33 57 57 55 55 57]\n"
          ]
        },
        {
          "output_type": "stream",
          "name": "stderr",
          "text": [
            "Epoch1/100 [Val Pass]:  30%|███       | 10/33 [00:17<00:34,  1.51s/it, loss=5.13]"
          ]
        },
        {
          "output_type": "stream",
          "name": "stdout",
          "text": [
            "Sample Predictions: [55 57 55 55 55 57 55 55 57 55 55 55 57 55 57 57 55 55 55 55 33 57 55 57\n",
            " 55 57 55 55 55 57 55 57 57 55 55 55 55 33 55 57 57 55 55 55 55 55 33 55\n",
            " 57 55 55 55 55 55 55 57 55 55 55 55 55 55 55 57 55 57 55 55 57 57 57 55\n",
            " 55 55 55 55 57 55 55 55 55 55 55 57 57 55 57 55 57 55 55 55 55 55 55 55\n",
            " 55 55 55 55 55 55 57 57 57 55 55 57 55 36 55 57 55 57 55 55 55 55 57 57\n",
            " 57 55 57 55 57 55 57 55]\n"
          ]
        },
        {
          "output_type": "stream",
          "name": "stderr",
          "text": [
            "Epoch1/100 [Val Pass]:  33%|███▎      | 11/33 [00:19<00:39,  1.80s/it, loss=5.18]"
          ]
        },
        {
          "output_type": "stream",
          "name": "stdout",
          "text": [
            "Sample Predictions: [55 57 55 57 57 55 55 57 57 55 55 55 33 55 57 55 55 33 55 55 55 57 55 55\n",
            " 55 55 55 57 33 55 55 57 55 57 55 57 55 57 57 57 55 57 55 57 57 57 55 55\n",
            " 55 55 55 55 55 57 57 57 55 55 55 57 55 57 57 55 57 57 55 55 57 57 57 57\n",
            " 55 55 55 55 55 55 57 55 55 55 57 57 57 55 57 33 57 55 57 57 57 55 55 57\n",
            " 55 55 55 57 57 55 57 55 55 57 57 33 55 55 55 55 55 57 57 55 57 55 57 57\n",
            " 55 55 57 55 55 57 57 57]\n"
          ]
        },
        {
          "output_type": "stream",
          "name": "stderr",
          "text": [
            "Epoch1/100 [Val Pass]:  36%|███▋      | 12/33 [00:20<00:31,  1.48s/it, loss=5.09]"
          ]
        },
        {
          "output_type": "stream",
          "name": "stdout",
          "text": [
            "Sample Predictions: [55 57 57 55 57 55 55 55 55 55 57 55 55 55 55 57 57 55 57 55 55 57 57 55\n",
            " 55 55 55 57 55 55 55 55 57 55 55 57 57 55 57 55 57 57 57 55 57 55 55 57\n",
            " 57 55 55 57 57 55 55 57 57 55 55 57 57 55 55 57 55 55 57 55 55 55 57 55\n",
            " 57 55 55 57 55 55 55 55 55 55 55 55 57 55 55 57 55 55 33 33 57 55 57 57\n",
            " 57 55 57 55 55 57 57 55 55 57 57 57 55 55 55 57 55 55 57 57 55 57 55 55\n",
            " 55 55 55 55 57 57 55 55]\n"
          ]
        },
        {
          "output_type": "stream",
          "name": "stderr",
          "text": [
            "Epoch1/100 [Val Pass]:  39%|███▉      | 13/33 [00:23<00:35,  1.76s/it, loss=5.02]"
          ]
        },
        {
          "output_type": "stream",
          "name": "stdout",
          "text": [
            "Sample Predictions: [55 33 55 55 55 55 57 57 57 57 55 57 55 55 55 55 55 55 57 57 55 57 57 33\n",
            " 55 55 55 57 55 33 33 55 57 55 55 55 55 57 55 57 55 57 55 57 55 57 55 55\n",
            " 55 55 57 57 57 57 55 57 55 57 55 55 55 57 55 55 33 55 55 55 55 55 55 55\n",
            " 55 57 55 33 55 57 55 55 55 57 57 57 55 57 55 55 55 57 57 55 55 55 57 55\n",
            " 55 55 57 55 57 55 55 55 57 55 57 57 57 57 55 33 55 55 55 55 57 57 57 55\n",
            " 55 57 55 55 57 55 57 55]\n"
          ]
        },
        {
          "output_type": "stream",
          "name": "stderr",
          "text": [
            "Epoch1/100 [Val Pass]:  42%|████▏     | 14/33 [00:23<00:27,  1.42s/it, loss=5.09]"
          ]
        },
        {
          "output_type": "stream",
          "name": "stdout",
          "text": [
            "Sample Predictions: [57 55 57 57 55 33 55 55 55 55 57 55 57 57 57 55 57 57 55 55 55 33 57 55\n",
            " 55 55 57 57 55 57 55 55 55 57 55 55 57 55 57 57 55 55 55 57 55 55 57 55\n",
            " 57 55 55 55 55 55 57 55 55 55 55 57 57 57 55 57 57 57 57 55 57 55 55 57\n",
            " 55 55 57 55 57 57 57 55 55 55 55 57 57 57 55 55 57 57 57 55 55 55 57 55\n",
            " 57 57 55 57 55 55 57 55 55 55 55 55 55 57 55 55 55 55 55 55 57 57 55 57\n",
            " 55 55 55 55 55 55 57 55]\n"
          ]
        },
        {
          "output_type": "stream",
          "name": "stderr",
          "text": [
            "Epoch1/100 [Val Pass]:  45%|████▌     | 15/33 [00:27<00:37,  2.06s/it, loss=5.14]"
          ]
        },
        {
          "output_type": "stream",
          "name": "stdout",
          "text": [
            "Sample Predictions: [33 55 57 57 55 55 55 57 55 55 55 57 55 55 55 55 55 57 57 55 55 55 55 55\n",
            " 57 55 55 57 55 33 55 55 55 57 57 57 55 55 55 57 57 55 55 57 55 33 55 55\n",
            " 57 55 55 57 55 57 57 55 55 57 57 33 57 57 55 57 33 33 33 55 55 57 55 55\n",
            " 55 55 57 55 57 55 55 55 55 55 55 33 57 57 55 55 55 55 55 55 57 55 57 55\n",
            " 57 55 55 55 55 55 55 55 55 55 55 55 55 57 55 55 57 55 55 55 55 55 57 55\n",
            " 55 55 55 55 55 57 55 55]\n"
          ]
        },
        {
          "output_type": "stream",
          "name": "stderr",
          "text": [
            "Epoch1/100 [Val Pass]:  48%|████▊     | 16/33 [00:28<00:28,  1.71s/it, loss=5.07]"
          ]
        },
        {
          "output_type": "stream",
          "name": "stdout",
          "text": [
            "Sample Predictions: [55 55 55 55 55 55 55 55 57 57 55 55 55 55 57 55 57 57 55 55 55 55 55 55\n",
            " 55 57 55 57 55 55 55 55 55 57 57 55 55 57 57 55 57 55 57 57 55 55 57 55\n",
            " 57 33 55 57 55 55 55 55 57 55 55 57 57 57 57 55 57 57 55 55 55 55 55 55\n",
            " 57 55 57 55 55 55 55 57 55 55 55 55 55 57 57 55 57 55 33 55 55 57 57 55\n",
            " 57 55 55 57 57 57 55 55 57 55 55 57 57 33 55 55 55 57 55 55 55 55 57 57\n",
            " 55 55 57 57 55 55 57 57]\n"
          ]
        },
        {
          "output_type": "stream",
          "name": "stderr",
          "text": [
            "Epoch1/100 [Val Pass]:  52%|█████▏    | 17/33 [00:30<00:31,  1.96s/it, loss=5.1]"
          ]
        },
        {
          "output_type": "stream",
          "name": "stdout",
          "text": [
            "Sample Predictions: [55 55 55 57 55 57 57 55 57 57 57 55 55 55 55 57 57 55 55 57 55 57 55 55\n",
            " 55 57 55 55 57 57 55 57 55 57 55 55 55 55 55 55 57 55 55 55 55 55 57 55\n",
            " 57 57 55 55 55 55 55 55 55 55 55 55 33 55 57 55 57 55 55 57 55 55 55 55\n",
            " 55 55 55 55 55 57 55 33 55 57 57 55 55 55 55 55 57 57 57 55 55 57 33 55\n",
            " 55 55 57 57 55 33 57 57 57 55 55 55 55 55 55 57 57 55 55 55 57 57 57 55\n",
            " 55 55 57 55 57 57 55 55]\n"
          ]
        },
        {
          "output_type": "stream",
          "name": "stderr",
          "text": [
            "Epoch1/100 [Val Pass]:  55%|█████▍    | 18/33 [00:31<00:24,  1.63s/it, loss=5.07]"
          ]
        },
        {
          "output_type": "stream",
          "name": "stdout",
          "text": [
            "Sample Predictions: [55 55 57 57 55 57 55 55 57 57 55 55 57 55 55 57 57 55 57 57 55 57 55 55\n",
            " 57 57 55 55 55 57 55 55 55 55 55 55 57 55 55 33 55 57 57 55 57 55 55 57\n",
            " 55 57 55 55 55 55 55 55 55 57 57 55 57 55 55 55 57 55 55 55 57 57 55 55\n",
            " 55 55 57 55 55 55 57 57 57 57 55 55 55 57 55 55 57 57 33 55 57 57 55 57\n",
            " 55 57 55 55 55 55 57 57 55 55 57 55 33 55 55 55 57 57 55 55 57 55 55 55\n",
            " 57 55 55 57 57 55 55 57]\n"
          ]
        },
        {
          "output_type": "stream",
          "name": "stderr",
          "text": [
            "Epoch1/100 [Val Pass]:  58%|█████▊    | 19/33 [00:33<00:25,  1.82s/it, loss=5.12]"
          ]
        },
        {
          "output_type": "stream",
          "name": "stdout",
          "text": [
            "Sample Predictions: [55 55 57 55 55 55 55 57 55 55 57 57 57 55 57 57 55 55 55 55 55 55 57 55\n",
            " 55 57 57 55 55 55 57 55 55 57 57 55 55 55 55 57 55 55 57 57 55 55 57 55\n",
            " 57 57 55 55 57 55 55 57 55 57 57 55 55 55 57 57 55 55 55 55 55 55 55 55\n",
            " 55 57 55 57 57 57 55 55 57 55 57 55 55 55 55 55 55 57 55 55 33 57 57 33\n",
            " 55 57 55 55 55 57 55 55 57 57 55 55 57 55 55 57 55 57 55 55 55 55 57 55\n",
            " 57 57 55 55 55 55 33 57]\n"
          ]
        },
        {
          "output_type": "stream",
          "name": "stderr",
          "text": [
            "Epoch1/100 [Val Pass]:  61%|██████    | 20/33 [00:34<00:19,  1.53s/it, loss=4.93]"
          ]
        },
        {
          "output_type": "stream",
          "name": "stdout",
          "text": [
            "Sample Predictions: [55 57 55 57 55 55 57 55 55 55 55 55 57 57 55 55 55 55 55 55 57 57 55 57\n",
            " 55 57 57 57 55 33 57 57 55 57 55 57 55 55 57 55 33 33 55 55 57 55 55 55\n",
            " 55 57 33 57 55 55 57 55 55 55 55 57 55 55 57 55 55 55 55 55 55 33 57 55\n",
            " 57 55 57 55 55 57 57 57 55 55 55 55 55 55 55 55 55 57 55 55 55 55 55 55\n",
            " 57 55 55 55 55 57 55 57 55 55 57 55 55 55 55 55 57 57 55 57 55 57 57 57\n",
            " 55 57 55 57 55 55 55 55]\n"
          ]
        },
        {
          "output_type": "stream",
          "name": "stderr",
          "text": [
            "Epoch1/100 [Val Pass]:  64%|██████▎   | 21/33 [00:36<00:20,  1.72s/it, loss=5.14]"
          ]
        },
        {
          "output_type": "stream",
          "name": "stdout",
          "text": [
            "Sample Predictions: [55 55 57 55 55 55 57 57 55 33 57 33 55 55 55 33 55 55 57 33 55 57 55 55\n",
            " 57 55 55 55 55 55 55 55 55 55 57 55 55 57 55 55 33 33 55 33 55 55 55 55\n",
            " 57 57 33 55 55 55 57 55 57 55 55 55 57 57 55 55 57 55 55 55 55 57 55 55\n",
            " 55 57 55 55 57 57 55 55 55 57 55 55 55 57 57 55 55 57 57 55 55 55 57 55\n",
            " 55 55 55 57 55 55 55 57 55 55 55 57 55 55 57 55 55 57 55 57 57 55 55 57\n",
            " 55 55 55 55 55 55 57 55]\n"
          ]
        },
        {
          "output_type": "stream",
          "name": "stderr",
          "text": [
            "Epoch1/100 [Val Pass]:  67%|██████▋   | 22/33 [00:37<00:16,  1.47s/it, loss=5.06]"
          ]
        },
        {
          "output_type": "stream",
          "name": "stdout",
          "text": [
            "Sample Predictions: [57 55 55 57 57 57 55 57 55 55 55 55 55 55 55 57 55 55 55 55 55 55 55 55\n",
            " 55 55 55 55 57 55 57 57 55 55 55 57 57 57 55 55 55 55 57 55 55 55 55 33\n",
            " 55 57 55 55 55 33 57 55 57 57 55 57 57 57 33 55 55 57 55 57 55 55 57 57\n",
            " 55 55 55 55 55 57 57 57 55 57 57 57 55 57 57 57 57 55 55 55 55 55 57 55\n",
            " 55 55 57 57 55 57 55 55 57 55 55 55 55 55 55 55 55 55 57 55 55 55 57 55\n",
            " 55 55 57 55 55 55 57 55]\n"
          ]
        },
        {
          "output_type": "stream",
          "name": "stderr",
          "text": [
            "Epoch1/100 [Val Pass]:  70%|██████▉   | 23/33 [00:40<00:18,  1.82s/it, loss=5.1]"
          ]
        },
        {
          "output_type": "stream",
          "name": "stdout",
          "text": [
            "Sample Predictions: [55 55 55 57 57 55 55 55 57 55 55 57 33 55 55 55 55 57 55 57 57 57 55 55\n",
            " 55 55 55 33 55 55 57 55 55 55 57 57 55 57 55 57 55 55 55 55 55 55 55 57\n",
            " 55 55 55 55 55 55 55 55 55 55 55 55 55 55 55 55 57 57 55 55 55 55 55 55\n",
            " 55 55 55 55 57 55 55 55 57 55 55 55 57 55 55 57 55 57 57 55 57 57 57 57\n",
            " 55 55 55 55 55 55 55 55 55 55 55 55 57 55 55 55 57 55 55 57 55 55 57 55\n",
            " 57 55 55 57 57 57 33 55]\n"
          ]
        },
        {
          "output_type": "stream",
          "name": "stderr",
          "text": [
            "Epoch1/100 [Val Pass]:  73%|███████▎  | 24/33 [00:42<00:16,  1.83s/it, loss=5.17]"
          ]
        },
        {
          "output_type": "stream",
          "name": "stdout",
          "text": [
            "Sample Predictions: [55 55 55 55 55 55 55 57 57 55 57 55 33 55 57 55 33 55 55 55 55 57 33 57\n",
            " 57 55 55 57 55 55 55 57 55 55 55 55 55 55 55 55 55 55 55 55 55 57 57 55\n",
            " 55 55 55 55 57 55 55 55 57 57 57 57 55 55 57 55 57 55 55 55 55 55 55 57\n",
            " 57 55 57 57 57 57 55 55 57 57 55 55 57 55 55 55 55 55 55 57 55 55 55 55\n",
            " 57 55 55 57 55 55 55 57 55 55 55 55 55 55 57 57 57 55 55 55 55 57 55 55\n",
            " 57 57 55 55 55 57 55 33]\n"
          ]
        },
        {
          "output_type": "stream",
          "name": "stderr",
          "text": [
            "Epoch1/100 [Val Pass]:  76%|███████▌  | 25/33 [00:44<00:15,  1.99s/it, loss=5.11]"
          ]
        },
        {
          "output_type": "stream",
          "name": "stdout",
          "text": [
            "Sample Predictions: [55 55 57 55 55 55 55 55 55 33 55 55 57 57 55 57 55 55 57 55 55 55 57 55\n",
            " 55 55 57 57 57 55 55 55 55 55 55 55 55 57 55 55 55 55 57 57 55 57 57 55\n",
            " 57 55 55 57 57 55 57 57 55 57 57 57 55 57 33 55 55 55 55 55 55 55 57 55\n",
            " 55 57 55 55 55 55 55 57 55 57 57 55 55 55 57 55 57 57 55 55 57 55 55 55\n",
            " 57 55 55 57 55 57 55 55 57 55 55 55 57 55 55 57 55 57 55 55 55 57 55 55\n",
            " 55 55 57 55 55 55 55 55]\n"
          ]
        },
        {
          "output_type": "stream",
          "name": "stderr",
          "text": [
            "Epoch1/100 [Val Pass]:  79%|███████▉  | 26/33 [00:45<00:11,  1.65s/it, loss=5.18]"
          ]
        },
        {
          "output_type": "stream",
          "name": "stdout",
          "text": [
            "Sample Predictions: [55 55 57 55 55 57 55 55 55 55 55 57 57 55 33 57 55 55 55 55 57 57 55 55\n",
            " 57 33 55 57 57 55 55 57 55 57 57 55 55 55 57 57 55 57 55 57 55 33 55 57\n",
            " 55 55 57 55 57 55 55 55 55 33 55 55 55 33 55 55 57 57 55 55 57 55 57 57\n",
            " 57 55 57 55 57 57 57 57 55 55 55 57 57 55 55 55 55 55 57 55 55 55 55 55\n",
            " 57 55 55 55 57 57 55 55 57 55 55 55 55 55 33 57 55 55 55 55 57 55 55 55\n",
            " 55 55 55 57 55 55 55 55]\n"
          ]
        },
        {
          "output_type": "stream",
          "name": "stderr",
          "text": [
            "Epoch1/100 [Val Pass]:  82%|████████▏ | 27/33 [00:47<00:10,  1.82s/it, loss=5.05]"
          ]
        },
        {
          "output_type": "stream",
          "name": "stdout",
          "text": [
            "Sample Predictions: [55 55 55 57 57 57 57 55 57 55 55 55 57 55 55 55 57 55 57 57 55 55 57 55\n",
            " 55 57 57 57 57 55 55 55 57 55 55 57 55 55 55 55 55 55 55 55 55 55 57 55\n",
            " 57 55 55 55 55 55 55 57 55 55 57 57 55 55 55 55 57 57 55 55 57 55 57 55\n",
            " 55 55 55 57 55 55 57 57 55 55 55 55 57 55 55 55 55 55 55 55 57 57 55 57\n",
            " 55 55 57 55 57 57 55 55 55 57 55 55 57 57 57 57 55 57 55 55 57 57 55 57\n",
            " 57 57 55 57 55 57 55 55]\n"
          ]
        },
        {
          "output_type": "stream",
          "name": "stderr",
          "text": [
            "Epoch1/100 [Val Pass]:  85%|████████▍ | 28/33 [00:48<00:07,  1.50s/it, loss=5.08]"
          ]
        },
        {
          "output_type": "stream",
          "name": "stdout",
          "text": [
            "Sample Predictions: [57 57 57 57 55 55 55 57 57 57 57 55 57 55 55 55 57 55 55 57 55 57 57 55\n",
            " 57 57 55 55 57 57 55 55 55 55 57 55 55 55 55 55 55 55 57 55 57 55 57 57\n",
            " 57 55 55 55 55 55 55 55 55 57 57 55 55 57 55 55 55 55 55 55 57 55 55 55\n",
            " 55 57 55 57 55 55 55 57 55 57 55 57 57 55 57 55 55 55 57 55 55 55 55 55\n",
            " 57 55 55 55 55 55 55 55 55 55 55 55 55 55 57 55 55 55 55 55 55 55 55 55\n",
            " 57 55 57 57 55 55 55 55]\n"
          ]
        },
        {
          "output_type": "stream",
          "name": "stderr",
          "text": [
            "Epoch1/100 [Val Pass]:  88%|████████▊ | 29/33 [00:50<00:06,  1.72s/it, loss=5.06]"
          ]
        },
        {
          "output_type": "stream",
          "name": "stdout",
          "text": [
            "Sample Predictions: [57 57 55 57 55 55 57 57 55 55 55 57 55 55 57 57 55 57 57 55 55 55 55 55\n",
            " 55 55 55 55 55 57 55 57 55 55 55 57 55 55 55 55 57 57 33 55 33 57 57 55\n",
            " 57 57 55 55 55 57 55 55 55 55 57 55 57 55 57 55 33 55 57 57 55 33 55 55\n",
            " 55 57 55 55 57 55 57 57 57 57 57 55 55 55 55 55 57 55 55 55 57 55 55 57\n",
            " 57 55 55 57 55 55 57 55 57 57 57 57 33 55 55 55 55 55 55 57 55 55 33 55\n",
            " 55 57 55 57 55 55 57 55]\n"
          ]
        },
        {
          "output_type": "stream",
          "name": "stderr",
          "text": [
            "Epoch1/100 [Val Pass]:  91%|█████████ | 30/33 [00:51<00:04,  1.48s/it, loss=5.11]"
          ]
        },
        {
          "output_type": "stream",
          "name": "stdout",
          "text": [
            "Sample Predictions: [55 57 57 55 55 55 55 55 55 57 55 55 55 55 57 55 57 57 55 55 55 55 55 57\n",
            " 57 57 55 57 55 55 55 57 55 57 55 55 57 57 57 55 55 55 55 57 57 57 55 55\n",
            " 55 55 55 55 55 55 55 55 55 55 55 57 55 57 55 57 57 55 55 55 57 55 57 57\n",
            " 57 55 55 55 57 57 55 55 55 55 55 55 55 57 57 55 57 55 57 55 57 57 57 55\n",
            " 55 57 57 55 55 57 55 57 55 57 55 55 55 55 57 57 57 55 55 57 55 57 57 55\n",
            " 55 33 57 55 57 57 55 55]\n"
          ]
        },
        {
          "output_type": "stream",
          "name": "stderr",
          "text": [
            "Epoch1/100 [Val Pass]:  94%|█████████▍| 31/33 [00:53<00:03,  1.75s/it, loss=5.04]"
          ]
        },
        {
          "output_type": "stream",
          "name": "stdout",
          "text": [
            "Sample Predictions: [55 55 55 55 57 55 55 55 57 57 55 57 57 55 57 55 57 55 55 55 55 55 55 55\n",
            " 55 55 57 55 55 57 57 55 57 55 55 57 55 55 57 57 57 57 55 55 55 57 57 55\n",
            " 55 55 55 57 55 55 57 57 55 55 55 55 55 55 55 55 57 55 57 57 55 57 55 55\n",
            " 55 57 55 55 55 57 55 55 55 55 55 55 55 57 57 55 57 55 57 55 55 57 55 55\n",
            " 57 55 55 55 55 55 55 55 55 55 55 55 57 57 55 55 57 55 55 57 55 55 55 57\n",
            " 55 55 55 57 55 33 55 55]\n"
          ]
        },
        {
          "output_type": "stream",
          "name": "stderr",
          "text": [
            "Epoch1/100 [Val Pass]: 100%|██████████| 33/33 [00:54<00:00,  1.66s/it, loss=5.16]"
          ]
        },
        {
          "output_type": "stream",
          "name": "stdout",
          "text": [
            "Sample Predictions: [55 57 55 57 57 57 55 57 55 55 57 55 55 55 55 55 57 55 57 55 33 55 55 57\n",
            " 57 55 57 57 55 55 55 57 55 55 55 55 55 55 55 55 55 57 57 55 33 55 55 57\n",
            " 55 55 55 55 55 55 57 57 55 55 57 57 55 57 55 57 55 55 55 55 55 55 57 55\n",
            " 57 55 57 55 57 55 57 55 57 55 55 57 55 57 57 55 57 55 55 55 55 55 55 57\n",
            " 55 57 55 57 55 55 57 33 55 55 57 57 55 33 55 57 55 55 55 57 55 55 57 57\n",
            " 55 55 55 57 57 55 57 55]\n",
            "Sample Predictions: [55 57 55 57 55 57 57 57 55 55 55 55 57 55 55 55 57 57 55 55]\n"
          ]
        },
        {
          "output_type": "stream",
          "name": "stderr",
          "text": [
            "\n"
          ]
        },
        {
          "output_type": "stream",
          "name": "stdout",
          "text": [
            "Validation Loss improved -> model saved to ../content/drive/MyDrive/NeuroVision/models/resnet-18_v1_best.pth\n",
            "Epoch 1/100:\n",
            "Train Loss: 4.805 | Train Acc: 0.81 %\n",
            "Val Loss: 5.099 | Val Acc: 0.66 %\n"
          ]
        },
        {
          "output_type": "stream",
          "name": "stderr",
          "text": [
            "Epoch 2/100 [Train Pass]: 100%|██████████| 76/76 [03:15<00:00,  2.57s/it, loss=4.68]\n",
            "Epoch2/100 [Val Pass]:   6%|▌         | 2/33 [00:03<00:45,  1.46s/it, loss=5.17]"
          ]
        },
        {
          "output_type": "stream",
          "name": "stdout",
          "text": [
            "Sample Predictions: [57 57 57 57 57 57 57 57 57 57 57 57 57 57 57 57 57 57 57 57 57 57 57 57\n",
            " 57 57 57 57 57 57 57 57 57 57 57 57 57 57 57 57 57 57 57 57 57 57 57 57\n",
            " 57 57 57 57 57 57 57 57 57 57 57 57 57 57 57 57 57 57 57 57 57 57 57 57\n",
            " 57 57 57 57 57 57 57 57 57 57 57 57 57 57 57 57 57 57 57 57 57 57 57 57\n",
            " 57 57 57 57 57 57 57 57 57 57 57 57 57 57 57 57 57 57 57 57 57 57 57 57\n",
            " 57 57 57 57 57 57 57 57]\n",
            "Sample Predictions: [57 57 57 57 57 57 57 57 57 57 57 57 57 57 57 57 57 57 57 57 57 57 57 57\n",
            " 57 57 57 57 57 57 57 57 57 57 57 57 57 57 57 57 57 57 57 57 57 57 57 57\n",
            " 57 57 57 57 57 57 57 57 57 57 57 57 57 57 57 57 57 57 57 57 57 57 57 57\n",
            " 57 57 57 57 57 57 57 57 57 57 57 57 57 57 57 57 57 57 57 57 57 57 57 57\n",
            " 57 57 57 57 57 57 57 57 57 57 57 57 57 57 57 57 57 57 57 57 57 57 57 57\n",
            " 57 57 57 57 57 57 57 57]\n"
          ]
        },
        {
          "output_type": "stream",
          "name": "stderr",
          "text": [
            "Epoch2/100 [Val Pass]:   9%|▉         | 3/33 [00:08<01:24,  2.81s/it, loss=5.17]"
          ]
        },
        {
          "output_type": "stream",
          "name": "stdout",
          "text": [
            "Sample Predictions: [57 57 57 57 57 57 57 57 57 57 57 57 57 57 57 57 57 57 57 57 57 57 57 57\n",
            " 57 57 57 57 57 57 57 57 57 57 57 57 57 57 57 57 57 57 57 57 57 57 57 57\n",
            " 57 57 57 57 57 57 57 57 57 57 57 57 57 57 57 57 57 57 57 57 57 57 57 57\n",
            " 57 57 57 57 57 57 57 57 57 57 57 57 57 57 57 57 57 57 57 57 57 57 57 57\n",
            " 57 57 57 57 57 57 57 57 57 57 57 57 57 57 57 57 57 57 57 57 57 57 57 57\n",
            " 57 57 57 57 57 57 57 57]\n",
            "Sample Predictions: [57 57 57 57 57 57 57 57 57 57 57 57 57 57 57 57 57 57 57 57 57 57 57 57\n",
            " 57 57 57 57 57 57 57 57 57 57 57 57 57 57 57 57 57 57 57 57 57 57 57 57\n",
            " 57 57 57 57 57 57 57 57 57 57 57 57 57 57 57 57 57 57 57 57 57 57 57 57\n",
            " 57 57 57 57 57 57 57 57 57 57 57 57 57 57 57 57 57 57 57 57 57 57 57 57\n",
            " 57 57 57 57 57 57 57 57 57 57 57 57 57 57 57 57 57 57 57 57 57 57 57 57\n",
            " 57 57 57 57 57 57 57 57]\n"
          ]
        },
        {
          "output_type": "stream",
          "name": "stderr",
          "text": [
            "Epoch2/100 [Val Pass]:  18%|█▊        | 6/33 [00:11<00:41,  1.55s/it, loss=5.01]"
          ]
        },
        {
          "output_type": "stream",
          "name": "stdout",
          "text": [
            "Sample Predictions: [57 57 57 57 57 57 57 57 57 57 57 57 57 57 57 57 57 57 57 57 57 57 57 57\n",
            " 57 57 57 57 57 57 57 57 57 57 57 57 57 57 57 57 57 57 57 57 57 57 57 57\n",
            " 57 57 57 57 57 57 57 57 57 57 57 57 57 57 57 57 57 57 57 57 57 57 57 57\n",
            " 57 57 57 57 57 57 57 57 57 57 57 57 57 57 57 57 57 57 57 57 57 57 57 57\n",
            " 57 57 57 57 57 57 57 57 57 57 57 57 57 57 57 57 57 57 57 57 57 57 57 57\n",
            " 57 57 57 57 57 57 57 57]\n",
            "Sample Predictions: [57 57 57 57 57 57 57 57 57 57 57 57 57 57 57 57 57 57 57 57 57 57 57 57\n",
            " 57 57 57 57 57 57 57 57 57 57 57 57 57 57 57 57 57 57 57 57 57 57 57 57\n",
            " 57 57 57 57 57 57 57 57 57 57 57 57 57 57 57 57 57 57 57 57 57 57 57 57\n",
            " 57 57 57 57 57 57 57 57 57 57 57 57 57 57 57 57 57 57 57 57 57 57 57 57\n",
            " 57 57 57 57 57 57 57 57 57 57 57 57 57 57 57 57 57 57 57 57 57 57 57 57\n",
            " 57 57 57 57 57 57 57 57]\n"
          ]
        },
        {
          "output_type": "stream",
          "name": "stderr",
          "text": [
            "Epoch2/100 [Val Pass]:  24%|██▍       | 8/33 [00:14<00:34,  1.39s/it, loss=5.13]"
          ]
        },
        {
          "output_type": "stream",
          "name": "stdout",
          "text": [
            "Sample Predictions: [57 57 57 57 57 57 57 57 57 57 57 57 57 57 57 57 57 57 57 57 57 57 57 57\n",
            " 57 57 57 57 57 57 57 57 57 57 57 57 57 57 57 57 57 57 57 57 57 57 57 57\n",
            " 57 57 57 57 57 57 57 57 57 57 57 57 57 57 57 57 57 57 57 57 57 57 57 57\n",
            " 57 57 57 57 57 57 57 57 57 57 57 57 57 57 57 57 57 57 57 57 57 57 57 57\n",
            " 57 57 57 57 57 57 57 57 57 57 57 57 57 57 57 57 57 57 57 57 57 57 57 57\n",
            " 57 57 57 57 57 57 57 57]\n",
            "Sample Predictions: [57 57 57 57 57 57 57 57 57 57 57 57 57 57 57 57 57 57 57 57 57 57 57 57\n",
            " 57 57 57 57 57 57 57 57 57 57 57 57 57 57 57 57 57 57 57 57 57 57 57 57\n",
            " 57 57 57 57 57 57 57 57 57 57 57 57 57 57 57 57 57 57 57 57 57 57 57 57\n",
            " 57 57 57 57 57 57 57 57 57 57 57 57 57 57 57 57 57 57 57 57 57 57 57 57\n",
            " 57 57 57 57 57 57 57 57 57 57 57 57 57 57 57 57 57 57 57 57 57 57 57 57\n",
            " 57 57 57 57 57 57 57 57]\n"
          ]
        },
        {
          "output_type": "stream",
          "name": "stderr",
          "text": [
            "Epoch2/100 [Val Pass]:  27%|██▋       | 9/33 [00:16<00:41,  1.74s/it, loss=5.09]"
          ]
        },
        {
          "output_type": "stream",
          "name": "stdout",
          "text": [
            "Sample Predictions: [57 57 57 57 57 57 57 57 57 57 57 57 57 57 57 57 57 57 57 57 57 57 57 57\n",
            " 57 57 57 57 57 57 57 57 57 57 57 57 57 57 57 57 57 57 57 57 57 57 57 57\n",
            " 57 57 57 57 57 57 57 57 57 57 57 57 57 57 57 57 57 57 57 57 57 57 57 57\n",
            " 57 57 57 57 57 57 57 57 57 57 57 57 57 57 57 57 57 57 57 57 57 57 57 57\n",
            " 57 57 57 57 57 57 57 57 57 57 57 57 57 57 57 57 57 57 57 57 57 57 57 57\n",
            " 57 57 57 57 57 57 57 57]\n"
          ]
        },
        {
          "output_type": "stream",
          "name": "stderr",
          "text": [
            "Epoch2/100 [Val Pass]:  30%|███       | 10/33 [00:17<00:29,  1.30s/it, loss=5.2]"
          ]
        },
        {
          "output_type": "stream",
          "name": "stdout",
          "text": [
            "Sample Predictions: [57 57 57 57 57 57 57 57 57 57 57 57 57 57 57 57 57 57 57 57 57 57 57 57\n",
            " 57 57 57 57 57 57 57 57 57 57 57 57 57 57 57 57 57 57 57 57 57 57 57 57\n",
            " 57 57 57 57 57 57 57 57 57 57 57 57 57 57 57 57 57 57 57 57 57 57 57 57\n",
            " 57 57 57 57 57 57 57 57 57 57 57 57 57 57 57 57 57 57 57 57 57 57 57 57\n",
            " 57 57 57 57 57 57 57 57 57 57 57 57 57 57 57 57 57 57 57 57 57 57 57 57\n",
            " 57 57 57 57 57 57 57 57]\n"
          ]
        },
        {
          "output_type": "stream",
          "name": "stderr",
          "text": [
            "Epoch2/100 [Val Pass]:  33%|███▎      | 11/33 [00:20<00:43,  1.97s/it, loss=5.22]"
          ]
        },
        {
          "output_type": "stream",
          "name": "stdout",
          "text": [
            "Sample Predictions: [57 57 57 57 57 57 57 57 57 57 57 57 57 57 57 57 57 57 57 57 57 57 57 57\n",
            " 57 57 57 57 57 57 57 57 57 57 57 57 57 57 57 57 57 57 57 57 57 57 57 57\n",
            " 57 57 57 57 57 57 57 57 57 57 57 57 57 57 57 57 57 57 57 57 57 57 57 57\n",
            " 57 57 57 57 57 57 57 57 57 57 57 57 57 57 57 57 57 57 57 57 57 57 57 57\n",
            " 57 57 57 57 57 57 57 57 57 57 57 57 57 57 57 57 57 57 57 57 57 57 57 57\n",
            " 57 57 57 57 57 57 57 57]\n"
          ]
        },
        {
          "output_type": "stream",
          "name": "stderr",
          "text": [
            "Epoch2/100 [Val Pass]:  36%|███▋      | 12/33 [00:22<00:38,  1.81s/it, loss=5.13]"
          ]
        },
        {
          "output_type": "stream",
          "name": "stdout",
          "text": [
            "Sample Predictions: [57 57 57 57 57 57 57 57 57 57 57 57 57 57 57 57 57 57 57 57 57 57 57 57\n",
            " 57 57 57 57 57 57 57 57 57 57 57 57 57 57 57 57 57 57 57 57 57 57 57 57\n",
            " 57 57 57 57 57 57 57 57 57 57 57 57 57 57 57 57 57 57 57 57 57 57 57 57\n",
            " 57 57 57 57 57 57 57 57 57 57 57 57 57 57 57 57 57 57 57 57 57 57 57 57\n",
            " 57 57 57 57 57 57 57 57 57 57 57 57 57 57 57 57 57 57 57 57 57 57 57 57\n",
            " 57 57 57 57 57 57 57 57]\n"
          ]
        },
        {
          "output_type": "stream",
          "name": "stderr",
          "text": [
            "Epoch2/100 [Val Pass]:  39%|███▉      | 13/33 [00:24<00:38,  1.93s/it, loss=5.14]"
          ]
        },
        {
          "output_type": "stream",
          "name": "stdout",
          "text": [
            "Sample Predictions: [57 57 57 57 57 57 57 57 57 57 57 57 57 57 57 57 57 57 57 57 57 57 57 57\n",
            " 57 57 57 57 57 57 57 57 57 57 57 57 57 57 57 57 57 57 57 57 57 57 57 57\n",
            " 57 57 57 57 57 57 57 57 57 57 57 57 57 57 57 57 57 57 57 57 57 57 57 57\n",
            " 57 57 57 57 57 57 57 57 57 57 57 57 57 57 57 57 57 57 57 57 57 57 57 57\n",
            " 57 57 57 57 57 57 57 57 57 57 57 57 57 57 57 57 57 57 57 57 57 57 57 57\n",
            " 57 57 57 57 57 57 57 57]\n"
          ]
        },
        {
          "output_type": "stream",
          "name": "stderr",
          "text": [
            "Epoch2/100 [Val Pass]:  42%|████▏     | 14/33 [00:25<00:30,  1.63s/it, loss=5.16]"
          ]
        },
        {
          "output_type": "stream",
          "name": "stdout",
          "text": [
            "Sample Predictions: [57 57 57 57 57 57 57 57 57 57 57 57 57 57 57 57 57 57 57 57 57 57 57 57\n",
            " 57 57 57 57 57 57 57 57 57 57 57 57 57 57 57 57 57 57 57 57 57 57 57 57\n",
            " 57 57 57 57 57 57 57 57 57 57 57 57 57 57 57 57 57 57 57 57 57 57 57 57\n",
            " 57 57 57 57 57 57 57 57 57 57 57 57 57 57 57 57 57 57 57 57 57 57 57 57\n",
            " 57 57 57 57 57 57 57 57 57 57 57 57 57 57 57 57 57 57 57 57 57 57 57 57\n",
            " 57 57 57 57 57 57 57 57]\n"
          ]
        },
        {
          "output_type": "stream",
          "name": "stderr",
          "text": [
            "Epoch2/100 [Val Pass]:  45%|████▌     | 15/33 [00:27<00:31,  1.76s/it, loss=5.22]"
          ]
        },
        {
          "output_type": "stream",
          "name": "stdout",
          "text": [
            "Sample Predictions: [57 57 57 57 57 57 57 57 57 57 57 57 57 57 57 57 57 57 57 57 57 57 57 57\n",
            " 57 57 57 57 57 57 57 57 57 57 57 57 57 57 57 57 57 57 57 57 57 57 57 57\n",
            " 57 57 57 57 57 57 57 57 57 57 57 57 57 57 57 57 57 57 57 57 57 57 57 57\n",
            " 57 57 57 57 57 57 57 57 57 57 57 57 57 57 57 57 57 57 57 57 57 57 57 57\n",
            " 57 57 57 57 57 57 57 57 57 57 57 57 57 57 57 57 57 57 57 57 57 57 57 57\n",
            " 57 57 57 57 57 57 57 57]\n"
          ]
        },
        {
          "output_type": "stream",
          "name": "stderr",
          "text": [
            "Epoch2/100 [Val Pass]:  48%|████▊     | 16/33 [00:28<00:26,  1.58s/it, loss=5.08]"
          ]
        },
        {
          "output_type": "stream",
          "name": "stdout",
          "text": [
            "Sample Predictions: [57 57 57 57 57 57 57 57 57 57 57 57 57 57 57 57 57 57 57 57 57 57 57 57\n",
            " 57 57 57 57 57 57 57 57 57 57 57 57 57 57 57 57 57 57 57 57 57 57 57 57\n",
            " 57 57 57 57 57 57 57 57 57 57 57 57 57 57 57 57 57 57 57 57 57 57 57 57\n",
            " 57 57 57 57 57 57 57 57 57 57 57 57 57 57 57 57 57 57 57 57 57 57 57 57\n",
            " 57 57 57 57 57 57 57 57 57 57 57 57 57 57 57 57 57 57 57 57 57 57 57 57\n",
            " 57 57 57 57 57 57 57 57]\n"
          ]
        },
        {
          "output_type": "stream",
          "name": "stderr",
          "text": [
            "Epoch2/100 [Val Pass]:  52%|█████▏    | 17/33 [00:30<00:25,  1.59s/it, loss=5.11]"
          ]
        },
        {
          "output_type": "stream",
          "name": "stdout",
          "text": [
            "Sample Predictions: [57 57 57 57 57 57 57 57 57 57 57 57 57 57 57 57 57 57 57 57 57 57 57 57\n",
            " 57 57 57 57 57 57 57 57 57 57 57 57 57 57 57 57 57 57 57 57 57 57 57 57\n",
            " 57 57 57 57 57 57 57 57 57 57 57 57 57 57 57 57 57 57 57 57 57 57 57 57\n",
            " 57 57 57 57 57 57 57 57 57 57 57 57 57 57 57 57 57 57 57 57 57 57 57 57\n",
            " 57 57 57 57 57 57 57 57 57 57 57 57 57 57 57 57 57 57 57 57 57 57 57 57\n",
            " 57 57 57 57 57 57 57 57]\n"
          ]
        },
        {
          "output_type": "stream",
          "name": "stderr",
          "text": [
            "Epoch2/100 [Val Pass]:  55%|█████▍    | 18/33 [00:31<00:23,  1.55s/it, loss=5.11]"
          ]
        },
        {
          "output_type": "stream",
          "name": "stdout",
          "text": [
            "Sample Predictions: [57 57 57 57 57 57 57 57 57 57 57 57 57 57 57 57 57 57 57 57 57 57 57 57\n",
            " 57 57 57 57 57 57 57 57 57 57 57 57 57 57 57 57 57 57 57 57 57 57 57 57\n",
            " 57 57 57 57 57 57 57 57 57 57 57 57 57 57 57 57 57 57 57 57 57 57 57 57\n",
            " 57 57 57 57 57 57 57 57 57 57 57 57 57 57 57 57 57 57 57 57 57 57 57 57\n",
            " 57 57 57 57 57 57 57 57 57 57 57 57 57 57 57 57 57 57 57 57 57 57 57 57\n",
            " 57 57 57 57 57 57 57 57]\n"
          ]
        },
        {
          "output_type": "stream",
          "name": "stderr",
          "text": [
            "Epoch2/100 [Val Pass]:  58%|█████▊    | 19/33 [00:33<00:23,  1.69s/it, loss=5.15]"
          ]
        },
        {
          "output_type": "stream",
          "name": "stdout",
          "text": [
            "Sample Predictions: [57 57 57 57 57 57 57 57 57 57 57 57 57 57 57 57 57 57 57 57 57 57 57 57\n",
            " 57 57 57 57 57 57 57 57 57 57 57 57 57 57 57 57 57 57 57 57 57 57 57 57\n",
            " 57 57 57 57 57 57 57 57 57 57 57 57 57 57 57 57 57 57 57 57 57 57 57 57\n",
            " 57 57 57 57 57 57 57 57 57 57 57 57 57 57 57 57 57 57 57 57 57 57 57 57\n",
            " 57 57 57 57 57 57 57 57 57 57 57 57 57 57 57 57 57 57 57 57 57 57 57 57\n",
            " 57 57 57 57 57 57 57 57]\n"
          ]
        },
        {
          "output_type": "stream",
          "name": "stderr",
          "text": [
            "Epoch2/100 [Val Pass]:  61%|██████    | 20/33 [00:36<00:25,  1.95s/it, loss=5]"
          ]
        },
        {
          "output_type": "stream",
          "name": "stdout",
          "text": [
            "Sample Predictions: [57 57 57 57 57 57 57 57 57 57 57 57 57 57 57 57 57 57 57 57 57 57 57 57\n",
            " 57 57 57 57 57 57 57 57 57 57 57 57 57 57 57 57 57 57 57 57 57 57 57 57\n",
            " 57 57 57 57 57 57 57 57 57 57 57 57 57 57 57 57 57 57 57 57 57 57 57 57\n",
            " 57 57 57 57 57 57 57 57 57 57 57 57 57 57 57 57 57 57 57 57 57 57 57 57\n",
            " 57 57 57 57 57 57 57 57 57 57 57 57 57 57 57 57 57 57 57 57 57 57 57 57\n",
            " 57 57 57 57 57 57 57 57]\n"
          ]
        },
        {
          "output_type": "stream",
          "name": "stderr",
          "text": [
            "Epoch2/100 [Val Pass]:  64%|██████▎   | 21/33 [00:37<00:21,  1.82s/it, loss=5.1]"
          ]
        },
        {
          "output_type": "stream",
          "name": "stdout",
          "text": [
            "Sample Predictions: [57 57 57 57 57 57 57 57 57 57 57 57 57 57 57 57 57 57 57 57 57 57 57 57\n",
            " 57 57 57 57 57 57 57 57 57 57 57 57 57 57 57 57 57 57 57 57 57 57 57 57\n",
            " 57 57 57 57 57 57 57 57 57 57 57 57 57 57 57 57 57 57 57 57 57 57 57 57\n",
            " 57 57 57 57 57 57 57 57 57 57 57 57 57 57 57 57 57 57 57 57 57 57 57 57\n",
            " 57 57 57 57 57 57 57 57 57 57 57 57 57 57 57 57 57 57 57 57 57 57 57 57\n",
            " 57 57 57 57 57 57 57 57]\n"
          ]
        },
        {
          "output_type": "stream",
          "name": "stderr",
          "text": [
            "Epoch2/100 [Val Pass]:  67%|██████▋   | 22/33 [00:39<00:19,  1.75s/it, loss=5.14]"
          ]
        },
        {
          "output_type": "stream",
          "name": "stdout",
          "text": [
            "Sample Predictions: [57 57 57 57 57 57 57 57 57 57 57 57 57 57 57 57 57 57 57 57 57 57 57 57\n",
            " 57 57 57 57 57 57 57 57 57 57 57 57 57 57 57 57 57 57 57 57 57 57 57 57\n",
            " 57 57 57 57 57 57 57 57 57 57 57 57 57 57 57 57 57 57 57 57 57 57 57 57\n",
            " 57 57 57 57 57 57 57 57 57 57 57 57 57 57 57 57 57 57 57 57 57 57 57 57\n",
            " 57 57 57 57 57 57 57 57 57 57 57 57 57 57 57 57 57 57 57 57 57 57 57 57\n",
            " 57 57 57 57 57 57 57 57]\n"
          ]
        },
        {
          "output_type": "stream",
          "name": "stderr",
          "text": [
            "Epoch2/100 [Val Pass]:  70%|██████▉   | 23/33 [00:40<00:16,  1.65s/it, loss=5.13]"
          ]
        },
        {
          "output_type": "stream",
          "name": "stdout",
          "text": [
            "Sample Predictions: [57 57 57 57 57 57 57 57 57 57 57 57 57 57 57 57 57 57 57 57 57 57 57 57\n",
            " 57 57 57 57 57 57 57 57 57 57 57 57 57 57 57 57 57 57 57 57 57 57 57 57\n",
            " 57 57 57 57 57 57 57 57 57 57 57 57 57 57 57 57 57 57 57 57 57 57 57 57\n",
            " 57 57 57 57 57 57 57 57 57 57 57 57 57 57 57 57 57 57 57 57 57 57 57 57\n",
            " 57 57 57 57 57 57 57 57 57 57 57 57 57 57 57 57 57 57 57 57 57 57 57 57\n",
            " 57 57 57 57 57 57 57 57]\n"
          ]
        },
        {
          "output_type": "stream",
          "name": "stderr",
          "text": [
            "Epoch2/100 [Val Pass]:  73%|███████▎  | 24/33 [00:42<00:14,  1.63s/it, loss=5.19]"
          ]
        },
        {
          "output_type": "stream",
          "name": "stdout",
          "text": [
            "Sample Predictions: [57 57 57 57 57 57 57 57 57 57 57 57 57 57 57 57 57 57 57 57 57 57 57 57\n",
            " 57 57 57 57 57 57 57 57 57 57 57 57 57 57 57 57 57 57 57 57 57 57 57 57\n",
            " 57 57 57 57 57 57 57 57 57 57 57 57 57 57 57 57 57 57 57 57 57 57 57 57\n",
            " 57 57 57 57 57 57 57 57 57 57 57 57 57 57 57 57 57 57 57 57 57 57 57 57\n",
            " 57 57 57 57 57 57 57 57 57 57 57 57 57 57 57 57 57 57 57 57 57 57 57 57\n",
            " 57 57 57 57 57 57 57 57]\n"
          ]
        },
        {
          "output_type": "stream",
          "name": "stderr",
          "text": [
            "Epoch2/100 [Val Pass]:  76%|███████▌  | 25/33 [00:43<00:12,  1.56s/it, loss=5.14]"
          ]
        },
        {
          "output_type": "stream",
          "name": "stdout",
          "text": [
            "Sample Predictions: [57 57 57 57 57 57 57 57 57 57 57 57 57 57 57 57 57 57 57 57 57 57 57 57\n",
            " 57 57 57 57 57 57 57 57 57 57 57 57 57 57 57 57 57 57 57 57 57 57 57 57\n",
            " 57 57 57 57 57 57 57 57 57 57 57 57 57 57 57 57 57 57 57 57 57 57 57 57\n",
            " 57 57 57 57 57 57 57 57 57 57 57 57 57 57 57 57 57 57 57 57 57 57 57 57\n",
            " 57 57 57 57 57 57 57 57 57 57 57 57 57 57 57 57 57 57 57 57 57 57 57 57\n",
            " 57 57 57 57 57 57 57 57]\n"
          ]
        },
        {
          "output_type": "stream",
          "name": "stderr",
          "text": [
            "Epoch2/100 [Val Pass]:  79%|███████▉  | 26/33 [00:45<00:10,  1.54s/it, loss=5.21]"
          ]
        },
        {
          "output_type": "stream",
          "name": "stdout",
          "text": [
            "Sample Predictions: [57 57 57 57 57 57 57 57 57 57 57 57 57 57 57 57 57 57 57 57 57 57 57 57\n",
            " 57 57 57 57 57 57 57 57 57 57 57 57 57 57 57 57 57 57 57 57 57 57 57 57\n",
            " 57 57 57 57 57 57 57 57 57 57 57 57 57 57 57 57 57 57 57 57 57 57 57 57\n",
            " 57 57 57 57 57 57 57 57 57 57 57 57 57 57 57 57 57 57 57 57 57 57 57 57\n",
            " 57 57 57 57 57 57 57 57 57 57 57 57 57 57 57 57 57 57 57 57 57 57 57 57\n",
            " 57 57 57 57 57 57 57 57]\n"
          ]
        },
        {
          "output_type": "stream",
          "name": "stderr",
          "text": [
            "Epoch2/100 [Val Pass]:  82%|████████▏ | 27/33 [00:46<00:09,  1.57s/it, loss=5]"
          ]
        },
        {
          "output_type": "stream",
          "name": "stdout",
          "text": [
            "Sample Predictions: [57 57 57 57 57 57 57 57 57 57 57 57 57 57 57 57 57 57 57 57 57 57 57 57\n",
            " 57 57 57 57 57 57 57 57 57 57 57 57 57 57 57 57 57 57 57 57 57 57 57 57\n",
            " 57 57 57 57 57 57 57 57 57 57 57 57 57 57 57 57 57 57 57 57 57 57 57 57\n",
            " 57 57 57 57 57 57 57 57 57 57 57 57 57 57 57 57 57 57 57 57 57 57 57 57\n",
            " 57 57 57 57 57 57 57 57 57 57 57 57 57 57 57 57 57 57 57 57 57 57 57 57\n",
            " 57 57 57 57 57 57 57 57]\n"
          ]
        },
        {
          "output_type": "stream",
          "name": "stderr",
          "text": [
            "Epoch2/100 [Val Pass]:  85%|████████▍ | 28/33 [00:49<00:09,  1.85s/it, loss=5.14]"
          ]
        },
        {
          "output_type": "stream",
          "name": "stdout",
          "text": [
            "Sample Predictions: [57 57 57 57 57 57 57 57 57 57 57 57 57 57 57 57 57 57 57 57 57 57 57 57\n",
            " 57 57 57 57 57 57 57 57 57 57 57 57 57 57 57 57 57 57 57 57 57 57 57 57\n",
            " 57 57 57 57 57 57 57 57 57 57 57 57 57 57 57 57 57 57 57 57 57 57 57 57\n",
            " 57 57 57 57 57 57 57 57 57 57 57 57 57 57 57 57 57 57 57 57 57 57 57 57\n",
            " 57 57 57 57 57 57 57 57 57 57 57 57 57 57 57 57 57 57 57 57 57 57 57 57\n",
            " 57 57 57 57 57 57 57 57]\n"
          ]
        },
        {
          "output_type": "stream",
          "name": "stderr",
          "text": [
            "Epoch2/100 [Val Pass]:  88%|████████▊ | 29/33 [00:51<00:07,  1.95s/it, loss=5.1]"
          ]
        },
        {
          "output_type": "stream",
          "name": "stdout",
          "text": [
            "Sample Predictions: [57 57 57 57 57 57 57 57 57 57 57 57 57 57 57 57 57 57 57 57 57 57 57 57\n",
            " 57 57 57 57 57 57 57 57 57 57 57 57 57 57 57 57 57 57 57 57 57 57 57 57\n",
            " 57 57 57 57 57 57 57 57 57 57 57 57 57 57 57 57 57 57 57 57 57 57 57 57\n",
            " 57 57 57 57 57 57 57 57 57 57 57 57 57 57 57 57 57 57 57 57 57 57 57 57\n",
            " 57 57 57 57 57 57 57 57 57 57 57 57 57 57 57 57 57 57 57 57 57 57 57 57\n",
            " 57 57 57 57 57 57 57 57]\n"
          ]
        },
        {
          "output_type": "stream",
          "name": "stderr",
          "text": [
            "Epoch2/100 [Val Pass]:  91%|█████████ | 30/33 [00:52<00:05,  1.76s/it, loss=5.2]"
          ]
        },
        {
          "output_type": "stream",
          "name": "stdout",
          "text": [
            "Sample Predictions: [57 57 57 57 57 57 57 57 57 57 57 57 57 57 57 57 57 57 57 57 57 57 57 57\n",
            " 57 57 57 57 57 57 57 57 57 57 57 57 57 57 57 57 57 57 57 57 57 57 57 57\n",
            " 57 57 57 57 57 57 57 57 57 57 57 57 57 57 57 57 57 57 57 57 57 57 57 57\n",
            " 57 57 57 57 57 57 57 57 57 57 57 57 57 57 57 57 57 57 57 57 57 57 57 57\n",
            " 57 57 57 57 57 57 57 57 57 57 57 57 57 57 57 57 57 57 57 57 57 57 57 57\n",
            " 57 57 57 57 57 57 57 57]\n"
          ]
        },
        {
          "output_type": "stream",
          "name": "stderr",
          "text": [
            "Epoch2/100 [Val Pass]:  94%|█████████▍| 31/33 [00:54<00:03,  1.71s/it, loss=5.09]"
          ]
        },
        {
          "output_type": "stream",
          "name": "stdout",
          "text": [
            "Sample Predictions: [57 57 57 57 57 57 57 57 57 57 57 57 57 57 57 57 57 57 57 57 57 57 57 57\n",
            " 57 57 57 57 57 57 57 57 57 57 57 57 57 57 57 57 57 57 57 57 57 57 57 57\n",
            " 57 57 57 57 57 57 57 57 57 57 57 57 57 57 57 57 57 57 57 57 57 57 57 57\n",
            " 57 57 57 57 57 57 57 57 57 57 57 57 57 57 57 57 57 57 57 57 57 57 57 57\n",
            " 57 57 57 57 57 57 57 57 57 57 57 57 57 57 57 57 57 57 57 57 57 57 57 57\n",
            " 57 57 57 57 57 57 57 57]\n"
          ]
        },
        {
          "output_type": "stream",
          "name": "stderr",
          "text": [
            "Epoch2/100 [Val Pass]: 100%|██████████| 33/33 [00:55<00:00,  1.68s/it, loss=5.27]\n"
          ]
        },
        {
          "output_type": "stream",
          "name": "stdout",
          "text": [
            "Sample Predictions: [57 57 57 57 57 57 57 57 57 57 57 57 57 57 57 57 57 57 57 57 57 57 57 57\n",
            " 57 57 57 57 57 57 57 57 57 57 57 57 57 57 57 57 57 57 57 57 57 57 57 57\n",
            " 57 57 57 57 57 57 57 57 57 57 57 57 57 57 57 57 57 57 57 57 57 57 57 57\n",
            " 57 57 57 57 57 57 57 57 57 57 57 57 57 57 57 57 57 57 57 57 57 57 57 57\n",
            " 57 57 57 57 57 57 57 57 57 57 57 57 57 57 57 57 57 57 57 57 57 57 57 57\n",
            " 57 57 57 57 57 57 57 57]\n",
            "Sample Predictions: [57 57 57 57 57 57 57 57 57 57 57 57 57 57 57 57 57 57 57 57]\n",
            "No improvement in Val Loss. Counter: 1/20\n",
            "Epoch 2/100:\n",
            "Train Loss: 4.781 | Train Acc: 0.89 %\n",
            "Val Loss: 5.134 | Val Acc: 0.68 %\n"
          ]
        },
        {
          "output_type": "stream",
          "name": "stderr",
          "text": [
            "Epoch 3/100 [Train Pass]:  89%|████████▉ | 68/76 [03:03<00:20,  2.60s/it, loss=4.8]Exception ignored in: <function _MultiProcessingDataLoaderIter.__del__ at 0x7ab21d910f40>\n",
            "Traceback (most recent call last):\n",
            "  File \"/usr/local/lib/python3.12/dist-packages/torch/utils/data/dataloader.py\", line 1664, in __del__\n",
            "    self._shutdown_workers()\n",
            "  File \"/usr/local/lib/python3.12/dist-packages/torch/utils/data/dataloader.py\", line 1647, in _shutdown_workers\n",
            "    if w.is_alive():\n",
            "       ^^^^^^^^^^^^\n",
            "  File \"/usr/lib/python3.12/multiprocessing/process.py\", line 160, in is_alive\n",
            "    assert self._parent_pid == os.getpid(), 'can only test a child process'\n",
            "           ^^^^^^^^^^^^^^^^^^^^^^^^^^^^^^^\n",
            "AssertionError: can only test a child process\n",
            "Exception ignored in: <function _MultiProcessingDataLoaderIter.__del__ at 0x7ab21d910f40>\n",
            "Traceback (most recent call last):\n",
            "  File \"/usr/local/lib/python3.12/dist-packages/torch/utils/data/dataloader.py\", line 1664, in __del__\n",
            "    self._shutdown_workers()\n",
            "  File \"/usr/local/lib/python3.12/dist-packages/torch/utils/data/dataloader.py\", line 1647, in _shutdown_workers\n",
            "    if w.is_alive():\n",
            "       ^^^^^^^^^^^^\n",
            "  File \"/usr/lib/python3.12/multiprocessing/process.py\", line 160, in is_alive\n",
            "    assert self._parent_pid == os.getpid(), 'can only test a child process'\n",
            "           ^^^^^^^^^^^^^^^^^^^^^^^^^^^^^^^\n",
            "AssertionError: can only test a child process\n",
            "Exception ignored in: <function _MultiProcessingDataLoaderIter.__del__ at 0x7ab21d910f40>\n",
            "Traceback (most recent call last):\n",
            "  File \"/usr/local/lib/python3.12/dist-packages/torch/utils/data/dataloader.py\", line 1664, in __del__\n",
            "    self._shutdown_workers()\n",
            "  File \"/usr/local/lib/python3.12/dist-packages/torch/utils/data/dataloader.py\", line 1647, in _shutdown_workers\n",
            "    if w.is_alive():\n",
            "       ^^^^^^^^^^^^\n",
            "  File \"/usr/lib/python3.12/multiprocessing/process.py\", line 160, in is_alive\n",
            "    assert self._parent_pid == os.getpid(), 'can only test a child process'\n",
            "Epoch 3/100 [Train Pass]:  91%|█████████ | 69/76 [03:08<00:22,  3.21s/it, loss=4.77]^\n",
            "AssertionError: can only test a child process\n",
            "Exception ignored in: <function _MultiProcessingDataLoaderIter.__del__ at 0x7ab21d910f40>\n",
            "Traceback (most recent call last):\n",
            "  File \"/usr/local/lib/python3.12/dist-packages/torch/utils/data/dataloader.py\", line 1664, in __del__\n",
            "    self._shutdown_workers()\n",
            "  File \"/usr/local/lib/python3.12/dist-packages/torch/utils/data/dataloader.py\", line 1647, in _shutdown_workers\n",
            "    if w.is_alive():\n",
            "       ^^^^^^^^^^^^\n",
            "  File \"/usr/lib/python3.12/multiprocessing/process.py\", line 160, in is_alive\n",
            "    assert self._parent_pid == os.getpid(), 'can only test a child process'\n",
            "           ^^^^^^^^^^^^^^^^^^^^^^^^^^^^^^^\n",
            "AssertionError: can only test a child process\n",
            "Epoch 3/100 [Train Pass]: 100%|██████████| 76/76 [03:21<00:00,  2.66s/it, loss=4.89]\n",
            "Epoch3/100 [Val Pass]:   6%|▌         | 2/33 [00:03<00:46,  1.51s/it, loss=4.88]"
          ]
        },
        {
          "output_type": "stream",
          "name": "stdout",
          "text": [
            "Sample Predictions: [57 55 57 57 57 57 57 55 55 57 57 46 57 55 57 46 57 57 57 57 57 57 57 57\n",
            " 57 57 57 57 57 57 57 57 46 57 55 57 57 55 55 57 57 57 72 57 36 57 57 55\n",
            " 55 57 57 57 57 55 57 55 57 55 57 57 55 55 57 55 57 57 57 46 57 57 57 57\n",
            " 57 57 57 55 57 57 46 57 57 72 57 57 55 57 57 55 57 57 55 57 57 55 57 55\n",
            " 57 57 57 46 46 57 46 46 57 57 46 55 57 46 57 57 57 46 55 57 57 57 57 57\n",
            " 57 55 57 57 57 55 55 57]\n",
            "Sample Predictions: [57 57 55 46 57 46 57 55 57 57 57 46 57 57 57 57 57 57 57 55 55 46 55 57\n",
            " 57 57 55 57 57 57 57 57 55 57 57 57 55 55 57 57 55 57 57 55 57 57 36 57\n",
            " 57 57 57 55 57 55 57 55 55 55 57 55 57 55 57 55 57 57 55 55 55 55 55 57\n",
            " 57 46 55 57 55 55 55 57 57 57 57 57 57 57 57 72 57 57 57 57 57 55 57 57\n",
            " 57 57 36 57 57 46 57 57 57 57 57 55 57 57 55 57 57 57 57 55 57 57 46 57\n",
            " 57 55 57 57 55 57 55 57]\n"
          ]
        },
        {
          "output_type": "stream",
          "name": "stderr",
          "text": [
            "Epoch3/100 [Val Pass]:  12%|█▏        | 4/33 [00:06<00:39,  1.37s/it, loss=4.85]"
          ]
        },
        {
          "output_type": "stream",
          "name": "stdout",
          "text": [
            "Sample Predictions: [57 57 36 57 55 57 57 55 57 55 57 36 57 57 57 57 55 55 46 57 57 55 55 55\n",
            " 57 57 57 57 57 55 57 57 57 57 55 57 57 57 57 57 55 57 57 57 57 57 57 57\n",
            " 57 55 55 57 57 57 57 55 57 57 57 57 57 57 55 57 55 57 55 57 46 57 57 57\n",
            " 55 55 57 55 55 55 57 57 55 57 57 57 57 57 57 57 57 55 46 46 55 57 57 57\n",
            " 57 57 57 55 57 57 57 57 57 55 57 55 57 46  9 57 57 57 57 57 55 55 57 55\n",
            " 55 57 57 57 57 55 57 57]\n",
            "Sample Predictions: [57 57 57 57 55 55 57 57 55 57 57 57 57 57 57 57 57 57 55 55 57 57 72 57\n",
            " 57 57 55 57 57 55 57 57 57 57 57 57 57 46 55 57 57 57 46 57 55 55 57 57\n",
            " 57 57 57 55 57 57 55 57 57 57 55  9 57 57 57 55 57 55 36 57 57 55 55 57\n",
            " 57 57 55 57 57 57 72 55 46 57 55 57 55 57 57 57 46 55 57 57 57 57 57 57\n",
            " 55 57 72 57 46 57 57 55 57 57 57 55 55 57 55 57 46 55 57 57 57 55 55 57\n",
            " 57 55 57 57 57 57 57 55]\n"
          ]
        },
        {
          "output_type": "stream",
          "name": "stderr",
          "text": [
            "Epoch3/100 [Val Pass]:  15%|█▌        | 5/33 [00:11<01:11,  2.54s/it, loss=4.83]"
          ]
        },
        {
          "output_type": "stream",
          "name": "stdout",
          "text": [
            "Sample Predictions: [57 57 55 55 55 55 46 57 57 57 57 57 57 57 55 57 55 57 57 57 55 55 55 57\n",
            " 57 55 55 57 55 57 36 46 57 55 55 57 57 55 46 57 57 55 57 46 57 46 57 57\n",
            " 55 57 57 55 46 46 57 55 55 57 57 72 57 57 55 57 46 57 57 57 55 57 57 57\n",
            " 57 57 57 57 57 55 55 57 57 55 55 55 55 55 57 55 57 57 57 57 57 55 46 57\n",
            " 57 57 57 57 57 55 57 57 57 57 57 55 57 55 57 55 55 57 57 57 55 72 55 57\n",
            " 72 72 57 57 57 55 55 57]\n"
          ]
        },
        {
          "output_type": "stream",
          "name": "stderr",
          "text": [
            "Epoch3/100 [Val Pass]:  18%|█▊        | 6/33 [00:11<00:47,  1.75s/it, loss=4.85]"
          ]
        },
        {
          "output_type": "stream",
          "name": "stdout",
          "text": [
            "Sample Predictions: [57 55 57 57 57 55 55 57 57 55 46 36 57 57 57 55 57 57 57 57 57 57 57 55\n",
            " 57 55 55 55 57 55 57 55 57 57 57 57 46 57 55 57 46 57 55 55 46 57 55 57\n",
            " 36 46 57 57 55 57 55 57 46 55 57 57 57 55 57 57 46 46 55 57 46 55 55 46\n",
            " 57 57 57 57 57 55 57 46 46 55 57 57 57 55 57 72 55 57 57 57 57 57 57 57\n",
            " 57 55 55 55 55 57 57 55 46 57 55 57 55 55 57 57 46 57 46 72 55 57 57 55\n",
            " 36 55 57 57 57 55 57 57]\n"
          ]
        },
        {
          "output_type": "stream",
          "name": "stderr",
          "text": [
            "Epoch3/100 [Val Pass]:  24%|██▍       | 8/33 [00:14<00:39,  1.58s/it, loss=4.86]"
          ]
        },
        {
          "output_type": "stream",
          "name": "stdout",
          "text": [
            "Sample Predictions: [57 57 57 46 57 57 57 55 36 57 55 57 57 57  9 57 57 57 55 46 57 57 57 57\n",
            " 57 46 55 57 57 57 55 55 57 55 57 57 57 57 57 57 55 57 55 57 72 57 57 55\n",
            " 57 57 57 57 57 55 55 57 55 57 55 55 57 57 57 57 57 57 57 57 57 57 57 57\n",
            " 46 55 57 57 36 55 57 57 57 55 57 55 55 57 57 57 55 55 72 57 55 57 57 55\n",
            " 57 57 55 57 55 57 55 57 55 57 57 57 57 57 57 57 55 55 57 57 55 57 57 57\n",
            " 57 55 57 57 57 57 57 46]\n",
            "Sample Predictions: [55 55 57 55 57 55 57 55 46 46 55 55 57 57 57 55 55 55 57 57 55 57 57 57\n",
            " 57 57 57 57 57 57 36 57 57 55 57 55 57 46 57 57 57 55 57 55 55 55 46 57\n",
            " 57 57 55 57 57 57 57 57 57 55 55 36 55 57 57 57 55 57 55 55 57 57 57 57\n",
            " 57 55 55 55 57 57 57 55 55 55 72 55 57 55 46 55 57 57 57 46 55 57 57 57\n",
            " 57 55 57 57 57 57 46 55 57 57 57 72 57 57 55 55 57 46 57 55 55 55 57 46\n",
            " 57 46 57 57 57 55 55 46]\n"
          ]
        },
        {
          "output_type": "stream",
          "name": "stderr",
          "text": [
            "Epoch3/100 [Val Pass]:  30%|███       | 10/33 [00:17<00:32,  1.43s/it, loss=4.9]"
          ]
        },
        {
          "output_type": "stream",
          "name": "stdout",
          "text": [
            "Sample Predictions: [55 57 57 57 57 57 57 57 55 57 57 57 57 57 57 55 57 57 55 57 57 55 57 57\n",
            " 57 55 57 55 46 57 57 57 46 57 57 57 57 57 57 46 55 57 57 46 57 57 46 55\n",
            " 57 57 57 57 57 55 57 57 57 55 36 57 55 57 57 57 55 57 57 57 57 55 57 57\n",
            " 55 55 55 57 46 57 46 55 57 57 57 55 57 57 57 55 55 57 55 57 55 57 57 55\n",
            " 46 57 57 57 55 57 55 57 55 57 57 57 55 55 55 57 46 57 46 57 46 57 46 55\n",
            " 55 57 55 57 57 55 57 57]\n",
            "Sample Predictions: [55 57 55 55 55 57 57 57 57 57 57 57 57 57 57 57 57 55 55 55 57 46 57 57\n",
            " 57 36 57 55 55 57 55 57 57 55 57 57 57 57 57 57 57 55 57 55 55 46 57 57\n",
            " 57 55 57 55 57 57 57 57 57 55 55 55 57 36 46 57 46 57 57 57 57 57 57 57\n",
            " 55 36 55 55 57 57 55 55 46 57 55 57 57 55 57 55 57 55 57 55 57 57 55 55\n",
            " 57 46 55 55 46 55 57 57 57 55 57 57 55 36 57 57 57 57 57 55 57 55 57 57\n",
            " 57 57 57 57 57 57 57 55]\n"
          ]
        },
        {
          "output_type": "stream",
          "name": "stderr",
          "text": [
            "Epoch3/100 [Val Pass]:  36%|███▋      | 12/33 [00:20<00:28,  1.33s/it, loss=4.95]"
          ]
        },
        {
          "output_type": "stream",
          "name": "stdout",
          "text": [
            "Sample Predictions: [57 57 57 57 57 36 55 57 57 57 55 57 46 55 57 57 57 55 57 57 57 57 57 57\n",
            " 55 57 55 57 46 57 57 57 55 57 55 57 46 57 57 57 55 57 57 57 36 57 55 55\n",
            " 55 57 55 57 55 57 57 46 57 57 57 57 57 57 57 57 57 57 57 55 57 57 57 57\n",
            " 46 55 55 55 57 55 57 57 57 57 57 57 57 57 57 55 57  9 57 57 57 57 55 57\n",
            " 55 55 46 57 57 57 57 36 57 57 57 46 55 55 55 72 57 57 46 57 72 57 57 57\n",
            " 55 55 57 55 57 57 57 57]\n",
            "Sample Predictions: [57 57 57 55 57 55 55 55 57 55 57 72 55 57 57 57 57 57 57 57 55 57 57 55\n",
            " 55 57 55 57 57 57 36 57 57 55 55 57 57 57 57 46 57 57 57 55 57 55 46 57\n",
            " 57 57 55 57 57 55 57 57 57 57 57 57 57 57 55 57 55 55 57 55 55 55 57 57\n",
            " 57 57 55 57 55 55 57 55 57 57 55 55 57 57 46 57 55 55 57 57 57 57 57 57\n",
            " 57 57 57 57 55 57 57 57 57 57 57 57 55 57 55 57 55 57 57 57 57 57 57 46\n",
            " 57 57 55 57 57 57 55 57]\n"
          ]
        },
        {
          "output_type": "stream",
          "name": "stderr",
          "text": [
            "Epoch3/100 [Val Pass]:  39%|███▉      | 13/33 [00:24<00:38,  1.94s/it, loss=4.83]"
          ]
        },
        {
          "output_type": "stream",
          "name": "stdout",
          "text": [
            "Sample Predictions: [55 46 57 55 57 36 57 57 57 57 55 57 55 57 57 57 57 55 57 57 57 57 57 57\n",
            " 55 57 55 57 57 57 57 46 57 57 36 46 55 57 36 57 55 57 55 57 36 57 46 57\n",
            " 55 57 57 57 57 57 55 57 57 57 57 55 57 36 57 55 46 55 57 57 57 55 57 55\n",
            " 55 57 57 57 57 57 55 57 57 57 57 57 55 57 36 55 55 57 57 57 55 57 57 57\n",
            " 55 55 57 55 57 57 55 57 57 46 57 57 46 57 46 46 55 55 57 57 57 57 57 46\n",
            " 55 57 55 57 57 57 57 55]\n"
          ]
        },
        {
          "output_type": "stream",
          "name": "stderr",
          "text": [
            "Epoch3/100 [Val Pass]:  42%|████▏     | 14/33 [00:25<00:31,  1.64s/it, loss=4.88]"
          ]
        },
        {
          "output_type": "stream",
          "name": "stdout",
          "text": [
            "Sample Predictions: [57 55 57 57 55 57 55 55 57 57 57 55 57 57 57 57 57 57 55 57 72 57 36 57\n",
            " 55 55 57 57 57 57 46 55 57 57 46 55 57 55 57 57 57 57 55 57 72 57 57 55\n",
            " 57 55 57 57 57 57 57 55 55 36 55 57 57 57 57 57 57 57 57 57 57 55 55 57\n",
            " 55 55 57 57 57 57 57 57 55 55 55 57 57 57 55  9 57 57 46 55 57 55 57 46\n",
            " 57 57 57 57 36 57 57 57 57 55 55 55 46 57 55 55 55 46 46 57 57 57 55 57\n",
            " 55 57 57 55 55 55 57 55]\n"
          ]
        },
        {
          "output_type": "stream",
          "name": "stderr",
          "text": [
            "Epoch3/100 [Val Pass]:  45%|████▌     | 15/33 [00:28<00:41,  2.28s/it, loss=4.91]"
          ]
        },
        {
          "output_type": "stream",
          "name": "stdout",
          "text": [
            "Sample Predictions: [57 46 57 57 55 55 57 57 57 36 57 57 57 55 57 57 57 57 57 55 55 57 57 57\n",
            " 57 57 57 57 55 57 55 57 46 57 57 57 55 55 55 57 57 55 55 57 57 57 55 55\n",
            " 57 57 55 57 55 57 57 57 55 57 57 46 46 57 57 57 57 57 57 57 55 57 57 55\n",
            " 46 55 57 57 57 46 46 55 55 46 57 57 57 57 46 36 55 55 57 57 57 55 57 57\n",
            " 57 57 55 55 57 57 55 57 57 57 57 57 57 57 55 36 57 57 57 55 57 57 57 55\n",
            " 55 57 57 57 46 57 57 55]\n"
          ]
        },
        {
          "output_type": "stream",
          "name": "stderr",
          "text": [
            "Epoch3/100 [Val Pass]:  48%|████▊     | 16/33 [00:29<00:28,  1.67s/it, loss=4.86]"
          ]
        },
        {
          "output_type": "stream",
          "name": "stdout",
          "text": [
            "Sample Predictions: [55 55 55 57 55 46 46 55 57 57 57 55 46 57 57 55 57 57 55 55 57 57 57 55\n",
            " 55 57 57 57 57 55 55 57 55 57 57 57 55 57 57 55 57 57 57 57 55 55 57 57\n",
            " 57 55 55 57 57 55 57 55 57 57 46 57 57 57 57 57 57 57 57 46 55 55 57 57\n",
            " 57 55 57 57 57 55 72 57 57 57 57 55 57 57 57 55 57 57 57 55 55 57 57 57\n",
            " 57 57 57 57 57 57 46 46 57 57 57 57 57 46 57  9 55 57 57 57 55 57 57 57\n",
            " 55 55 57 57 55 55 57 57]\n"
          ]
        },
        {
          "output_type": "stream",
          "name": "stderr",
          "text": [
            "Epoch3/100 [Val Pass]:  55%|█████▍    | 18/33 [00:32<00:22,  1.47s/it, loss=4.85]"
          ]
        },
        {
          "output_type": "stream",
          "name": "stdout",
          "text": [
            "Sample Predictions: [57 57 57 57 57 57 57 55 57 57 57 55 55 57 55 57 57 55 55 57 46 57 46 55\n",
            " 57 57 57 57 57 57 57 57 55 57 57 57 55 55 55 57 57 57 46 57 55 55 57 55\n",
            " 57 57 55 57 55 57 57 57 55 55 55 57 57 57 57 55 57 57 57 57 57 55 57 55\n",
            " 57 46 55 57 55 57 57 46 46 57 57 57 57 55 46 57 57 57 36 57 55 57 57 36\n",
            " 57 55 57 57 55 57 57 57 57 55 57 55 55 55 46 57 57 57 57 57 57 57 57 55\n",
            " 55 55 57 57 57 57 46 57]\n",
            "Sample Predictions: [46 55 57 57 55 57 72 55 57 57 57 57 57 57 55 57 57 57 57 57 55 57 55 57\n",
            " 57 57 55 57 57 57 46 55 57 57 55 57 57 55 55 57 55 57 57 57 57 57 55 57\n",
            " 46 57 55 57 55 57 55 46 72 57 57 55 57 57 46 57 57 55 57 46 57 57 57 57\n",
            " 57 55 57 55 57 55 57 57 57 57 55 55 46 57 55 57 57 57 57 55 36 57 55 57\n",
            " 55 57 36 57 55 55 57 57 57 57 57 57 46 57 55 57 57 57 57 57 57 57 46 55\n",
            " 57 57 57 46 57 57 46  9]\n"
          ]
        },
        {
          "output_type": "stream",
          "name": "stderr",
          "text": [
            "Epoch3/100 [Val Pass]:  58%|█████▊    | 19/33 [00:35<00:26,  1.89s/it, loss=4.79]"
          ]
        },
        {
          "output_type": "stream",
          "name": "stdout",
          "text": [
            "Sample Predictions: [57 55 57 57 55 55 57 57 57 57 57 57 57 57 57 57 57 57 57 55 36 57 57 55\n",
            " 57 57 57 46 55 57 57 55 46 57 57 55 57 57 55 57 57 46 57 57 36 57 57 57\n",
            " 57 57 57 55 57 57 57 57 57 57 55 57 55 55 57 57 55 55 57 55 55 57 57 55\n",
            " 57 57 57 57 57 57 55 57 57 55 57 57 46 55 57 55 57 57 55 57 57 57 57 57\n",
            " 57 57 57 57 55 57 57 55 57 57 57 57 57 55 57 57 57 57 55 57 57 57 57 72\n",
            " 57 57 55 55 55 57 46 57]\n",
            "Sample Predictions: [55 57 55 57 57 46 57 57 57 55 57 72 57 57 57 57 57 57 57 57 57 57 55  9\n",
            " 55 57 57 57 55 57 57 57 57 57 55 57 55 55 57 57 57 57 55 46 57 55 57 55\n",
            " 57 57 57 57 57 57 57 57 55 57 57 36 55 57 57 55 55 57 46 57 57 57 57 55\n",
            " 57 55 57 55 46 57 57 57 55 57 57 55 57 55 55 57 55 57 57 55 55 55 57 57\n",
            " 57 55 55 57 57 57 55 57 55 55 57 55 55 55 55 57 57 57 57 57 57 57 57 57\n",
            " 57 57 57 57 55 57 57 55]\n"
          ]
        },
        {
          "output_type": "stream",
          "name": "stderr",
          "text": [
            "Epoch3/100 [Val Pass]:  67%|██████▋   | 22/33 [00:38<00:15,  1.40s/it, loss=4.89]"
          ]
        },
        {
          "output_type": "stream",
          "name": "stdout",
          "text": [
            "Sample Predictions: [57 55 57 57 55 55 57 55 55 57 57 46 55 55 57 57 55 57 57 57 55 57 55 55\n",
            " 57 55 55 55 57 57 55 72 55 57 57 57 55 57 55 57 46 46 57 57 46 55 55 46\n",
            " 57 57 46 57 57  9 57 55 57 57 57 55 57 57 55 57 57 57 55 46 55 57 55 55\n",
            " 57 57 55 55 57 57 55 55 57 57 57 57 55 57 57 46 57 57 57 57 55 46 57 55\n",
            " 46 57 57 57 57 46 55 57 57 57 57 57 57 55 57 55 55 57 57 57 57 55 57 57\n",
            " 57 55 57 55 55 55 57 55]\n",
            "Sample Predictions: [57 57 55 57 57 55 57 57 55 55 46 57 57 46 57 57 57 57 57 46 46 57 55 57\n",
            " 57 55 57 57 57 55 57 57 55 57 57 57 57 57 55 57 55 55 57 55 57 55 46 46\n",
            " 55 57 57 46 55 46 57 55 36 57 57 57 57 55 57 55 46 57 55 57 57 57 57 57\n",
            " 57 57 57 55 57 57 57 57 57 57 57 57 55 57 46 57 57 57 55 57 55 57 57 57\n",
            " 57 55 57 57 57 57 57 55 57 57 57 57 57 57 46 57 57 55 57 57 55 57 57 57\n",
            " 57 57 57 55 46 46 57 57]\n"
          ]
        },
        {
          "output_type": "stream",
          "name": "stderr",
          "text": [
            "Epoch3/100 [Val Pass]:  70%|██████▉   | 23/33 [00:43<00:23,  2.38s/it, loss=4.92]"
          ]
        },
        {
          "output_type": "stream",
          "name": "stdout",
          "text": [
            "Sample Predictions: [57 55 57 57 57 57 55 57 57 57 57 57 57 57 55 55 55  9 57 57 57 57 57 57\n",
            " 57 72 55 57 55 55 57 57 57 55 57 57 46 57 57 57 55 55 57 55 57 72 55 57\n",
            " 57 55 55 46 57 55 55 57 57 55 57 55 55 57 55 55 57 57 55 57 57 57 55 55\n",
            " 57 57 57 57 57 57 55 55 57 55 55 55 57 55 57 57 57 57 57 57 57 57 57 57\n",
            " 57 57 55 57 57 57 46 57 57 36 57 55 57 57 55 57 57 46 72 57 57 57 57 55\n",
            " 57 46 57 57 57 57 57 55]\n",
            "Sample Predictions: [55 55 57 55 55 55 57 57 57 55 55 55 46 46 57 55 36 55 57 57 57 57 57 57\n",
            " 57 55 57 57 55 57 57 57 55 57 55 57 57 46 57 46 57 55 57 55 72 57 57 57\n",
            " 55 55 46 57 57 57 55 55 57 57 57 57 55 55 57 57 57 46 57 55 55 57 57 57\n",
            " 57 57 57 57 57 57 55 46 57 57 57 55 57 55 46 55 55 72 46 57 57 57 57 57\n",
            " 57 55 55 57 57 55 57 57 57 55 55 55 55 36 57 57 57 57 46 57 55 57 57 57\n",
            " 57 57 55 57 57 57 57 72]\n"
          ]
        },
        {
          "output_type": "stream",
          "name": "stderr",
          "text": [
            "Epoch3/100 [Val Pass]:  76%|███████▌  | 25/33 [00:46<00:17,  2.19s/it, loss=4.88]"
          ]
        },
        {
          "output_type": "stream",
          "name": "stdout",
          "text": [
            "Sample Predictions: [57 57 57 57 55 55 55 46 55 46 57 55 57 57 55 57 55 46 57 57 57 57 57 57\n",
            " 55 57 57 57 46 57 46 55 57 57 46 55 57 57 57 55 46 57 57 57 57 57 57 55\n",
            " 57 57 55 57 57 57 57 57 46 57 57 57 55 57 57 57 57 55 57 55 55 55 57 55\n",
            " 57 57 57 57 55 55 72 57 46 57 57 57 57 55 57 55 57 57 55 57 46 55 55 55\n",
            " 57 57 55 57 55 57 55 57 57 57 46 55 57 55 57 57 57 57 55 57 55 57 57 55\n",
            " 57 57 57 55 57 55 55 55]\n",
            "Sample Predictions: [55 57 57 57 57 57 72 55 55 55 55 57 57 55 57 57 36 57 55 57 57 57 55 55\n",
            " 57 46 55 57 57 57 57 55 57 57 57 55 57 55 57 57 55 57 55 57 57 57 55 57\n",
            " 57 72 57 57 57 55 46 57 55 46 55 46 55 46 57 46 57 57 57 57 57 55 57 57\n",
            " 57 57 57 55  9 57 57 57 57 55 57 57 57 55 57 57 57 55 57 55 55 57 46 55\n",
            " 57 46 57 46 57 57 55 55 57 57 57 57 55 55 46 57 55 57 55 55 57 55 55 57\n",
            " 46 55 57 57 55 57 55 46]\n"
          ]
        },
        {
          "output_type": "stream",
          "name": "stderr",
          "text": [
            "Epoch3/100 [Val Pass]:  85%|████████▍ | 28/33 [00:50<00:07,  1.44s/it, loss=4.85]"
          ]
        },
        {
          "output_type": "stream",
          "name": "stdout",
          "text": [
            "Sample Predictions: [55 57 57 57 57 57 57 46 57 57 57 57 57 57 46 57 57 57 57 57 57 57 57 57\n",
            " 57 57 57 57 57 57 57 57 57 57 46 57 57 57 55 55 55 57 55 57 57 55 36 57\n",
            " 57 57 46 55 55 57 57 57 57 57 57 57 55 55 55 57 57 57 46 57 57 55 57 55\n",
            " 55 57 36 57 57 55 57 57 55 57 57 55 57 55 57 55 57 57 57 72 57 57 55 57\n",
            " 55 57  9 55 57 57 57 57 57 57 57 57 57 57 57 57 55 57 55 57 57 57 55 57\n",
            " 57 57 57 57 55 57 57 55]\n",
            "Sample Predictions: [57 57 57 57 57 55 55 57 57 57 57 46 57 57 57 55 57 57 55 57 36 57 57 55\n",
            " 57 57 55 55 57 57 57 55 46 55 57 72 57 55 57 55 57 55 55 46 57 46 57 57\n",
            " 57 57 57 46 57 57 57 55 55 57 57 57 55 57 55 46 57 55 55 55 57 55 36 55\n",
            " 55 57 46 57 55 55 46 57 57 57 55 57 57 72 57 57 57 55 57 55 55 46 55 57\n",
            " 57 57 55 57 55 55 57 57 57 57 55 55 46 57 57 55 55 57 57 57 55 55 55 55\n",
            " 57 55 57 57 57 46 55 57]\n"
          ]
        },
        {
          "output_type": "stream",
          "name": "stderr",
          "text": [
            "Epoch3/100 [Val Pass]:  91%|█████████ | 30/33 [00:52<00:03,  1.31s/it, loss=4.89]"
          ]
        },
        {
          "output_type": "stream",
          "name": "stdout",
          "text": [
            "Sample Predictions: [57 57 55 57 57 55 57 57 57 57 55 57 57 72 57 57 46 57 57 57 55 55 55 57\n",
            " 55 55 57 57 55 57 55 57 57 57 57 57 57 55 57 55 57 57 57 36 46 57 57 57\n",
            " 57 55 57 57 57 57 57 55 55 57 57 55 57 55 57 55 57 46 57 57 55 57 57 55\n",
            " 57 57 57 46 57 57 57 57 57 57 57 55 55 57 55 55 57 55 57 55 57 57 55 57\n",
            " 57 46 55 57 57 57 57 55 57 57 57 57 57 57 57 57 55 57 46 57 55 55 46 55\n",
            " 57 57 57 57 55 55 57 57]\n",
            "Sample Predictions: [72 57 57 55 55 57 55 57 57 57 57 57 72 57 57 46 57 57 55 55 57 46 57 57\n",
            " 57 57 46 57 55 55 57 57 55 57 55 57 57 57 57 57 57 55 57 57 57 57 57 55\n",
            " 55 55 57 57 55 57 55 55 55 46 46 57 55 57 57 57 57 57 57 57 57 57 57 55\n",
            " 57 55 55 57 57 55 57 57 57 57 55 57 55 57 57 72 57 57 57 57 57 57 57 57\n",
            " 57 57 57 57 57 57 57 57 57 57 55 55 55 57 57 57 57 55 57 57 57 55 57 57\n",
            " 55 57 57 55 57 57 57 57]\n"
          ]
        },
        {
          "output_type": "stream",
          "name": "stderr",
          "text": [
            "Epoch3/100 [Val Pass]:  97%|█████████▋| 32/33 [00:56<00:01,  1.43s/it, loss=4.87]"
          ]
        },
        {
          "output_type": "stream",
          "name": "stdout",
          "text": [
            "Sample Predictions: [57 57 55 55 57 55 57 55 57 57 55 55 57 57 57 55 57 55 57 55 55 46 57 55\n",
            " 46 57 57 57 55 57 57 55 57 57 46 57 46 57 57 57 57 57 57 57 57 57 57 55\n",
            " 55 57 46 57 46 46 57 57 55 57 57 55 55 57 57 55 57 55 57 57 55 57 57 57\n",
            " 55 57 57 46 46 57 57 55 57 55 46 55 36 57 57 55 57 57 57 55 55 57 57 57\n",
            " 57 55 57 57 55 55 46 57 55 55 55 57 57 57 55 55 57 55 55 57 55 55 57 57\n",
            " 55 55 46 57 57 57 57 55]\n",
            "Sample Predictions: [57 57 55 57 57 57 57 57 55 57 57 57 57 57 57 57 57 57 57 57 46 55 36 57\n",
            " 57 55 57 57 57 57 57 57 55 55 55 55 57 36 57 57 55 57 57 55 57 46 55 55\n",
            " 55 57 57 36 57 55 57 57 57 55 57 57 57 57 57 57 57 46 55 55 36 57 57 57\n",
            " 57 55 57 55 57 55 57 57 57 55 57 57 57 57 57 55 57 57 57 57 55 57 55 57\n",
            " 57 57 57 57 57 55 57 57 46 57 57 57 57 57 55 57 46 55 57 57 57 55 57 57\n",
            " 55 55 55 57 57 55 57 55]\n"
          ]
        },
        {
          "output_type": "stream",
          "name": "stderr",
          "text": [
            "Epoch3/100 [Val Pass]: 100%|██████████| 33/33 [00:56<00:00,  1.71s/it, loss=4.94]\n"
          ]
        },
        {
          "output_type": "stream",
          "name": "stdout",
          "text": [
            "Sample Predictions: [57 57 57 57 57 57 57 57 55 55 57 55 57 57 55 57 57 57 46 55]\n",
            "Validation Loss improved -> model saved to ../content/drive/MyDrive/NeuroVision/models/resnet-18_v1_best.pth\n",
            "Epoch 3/100:\n",
            "Train Loss: 4.777 | Train Acc: 1.11 %\n",
            "Val Loss: 4.869 | Val Acc: 0.63 %\n"
          ]
        },
        {
          "output_type": "stream",
          "name": "stderr",
          "text": [
            "Epoch 4/100 [Train Pass]: 100%|██████████| 76/76 [03:19<00:00,  2.63s/it, loss=4.82]\n",
            "Epoch4/100 [Val Pass]:   6%|▌         | 2/33 [00:04<01:00,  1.96s/it, loss=4.91]"
          ]
        },
        {
          "output_type": "stream",
          "name": "stdout",
          "text": [
            "Sample Predictions: [17 17 17 17 17 17 17 17 17 17 17 17 17 17 17 17 17 17 17 17 17 17 17 17\n",
            " 17 17 17 17 17 17 17 17 17 17 17 17 17 17 17 17 17 17 17 17 17 17 17 17\n",
            " 17 17 17 17 17 17 17 17 17 17 17 17 17 17 17 17 17 17 17 17 17 17 17 17\n",
            " 17 17 17 17 17 17 17 17 17 17 17 17 17 17 17 17 17 17 17 17 17 17 17 17\n",
            " 17 17 17 17 17 17 17 17 17 17 17 17 17 17 17 17 17 17 17 17 17 17 17 17\n",
            " 17 17 17 17 17 17 17 17]\n",
            "Sample Predictions: [17 17 17 17 17 17 17 17 17 17 17 17 17 17 17 17 17 17 17 17 17 17 17 17\n",
            " 17 17 17 17 17 17 17 17 17 17 17 17 17 17 17 17 17 17 17 17 17 17 17 17\n",
            " 17 17 17 17 17 17 17 17 17 17 17 17 17 17 17 17 17 17 17 17 17 17 17 17\n",
            " 17 17 17 17 17 17 17 17 17 17 17 17 17 17 17 17 17 17 17 17 17 17 17 17\n",
            " 17 17 17 17 17 17 17 17 17 17 17 17 17 17 17 17 17 17 17 17 17 17 17 17\n",
            " 17 17 17 17 17 17 17 17]\n"
          ]
        },
        {
          "output_type": "stream",
          "name": "stderr",
          "text": [
            "Epoch4/100 [Val Pass]:   9%|▉         | 3/33 [00:07<01:10,  2.34s/it, loss=4.93]"
          ]
        },
        {
          "output_type": "stream",
          "name": "stdout",
          "text": [
            "Sample Predictions: [17 17 17 17 17 17 17 17 17 17 17 17 17 17 17 17 17 17 17 17 17 17 17 17\n",
            " 17 17 17 17 17 17 17 17 17 17 17 17 17 17 17 17 17 17 17 17 17 17 17 17\n",
            " 17 17 17 17 17 17 17 17 17 17 17 17 17 17 17 17 17 17 17 17 17 17 17 17\n",
            " 17 17 17 17 17 17 17 17 17 17 17 17 17 17 17 17 17 17 17 17 17 17 17 17\n",
            " 17 17 17 17 17 17 17 17 17 17 17 17 17 17 17 17 17 17 17 17 17 17 17 17\n",
            " 17 17 17 17 17 17 17 17]\n"
          ]
        },
        {
          "output_type": "stream",
          "name": "stderr",
          "text": [
            "Epoch4/100 [Val Pass]:  12%|█▏        | 4/33 [00:07<00:44,  1.52s/it, loss=4.89]"
          ]
        },
        {
          "output_type": "stream",
          "name": "stdout",
          "text": [
            "Sample Predictions: [17 17 17 17 17 17 17 17 17 17 17 17 17 17 17 17 17 17 17 17 17 17 17 17\n",
            " 17 17 17 17 17 17 17 17 17 17 17 17 17 17 17 17 17 17 17 17 17 17 17 17\n",
            " 17 17 17 17 17 17 17 17 17 17 17 17 17 17 17 17 17 17 17 17 17 17 17 17\n",
            " 17 17 17 17 17 17 17 17 17 17 17 17 17 17 17 17 17 17 17 17 17 17 17 17\n",
            " 17 17 17 17 17 17 17 17 17 17 17 17 17 17 17 17 17 17 17 17 17 17 17 17\n",
            " 17 17 17 17 17 17 17 17]\n"
          ]
        },
        {
          "output_type": "stream",
          "name": "stderr",
          "text": [
            "Epoch4/100 [Val Pass]:  18%|█▊        | 6/33 [00:10<00:38,  1.41s/it, loss=4.89]"
          ]
        },
        {
          "output_type": "stream",
          "name": "stdout",
          "text": [
            "Sample Predictions: [17 17 17 17 17 17 17 17 17 17 17 17 17 17 17 17 17 17 17 17 17 17 17 17\n",
            " 17 17 17 17 17 17 17 17 17 17 17 17 17 17 17 17 17 17 17 17 17 17 17 17\n",
            " 17 17 17 17 17 17 17 17 17 17 17 17 17 17 17 17 17 17 17 17 17 17 17 17\n",
            " 17 17 17 17 17 17 17 17 17 17 17 17 17 17 17 17 17 17 17 17 17 17 17 17\n",
            " 17 17 17 17 17 17 17 17 17 17 17 17 17 17 17 17 17 17 17 17 17 17 17 17\n",
            " 17 17 17 17 17 17 17 17]\n",
            "Sample Predictions: [17 17 17 17 17 17 17 17 17 17 17 17 17 17 17 17 17 17 17 17 17 17 17 17\n",
            " 17 17 17 17 17 17 17 17 17 17 17 17 17 17 17 17 17 17 17 17 17 17 17 17\n",
            " 17 17 17 17 17 17 17 17 17 17 17 17 17 17 17 17 17 17 17 17 17 17 17 17\n",
            " 17 17 17 17 17 17 17 17 17 17 17 17 17 17 17 17 17 17 17 17 17 17 17 17\n",
            " 17 17 17 17 17 17 17 17 17 17 17 17 17 17 17 17 17 17 17 17 17 17 17 17\n",
            " 17 17 17 17 17 17 17 17]\n"
          ]
        },
        {
          "output_type": "stream",
          "name": "stderr",
          "text": [
            "Epoch4/100 [Val Pass]:  21%|██        | 7/33 [00:13<00:50,  1.95s/it, loss=4.92]"
          ]
        },
        {
          "output_type": "stream",
          "name": "stdout",
          "text": [
            "Sample Predictions: [17 17 17 17 17 17 17 17 17 17 17 17 17 17 17 17 17 17 17 17 17 17 17 17\n",
            " 17 17 17 17 17 17 17 17 17 17 17 17 17 17 17 17 17 17 17 17 17 17 17 17\n",
            " 17 17 17 17 17 17 17 17 17 17 17 17 17 17 17 17 17 17 17 17 17 17 17 17\n",
            " 17 17 17 17 17 17 17 17 17 17 17 17 17 17 17 17 17 17 17 17 17 17 17 17\n",
            " 17 17 17 17 17 17 17 17 17 17 17 17 17 17 17 17 17 17 17 17 17 17 17 17\n",
            " 17 17 17 17 17 17 17 17]\n"
          ]
        },
        {
          "output_type": "stream",
          "name": "stderr",
          "text": [
            "Epoch4/100 [Val Pass]:  24%|██▍       | 8/33 [00:14<00:34,  1.40s/it, loss=4.9]"
          ]
        },
        {
          "output_type": "stream",
          "name": "stdout",
          "text": [
            "Sample Predictions: [17 17 17 17 17 17 17 17 17 17 17 17 17 17 17 17 17 17 17 17 17 17 17 17\n",
            " 17 17 17 17 17 17 17 17 17 17 17 17 17 17 17 17 17 17 17 17 17 17 17 17\n",
            " 17 17 17 17 17 17 17 17 17 17 17 17 17 17 17 17 17 17 17 17 17 17 17 17\n",
            " 17 17 17 17 17 17 17 17 17 17 17 17 17 17 17 17 17 17 17 17 17 17 17 17\n",
            " 17 17 17 17 17 17 17 17 17 17 17 17 17 17 17 17 17 17 17 17 17 17 17 17\n",
            " 17 17 17 17 17 17 17 17]\n"
          ]
        },
        {
          "output_type": "stream",
          "name": "stderr",
          "text": [
            "Epoch4/100 [Val Pass]:  27%|██▋       | 9/33 [00:18<00:53,  2.25s/it, loss=4.84]"
          ]
        },
        {
          "output_type": "stream",
          "name": "stdout",
          "text": [
            "Sample Predictions: [17 17 17 17 17 17 17 17 17 17 17 17 17 17 17 17 17 17 17 17 17 17 17 17\n",
            " 17 17 17 17 17 17 17 17 17 17 17 17 17 17 17 17 17 17 17 17 17 17 17 17\n",
            " 17 17 17 17 17 17 17 17 17 17 17 17 17 17 17 17 17 17 17 17 17 17 17 17\n",
            " 17 17 17 17 17 17 17 17 17 17 17 17 17 17 17 17 17 17 17 17 17 17 17 17\n",
            " 17 17 17 17 17 17 17 17 17 17 17 17 17 17 17 17 17 17 17 17 17 17 17 17\n",
            " 17 17 17 17 17 17 17 17]\n"
          ]
        },
        {
          "output_type": "stream",
          "name": "stderr",
          "text": [
            "Epoch4/100 [Val Pass]:  30%|███       | 10/33 [00:18<00:38,  1.66s/it, loss=4.94]"
          ]
        },
        {
          "output_type": "stream",
          "name": "stdout",
          "text": [
            "Sample Predictions: [17 17 17 17 17 17 17 17 17 17 17 17 17 17 17 17 17 17 17 17 17 17 17 17\n",
            " 17 17 17 17 17 17 17 17 17 17 17 17 17 17 17 17 17 17 17 17 17 17 17 17\n",
            " 17 17 17 17 17 17 17 17 17 17 17 17 17 17 17 17 17 17 17 17 17 17 17 17\n",
            " 17 17 17 17 17 17 17 17 17 17 17 17 17 17 17 17 17 17 17 17 17 17 17 17\n",
            " 17 17 17 17 17 17 17 17 17 17 17 17 17 17 17 17 17 17 17 17 17 17 17 17\n",
            " 17 17 17 17 17 17 17 17]\n"
          ]
        },
        {
          "output_type": "stream",
          "name": "stderr",
          "text": [
            "Epoch4/100 [Val Pass]:  33%|███▎      | 11/33 [00:21<00:43,  1.99s/it, loss=4.88]"
          ]
        },
        {
          "output_type": "stream",
          "name": "stdout",
          "text": [
            "Sample Predictions: [17 17 17 17 17 17 17 17 17 17 17 17 17 17 17 17 17 17 17 17 17 17 17 17\n",
            " 17 17 17 17 17 17 17 17 17 17 17 17 17 17 17 17 17 17 17 17 17 17 17 17\n",
            " 17 17 17 17 17 17 17 17 17 17 17 17 17 17 17 17 17 17 17 17 17 17 17 17\n",
            " 17 17 17 17 17 17 17 17 17 17 17 17 17 17 17 17 17 17 17 17 17 17 17 17\n",
            " 17 17 17 17 17 17 17 17 17 17 17 17 17 17 17 17 17 17 17 17 17 17 17 17\n",
            " 17 17 17 17 17 17 17 17]\n"
          ]
        },
        {
          "output_type": "stream",
          "name": "stderr",
          "text": [
            "Epoch4/100 [Val Pass]:  36%|███▋      | 12/33 [00:21<00:31,  1.52s/it, loss=4.91]"
          ]
        },
        {
          "output_type": "stream",
          "name": "stdout",
          "text": [
            "Sample Predictions: [17 17 17 17 17 17 17 17 17 17 17 17 17 17 17 17 17 17 17 17 17 17 17 17\n",
            " 17 17 17 17 17 17 17 17 17 17 17 17 17 17 17 17 17 17 17 17 17 17 17 17\n",
            " 17 17 17 17 17 17 17 17 17 17 17 17 17 17 17 17 17 17 17 17 17 17 17 17\n",
            " 17 17 17 17 17 17 17 17 17 17 17 17 17 17 17 17 17 17 17 17 17 17 17 17\n",
            " 17 17 17 17 17 17 17 17 17 17 17 17 17 17 17 17 17 17 17 17 17 17 17 17\n",
            " 17 17 17 17 17 17 17 17]\n"
          ]
        },
        {
          "output_type": "stream",
          "name": "stderr",
          "text": [
            "Epoch4/100 [Val Pass]:  39%|███▉      | 13/33 [00:24<00:35,  1.80s/it, loss=4.9]"
          ]
        },
        {
          "output_type": "stream",
          "name": "stdout",
          "text": [
            "Sample Predictions: [17 17 17 17 17 17 17 17 17 17 17 17 17 17 17 17 17 17 17 17 17 17 17 17\n",
            " 17 17 17 17 17 17 17 17 17 17 17 17 17 17 17 17 17 17 17 17 17 17 17 17\n",
            " 17 17 17 17 17 17 17 17 17 17 17 17 17 17 17 17 17 17 17 17 17 17 17 17\n",
            " 17 17 17 17 17 17 17 17 17 17 17 17 17 17 17 17 17 17 17 17 17 17 17 17\n",
            " 17 17 17 17 17 17 17 17 17 17 17 17 17 17 17 17 17 17 17 17 17 17 17 17\n",
            " 17 17 17 17 17 17 17 17]\n"
          ]
        },
        {
          "output_type": "stream",
          "name": "stderr",
          "text": [
            "Epoch4/100 [Val Pass]:  42%|████▏     | 14/33 [00:24<00:28,  1.48s/it, loss=4.88]"
          ]
        },
        {
          "output_type": "stream",
          "name": "stdout",
          "text": [
            "Sample Predictions: [17 17 17 17 17 17 17 17 17 17 17 17 17 17 17 17 17 17 17 17 17 17 17 17\n",
            " 17 17 17 17 17 17 17 17 17 17 17 17 17 17 17 17 17 17 17 17 17 17 17 17\n",
            " 17 17 17 17 17 17 17 17 17 17 17 17 17 17 17 17 17 17 17 17 17 17 17 17\n",
            " 17 17 17 17 17 17 17 17 17 17 17 17 17 17 17 17 17 17 17 17 17 17 17 17\n",
            " 17 17 17 17 17 17 17 17 17 17 17 17 17 17 17 17 17 17 17 17 17 17 17 17\n",
            " 17 17 17 17 17 17 17 17]\n"
          ]
        },
        {
          "output_type": "stream",
          "name": "stderr",
          "text": [
            "Epoch4/100 [Val Pass]:  45%|████▌     | 15/33 [00:27<00:30,  1.70s/it, loss=4.92]"
          ]
        },
        {
          "output_type": "stream",
          "name": "stdout",
          "text": [
            "Sample Predictions: [17 17 17 17 17 17 17 17 17 17 17 17 17 17 17 17 17 17 17 17 17 17 17 17\n",
            " 17 17 17 17 17 17 17 17 17 17 17 17 17 17 17 17 17 17 17 17 17 17 17 17\n",
            " 17 17 17 17 17 17 17 17 17 17 17 17 17 17 17 17 17 17 17 17 17 17 17 17\n",
            " 17 17 17 17 17 17 17 17 17 17 17 17 17 17 17 17 17 17 17 17 17 17 17 17\n",
            " 17 17 17 17 17 17 17 17 17 17 17 17 17 17 17 17 17 17 17 17 17 17 17 17\n",
            " 17 17 17 17 17 17 17 17]\n"
          ]
        },
        {
          "output_type": "stream",
          "name": "stderr",
          "text": [
            "Epoch4/100 [Val Pass]:  48%|████▊     | 16/33 [00:28<00:25,  1.49s/it, loss=4.85]"
          ]
        },
        {
          "output_type": "stream",
          "name": "stdout",
          "text": [
            "Sample Predictions: [17 17 17 17 17 17 17 17 17 17 17 17 17 17 17 17 17 17 17 17 17 17 17 17\n",
            " 17 17 17 17 17 17 17 17 17 17 17 17 17 17 17 17 17 17 17 17 17 17 17 17\n",
            " 17 17 17 17 17 17 17 17 17 17 17 17 17 17 17 17 17 17 17 17 17 17 17 17\n",
            " 17 17 17 17 17 17 17 17 17 17 17 17 17 17 17 17 17 17 17 17 17 17 17 17\n",
            " 17 17 17 17 17 17 17 17 17 17 17 17 17 17 17 17 17 17 17 17 17 17 17 17\n",
            " 17 17 17 17 17 17 17 17]\n"
          ]
        },
        {
          "output_type": "stream",
          "name": "stderr",
          "text": [
            "Epoch4/100 [Val Pass]:  52%|█████▏    | 17/33 [00:32<00:35,  2.23s/it, loss=4.89]"
          ]
        },
        {
          "output_type": "stream",
          "name": "stdout",
          "text": [
            "Sample Predictions: [17 17 17 17 17 17 17 17 17 17 17 17 17 17 17 17 17 17 17 17 17 17 17 17\n",
            " 17 17 17 17 17 17 17 17 17 17 17 17 17 17 17 17 17 17 17 17 17 17 17 17\n",
            " 17 17 17 17 17 17 17 17 17 17 17 17 17 17 17 17 17 17 17 17 17 17 17 17\n",
            " 17 17 17 17 17 17 17 17 17 17 17 17 17 17 17 17 17 17 17 17 17 17 17 17\n",
            " 17 17 17 17 17 17 17 17 17 17 17 17 17 17 17 17 17 17 17 17 17 17 17 17\n",
            " 17 17 17 17 17 17 17 17]\n"
          ]
        },
        {
          "output_type": "stream",
          "name": "stderr",
          "text": [
            "Epoch4/100 [Val Pass]:  55%|█████▍    | 18/33 [00:32<00:26,  1.74s/it, loss=4.88]"
          ]
        },
        {
          "output_type": "stream",
          "name": "stdout",
          "text": [
            "Sample Predictions: [17 17 17 17 17 17 17 17 17 17 17 17 17 17 17 17 17 17 17 17 17 17 17 17\n",
            " 17 17 17 17 17 17 17 17 17 17 17 17 17 17 17 17 17 17 17 17 17 17 17 17\n",
            " 17 17 17 17 17 17 17 17 17 17 17 17 17 17 17 17 17 17 17 17 17 17 17 17\n",
            " 17 17 17 17 17 17 17 17 17 17 17 17 17 17 17 17 17 17 17 17 17 17 17 17\n",
            " 17 17 17 17 17 17 17 17 17 17 17 17 17 17 17 17 17 17 17 17 17 17 17 17\n",
            " 17 17 17 17 17 17 17 17]\n"
          ]
        },
        {
          "output_type": "stream",
          "name": "stderr",
          "text": [
            "Epoch4/100 [Val Pass]:  58%|█████▊    | 19/33 [00:35<00:27,  1.98s/it, loss=4.88]"
          ]
        },
        {
          "output_type": "stream",
          "name": "stdout",
          "text": [
            "Sample Predictions: [17 17 17 17 17 17 17 17 17 17 17 17 17 17 17 17 17 17 17 17 17 17 17 17\n",
            " 17 17 17 17 17 17 17 17 17 17 17 17 17 17 17 17 17 17 17 17 17 17 17 17\n",
            " 17 17 17 17 17 17 17 17 17 17 17 17 17 17 17 17 17 17 17 17 17 17 17 17\n",
            " 17 17 17 17 17 17 17 17 17 17 17 17 17 17 17 17 17 17 17 17 17 17 17 17\n",
            " 17 17 17 17 17 17 17 17 17 17 17 17 17 17 17 17 17 17 17 17 17 17 17 17\n",
            " 17 17 17 17 17 17 17 17]\n"
          ]
        },
        {
          "output_type": "stream",
          "name": "stderr",
          "text": [
            "Epoch4/100 [Val Pass]:  61%|██████    | 20/33 [00:35<00:20,  1.59s/it, loss=4.81]"
          ]
        },
        {
          "output_type": "stream",
          "name": "stdout",
          "text": [
            "Sample Predictions: [17 17 17 17 17 17 17 17 17 17 17 17 17 17 17 17 17 17 17 17 17 17 17 17\n",
            " 17 17 17 17 17 17 17 17 17 17 17 17 17 17 17 17 17 17 17 17 17 17 17 17\n",
            " 17 17 17 17 17 17 17 17 17 17 17 17 17 17 17 17 17 17 17 17 17 17 17 17\n",
            " 17 17 17 17 17 17 17 17 17 17 17 17 17 17 17 17 17 17 17 17 17 17 17 17\n",
            " 17 17 17 17 17 17 17 17 17 17 17 17 17 17 17 17 17 17 17 17 17 17 17 17\n",
            " 17 17 17 17 17 17 17 17]\n"
          ]
        },
        {
          "output_type": "stream",
          "name": "stderr",
          "text": [
            "Epoch4/100 [Val Pass]:  64%|██████▎   | 21/33 [00:38<00:21,  1.79s/it, loss=4.91]"
          ]
        },
        {
          "output_type": "stream",
          "name": "stdout",
          "text": [
            "Sample Predictions: [17 17 17 17 17 17 17 17 17 17 17 17 17 17 17 17 17 17 17 17 17 17 17 17\n",
            " 17 17 17 17 17 17 17 17 17 17 17 17 17 17 17 17 17 17 17 17 17 17 17 17\n",
            " 17 17 17 17 17 17 17 17 17 17 17 17 17 17 17 17 17 17 17 17 17 17 17 17\n",
            " 17 17 17 17 17 17 17 17 17 17 17 17 17 17 17 17 17 17 17 17 17 17 17 17\n",
            " 17 17 17 17 17 17 17 17 17 17 17 17 17 17 17 17 17 17 17 17 17 17 17 17\n",
            " 17 17 17 17 17 17 17 17]\n"
          ]
        },
        {
          "output_type": "stream",
          "name": "stderr",
          "text": [
            "Epoch4/100 [Val Pass]:  67%|██████▋   | 22/33 [00:39<00:16,  1.51s/it, loss=4.84]"
          ]
        },
        {
          "output_type": "stream",
          "name": "stdout",
          "text": [
            "Sample Predictions: [17 17 17 17 17 17 17 17 17 17 17 17 17 17 17 17 17 17 17 17 17 17 17 17\n",
            " 17 17 17 17 17 17 17 17 17 17 17 17 17 17 17 17 17 17 17 17 17 17 17 17\n",
            " 17 17 17 17 17 17 17 17 17 17 17 17 17 17 17 17 17 17 17 17 17 17 17 17\n",
            " 17 17 17 17 17 17 17 17 17 17 17 17 17 17 17 17 17 17 17 17 17 17 17 17\n",
            " 17 17 17 17 17 17 17 17 17 17 17 17 17 17 17 17 17 17 17 17 17 17 17 17\n",
            " 17 17 17 17 17 17 17 17]\n"
          ]
        },
        {
          "output_type": "stream",
          "name": "stderr",
          "text": [
            "Epoch4/100 [Val Pass]:  70%|██████▉   | 23/33 [00:41<00:17,  1.72s/it, loss=4.83]"
          ]
        },
        {
          "output_type": "stream",
          "name": "stdout",
          "text": [
            "Sample Predictions: [17 17 17 17 17 17 17 17 17 17 17 17 17 17 17 17 17 17 17 17 17 17 17 17\n",
            " 17 17 17 17 17 17 17 17 17 17 17 17 17 17 17 17 17 17 17 17 17 17 17 17\n",
            " 17 17 17 17 17 17 17 17 17 17 17 17 17 17 17 17 17 17 17 17 17 17 17 17\n",
            " 17 17 17 17 17 17 17 17 17 17 17 17 17 17 17 17 17 17 17 17 17 17 17 17\n",
            " 17 17 17 17 17 17 17 17 17 17 17 17 17 17 17 17 17 17 17 17 17 17 17 17\n",
            " 17 17 17 17 17 17 17 17]\n"
          ]
        },
        {
          "output_type": "stream",
          "name": "stderr",
          "text": [
            "Epoch4/100 [Val Pass]:  73%|███████▎  | 24/33 [00:42<00:13,  1.55s/it, loss=4.94]"
          ]
        },
        {
          "output_type": "stream",
          "name": "stdout",
          "text": [
            "Sample Predictions: [17 17 17 17 17 17 17 17 17 17 17 17 17 17 17 17 17 17 17 17 17 17 17 17\n",
            " 17 17 17 17 17 17 17 17 17 17 17 17 17 17 17 17 17 17 17 17 17 17 17 17\n",
            " 17 17 17 17 17 17 17 17 17 17 17 17 17 17 17 17 17 17 17 17 17 17 17 17\n",
            " 17 17 17 17 17 17 17 17 17 17 17 17 17 17 17 17 17 17 17 17 17 17 17 17\n",
            " 17 17 17 17 17 17 17 17 17 17 17 17 17 17 17 17 17 17 17 17 17 17 17 17\n",
            " 17 17 17 17 17 17 17 17]\n"
          ]
        },
        {
          "output_type": "stream",
          "name": "stderr",
          "text": [
            "Epoch4/100 [Val Pass]:  76%|███████▌  | 25/33 [00:45<00:16,  2.04s/it, loss=4.91]"
          ]
        },
        {
          "output_type": "stream",
          "name": "stdout",
          "text": [
            "Sample Predictions: [17 17 17 17 17 17 17 17 17 17 17 17 17 17 17 17 17 17 17 17 17 17 17 17\n",
            " 17 17 17 17 17 17 17 17 17 17 17 17 17 17 17 17 17 17 17 17 17 17 17 17\n",
            " 17 17 17 17 17 17 17 17 17 17 17 17 17 17 17 17 17 17 17 17 17 17 17 17\n",
            " 17 17 17 17 17 17 17 17 17 17 17 17 17 17 17 17 17 17 17 17 17 17 17 17\n",
            " 17 17 17 17 17 17 17 17 17 17 17 17 17 17 17 17 17 17 17 17 17 17 17 17\n",
            " 17 17 17 17 17 17 17 17]\n"
          ]
        },
        {
          "output_type": "stream",
          "name": "stderr",
          "text": [
            "Epoch4/100 [Val Pass]:  79%|███████▉  | 26/33 [00:47<00:13,  1.95s/it, loss=4.83]"
          ]
        },
        {
          "output_type": "stream",
          "name": "stdout",
          "text": [
            "Sample Predictions: [17 17 17 17 17 17 17 17 17 17 17 17 17 17 17 17 17 17 17 17 17 17 17 17\n",
            " 17 17 17 17 17 17 17 17 17 17 17 17 17 17 17 17 17 17 17 17 17 17 17 17\n",
            " 17 17 17 17 17 17 17 17 17 17 17 17 17 17 17 17 17 17 17 17 17 17 17 17\n",
            " 17 17 17 17 17 17 17 17 17 17 17 17 17 17 17 17 17 17 17 17 17 17 17 17\n",
            " 17 17 17 17 17 17 17 17 17 17 17 17 17 17 17 17 17 17 17 17 17 17 17 17\n",
            " 17 17 17 17 17 17 17 17]\n"
          ]
        },
        {
          "output_type": "stream",
          "name": "stderr",
          "text": [
            "Epoch4/100 [Val Pass]:  82%|████████▏ | 27/33 [00:48<00:11,  1.84s/it, loss=4.84]"
          ]
        },
        {
          "output_type": "stream",
          "name": "stdout",
          "text": [
            "Sample Predictions: [17 17 17 17 17 17 17 17 17 17 17 17 17 17 17 17 17 17 17 17 17 17 17 17\n",
            " 17 17 17 17 17 17 17 17 17 17 17 17 17 17 17 17 17 17 17 17 17 17 17 17\n",
            " 17 17 17 17 17 17 17 17 17 17 17 17 17 17 17 17 17 17 17 17 17 17 17 17\n",
            " 17 17 17 17 17 17 17 17 17 17 17 17 17 17 17 17 17 17 17 17 17 17 17 17\n",
            " 17 17 17 17 17 17 17 17 17 17 17 17 17 17 17 17 17 17 17 17 17 17 17 17\n",
            " 17 17 17 17 17 17 17 17]\n"
          ]
        },
        {
          "output_type": "stream",
          "name": "stderr",
          "text": [
            "Epoch4/100 [Val Pass]:  85%|████████▍ | 28/33 [00:50<00:08,  1.75s/it, loss=4.89]"
          ]
        },
        {
          "output_type": "stream",
          "name": "stdout",
          "text": [
            "Sample Predictions: [17 17 17 17 17 17 17 17 17 17 17 17 17 17 17 17 17 17 17 17 17 17 17 17\n",
            " 17 17 17 17 17 17 17 17 17 17 17 17 17 17 17 17 17 17 17 17 17 17 17 17\n",
            " 17 17 17 17 17 17 17 17 17 17 17 17 17 17 17 17 17 17 17 17 17 17 17 17\n",
            " 17 17 17 17 17 17 17 17 17 17 17 17 17 17 17 17 17 17 17 17 17 17 17 17\n",
            " 17 17 17 17 17 17 17 17 17 17 17 17 17 17 17 17 17 17 17 17 17 17 17 17\n",
            " 17 17 17 17 17 17 17 17]\n"
          ]
        },
        {
          "output_type": "stream",
          "name": "stderr",
          "text": [
            "Epoch4/100 [Val Pass]:  88%|████████▊ | 29/33 [00:52<00:06,  1.70s/it, loss=4.96]"
          ]
        },
        {
          "output_type": "stream",
          "name": "stdout",
          "text": [
            "Sample Predictions: [17 17 17 17 17 17 17 17 17 17 17 17 17 17 17 17 17 17 17 17 17 17 17 17\n",
            " 17 17 17 17 17 17 17 17 17 17 17 17 17 17 17 17 17 17 17 17 17 17 17 17\n",
            " 17 17 17 17 17 17 17 17 17 17 17 17 17 17 17 17 17 17 17 17 17 17 17 17\n",
            " 17 17 17 17 17 17 17 17 17 17 17 17 17 17 17 17 17 17 17 17 17 17 17 17\n",
            " 17 17 17 17 17 17 17 17 17 17 17 17 17 17 17 17 17 17 17 17 17 17 17 17\n",
            " 17 17 17 17 17 17 17 17]\n"
          ]
        },
        {
          "output_type": "stream",
          "name": "stderr",
          "text": [
            "Epoch4/100 [Val Pass]:  91%|█████████ | 30/33 [00:53<00:05,  1.70s/it, loss=4.89]"
          ]
        },
        {
          "output_type": "stream",
          "name": "stdout",
          "text": [
            "Sample Predictions: [17 17 17 17 17 17 17 17 17 17 17 17 17 17 17 17 17 17 17 17 17 17 17 17\n",
            " 17 17 17 17 17 17 17 17 17 17 17 17 17 17 17 17 17 17 17 17 17 17 17 17\n",
            " 17 17 17 17 17 17 17 17 17 17 17 17 17 17 17 17 17 17 17 17 17 17 17 17\n",
            " 17 17 17 17 17 17 17 17 17 17 17 17 17 17 17 17 17 17 17 17 17 17 17 17\n",
            " 17 17 17 17 17 17 17 17 17 17 17 17 17 17 17 17 17 17 17 17 17 17 17 17\n",
            " 17 17 17 17 17 17 17 17]\n"
          ]
        },
        {
          "output_type": "stream",
          "name": "stderr",
          "text": [
            "Epoch4/100 [Val Pass]:  94%|█████████▍| 31/33 [00:55<00:03,  1.62s/it, loss=4.88]"
          ]
        },
        {
          "output_type": "stream",
          "name": "stdout",
          "text": [
            "Sample Predictions: [17 17 17 17 17 17 17 17 17 17 17 17 17 17 17 17 17 17 17 17 17 17 17 17\n",
            " 17 17 17 17 17 17 17 17 17 17 17 17 17 17 17 17 17 17 17 17 17 17 17 17\n",
            " 17 17 17 17 17 17 17 17 17 17 17 17 17 17 17 17 17 17 17 17 17 17 17 17\n",
            " 17 17 17 17 17 17 17 17 17 17 17 17 17 17 17 17 17 17 17 17 17 17 17 17\n",
            " 17 17 17 17 17 17 17 17 17 17 17 17 17 17 17 17 17 17 17 17 17 17 17 17\n",
            " 17 17 17 17 17 17 17 17]\n"
          ]
        },
        {
          "output_type": "stream",
          "name": "stderr",
          "text": [
            "Epoch4/100 [Val Pass]: 100%|██████████| 33/33 [00:56<00:00,  1.71s/it, loss=4.85]\n"
          ]
        },
        {
          "output_type": "stream",
          "name": "stdout",
          "text": [
            "Sample Predictions: [17 17 17 17 17 17 17 17 17 17 17 17 17 17 17 17 17 17 17 17 17 17 17 17\n",
            " 17 17 17 17 17 17 17 17 17 17 17 17 17 17 17 17 17 17 17 17 17 17 17 17\n",
            " 17 17 17 17 17 17 17 17 17 17 17 17 17 17 17 17 17 17 17 17 17 17 17 17\n",
            " 17 17 17 17 17 17 17 17 17 17 17 17 17 17 17 17 17 17 17 17 17 17 17 17\n",
            " 17 17 17 17 17 17 17 17 17 17 17 17 17 17 17 17 17 17 17 17 17 17 17 17\n",
            " 17 17 17 17 17 17 17 17]\n",
            "Sample Predictions: [17 17 17 17 17 17 17 17 17 17 17 17 17 17 17 17 17 17 17 17]\n",
            "No improvement in Val Loss. Counter: 1/20\n",
            "Epoch 4/100:\n",
            "Train Loss: 4.768 | Train Acc: 1.03 %\n",
            "Val Loss: 4.886 | Val Acc: 0.32 %\n"
          ]
        },
        {
          "output_type": "stream",
          "name": "stderr",
          "text": [
            "Epoch 5/100 [Train Pass]: 100%|██████████| 76/76 [03:21<00:00,  2.65s/it, loss=4.5]\n",
            "Epoch5/100 [Val Pass]:   6%|▌         | 2/33 [00:05<01:10,  2.27s/it, loss=4.8]"
          ]
        },
        {
          "output_type": "stream",
          "name": "stdout",
          "text": [
            "Sample Predictions: [31 31 31 31 31 31 31 31 31 31 31 31 31 31 31 31 31 31 31 31 31 31 31 31\n",
            " 31 31 31 31 31 31 31 31 31 31 31 31 31 31 31 31 31 31 31 31 31 31 31 31\n",
            " 31 31 31 31 31 31 31 31 31 31 31 31 31 31 31 31 31 31 31 31 31 31 31 31\n",
            " 31 31 31 31 31 31 31 31 31 31 31 31 31 31 31 31 31 31 31 31 31 31 31 31\n",
            " 31 31 31 31 31 31 31 31 31 31 31 31 31 31 31 31 31 31 31 31 31 31 31 31\n",
            " 31 31 31 31 31 31 31 31]\n",
            "Sample Predictions: [31 31 31 31 31 31 31 31 31 31 31 31 31 31 31 31 31 31 31 31 31 31 31 31\n",
            " 31 31 31 31 31 31 31 31 31 31 31 31 31 31 31 31 31 31 31 31 31 31 31 31\n",
            " 31 31 31 31 31 31 31 31 31 31 31 31 31 31 31 31 31 31 31 31 31 31 31 31\n",
            " 31 31 31 31 31 31 31 31 31 31 31 31 31 31 31 31 31 31 31 31 31 31 31 31\n",
            " 31 31 31 31 31 31 31 31 31 31 31 31 31 31 31 31 31 31 31 31 31 31 31 31\n",
            " 31 31 31 31 31 31 31 31]\n"
          ]
        },
        {
          "output_type": "stream",
          "name": "stderr",
          "text": [
            "Epoch5/100 [Val Pass]:   9%|▉         | 3/33 [00:07<01:11,  2.40s/it, loss=4.77]"
          ]
        },
        {
          "output_type": "stream",
          "name": "stdout",
          "text": [
            "Sample Predictions: [31 31 31 31 31 31 31 31 31 31 31 31 31 31 31 31 31 31 31 31 31 31 31 31\n",
            " 31 31 31 31 31 31 31 31 31 31 31 31 31 31 31 31 31 31 31 31 31 31 31 31\n",
            " 31 31 31 31 31 31 31 31 31 31 31 31 31 31 31 31 31 31 31 31 31 31 31 31\n",
            " 31 31 31 31 31 31 31 31 31 31 31 31 31 31 31 31 31 31 31 31 31 31 31 31\n",
            " 31 31 31 31 31 31 31 31 31 31 31 31 31 31 31 31 31 31 31 31 31 31 31 31\n",
            " 31 31 31 31 31 31 31 31]\n"
          ]
        },
        {
          "output_type": "stream",
          "name": "stderr",
          "text": [
            "Epoch5/100 [Val Pass]:  12%|█▏        | 4/33 [00:08<00:46,  1.59s/it, loss=4.78]"
          ]
        },
        {
          "output_type": "stream",
          "name": "stdout",
          "text": [
            "Sample Predictions: [31 31 31 31 31 31 31 31 31 31 31 31 31 31 31 31 31 31 31 31 31 31 31 31\n",
            " 31 31 31 31 31 31 31 31 31 31 31 31 31 31 31 31 31 31 31 31 31 31 31 31\n",
            " 31 31 31 31 31 31 31 31 31 31 31 31 31 31 31 31 31 31 31 31 31 31 31 31\n",
            " 31 31 31 31 31 31 31 31 31 31 31 31 31 31 31 31 31 31 31 31 31 31 31 31\n",
            " 31 31 31 31 31 31 31 31 31 31 31 31 31 31 31 31 31 31 31 31 31 31 31 31\n",
            " 31 31 31 31 31 31 31 31]\n"
          ]
        },
        {
          "output_type": "stream",
          "name": "stderr",
          "text": [
            "Epoch5/100 [Val Pass]:  15%|█▌        | 5/33 [00:10<00:55,  1.97s/it, loss=4.74]"
          ]
        },
        {
          "output_type": "stream",
          "name": "stdout",
          "text": [
            "Sample Predictions: [31 31 31 31 31 31 31 31 31 31 31 31 31 31 31 31 31 31 31 31 31 31 31 31\n",
            " 31 31 31 31 31 31 31 31 31 31 31 31 31 31 31 31 31 31 31 31 31 31 31 31\n",
            " 31 31 31 31 31 31 31 31 31 31 31 31 31 31 31 31 31 31 31 31 31 31 31 31\n",
            " 31 31 31 31 31 31 31 31 31 31 31 31 31 31 31 31 31 31 31 31 31 31 31 31\n",
            " 31 31 31 31 31 31 31 31 31 31 31 31 31 31 31 31 31 31 31 31 31 31 31 31\n",
            " 31 31 31 31 31 31 31 31]\n"
          ]
        },
        {
          "output_type": "stream",
          "name": "stderr",
          "text": [
            "Epoch5/100 [Val Pass]:  18%|█▊        | 6/33 [00:11<00:40,  1.50s/it, loss=4.74]"
          ]
        },
        {
          "output_type": "stream",
          "name": "stdout",
          "text": [
            "Sample Predictions: [31 31 31 31 31 31 31 31 31 31 31 31 31 31 31 31 31 31 31 31 31 31 31 31\n",
            " 31 31 31 31 31 31 31 31 31 31 31 31 31 31 31 31 31 31 31 31 31 31 31 31\n",
            " 31 31 31 31 31 31 31 31 31 31 31 31 31 31 31 31 31 31 31 31 31 31 31 31\n",
            " 31 31 31 31 31 31 31 31 31 31 31 31 31 31 31 31 31 31 31 31 31 31 31 31\n",
            " 31 31 31 31 31 31 31 31 31 31 31 31 31 31 31 31 31 31 31 31 31 31 31 31\n",
            " 31 31 31 31 31 31 31 31]\n"
          ]
        },
        {
          "output_type": "stream",
          "name": "stderr",
          "text": [
            "Epoch5/100 [Val Pass]:  21%|██        | 7/33 [00:14<00:47,  1.81s/it, loss=4.74]"
          ]
        },
        {
          "output_type": "stream",
          "name": "stdout",
          "text": [
            "Sample Predictions: [31 31 31 31 31 31 31 31 31 31 31 31 31 31 31 31 31 31 31 31 31 31 31 31\n",
            " 31 31 31 31 31 31 31 31 31 31 31 31 31 31 31 31 31 31 31 31 31 31 31 31\n",
            " 31 31 31 31 31 31 31 31 31 31 31 31 31 31 31 31 31 31 31 31 31 31 31 31\n",
            " 31 31 31 31 31 31 31 31 31 31 31 31 31 31 31 31 31 31 31 31 31 31 31 31\n",
            " 31 31 31 31 31 31 31 31 31 31 31 31 31 31 31 31 31 31 31 31 31 31 31 31\n",
            " 31 31 31 31 31 31 31 31]\n"
          ]
        },
        {
          "output_type": "stream",
          "name": "stderr",
          "text": [
            "Epoch5/100 [Val Pass]:  24%|██▍       | 8/33 [00:14<00:36,  1.46s/it, loss=4.75]"
          ]
        },
        {
          "output_type": "stream",
          "name": "stdout",
          "text": [
            "Sample Predictions: [31 31 31 31 31 31 31 31 31 31 31 31 31 31 31 31 31 31 31 31 31 31 31 31\n",
            " 31 31 31 31 31 31 31 31 31 31 31 31 31 31 31 31 31 31 31 31 31 31 31 31\n",
            " 31 31 31 31 31 31 31 31 31 31 31 31 31 31 31 31 31 31 31 31 31 31 31 31\n",
            " 31 31 31 31 31 31 31 31 31 31 31 31 31 31 31 31 31 31 31 31 31 31 31 31\n",
            " 31 31 31 31 31 31 31 31 31 31 31 31 31 31 31 31 31 31 31 31 31 31 31 31\n",
            " 31 31 31 31 31 31 31 31]\n"
          ]
        },
        {
          "output_type": "stream",
          "name": "stderr",
          "text": [
            "Epoch5/100 [Val Pass]:  27%|██▋       | 9/33 [00:18<00:54,  2.25s/it, loss=4.7]"
          ]
        },
        {
          "output_type": "stream",
          "name": "stdout",
          "text": [
            "Sample Predictions: [31 31 31 31 31 31 31 31 31 31 31 31 31 31 31 31 31 31 31 31 31 31 31 31\n",
            " 31 31 31 31 31 31 31 31 31 31 31 31 31 31 31 31 31 31 31 31 31 31 31 31\n",
            " 31 31 31 31 31 31 31 31 31 31 31 31 31 31 31 31 31 31 31 31 31 31 31 31\n",
            " 31 31 31 31 31 31 31 31 31 31 31 31 31 31 31 31 31 31 31 31 31 31 31 31\n",
            " 31 31 31 31 31 31 31 31 31 31 31 31 31 31 31 31 31 31 31 31 31 31 31 31\n",
            " 31 31 31 31 31 31 31 31]\n"
          ]
        },
        {
          "output_type": "stream",
          "name": "stderr",
          "text": [
            "Epoch5/100 [Val Pass]:  30%|███       | 10/33 [00:19<00:41,  1.79s/it, loss=4.8]"
          ]
        },
        {
          "output_type": "stream",
          "name": "stdout",
          "text": [
            "Sample Predictions: [31 31 31 31 31 31 31 31 31 31 31 31 31 31 31 31 31 31 31 31 31 31 31 31\n",
            " 31 31 31 31 31 31 31 31 31 31 31 31 31 31 31 31 31 31 31 31 31 31 31 31\n",
            " 31 31 31 31 31 31 31 31 31 31 31 31 31 31 31 31 31 31 31 31 31 31 31 31\n",
            " 31 31 31 31 31 31 31 31 31 31 31 31 31 31 31 31 31 31 31 31 31 31 31 31\n",
            " 31 31 31 31 31 31 31 31 31 31 31 31 31 31 31 31 31 31 31 31 31 31 31 31\n",
            " 31 31 31 31 31 31 31 31]\n"
          ]
        },
        {
          "output_type": "stream",
          "name": "stderr",
          "text": [
            "Epoch5/100 [Val Pass]:  33%|███▎      | 11/33 [00:21<00:42,  1.94s/it, loss=4.83]"
          ]
        },
        {
          "output_type": "stream",
          "name": "stdout",
          "text": [
            "Sample Predictions: [31 31 31 31 31 31 31 31 31 31 31 31 31 31 31 31 31 31 31 31 31 31 31 31\n",
            " 31 31 31 31 31 31 31 31 31 31 31 31 31 31 31 31 31 31 31 31 31 31 31 31\n",
            " 31 31 31 31 31 31 31 31 31 31 31 31 31 31 31 31 31 31 31 31 31 31 31 31\n",
            " 31 31 31 31 31 31 31 31 31 31 31 31 31 31 31 31 31 31 31 31 31 31 31 31\n",
            " 31 31 31 31 31 31 31 31 31 31 31 31 31 31 31 31 31 31 31 31 31 31 31 31\n",
            " 31 31 31 31 31 31 31 31]\n"
          ]
        },
        {
          "output_type": "stream",
          "name": "stderr",
          "text": [
            "Epoch5/100 [Val Pass]:  36%|███▋      | 12/33 [00:22<00:33,  1.61s/it, loss=4.77]"
          ]
        },
        {
          "output_type": "stream",
          "name": "stdout",
          "text": [
            "Sample Predictions: [31 31 31 31 31 31 31 31 31 31 31 31 31 31 31 31 31 31 31 31 31 31 31 31\n",
            " 31 31 31 31 31 31 31 31 31 31 31 31 31 31 31 31 31 31 31 31 31 31 31 31\n",
            " 31 31 31 31 31 31 31 31 31 31 31 31 31 31 31 31 31 31 31 31 31 31 31 31\n",
            " 31 31 31 31 31 31 31 31 31 31 31 31 31 31 31 31 31 31 31 31 31 31 31 31\n",
            " 31 31 31 31 31 31 31 31 31 31 31 31 31 31 31 31 31 31 31 31 31 31 31 31\n",
            " 31 31 31 31 31 31 31 31]\n"
          ]
        },
        {
          "output_type": "stream",
          "name": "stderr",
          "text": [
            "Epoch5/100 [Val Pass]:  39%|███▉      | 13/33 [00:24<00:35,  1.79s/it, loss=4.71]"
          ]
        },
        {
          "output_type": "stream",
          "name": "stdout",
          "text": [
            "Sample Predictions: [31 31 31 31 31 31 31 31 31 31 31 31 31 31 31 31 31 31 31 31 31 31 31 31\n",
            " 31 31 31 31 31 31 31 31 31 31 31 31 31 31 31 31 31 31 31 31 31 31 31 31\n",
            " 31 31 31 31 31 31 31 31 31 31 31 31 31 31 31 31 31 31 31 31 31 31 31 31\n",
            " 31 31 31 31 31 31 31 31 31 31 31 31 31 31 31 31 31 31 31 31 31 31 31 31\n",
            " 31 31 31 31 31 31 31 31 31 31 31 31 31 31 31 31 31 31 31 31 31 31 31 31\n",
            " 31 31 31 31 31 31 31 31]\n"
          ]
        },
        {
          "output_type": "stream",
          "name": "stderr",
          "text": [
            "Epoch5/100 [Val Pass]:  42%|████▏     | 14/33 [00:25<00:29,  1.55s/it, loss=4.73]"
          ]
        },
        {
          "output_type": "stream",
          "name": "stdout",
          "text": [
            "Sample Predictions: [31 31 31 31 31 31 31 31 31 31 31 31 31 31 31 31 31 31 31 31 31 31 31 31\n",
            " 31 31 31 31 31 31 31 31 31 31 31 31 31 31 31 31 31 31 31 31 31 31 31 31\n",
            " 31 31 31 31 31 31 31 31 31 31 31 31 31 31 31 31 31 31 31 31 31 31 31 31\n",
            " 31 31 31 31 31 31 31 31 31 31 31 31 31 31 31 31 31 31 31 31 31 31 31 31\n",
            " 31 31 31 31 31 31 31 31 31 31 31 31 31 31 31 31 31 31 31 31 31 31 31 31\n",
            " 31 31 31 31 31 31 31 31]\n"
          ]
        },
        {
          "output_type": "stream",
          "name": "stderr",
          "text": [
            "Epoch5/100 [Val Pass]:  45%|████▌     | 15/33 [00:28<00:32,  1.79s/it, loss=4.79]"
          ]
        },
        {
          "output_type": "stream",
          "name": "stdout",
          "text": [
            "Sample Predictions: [31 31 31 31 31 31 31 31 31 31 31 31 31 31 31 31 31 31 31 31 31 31 31 31\n",
            " 31 31 31 31 31 31 31 31 31 31 31 31 31 31 31 31 31 31 31 31 31 31 31 31\n",
            " 31 31 31 31 31 31 31 31 31 31 31 31 31 31 31 31 31 31 31 31 31 31 31 31\n",
            " 31 31 31 31 31 31 31 31 31 31 31 31 31 31 31 31 31 31 31 31 31 31 31 31\n",
            " 31 31 31 31 31 31 31 31 31 31 31 31 31 31 31 31 31 31 31 31 31 31 31 31\n",
            " 31 31 31 31 31 31 31 31]\n"
          ]
        },
        {
          "output_type": "stream",
          "name": "stderr",
          "text": [
            "Epoch5/100 [Val Pass]:  48%|████▊     | 16/33 [00:29<00:26,  1.55s/it, loss=4.78]"
          ]
        },
        {
          "output_type": "stream",
          "name": "stdout",
          "text": [
            "Sample Predictions: [31 31 31 31 31 31 31 31 31 31 31 31 31 31 31 31 31 31 31 31 31 31 31 31\n",
            " 31 31 31 31 31 31 31 31 31 31 31 31 31 31 31 31 31 31 31 31 31 31 31 31\n",
            " 31 31 31 31 31 31 31 31 31 31 31 31 31 31 31 31 31 31 31 31 31 31 31 31\n",
            " 31 31 31 31 31 31 31 31 31 31 31 31 31 31 31 31 31 31 31 31 31 31 31 31\n",
            " 31 31 31 31 31 31 31 31 31 31 31 31 31 31 31 31 31 31 31 31 31 31 31 31\n",
            " 31 31 31 31 31 31 31 31]\n"
          ]
        },
        {
          "output_type": "stream",
          "name": "stderr",
          "text": [
            "Epoch5/100 [Val Pass]:  52%|█████▏    | 17/33 [00:31<00:30,  1.93s/it, loss=4.74]"
          ]
        },
        {
          "output_type": "stream",
          "name": "stdout",
          "text": [
            "Sample Predictions: [31 31 31 31 31 31 31 31 31 31 31 31 31 31 31 31 31 31 31 31 31 31 31 31\n",
            " 31 31 31 31 31 31 31 31 31 31 31 31 31 31 31 31 31 31 31 31 31 31 31 31\n",
            " 31 31 31 31 31 31 31 31 31 31 31 31 31 31 31 31 31 31 31 31 31 31 31 31\n",
            " 31 31 31 31 31 31 31 31 31 31 31 31 31 31 31 31 31 31 31 31 31 31 31 31\n",
            " 31 31 31 31 31 31 31 31 31 31 31 31 31 31 31 31 31 31 31 31 31 31 31 31\n",
            " 31 31 31 31 31 31 31 31]\n"
          ]
        },
        {
          "output_type": "stream",
          "name": "stderr",
          "text": [
            "Epoch5/100 [Val Pass]:  55%|█████▍    | 18/33 [00:34<00:30,  2.02s/it, loss=4.8]"
          ]
        },
        {
          "output_type": "stream",
          "name": "stdout",
          "text": [
            "Sample Predictions: [31 31 31 31 31 31 31 31 31 31 31 31 31 31 31 31 31 31 31 31 31 31 31 31\n",
            " 31 31 31 31 31 31 31 31 31 31 31 31 31 31 31 31 31 31 31 31 31 31 31 31\n",
            " 31 31 31 31 31 31 31 31 31 31 31 31 31 31 31 31 31 31 31 31 31 31 31 31\n",
            " 31 31 31 31 31 31 31 31 31 31 31 31 31 31 31 31 31 31 31 31 31 31 31 31\n",
            " 31 31 31 31 31 31 31 31 31 31 31 31 31 31 31 31 31 31 31 31 31 31 31 31\n",
            " 31 31 31 31 31 31 31 31]\n"
          ]
        },
        {
          "output_type": "stream",
          "name": "stderr",
          "text": [
            "Epoch5/100 [Val Pass]:  58%|█████▊    | 19/33 [00:35<00:26,  1.87s/it, loss=4.78]"
          ]
        },
        {
          "output_type": "stream",
          "name": "stdout",
          "text": [
            "Sample Predictions: [31 31 31 31 31 31 31 31 31 31 31 31 31 31 31 31 31 31 31 31 31 31 31 31\n",
            " 31 31 31 31 31 31 31 31 31 31 31 31 31 31 31 31 31 31 31 31 31 31 31 31\n",
            " 31 31 31 31 31 31 31 31 31 31 31 31 31 31 31 31 31 31 31 31 31 31 31 31\n",
            " 31 31 31 31 31 31 31 31 31 31 31 31 31 31 31 31 31 31 31 31 31 31 31 31\n",
            " 31 31 31 31 31 31 31 31 31 31 31 31 31 31 31 31 31 31 31 31 31 31 31 31\n",
            " 31 31 31 31 31 31 31 31]\n"
          ]
        },
        {
          "output_type": "stream",
          "name": "stderr",
          "text": [
            "Epoch5/100 [Val Pass]:  61%|██████    | 20/33 [00:37<00:23,  1.78s/it, loss=4.77]"
          ]
        },
        {
          "output_type": "stream",
          "name": "stdout",
          "text": [
            "Sample Predictions: [31 31 31 31 31 31 31 31 31 31 31 31 31 31 31 31 31 31 31 31 31 31 31 31\n",
            " 31 31 31 31 31 31 31 31 31 31 31 31 31 31 31 31 31 31 31 31 31 31 31 31\n",
            " 31 31 31 31 31 31 31 31 31 31 31 31 31 31 31 31 31 31 31 31 31 31 31 31\n",
            " 31 31 31 31 31 31 31 31 31 31 31 31 31 31 31 31 31 31 31 31 31 31 31 31\n",
            " 31 31 31 31 31 31 31 31 31 31 31 31 31 31 31 31 31 31 31 31 31 31 31 31\n",
            " 31 31 31 31 31 31 31 31]\n"
          ]
        },
        {
          "output_type": "stream",
          "name": "stderr",
          "text": [
            "Epoch5/100 [Val Pass]:  64%|██████▎   | 21/33 [00:38<00:20,  1.67s/it, loss=4.74]"
          ]
        },
        {
          "output_type": "stream",
          "name": "stdout",
          "text": [
            "Sample Predictions: [31 31 31 31 31 31 31 31 31 31 31 31 31 31 31 31 31 31 31 31 31 31 31 31\n",
            " 31 31 31 31 31 31 31 31 31 31 31 31 31 31 31 31 31 31 31 31 31 31 31 31\n",
            " 31 31 31 31 31 31 31 31 31 31 31 31 31 31 31 31 31 31 31 31 31 31 31 31\n",
            " 31 31 31 31 31 31 31 31 31 31 31 31 31 31 31 31 31 31 31 31 31 31 31 31\n",
            " 31 31 31 31 31 31 31 31 31 31 31 31 31 31 31 31 31 31 31 31 31 31 31 31\n",
            " 31 31 31 31 31 31 31 31]\n"
          ]
        },
        {
          "output_type": "stream",
          "name": "stderr",
          "text": [
            "Epoch5/100 [Val Pass]:  67%|██████▋   | 22/33 [00:40<00:18,  1.72s/it, loss=4.82]"
          ]
        },
        {
          "output_type": "stream",
          "name": "stdout",
          "text": [
            "Sample Predictions: [31 31 31 31 31 31 31 31 31 31 31 31 31 31 31 31 31 31 31 31 31 31 31 31\n",
            " 31 31 31 31 31 31 31 31 31 31 31 31 31 31 31 31 31 31 31 31 31 31 31 31\n",
            " 31 31 31 31 31 31 31 31 31 31 31 31 31 31 31 31 31 31 31 31 31 31 31 31\n",
            " 31 31 31 31 31 31 31 31 31 31 31 31 31 31 31 31 31 31 31 31 31 31 31 31\n",
            " 31 31 31 31 31 31 31 31 31 31 31 31 31 31 31 31 31 31 31 31 31 31 31 31\n",
            " 31 31 31 31 31 31 31 31]\n"
          ]
        },
        {
          "output_type": "stream",
          "name": "stderr",
          "text": [
            "Epoch5/100 [Val Pass]:  70%|██████▉   | 23/33 [00:41<00:15,  1.58s/it, loss=4.74]"
          ]
        },
        {
          "output_type": "stream",
          "name": "stdout",
          "text": [
            "Sample Predictions: [31 31 31 31 31 31 31 31 31 31 31 31 31 31 31 31 31 31 31 31 31 31 31 31\n",
            " 31 31 31 31 31 31 31 31 31 31 31 31 31 31 31 31 31 31 31 31 31 31 31 31\n",
            " 31 31 31 31 31 31 31 31 31 31 31 31 31 31 31 31 31 31 31 31 31 31 31 31\n",
            " 31 31 31 31 31 31 31 31 31 31 31 31 31 31 31 31 31 31 31 31 31 31 31 31\n",
            " 31 31 31 31 31 31 31 31 31 31 31 31 31 31 31 31 31 31 31 31 31 31 31 31\n",
            " 31 31 31 31 31 31 31 31]\n"
          ]
        },
        {
          "output_type": "stream",
          "name": "stderr",
          "text": [
            "Epoch5/100 [Val Pass]:  73%|███████▎  | 24/33 [00:43<00:14,  1.61s/it, loss=4.85]"
          ]
        },
        {
          "output_type": "stream",
          "name": "stdout",
          "text": [
            "Sample Predictions: [31 31 31 31 31 31 31 31 31 31 31 31 31 31 31 31 31 31 31 31 31 31 31 31\n",
            " 31 31 31 31 31 31 31 31 31 31 31 31 31 31 31 31 31 31 31 31 31 31 31 31\n",
            " 31 31 31 31 31 31 31 31 31 31 31 31 31 31 31 31 31 31 31 31 31 31 31 31\n",
            " 31 31 31 31 31 31 31 31 31 31 31 31 31 31 31 31 31 31 31 31 31 31 31 31\n",
            " 31 31 31 31 31 31 31 31 31 31 31 31 31 31 31 31 31 31 31 31 31 31 31 31\n",
            " 31 31 31 31 31 31 31 31]\n"
          ]
        },
        {
          "output_type": "stream",
          "name": "stderr",
          "text": [
            "Epoch5/100 [Val Pass]:  76%|███████▌  | 25/33 [00:45<00:14,  1.77s/it, loss=4.79]"
          ]
        },
        {
          "output_type": "stream",
          "name": "stdout",
          "text": [
            "Sample Predictions: [31 31 31 31 31 31 31 31 31 31 31 31 31 31 31 31 31 31 31 31 31 31 31 31\n",
            " 31 31 31 31 31 31 31 31 31 31 31 31 31 31 31 31 31 31 31 31 31 31 31 31\n",
            " 31 31 31 31 31 31 31 31 31 31 31 31 31 31 31 31 31 31 31 31 31 31 31 31\n",
            " 31 31 31 31 31 31 31 31 31 31 31 31 31 31 31 31 31 31 31 31 31 31 31 31\n",
            " 31 31 31 31 31 31 31 31 31 31 31 31 31 31 31 31 31 31 31 31 31 31 31 31\n",
            " 31 31 31 31 31 31 31 31]\n"
          ]
        },
        {
          "output_type": "stream",
          "name": "stderr",
          "text": [
            "Epoch5/100 [Val Pass]:  79%|███████▉  | 26/33 [00:48<00:14,  2.01s/it, loss=4.8]"
          ]
        },
        {
          "output_type": "stream",
          "name": "stdout",
          "text": [
            "Sample Predictions: [31 31 31 31 31 31 31 31 31 31 31 31 31 31 31 31 31 31 31 31 31 31 31 31\n",
            " 31 31 31 31 31 31 31 31 31 31 31 31 31 31 31 31 31 31 31 31 31 31 31 31\n",
            " 31 31 31 31 31 31 31 31 31 31 31 31 31 31 31 31 31 31 31 31 31 31 31 31\n",
            " 31 31 31 31 31 31 31 31 31 31 31 31 31 31 31 31 31 31 31 31 31 31 31 31\n",
            " 31 31 31 31 31 31 31 31 31 31 31 31 31 31 31 31 31 31 31 31 31 31 31 31\n",
            " 31 31 31 31 31 31 31 31]\n"
          ]
        },
        {
          "output_type": "stream",
          "name": "stderr",
          "text": [
            "Epoch5/100 [Val Pass]:  82%|████████▏ | 27/33 [00:49<00:10,  1.80s/it, loss=4.84]"
          ]
        },
        {
          "output_type": "stream",
          "name": "stdout",
          "text": [
            "Sample Predictions: [31 31 31 31 31 31 31 31 31 31 31 31 31 31 31 31 31 31 31 31 31 31 31 31\n",
            " 31 31 31 31 31 31 31 31 31 31 31 31 31 31 31 31 31 31 31 31 31 31 31 31\n",
            " 31 31 31 31 31 31 31 31 31 31 31 31 31 31 31 31 31 31 31 31 31 31 31 31\n",
            " 31 31 31 31 31 31 31 31 31 31 31 31 31 31 31 31 31 31 31 31 31 31 31 31\n",
            " 31 31 31 31 31 31 31 31 31 31 31 31 31 31 31 31 31 31 31 31 31 31 31 31\n",
            " 31 31 31 31 31 31 31 31]\n"
          ]
        },
        {
          "output_type": "stream",
          "name": "stderr",
          "text": [
            "Epoch5/100 [Val Pass]:  85%|████████▍ | 28/33 [00:51<00:09,  1.84s/it, loss=4.73]"
          ]
        },
        {
          "output_type": "stream",
          "name": "stdout",
          "text": [
            "Sample Predictions: [31 31 31 31 31 31 31 31 31 31 31 31 31 31 31 31 31 31 31 31 31 31 31 31\n",
            " 31 31 31 31 31 31 31 31 31 31 31 31 31 31 31 31 31 31 31 31 31 31 31 31\n",
            " 31 31 31 31 31 31 31 31 31 31 31 31 31 31 31 31 31 31 31 31 31 31 31 31\n",
            " 31 31 31 31 31 31 31 31 31 31 31 31 31 31 31 31 31 31 31 31 31 31 31 31\n",
            " 31 31 31 31 31 31 31 31 31 31 31 31 31 31 31 31 31 31 31 31 31 31 31 31\n",
            " 31 31 31 31 31 31 31 31]\n"
          ]
        },
        {
          "output_type": "stream",
          "name": "stderr",
          "text": [
            "Epoch5/100 [Val Pass]:  88%|████████▊ | 29/33 [00:52<00:06,  1.65s/it, loss=4.76]"
          ]
        },
        {
          "output_type": "stream",
          "name": "stdout",
          "text": [
            "Sample Predictions: [31 31 31 31 31 31 31 31 31 31 31 31 31 31 31 31 31 31 31 31 31 31 31 31\n",
            " 31 31 31 31 31 31 31 31 31 31 31 31 31 31 31 31 31 31 31 31 31 31 31 31\n",
            " 31 31 31 31 31 31 31 31 31 31 31 31 31 31 31 31 31 31 31 31 31 31 31 31\n",
            " 31 31 31 31 31 31 31 31 31 31 31 31 31 31 31 31 31 31 31 31 31 31 31 31\n",
            " 31 31 31 31 31 31 31 31 31 31 31 31 31 31 31 31 31 31 31 31 31 31 31 31\n",
            " 31 31 31 31 31 31 31 31]\n"
          ]
        },
        {
          "output_type": "stream",
          "name": "stderr",
          "text": [
            "Epoch5/100 [Val Pass]:  91%|█████████ | 30/33 [00:54<00:05,  1.67s/it, loss=4.79]"
          ]
        },
        {
          "output_type": "stream",
          "name": "stdout",
          "text": [
            "Sample Predictions: [31 31 31 31 31 31 31 31 31 31 31 31 31 31 31 31 31 31 31 31 31 31 31 31\n",
            " 31 31 31 31 31 31 31 31 31 31 31 31 31 31 31 31 31 31 31 31 31 31 31 31\n",
            " 31 31 31 31 31 31 31 31 31 31 31 31 31 31 31 31 31 31 31 31 31 31 31 31\n",
            " 31 31 31 31 31 31 31 31 31 31 31 31 31 31 31 31 31 31 31 31 31 31 31 31\n",
            " 31 31 31 31 31 31 31 31 31 31 31 31 31 31 31 31 31 31 31 31 31 31 31 31\n",
            " 31 31 31 31 31 31 31 31]\n"
          ]
        },
        {
          "output_type": "stream",
          "name": "stderr",
          "text": [
            "Epoch5/100 [Val Pass]:  94%|█████████▍| 31/33 [00:55<00:03,  1.58s/it, loss=4.85]"
          ]
        },
        {
          "output_type": "stream",
          "name": "stdout",
          "text": [
            "Sample Predictions: [31 31 31 31 31 31 31 31 31 31 31 31 31 31 31 31 31 31 31 31 31 31 31 31\n",
            " 31 31 31 31 31 31 31 31 31 31 31 31 31 31 31 31 31 31 31 31 31 31 31 31\n",
            " 31 31 31 31 31 31 31 31 31 31 31 31 31 31 31 31 31 31 31 31 31 31 31 31\n",
            " 31 31 31 31 31 31 31 31 31 31 31 31 31 31 31 31 31 31 31 31 31 31 31 31\n",
            " 31 31 31 31 31 31 31 31 31 31 31 31 31 31 31 31 31 31 31 31 31 31 31 31\n",
            " 31 31 31 31 31 31 31 31]\n"
          ]
        },
        {
          "output_type": "stream",
          "name": "stderr",
          "text": [
            "Epoch5/100 [Val Pass]: 100%|██████████| 33/33 [00:56<00:00,  1.73s/it, loss=4.73]\n"
          ]
        },
        {
          "output_type": "stream",
          "name": "stdout",
          "text": [
            "Sample Predictions: [31 31 31 31 31 31 31 31 31 31 31 31 31 31 31 31 31 31 31 31 31 31 31 31\n",
            " 31 31 31 31 31 31 31 31 31 31 31 31 31 31 31 31 31 31 31 31 31 31 31 31\n",
            " 31 31 31 31 31 31 31 31 31 31 31 31 31 31 31 31 31 31 31 31 31 31 31 31\n",
            " 31 31 31 31 31 31 31 31 31 31 31 31 31 31 31 31 31 31 31 31 31 31 31 31\n",
            " 31 31 31 31 31 31 31 31 31 31 31 31 31 31 31 31 31 31 31 31 31 31 31 31\n",
            " 31 31 31 31 31 31 31 31]\n",
            "Sample Predictions: [31 31 31 31 31 31 31 31 31 31 31 31 31 31 31 31 31 31 31 31]\n",
            "Validation Loss improved -> model saved to ../content/drive/MyDrive/NeuroVision/models/resnet-18_v1_best.pth\n",
            "Epoch 5/100:\n",
            "Train Loss: 4.762 | Train Acc: 1.10 %\n",
            "Val Loss: 4.775 | Val Acc: 0.36 %\n"
          ]
        },
        {
          "output_type": "stream",
          "name": "stderr",
          "text": [
            "Epoch 6/100 [Train Pass]: 100%|██████████| 76/76 [03:21<00:00,  2.65s/it, loss=4.73]\n",
            "Epoch6/100 [Val Pass]:   3%|▎         | 1/33 [00:05<02:34,  4.84s/it, loss=4.8] "
          ]
        },
        {
          "output_type": "stream",
          "name": "stdout",
          "text": [
            "Sample Predictions: [66 66 66 66 66 66 66 66 66 66 66 66 66 66 66 66 66 66 66 66 66 66 66 66\n",
            " 66 66 66 66 66 66 66 66 66 66 66 66 66 66 66 66 66 66 66 66 66 66 66 66\n",
            " 66 66 66 66 66 66 66 66 66 66 66 66 66 66 66 66 66 66 66 66 66 66 66 66\n",
            " 66 66 66 66 66 66 66 66 66 66 66 66 66 66 66 66 66 66 66 66 66 66 66 66\n",
            " 66 66 66 66 66 66 66 66 66 66 66 66 66 66 66 66 66 66 66 66 66 66 66 66\n",
            " 66 66 66 66 66 66 66 66]\n",
            "Sample Predictions: [66 66 66 66 66 66 66 66 66 66 66 66 66 66 66 66 66 66 66 66 66 66 66 66\n",
            " 66 66 66 66 66 66 66 66 66 66 66 66 66 66 66 66 66 66 66 66 66 66 66 66\n",
            " 66 66 66 66 66 66 66 66 66 66 66 66 66 66 66 66 66 66 66 66 66 66 66 66\n",
            " 66 66 66 66 66 66 66 66 66 66 66 66 66 66 66 66 66 66 66 66 66 66 66 66\n",
            " 66 66 66 66 66 66 66 66 66 66 66 66 66 66 66 66 66 66 66 66 66 66 66 66\n",
            " 66 66 66 66 66 66 66 66]\n"
          ]
        },
        {
          "output_type": "stream",
          "name": "stderr",
          "text": [
            "Epoch6/100 [Val Pass]:  12%|█▏        | 4/33 [00:08<00:46,  1.59s/it, loss=4.82]"
          ]
        },
        {
          "output_type": "stream",
          "name": "stdout",
          "text": [
            "Sample Predictions: [66 66 66 66 66 66 66 66 66 66 66 66 66 66 66 66 66 66 66 66 66 66 66 66\n",
            " 66 66 66 66 66 66 66 66 66 66 66 66 66 66 66 66 66 66 66 66 66 66 66 66\n",
            " 66 66 66 66 66 66 66 66 66 66 66 66 66 66 66 66 66 66 66 66 66 66 66 66\n",
            " 66 66 66 66 66 66 66 66 66 66 66 66 66 66 66 66 66 66 66 66 66 66 66 66\n",
            " 66 66 66 66 66 66 66 66 66 66 66 66 66 66 66 66 66 66 66 66 66 66 66 66\n",
            " 66 66 66 66 66 66 66 66]\n",
            "Sample Predictions: [66 66 66 66 66 66 66 66 66 66 66 66 66 66 66 66 66 66 66 66 66 66 66 66\n",
            " 66 66 66 66 66 66 66 66 66 66 66 66 66 66 66 66 66 66 66 66 66 66 66 66\n",
            " 66 66 66 66 66 66 66 66 66 66 66 66 66 66 66 66 66 66 66 66 66 66 66 66\n",
            " 66 66 66 66 66 66 66 66 66 66 66 66 66 66 66 66 66 66 66 66 66 66 66 66\n",
            " 66 66 66 66 66 66 66 66 66 66 66 66 66 66 66 66 66 66 66 66 66 66 66 66\n",
            " 66 66 66 66 66 66 66 66]\n"
          ]
        },
        {
          "output_type": "stream",
          "name": "stderr",
          "text": [
            "Epoch6/100 [Val Pass]:  18%|█▊        | 6/33 [00:11<00:40,  1.49s/it, loss=4.78]"
          ]
        },
        {
          "output_type": "stream",
          "name": "stdout",
          "text": [
            "Sample Predictions: [66 66 66 66 66 66 66 66 66 66 66 66 66 66 66 66 66 66 66 66 66 66 66 66\n",
            " 66 66 66 66 66 66 66 66 66 66 66 66 66 66 66 66 66 66 66 66 66 66 66 66\n",
            " 66 66 66 66 66 66 66 66 66 66 66 66 66 66 66 66 66 66 66 66 66 66 66 66\n",
            " 66 66 66 66 66 66 66 66 66 66 66 66 66 66 66 66 66 66 66 66 66 66 66 66\n",
            " 66 66 66 66 66 66 66 66 66 66 66 66 66 66 66 66 66 66 66 66 66 66 66 66\n",
            " 66 66 66 66 66 66 66 66]\n",
            "Sample Predictions: [66 66 66 66 66 66 66 66 66 66 66 66 66 66 66 66 66 66 66 66 66 66 66 66\n",
            " 66 66 66 66 66 66 66 66 66 66 66 66 66 66 66 66 66 66 66 66 66 66 66 66\n",
            " 66 66 66 66 66 66 66 66 66 66 66 66 66 66 66 66 66 66 66 66 66 66 66 66\n",
            " 66 66 66 66 66 66 66 66 66 66 66 66 66 66 66 66 66 66 66 66 66 66 66 66\n",
            " 66 66 66 66 66 66 66 66 66 66 66 66 66 66 66 66 66 66 66 66 66 66 66 66\n",
            " 66 66 66 66 66 66 66 66]\n"
          ]
        },
        {
          "output_type": "stream",
          "name": "stderr",
          "text": [
            "Epoch6/100 [Val Pass]:  24%|██▍       | 8/33 [00:14<00:34,  1.39s/it, loss=4.82]"
          ]
        },
        {
          "output_type": "stream",
          "name": "stdout",
          "text": [
            "Sample Predictions: [66 66 66 66 66 66 66 66 66 66 66 66 66 66 66 66 66 66 66 66 66 66 66 66\n",
            " 66 66 66 66 66 66 66 66 66 66 66 66 66 66 66 66 66 66 66 66 66 66 66 66\n",
            " 66 66 66 66 66 66 66 66 66 66 66 66 66 66 66 66 66 66 66 66 66 66 66 66\n",
            " 66 66 66 66 66 66 66 66 66 66 66 66 66 66 66 66 66 66 66 66 66 66 66 66\n",
            " 66 66 66 66 66 66 66 66 66 66 66 66 66 66 66 66 66 66 66 66 66 66 66 66\n",
            " 66 66 66 66 66 66 66 66]\n",
            "Sample Predictions: [66 66 66 66 66 66 66 66 66 66 66 66 66 66 66 66 66 66 66 66 66 66 66 66\n",
            " 66 66 66 66 66 66 66 66 66 66 66 66 66 66 66 66 66 66 66 66 66 66 66 66\n",
            " 66 66 66 66 66 66 66 66 66 66 66 66 66 66 66 66 66 66 66 66 66 66 66 66\n",
            " 66 66 66 66 66 66 66 66 66 66 66 66 66 66 66 66 66 66 66 66 66 66 66 66\n",
            " 66 66 66 66 66 66 66 66 66 66 66 66 66 66 66 66 66 66 66 66 66 66 66 66\n",
            " 66 66 66 66 66 66 66 66]\n"
          ]
        },
        {
          "output_type": "stream",
          "name": "stderr",
          "text": [
            "Epoch6/100 [Val Pass]:  27%|██▋       | 9/33 [00:19<00:54,  2.27s/it, loss=4.8] "
          ]
        },
        {
          "output_type": "stream",
          "name": "stdout",
          "text": [
            "Sample Predictions: [66 66 66 66 66 66 66 66 66 66 66 66 66 66 66 66 66 66 66 66 66 66 66 66\n",
            " 66 66 66 66 66 66 66 66 66 66 66 66 66 66 66 66 66 66 66 66 66 66 66 66\n",
            " 66 66 66 66 66 66 66 66 66 66 66 66 66 66 66 66 66 66 66 66 66 66 66 66\n",
            " 66 66 66 66 66 66 66 66 66 66 66 66 66 66 66 66 66 66 66 66 66 66 66 66\n",
            " 66 66 66 66 66 66 66 66 66 66 66 66 66 66 66 66 66 66 66 66 66 66 66 66\n",
            " 66 66 66 66 66 66 66 66]\n",
            "Sample Predictions: [66 66 66 66 66 66 66 66 66 66 66 66 66 66 66 66 66 66 66 66 66 66 66 66\n",
            " 66 66 66 66 66 66 66 66 66 66 66 66 66 66 66 66 66 66 66 66 66 66 66 66\n",
            " 66 66 66 66 66 66 66 66 66 66 66 66 66 66 66 66 66 66 66 66 66 66 66 66\n",
            " 66 66 66 66 66 66 66 66 66 66 66 66 66 66 66 66 66 66 66 66 66 66 66 66\n",
            " 66 66 66 66 66 66 66 66 66 66 66 66 66 66 66 66 66 66 66 66 66 66 66 66\n",
            " 66 66 66 66 66 66 66 66]\n"
          ]
        },
        {
          "output_type": "stream",
          "name": "stderr",
          "text": [
            "Epoch6/100 [Val Pass]:  36%|███▋      | 12/33 [00:22<00:32,  1.54s/it, loss=4.81]"
          ]
        },
        {
          "output_type": "stream",
          "name": "stdout",
          "text": [
            "Sample Predictions: [66 66 66 66 66 66 66 66 66 66 66 66 66 66 66 66 66 66 66 66 66 66 66 66\n",
            " 66 66 66 66 66 66 66 66 66 66 66 66 66 66 66 66 66 66 66 66 66 66 66 66\n",
            " 66 66 66 66 66 66 66 66 66 66 66 66 66 66 66 66 66 66 66 66 66 66 66 66\n",
            " 66 66 66 66 66 66 66 66 66 66 66 66 66 66 66 66 66 66 66 66 66 66 66 66\n",
            " 66 66 66 66 66 66 66 66 66 66 66 66 66 66 66 66 66 66 66 66 66 66 66 66\n",
            " 66 66 66 66 66 66 66 66]\n",
            "Sample Predictions: [66 66 66 66 66 66 66 66 66 66 66 66 66 66 66 66 66 66 66 66 66 66 66 66\n",
            " 66 66 66 66 66 66 66 66 66 66 66 66 66 66 66 66 66 66 66 66 66 66 66 66\n",
            " 66 66 66 66 66 66 66 66 66 66 66 66 66 66 66 66 66 66 66 66 66 66 66 66\n",
            " 66 66 66 66 66 66 66 66 66 66 66 66 66 66 66 66 66 66 66 66 66 66 66 66\n",
            " 66 66 66 66 66 66 66 66 66 66 66 66 66 66 66 66 66 66 66 66 66 66 66 66\n",
            " 66 66 66 66 66 66 66 66]\n"
          ]
        },
        {
          "output_type": "stream",
          "name": "stderr",
          "text": [
            "Epoch6/100 [Val Pass]:  42%|████▏     | 14/33 [00:25<00:27,  1.43s/it, loss=4.82]"
          ]
        },
        {
          "output_type": "stream",
          "name": "stdout",
          "text": [
            "Sample Predictions: [66 66 66 66 66 66 66 66 66 66 66 66 66 66 66 66 66 66 66 66 66 66 66 66\n",
            " 66 66 66 66 66 66 66 66 66 66 66 66 66 66 66 66 66 66 66 66 66 66 66 66\n",
            " 66 66 66 66 66 66 66 66 66 66 66 66 66 66 66 66 66 66 66 66 66 66 66 66\n",
            " 66 66 66 66 66 66 66 66 66 66 66 66 66 66 66 66 66 66 66 66 66 66 66 66\n",
            " 66 66 66 66 66 66 66 66 66 66 66 66 66 66 66 66 66 66 66 66 66 66 66 66\n",
            " 66 66 66 66 66 66 66 66]\n",
            "Sample Predictions: [66 66 66 66 66 66 66 66 66 66 66 66 66 66 66 66 66 66 66 66 66 66 66 66\n",
            " 66 66 66 66 66 66 66 66 66 66 66 66 66 66 66 66 66 66 66 66 66 66 66 66\n",
            " 66 66 66 66 66 66 66 66 66 66 66 66 66 66 66 66 66 66 66 66 66 66 66 66\n",
            " 66 66 66 66 66 66 66 66 66 66 66 66 66 66 66 66 66 66 66 66 66 66 66 66\n",
            " 66 66 66 66 66 66 66 66 66 66 66 66 66 66 66 66 66 66 66 66 66 66 66 66\n",
            " 66 66 66 66 66 66 66 66]\n"
          ]
        },
        {
          "output_type": "stream",
          "name": "stderr",
          "text": [
            "Epoch6/100 [Val Pass]:  48%|████▊     | 16/33 [00:28<00:22,  1.32s/it, loss=4.79]"
          ]
        },
        {
          "output_type": "stream",
          "name": "stdout",
          "text": [
            "Sample Predictions: [66 66 66 66 66 66 66 66 66 66 66 66 66 66 66 66 66 66 66 66 66 66 66 66\n",
            " 66 66 66 66 66 66 66 66 66 66 66 66 66 66 66 66 66 66 66 66 66 66 66 66\n",
            " 66 66 66 66 66 66 66 66 66 66 66 66 66 66 66 66 66 66 66 66 66 66 66 66\n",
            " 66 66 66 66 66 66 66 66 66 66 66 66 66 66 66 66 66 66 66 66 66 66 66 66\n",
            " 66 66 66 66 66 66 66 66 66 66 66 66 66 66 66 66 66 66 66 66 66 66 66 66\n",
            " 66 66 66 66 66 66 66 66]\n",
            "Sample Predictions: [66 66 66 66 66 66 66 66 66 66 66 66 66 66 66 66 66 66 66 66 66 66 66 66\n",
            " 66 66 66 66 66 66 66 66 66 66 66 66 66 66 66 66 66 66 66 66 66 66 66 66\n",
            " 66 66 66 66 66 66 66 66 66 66 66 66 66 66 66 66 66 66 66 66 66 66 66 66\n",
            " 66 66 66 66 66 66 66 66 66 66 66 66 66 66 66 66 66 66 66 66 66 66 66 66\n",
            " 66 66 66 66 66 66 66 66 66 66 66 66 66 66 66 66 66 66 66 66 66 66 66 66\n",
            " 66 66 66 66 66 66 66 66]\n"
          ]
        },
        {
          "output_type": "stream",
          "name": "stderr",
          "text": [
            "Epoch6/100 [Val Pass]:  55%|█████▍    | 18/33 [00:32<00:21,  1.45s/it, loss=4.81]"
          ]
        },
        {
          "output_type": "stream",
          "name": "stdout",
          "text": [
            "Sample Predictions: [66 66 66 66 66 66 66 66 66 66 66 66 66 66 66 66 66 66 66 66 66 66 66 66\n",
            " 66 66 66 66 66 66 66 66 66 66 66 66 66 66 66 66 66 66 66 66 66 66 66 66\n",
            " 66 66 66 66 66 66 66 66 66 66 66 66 66 66 66 66 66 66 66 66 66 66 66 66\n",
            " 66 66 66 66 66 66 66 66 66 66 66 66 66 66 66 66 66 66 66 66 66 66 66 66\n",
            " 66 66 66 66 66 66 66 66 66 66 66 66 66 66 66 66 66 66 66 66 66 66 66 66\n",
            " 66 66 66 66 66 66 66 66]\n",
            "Sample Predictions: [66 66 66 66 66 66 66 66 66 66 66 66 66 66 66 66 66 66 66 66 66 66 66 66\n",
            " 66 66 66 66 66 66 66 66 66 66 66 66 66 66 66 66 66 66 66 66 66 66 66 66\n",
            " 66 66 66 66 66 66 66 66 66 66 66 66 66 66 66 66 66 66 66 66 66 66 66 66\n",
            " 66 66 66 66 66 66 66 66 66 66 66 66 66 66 66 66 66 66 66 66 66 66 66 66\n",
            " 66 66 66 66 66 66 66 66 66 66 66 66 66 66 66 66 66 66 66 66 66 66 66 66\n",
            " 66 66 66 66 66 66 66 66]\n"
          ]
        },
        {
          "output_type": "stream",
          "name": "stderr",
          "text": [
            "Epoch6/100 [Val Pass]:  61%|██████    | 20/33 [00:36<00:20,  1.54s/it, loss=4.77]"
          ]
        },
        {
          "output_type": "stream",
          "name": "stdout",
          "text": [
            "Sample Predictions: [66 66 66 66 66 66 66 66 66 66 66 66 66 66 66 66 66 66 66 66 66 66 66 66\n",
            " 66 66 66 66 66 66 66 66 66 66 66 66 66 66 66 66 66 66 66 66 66 66 66 66\n",
            " 66 66 66 66 66 66 66 66 66 66 66 66 66 66 66 66 66 66 66 66 66 66 66 66\n",
            " 66 66 66 66 66 66 66 66 66 66 66 66 66 66 66 66 66 66 66 66 66 66 66 66\n",
            " 66 66 66 66 66 66 66 66 66 66 66 66 66 66 66 66 66 66 66 66 66 66 66 66\n",
            " 66 66 66 66 66 66 66 66]\n",
            "Sample Predictions: [66 66 66 66 66 66 66 66 66 66 66 66 66 66 66 66 66 66 66 66 66 66 66 66\n",
            " 66 66 66 66 66 66 66 66 66 66 66 66 66 66 66 66 66 66 66 66 66 66 66 66\n",
            " 66 66 66 66 66 66 66 66 66 66 66 66 66 66 66 66 66 66 66 66 66 66 66 66\n",
            " 66 66 66 66 66 66 66 66 66 66 66 66 66 66 66 66 66 66 66 66 66 66 66 66\n",
            " 66 66 66 66 66 66 66 66 66 66 66 66 66 66 66 66 66 66 66 66 66 66 66 66\n",
            " 66 66 66 66 66 66 66 66]\n"
          ]
        },
        {
          "output_type": "stream",
          "name": "stderr",
          "text": [
            "Epoch6/100 [Val Pass]:  64%|██████▎   | 21/33 [00:38<00:22,  1.87s/it, loss=4.83]"
          ]
        },
        {
          "output_type": "stream",
          "name": "stdout",
          "text": [
            "Sample Predictions: [66 66 66 66 66 66 66 66 66 66 66 66 66 66 66 66 66 66 66 66 66 66 66 66\n",
            " 66 66 66 66 66 66 66 66 66 66 66 66 66 66 66 66 66 66 66 66 66 66 66 66\n",
            " 66 66 66 66 66 66 66 66 66 66 66 66 66 66 66 66 66 66 66 66 66 66 66 66\n",
            " 66 66 66 66 66 66 66 66 66 66 66 66 66 66 66 66 66 66 66 66 66 66 66 66\n",
            " 66 66 66 66 66 66 66 66 66 66 66 66 66 66 66 66 66 66 66 66 66 66 66 66\n",
            " 66 66 66 66 66 66 66 66]\n"
          ]
        },
        {
          "output_type": "stream",
          "name": "stderr",
          "text": [
            "Epoch6/100 [Val Pass]:  67%|██████▋   | 22/33 [00:38<00:15,  1.38s/it, loss=4.78]"
          ]
        },
        {
          "output_type": "stream",
          "name": "stdout",
          "text": [
            "Sample Predictions: [66 66 66 66 66 66 66 66 66 66 66 66 66 66 66 66 66 66 66 66 66 66 66 66\n",
            " 66 66 66 66 66 66 66 66 66 66 66 66 66 66 66 66 66 66 66 66 66 66 66 66\n",
            " 66 66 66 66 66 66 66 66 66 66 66 66 66 66 66 66 66 66 66 66 66 66 66 66\n",
            " 66 66 66 66 66 66 66 66 66 66 66 66 66 66 66 66 66 66 66 66 66 66 66 66\n",
            " 66 66 66 66 66 66 66 66 66 66 66 66 66 66 66 66 66 66 66 66 66 66 66 66\n",
            " 66 66 66 66 66 66 66 66]\n"
          ]
        },
        {
          "output_type": "stream",
          "name": "stderr",
          "text": [
            "Epoch6/100 [Val Pass]:  73%|███████▎  | 24/33 [00:42<00:12,  1.36s/it, loss=4.77]"
          ]
        },
        {
          "output_type": "stream",
          "name": "stdout",
          "text": [
            "Sample Predictions: [66 66 66 66 66 66 66 66 66 66 66 66 66 66 66 66 66 66 66 66 66 66 66 66\n",
            " 66 66 66 66 66 66 66 66 66 66 66 66 66 66 66 66 66 66 66 66 66 66 66 66\n",
            " 66 66 66 66 66 66 66 66 66 66 66 66 66 66 66 66 66 66 66 66 66 66 66 66\n",
            " 66 66 66 66 66 66 66 66 66 66 66 66 66 66 66 66 66 66 66 66 66 66 66 66\n",
            " 66 66 66 66 66 66 66 66 66 66 66 66 66 66 66 66 66 66 66 66 66 66 66 66\n",
            " 66 66 66 66 66 66 66 66]\n",
            "Sample Predictions: [66 66 66 66 66 66 66 66 66 66 66 66 66 66 66 66 66 66 66 66 66 66 66 66\n",
            " 66 66 66 66 66 66 66 66 66 66 66 66 66 66 66 66 66 66 66 66 66 66 66 66\n",
            " 66 66 66 66 66 66 66 66 66 66 66 66 66 66 66 66 66 66 66 66 66 66 66 66\n",
            " 66 66 66 66 66 66 66 66 66 66 66 66 66 66 66 66 66 66 66 66 66 66 66 66\n",
            " 66 66 66 66 66 66 66 66 66 66 66 66 66 66 66 66 66 66 66 66 66 66 66 66\n",
            " 66 66 66 66 66 66 66 66]\n"
          ]
        },
        {
          "output_type": "stream",
          "name": "stderr",
          "text": [
            "Epoch6/100 [Val Pass]:  79%|███████▉  | 26/33 [00:45<00:10,  1.47s/it, loss=4.88]"
          ]
        },
        {
          "output_type": "stream",
          "name": "stdout",
          "text": [
            "Sample Predictions: [66 66 66 66 66 66 66 66 66 66 66 66 66 66 66 66 66 66 66 66 66 66 66 66\n",
            " 66 66 66 66 66 66 66 66 66 66 66 66 66 66 66 66 66 66 66 66 66 66 66 66\n",
            " 66 66 66 66 66 66 66 66 66 66 66 66 66 66 66 66 66 66 66 66 66 66 66 66\n",
            " 66 66 66 66 66 66 66 66 66 66 66 66 66 66 66 66 66 66 66 66 66 66 66 66\n",
            " 66 66 66 66 66 66 66 66 66 66 66 66 66 66 66 66 66 66 66 66 66 66 66 66\n",
            " 66 66 66 66 66 66 66 66]\n",
            "Sample Predictions: [66 66 66 66 66 66 66 66 66 66 66 66 66 66 66 66 66 66 66 66 66 66 66 66\n",
            " 66 66 66 66 66 66 66 66 66 66 66 66 66 66 66 66 66 66 66 66 66 66 66 66\n",
            " 66 66 66 66 66 66 66 66 66 66 66 66 66 66 66 66 66 66 66 66 66 66 66 66\n",
            " 66 66 66 66 66 66 66 66 66 66 66 66 66 66 66 66 66 66 66 66 66 66 66 66\n",
            " 66 66 66 66 66 66 66 66 66 66 66 66 66 66 66 66 66 66 66 66 66 66 66 66\n",
            " 66 66 66 66 66 66 66 66]\n"
          ]
        },
        {
          "output_type": "stream",
          "name": "stderr",
          "text": [
            "Epoch6/100 [Val Pass]:  82%|████████▏ | 27/33 [00:49<00:12,  2.08s/it, loss=4.83]"
          ]
        },
        {
          "output_type": "stream",
          "name": "stdout",
          "text": [
            "Sample Predictions: [66 66 66 66 66 66 66 66 66 66 66 66 66 66 66 66 66 66 66 66 66 66 66 66\n",
            " 66 66 66 66 66 66 66 66 66 66 66 66 66 66 66 66 66 66 66 66 66 66 66 66\n",
            " 66 66 66 66 66 66 66 66 66 66 66 66 66 66 66 66 66 66 66 66 66 66 66 66\n",
            " 66 66 66 66 66 66 66 66 66 66 66 66 66 66 66 66 66 66 66 66 66 66 66 66\n",
            " 66 66 66 66 66 66 66 66 66 66 66 66 66 66 66 66 66 66 66 66 66 66 66 66\n",
            " 66 66 66 66 66 66 66 66]\n"
          ]
        },
        {
          "output_type": "stream",
          "name": "stderr",
          "text": [
            "Epoch6/100 [Val Pass]:  85%|████████▍ | 28/33 [00:49<00:08,  1.61s/it, loss=4.8]"
          ]
        },
        {
          "output_type": "stream",
          "name": "stdout",
          "text": [
            "Sample Predictions: [66 66 66 66 66 66 66 66 66 66 66 66 66 66 66 66 66 66 66 66 66 66 66 66\n",
            " 66 66 66 66 66 66 66 66 66 66 66 66 66 66 66 66 66 66 66 66 66 66 66 66\n",
            " 66 66 66 66 66 66 66 66 66 66 66 66 66 66 66 66 66 66 66 66 66 66 66 66\n",
            " 66 66 66 66 66 66 66 66 66 66 66 66 66 66 66 66 66 66 66 66 66 66 66 66\n",
            " 66 66 66 66 66 66 66 66 66 66 66 66 66 66 66 66 66 66 66 66 66 66 66 66\n",
            " 66 66 66 66 66 66 66 66]\n"
          ]
        },
        {
          "output_type": "stream",
          "name": "stderr",
          "text": [
            "Epoch6/100 [Val Pass]:  88%|████████▊ | 29/33 [00:52<00:07,  1.90s/it, loss=4.78]"
          ]
        },
        {
          "output_type": "stream",
          "name": "stdout",
          "text": [
            "Sample Predictions: [66 66 66 66 66 66 66 66 66 66 66 66 66 66 66 66 66 66 66 66 66 66 66 66\n",
            " 66 66 66 66 66 66 66 66 66 66 66 66 66 66 66 66 66 66 66 66 66 66 66 66\n",
            " 66 66 66 66 66 66 66 66 66 66 66 66 66 66 66 66 66 66 66 66 66 66 66 66\n",
            " 66 66 66 66 66 66 66 66 66 66 66 66 66 66 66 66 66 66 66 66 66 66 66 66\n",
            " 66 66 66 66 66 66 66 66 66 66 66 66 66 66 66 66 66 66 66 66 66 66 66 66\n",
            " 66 66 66 66 66 66 66 66]\n"
          ]
        },
        {
          "output_type": "stream",
          "name": "stderr",
          "text": [
            "Epoch6/100 [Val Pass]:  91%|█████████ | 30/33 [00:52<00:04,  1.46s/it, loss=4.83]"
          ]
        },
        {
          "output_type": "stream",
          "name": "stdout",
          "text": [
            "Sample Predictions: [66 66 66 66 66 66 66 66 66 66 66 66 66 66 66 66 66 66 66 66 66 66 66 66\n",
            " 66 66 66 66 66 66 66 66 66 66 66 66 66 66 66 66 66 66 66 66 66 66 66 66\n",
            " 66 66 66 66 66 66 66 66 66 66 66 66 66 66 66 66 66 66 66 66 66 66 66 66\n",
            " 66 66 66 66 66 66 66 66 66 66 66 66 66 66 66 66 66 66 66 66 66 66 66 66\n",
            " 66 66 66 66 66 66 66 66 66 66 66 66 66 66 66 66 66 66 66 66 66 66 66 66\n",
            " 66 66 66 66 66 66 66 66]\n"
          ]
        },
        {
          "output_type": "stream",
          "name": "stderr",
          "text": [
            "Epoch6/100 [Val Pass]:  94%|█████████▍| 31/33 [00:55<00:03,  1.75s/it, loss=4.8]"
          ]
        },
        {
          "output_type": "stream",
          "name": "stdout",
          "text": [
            "Sample Predictions: [66 66 66 66 66 66 66 66 66 66 66 66 66 66 66 66 66 66 66 66 66 66 66 66\n",
            " 66 66 66 66 66 66 66 66 66 66 66 66 66 66 66 66 66 66 66 66 66 66 66 66\n",
            " 66 66 66 66 66 66 66 66 66 66 66 66 66 66 66 66 66 66 66 66 66 66 66 66\n",
            " 66 66 66 66 66 66 66 66 66 66 66 66 66 66 66 66 66 66 66 66 66 66 66 66\n",
            " 66 66 66 66 66 66 66 66 66 66 66 66 66 66 66 66 66 66 66 66 66 66 66 66\n",
            " 66 66 66 66 66 66 66 66]\n"
          ]
        },
        {
          "output_type": "stream",
          "name": "stderr",
          "text": [
            "Epoch6/100 [Val Pass]: 100%|██████████| 33/33 [00:55<00:00,  1.69s/it, loss=4.81]\n"
          ]
        },
        {
          "output_type": "stream",
          "name": "stdout",
          "text": [
            "Sample Predictions: [66 66 66 66 66 66 66 66 66 66 66 66 66 66 66 66 66 66 66 66 66 66 66 66\n",
            " 66 66 66 66 66 66 66 66 66 66 66 66 66 66 66 66 66 66 66 66 66 66 66 66\n",
            " 66 66 66 66 66 66 66 66 66 66 66 66 66 66 66 66 66 66 66 66 66 66 66 66\n",
            " 66 66 66 66 66 66 66 66 66 66 66 66 66 66 66 66 66 66 66 66 66 66 66 66\n",
            " 66 66 66 66 66 66 66 66 66 66 66 66 66 66 66 66 66 66 66 66 66 66 66 66\n",
            " 66 66 66 66 66 66 66 66]\n",
            "Sample Predictions: [66 66 66 66 66 66 66 66 66 66 66 66 66 66 66 66 66 66 66 66]\n",
            "No improvement in Val Loss. Counter: 1/20\n",
            "Epoch 6/100:\n",
            "Train Loss: 4.761 | Train Acc: 1.22 %\n",
            "Val Loss: 4.806 | Val Acc: 1.07 %\n"
          ]
        },
        {
          "output_type": "stream",
          "name": "stderr",
          "text": [
            "Epoch 7/100 [Train Pass]: 100%|██████████| 76/76 [03:16<00:00,  2.58s/it, loss=4.82]\n",
            "Epoch7/100 [Val Pass]:   6%|▌         | 2/33 [00:03<00:47,  1.53s/it, loss=4.81]"
          ]
        },
        {
          "output_type": "stream",
          "name": "stdout",
          "text": [
            "Sample Predictions: [ 0 75 75  0 75  0  0  0  0 75  0  0 75  0  0  0  0  0  0 75 75  0  0  0\n",
            "  0 75  0 75 75  0  0 75  0 75  0  0  0 75  0  0 75  0 75  0  0  0 75  0\n",
            "  0  0  0  0  0 75 75 75  0  0  0  0 75  0  0  0  0 75 75  0  0  0  0 75\n",
            "  0  0  0  0  0  0  0  0 75 75 75 75  0  0 75  0 75  0  0 75  0  0 75 75\n",
            "  0 75  0  0  0  0  0  0 75  0  0  0  0  0  0  0 75  0  0 75  0  0 75  0\n",
            " 75  0  0  0  0  0  0  0]\n",
            "Sample Predictions: [75 75  0  0  0  0  0  0  0  0 75  0 75  0 75  0  0  0 75  0  0  0  0 75\n",
            "  0 75  0  0  0  0  0 75 75 75 75 75 75  0 75  0  0 75 75  0  0 75  0  0\n",
            "  0 75 75  0 75  0  0  0  0  0 75  0 75  0  0  0  0  0  0  0 75  0 75  0\n",
            "  0  0 75 75  0  0 75 75  0 75 75  0  0 75  0 75  0 75 75  0  0  0  0  0\n",
            "  0  0  0 75  0  0  0 75  0 75  0 75  0 75  0 75 75  0  0 75 75  0  0  0\n",
            "  0 75  0 75  0  0  0 75]\n"
          ]
        },
        {
          "output_type": "stream",
          "name": "stderr",
          "text": [
            "Epoch7/100 [Val Pass]:  12%|█▏        | 4/33 [00:06<00:37,  1.31s/it, loss=4.86]"
          ]
        },
        {
          "output_type": "stream",
          "name": "stdout",
          "text": [
            "Sample Predictions: [ 0  0  0  0 75 75  0  0  0  0 75  0  0  0  0  0  0  0  0 75 75  0 75  0\n",
            "  0  0  0  0  0  0  0  0 75 75 75 75  0 75  0  0  0  0  0  0  0  0 75 75\n",
            "  0 75 75  0  0  0 75  0 75  0  0 75  0 75  0 75  0 75 75  0 75 75  0  0\n",
            "  0  0 75  0  0  0  0 75 75  0  0  0  0 75  0  0 75  0  0  0 75  0 75  0\n",
            "  0  0  0  0  0  0 75 75  0 75 75 75  0  0  0 75  0  0  0  0  0 75  0  0\n",
            " 75  0 75 75  0  0  0  0]\n",
            "Sample Predictions: [ 0 75  0  0  0  0 75  0  0  0  0  0  0  0  0  0 75 75  0  0  0  0  0 75\n",
            "  0  0  0  0  0  0 75  0 75 75 75 75 75  0  0  0  0  0  0  0 75  0  0 75\n",
            " 75  0 75  0 75 75  0 75  0 75 75 75  0 75  0 75  0 75  0 75 75  0  0  0\n",
            " 75 75  0 75 75 75  0 75  0 75  0  0  0  0  0 75  0  0 75 75 75  0  0  0\n",
            "  0 75 75  0  0  0  0  0 75  0  0  0  0 75  0  0  0  0  0  0 75  0  0 75\n",
            " 75  0  0 75 75  0  0  0]\n"
          ]
        },
        {
          "output_type": "stream",
          "name": "stderr",
          "text": [
            "Epoch7/100 [Val Pass]:  15%|█▌        | 5/33 [00:10<01:04,  2.32s/it, loss=4.78]"
          ]
        },
        {
          "output_type": "stream",
          "name": "stdout",
          "text": [
            "Sample Predictions: [75 75  0  0  0  0  0  0 75 75  0  0  0  0 75 75  0  0  0  0  0  0  0 75\n",
            " 75  0  0 75  0  0  0  0  0  0  0  0  0  0  0  0  0 75 75  0  0  0  0 75\n",
            "  0  0  0  0  0  0  0  0  0 75 75 75  0  0  0  0  0 75  0 75 75 75 75  0\n",
            "  0 75  0  0 75  0  0  0  0  0  0  0 75  0  0  0 75 75 75  0  0  0  0  0\n",
            " 75 75  0 75  0 75  0 75  0 75 75  0  0  0  0 75  0  0  0 75  0 75  0 75\n",
            " 75 75 75 75  0  0 75  0]\n"
          ]
        },
        {
          "output_type": "stream",
          "name": "stderr",
          "text": [
            "Epoch7/100 [Val Pass]:  18%|█▊        | 6/33 [00:10<00:44,  1.66s/it, loss=4.82]"
          ]
        },
        {
          "output_type": "stream",
          "name": "stdout",
          "text": [
            "Sample Predictions: [ 0 75 75 75  0  0 75 75  0  0  0  0 75 75  0  0 75  0  0 75  0  0  0  0\n",
            "  0  0  0  0 75  0 75  0  0  0  0  0  0  0  0  0  0  0  0  0  0  0  0 75\n",
            "  0  0 75 75 75  0  0  0  0  0 75  0  0  0  0  0  0  0  0  0  0 75  0  0\n",
            "  0 75 75  0 75 75  0  0  0  0 75  0  0 75  0  0  0  0  0  0 75  0 75  0\n",
            " 75  0  0  0  0  0 75  0  0  0  0 75  0  0  0 75  0 75  0  0  0 75 75  0\n",
            " 75  0  0  0  0  0 75 75]\n"
          ]
        },
        {
          "output_type": "stream",
          "name": "stderr",
          "text": [
            "Epoch7/100 [Val Pass]:  21%|██        | 7/33 [00:13<00:53,  2.04s/it, loss=4.78]"
          ]
        },
        {
          "output_type": "stream",
          "name": "stdout",
          "text": [
            "Sample Predictions: [ 0 75 75  0 75  0 75  0  0 75  0 75 75 75  0  0  0 75 75  0 75 75  0  0\n",
            "  0  0  0  0 75 75  0  0  0 75  0  0  0  0 75  0  0  0  0  0  0 75 75  0\n",
            "  0  0  0  0 75  0 75  0  0 75  0  0 75 75 75 75 75 75  0  0 75  0 75 75\n",
            "  0  0 75  0  0  0  0  0 75  0 75  0  0  0  0  0 75  0  0 75  0 75  0  0\n",
            "  0 75  0 75  0 75  0  0  0  0 75 75  0 75 75  0  0  0 75  0 75 75  0  0\n",
            " 75  0 75 75  0 75  0  0]\n"
          ]
        },
        {
          "output_type": "stream",
          "name": "stderr",
          "text": [
            "Epoch7/100 [Val Pass]:  24%|██▍       | 8/33 [00:14<00:38,  1.54s/it, loss=4.86]"
          ]
        },
        {
          "output_type": "stream",
          "name": "stdout",
          "text": [
            "Sample Predictions: [ 0  0 75 75 75 75 75 75  0  0  0  0  0  0  0  0  0  0  0  0  0 75  0  0\n",
            "  0  0 75  0 75 75  0 75  0  0  0  0  0  0 75  0  0  0  0  0  0  0  0  0\n",
            " 75  0  0  0  0  0  0 75  0  0  0  0  0  0 75 75  0 75  0  0 75 75 75 75\n",
            " 75 75  0 75 75  0  0 75  0  0  0  0 75  0  0  0  0  0 75  0  0 75 75  0\n",
            "  0 75 75  0  0  0  0 75  0 75  0  0 75  0  0  0  0  0  0  0 75  0 75  0\n",
            "  0  0  0 75  0 75  0  0]\n"
          ]
        },
        {
          "output_type": "stream",
          "name": "stderr",
          "text": [
            "Epoch7/100 [Val Pass]:  27%|██▋       | 9/33 [00:16<00:43,  1.81s/it, loss=4.78]"
          ]
        },
        {
          "output_type": "stream",
          "name": "stdout",
          "text": [
            "Sample Predictions: [ 0 75  0  0  0 75 75  0  0  0  0 75 75  0 75 75  0  0  0  0  0 75  0 75\n",
            "  0  0  0  0  0  0 75  0  0 75 75 75 75 75  0  0  0 75 75  0 75  0  0  0\n",
            "  0 75 75 75  0  0  0 75  0  0 75  0  0  0 75  0  0 75  0 75 75  0  0 75\n",
            "  0  0  0  0  0 75  0  0  0  0  0  0  0 75  0 75  0  0  0 75  0  0  0  0\n",
            "  0  0  0  0  0  0  0 75 75 75  0  0  0 75 75  0  0  0  0 75  0  0  0  0\n",
            "  0 75  0  0 75  0  0  0]\n"
          ]
        },
        {
          "output_type": "stream",
          "name": "stderr",
          "text": [
            "Epoch7/100 [Val Pass]:  30%|███       | 10/33 [00:17<00:32,  1.40s/it, loss=4.81]"
          ]
        },
        {
          "output_type": "stream",
          "name": "stdout",
          "text": [
            "Sample Predictions: [ 0 75  0 75  0 75 75 75  0 75  0 75 75  0 75 75 75  0 75 75  0  0 75  0\n",
            "  0 75 75  0  0  0  0  0 75 75  0 75  0  0  0  0  0  0  0  0 75  0  0  0\n",
            "  0  0 75 75  0 75  0  0  0  0 75  0 75  0  0  0  0 75  0 75 75  0  0 75\n",
            "  0  0  0  0 75  0 75 75  0  0  0 75  0 75 75  0  0  0  0  0 75  0 75  0\n",
            "  0  0  0 75  0 75 75 75  0  0  0 75  0 75 75 75 75 75  0  0 75  0  0  0\n",
            " 75  0 75  0 75 75 75  0]\n"
          ]
        },
        {
          "output_type": "stream",
          "name": "stderr",
          "text": [
            "Epoch7/100 [Val Pass]:  33%|███▎      | 11/33 [00:19<00:39,  1.80s/it, loss=4.82]"
          ]
        },
        {
          "output_type": "stream",
          "name": "stdout",
          "text": [
            "Sample Predictions: [ 0  0  0  0  0 75  0 75 75 75  0  0  0  0  0 75  0  0  0  0 75 75  0  0\n",
            "  0 75  0 75  0 75 75  0  0 75  0  0  0  0 75 75 75  0 75 75 75  0  0  0\n",
            "  0 75  0  0  0  0 75  0  0 75 75 75 75 75  0 75  0  0  0  0  0  0  0 75\n",
            "  0  0  0  0 75 75  0  0  0  0  0  0  0  0  0  0  0 75 75 75 75  0 75  0\n",
            "  0 75  0 75 75  0 75  0  0  0  0  0 75 75 75  0  0 75  0  0 75  0  0  0\n",
            "  0  0  0  0  0 75 75  0]\n"
          ]
        },
        {
          "output_type": "stream",
          "name": "stderr",
          "text": [
            "Epoch7/100 [Val Pass]:  36%|███▋      | 12/33 [00:20<00:27,  1.32s/it, loss=4.84]"
          ]
        },
        {
          "output_type": "stream",
          "name": "stdout",
          "text": [
            "Sample Predictions: [75  0  0 75  0  0  0  0  0  0  0  0  0  0  0 75 75 75  0  0  0 75  0  0\n",
            "  0  0 75 75  0  0  0  0 75  0 75  0 75  0 75  0 75  0  0  0 75 75  0 75\n",
            " 75  0  0  0  0 75  0  0 75  0  0 75 75  0  0  0  0 75  0 75  0  0  0 75\n",
            " 75  0  0  0  0  0  0  0 75 75 75  0 75  0  0 75  0 75  0  0  0  0  0  0\n",
            "  0  0  0 75  0 75 75  0 75 75 75 75 75  0  0 75  0  0  0  0  0  0  0  0\n",
            " 75 75  0  0  0  0  0 75]\n"
          ]
        },
        {
          "output_type": "stream",
          "name": "stderr",
          "text": [
            "Epoch7/100 [Val Pass]:  39%|███▉      | 13/33 [00:23<00:40,  2.01s/it, loss=4.76]"
          ]
        },
        {
          "output_type": "stream",
          "name": "stdout",
          "text": [
            "Sample Predictions: [ 0  0  0  0  0  0 75 75  0  0  0  0  0  0 75 75  0  0 75 75  0  0 75  0\n",
            "  0  0 75 75 75  0  0  0  0  0 75  0  0 75  0  0  0 75  0 75  0  0  0 75\n",
            " 75 75 75 75  0  0  0  0  0 75 75  0  0  0 75  0  0  0 75  0 75 75  0  0\n",
            " 75  0 75  0  0 75  0  0  0 75 75  0  0  0 75 75 75  0 75  0 75  0  0 75\n",
            "  0  0 75  0  0  0 75 75 75  0  0  0  0 75  0 75  0 75  0 75 75  0  0  0\n",
            "  0 75 75 75 75  0 75  0]\n"
          ]
        },
        {
          "output_type": "stream",
          "name": "stderr",
          "text": [
            "Epoch7/100 [Val Pass]:  42%|████▏     | 14/33 [00:23<00:28,  1.49s/it, loss=4.81]"
          ]
        },
        {
          "output_type": "stream",
          "name": "stdout",
          "text": [
            "Sample Predictions: [ 0  0  0  0 75  0  0  0 75 75 75  0  0  0  0  0  0 75  0 75 75 75  0  0\n",
            "  0  0 75  0  0  0  0  0  0  0  0  0 75  0 75 75  0  0  0  0 75  0 75  0\n",
            " 75 75  0 75  0  0  0  0  0  0  0  0 75 75  0 75  0 75 75  0 75  0  0 75\n",
            "  0  0 75  0  0 75 75 75  0  0  0  0 75 75  0  0 75  0  0  0  0 75 75  0\n",
            " 75 75  0  0  0 75  0  0  0  0  0  0  0 75  0  0  0  0  0  0  0 75 75 75\n",
            "  0  0  0  0 75  0 75 75]\n"
          ]
        },
        {
          "output_type": "stream",
          "name": "stderr",
          "text": [
            "Epoch7/100 [Val Pass]:  45%|████▌     | 15/33 [00:27<00:36,  2.03s/it, loss=4.84]"
          ]
        },
        {
          "output_type": "stream",
          "name": "stdout",
          "text": [
            "Sample Predictions: [ 0  0  0 75  0  0  0  0  0  0  0  0  0  0  0 75  0 75 75 75  0  0  0  0\n",
            "  0  0  0  0 75  0  0 75  0 75 75 75  0  0  0 75 75  0  0  0 75  0  0  0\n",
            " 75  0  0  0  0  0 75  0  0  0 75  0  0  0 75 75  0  0  0 75 75 75  0  0\n",
            "  0  0 75  0  0  0  0  0  0  0 75  0  0  0  0  0 75  0 75 75  0  0  0  0\n",
            "  0 75  0  0 75  0  0  0  0  0 75 75  0  0 75 75  0  0 75  0  0 75  0  0\n",
            " 75  0 75 75  0  0 75  0]\n"
          ]
        },
        {
          "output_type": "stream",
          "name": "stderr",
          "text": [
            "Epoch7/100 [Val Pass]:  48%|████▊     | 16/33 [00:27<00:26,  1.59s/it, loss=4.79]"
          ]
        },
        {
          "output_type": "stream",
          "name": "stdout",
          "text": [
            "Sample Predictions: [ 0 75 75  0  0  0  0  0 75  0  0 75  0 75 75  0 75 75  0 75  0  0  0 75\n",
            "  0  0  0 75 75 75  0 75 75  0 75 75  0  0 75  0  0  0 75  0 75  0  0 75\n",
            " 75  0  0  0  0  0 75  0  0 75  0 75  0 75 75  0  0 75 75  0  0  0  0  0\n",
            "  0 75  0  0 75  0  0 75  0  0  0 75 75  0 75  0  0  0  0  0  0 75  0  0\n",
            " 75 75 75  0 75  0 75  0  0  0 75  0  0  0  0  0  0 75  0  0  0 75  0 75\n",
            " 75 75  0 75 75  0  0  0]\n"
          ]
        },
        {
          "output_type": "stream",
          "name": "stderr",
          "text": [
            "Epoch7/100 [Val Pass]:  52%|█████▏    | 17/33 [00:30<00:29,  1.83s/it, loss=4.82]"
          ]
        },
        {
          "output_type": "stream",
          "name": "stdout",
          "text": [
            "Sample Predictions: [75  0  0 75  0 75  0 75  0 75 75  0 75 75  0 75  0  0  0  0  0 75  0  0\n",
            "  0  0  0  0 75 75  0 75 75  0  0  0  0 75  0  0 75  0  0  0  0 75  0 75\n",
            " 75  0 75  0  0  0  0  0  0  0  0  0  0  0  0 75  0 75  0 75  0  0  0  0\n",
            "  0  0  0  0 75 75  0  0  0 75 75  0 75  0  0  0  0 75  0  0  0  0 75  0\n",
            "  0  0 75  0 75  0 75  0 75 75  0  0  0 75  0  0 75  0  0  0  0 75 75  0\n",
            "  0  0  0  0  0 75  0  0]\n"
          ]
        },
        {
          "output_type": "stream",
          "name": "stderr",
          "text": [
            "Epoch7/100 [Val Pass]:  55%|█████▍    | 18/33 [00:30<00:22,  1.48s/it, loss=4.81]"
          ]
        },
        {
          "output_type": "stream",
          "name": "stdout",
          "text": [
            "Sample Predictions: [75 75 75  0 75 75  0 75 75  0 75  0  0 75  0  0  0 75  0 75  0 75  0 75\n",
            " 75  0 75  0  0  0  0  0  0  0  0 75  0  0  0  0  0  0 75 75 75  0  0 75\n",
            "  0 75  0  0  0 75  0  0 75  0 75 75  0 75  0  0 75  0  0  0 75 75 75 75\n",
            "  0  0  0  0  0  0 75  0  0 75  0 75  0 75  0  0  0  0  0 75 75 75  0  0\n",
            " 75 75  0 75  0  0 75  0 75 75  0  0  0 75  0  0 75  0  0 75  0 75  0  0\n",
            "  0  0 75  0 75  0  0 75]\n"
          ]
        },
        {
          "output_type": "stream",
          "name": "stderr",
          "text": [
            "Epoch7/100 [Val Pass]:  58%|█████▊    | 19/33 [00:33<00:24,  1.78s/it, loss=4.84]"
          ]
        },
        {
          "output_type": "stream",
          "name": "stdout",
          "text": [
            "Sample Predictions: [ 0  0  0  0  0 75 75 75 75  0 75  0 75 75 75  0  0  0  0  0  0 75 75  0\n",
            " 75  0  0  0  0  0 75  0  0 75  0  0  0  0  0  0  0  0 75  0  0  0 75 75\n",
            " 75  0 75  0  0  0  0 75 75 75 75  0  0  0  0  0  0 75 75  0 75 75  0 75\n",
            " 75 75  0  0 75 75 75  0 75  0  0  0  0  0  0 75 75 75  0  0 75  0 75  0\n",
            " 75  0 75  0  0  0 75  0 75  0 75  0  0 75  0  0 75 75  0 75  0  0  0  0\n",
            " 75  0  0  0  0  0  0  0]\n"
          ]
        },
        {
          "output_type": "stream",
          "name": "stderr",
          "text": [
            "Epoch7/100 [Val Pass]:  61%|██████    | 20/33 [00:34<00:19,  1.47s/it, loss=4.81]"
          ]
        },
        {
          "output_type": "stream",
          "name": "stdout",
          "text": [
            "Sample Predictions: [ 0 75  0  0  0  0 75  0  0  0  0  0 75  0  0 75 75  0  0  0  0  0  0  0\n",
            "  0  0 75  0  0  0 75  0  0  0  0 75  0  0 75  0  0  0  0  0 75 75  0  0\n",
            " 75  0  0  0  0 75  0  0 75 75 75  0 75 75 75 75  0  0  0  0 75  0  0  0\n",
            " 75  0  0  0  0  0  0  0  0 75  0  0  0  0  0  0  0  0  0  0  0  0  0  0\n",
            "  0 75  0 75  0  0  0 75  0  0  0  0  0 75  0  0 75  0  0 75  0  0 75  0\n",
            "  0 75  0 75 75  0  0  0]\n"
          ]
        },
        {
          "output_type": "stream",
          "name": "stderr",
          "text": [
            "Epoch7/100 [Val Pass]:  64%|██████▎   | 21/33 [00:36<00:20,  1.71s/it, loss=4.8]"
          ]
        },
        {
          "output_type": "stream",
          "name": "stdout",
          "text": [
            "Sample Predictions: [ 0  0 75 75 75 75 75  0  0  0 75  0  0  0 75  0  0 75 75  0 75  0  0  0\n",
            " 75  0  0 75 75  0  0 75 75 75  0 75  0 75 75  0  0  0  0  0  0 75 75  0\n",
            " 75 75  0  0 75  0 75  0 75  0 75  0  0  0  0  0  0  0  0  0  0 75  0  0\n",
            "  0  0 75  0 75 75 75 75  0  0 75  0  0 75  0  0  0  0  0  0  0  0  0  0\n",
            "  0  0  0  0  0  0 75  0 75 75  0  0  0  0  0  0 75 75  0 75  0  0  0  0\n",
            " 75  0  0  0  0  0 75  0]\n"
          ]
        },
        {
          "output_type": "stream",
          "name": "stderr",
          "text": [
            "Epoch7/100 [Val Pass]:  67%|██████▋   | 22/33 [00:37<00:16,  1.51s/it, loss=4.8]"
          ]
        },
        {
          "output_type": "stream",
          "name": "stdout",
          "text": [
            "Sample Predictions: [ 0  0  0 75 75 75 75 75  0  0  0 75  0  0 75 75  0  0  0  0  0 75  0 75\n",
            "  0  0  0  0  0  0 75 75  0  0  0  0 75 75  0 75  0  0  0 75  0  0  0  0\n",
            "  0 75  0  0  0  0  0 75 75 75  0  0  0  0  0  0  0 75  0  0  0  0  0 75\n",
            " 75  0  0 75  0  0  0  0  0  0  0 75 75  0  0  0  0  0  0  0  0 75 75  0\n",
            " 75 75 75 75  0  0  0 75 75 75 75 75 75  0  0 75  0  0  0  0  0 75 75 75\n",
            " 75 75  0  0  0  0  0  0]\n"
          ]
        },
        {
          "output_type": "stream",
          "name": "stderr",
          "text": [
            "Epoch7/100 [Val Pass]:  70%|██████▉   | 23/33 [00:41<00:21,  2.14s/it, loss=4.85]"
          ]
        },
        {
          "output_type": "stream",
          "name": "stdout",
          "text": [
            "Sample Predictions: [ 0  0  0 75 75  0  0 75  0 75  0  0  0  0  0 75 75 75 75  0  0  0 75 75\n",
            " 75 75 75  0  0  0  0  0  0  0  0 75  0 75 75  0  0  0  0  0 75  0 75 75\n",
            "  0  0 75  0 75  0  0 75  0 75 75 75 75  0  0  0 75  0  0 75 75  0  0  0\n",
            "  0 75  0  0 75  0  0 75  0  0  0  0 75 75  0 75  0  0  0  0  0 75  0  0\n",
            "  0  0  0  0  0 75  0 75 75  0  0 75  0 75  0  0 75  0  0 75  0 75 75  0\n",
            " 75  0  0  0  0  0  0  0]\n"
          ]
        },
        {
          "output_type": "stream",
          "name": "stderr",
          "text": [
            "Epoch7/100 [Val Pass]:  73%|███████▎  | 24/33 [00:41<00:14,  1.65s/it, loss=4.79]"
          ]
        },
        {
          "output_type": "stream",
          "name": "stdout",
          "text": [
            "Sample Predictions: [ 0 75  0 75 75 75  0  0  0  0 75  0  0  0  0  0  0  0 75  0 75 75  0  0\n",
            " 75  0  0  0  0  0  0  0  0  0  0 75  0  0  0  0  0  0  0  0  0  0  0  0\n",
            "  0 75  0  0 75 75  0  0 75  0  0 75  0  0 75  0 75  0  0 75 75  0  0  0\n",
            "  0 75 75 75  0 75  0  0 75 75  0  0 75 75  0  0 75  0  0  0 75  0  0  0\n",
            " 75 75 75  0  0  0  0  0 75 75  0  0 75  0  0  0  0  0  0  0  0 75  0 75\n",
            "  0  0  0  0 75 75 75 75]\n"
          ]
        },
        {
          "output_type": "stream",
          "name": "stderr",
          "text": [
            "Epoch7/100 [Val Pass]:  76%|███████▌  | 25/33 [00:44<00:15,  1.93s/it, loss=4.81]"
          ]
        },
        {
          "output_type": "stream",
          "name": "stdout",
          "text": [
            "Sample Predictions: [ 0  0  0 75  0  0 75  0  0  0  0  0  0 75 75  0  0  0  0 75 75  0  0  0\n",
            "  0  0 75 75  0 75  0  0  0  0  0  0 75 75 75 75  0  0 75 75  0 75  0 75\n",
            " 75  0  0  0  0 75 75 75  0  0 75 75  0 75 75 75  0 75  0  0  0  0  0  0\n",
            "  0  0  0 75  0  0 75  0  0 75  0 75  0 75  0 75  0 75  0 75  0  0  0 75\n",
            "  0 75  0  0  0  0  0  0  0 75  0  0 75 75  0  0 75  0  0  0  0  0  0  0\n",
            " 75 75  0  0  0  0 75  0]\n"
          ]
        },
        {
          "output_type": "stream",
          "name": "stderr",
          "text": [
            "Epoch7/100 [Val Pass]:  79%|███████▉  | 26/33 [00:44<00:10,  1.47s/it, loss=4.8]"
          ]
        },
        {
          "output_type": "stream",
          "name": "stdout",
          "text": [
            "Sample Predictions: [ 0  0 75  0  0  0  0  0 75 75  0  0 75 75 75 75 75  0  0  0 75  0  0  0\n",
            "  0  0 75  0 75  0 75 75  0 75  0  0  0  0 75  0  0 75  0 75  0  0  0 75\n",
            " 75 75 75  0 75 75  0  0  0  0 75  0 75  0  0  0  0 75  0  0 75  0  0  0\n",
            "  0  0 75 75 75 75  0 75  0  0  0  0  0  0  0  0  0 75 75  0  0 75  0  0\n",
            " 75  0  0  0  0  0 75 75  0  0 75 75 75  0  0  0 75  0  0 75  0  0 75  0\n",
            "  0 75 75 75  0 75 75  0]\n"
          ]
        },
        {
          "output_type": "stream",
          "name": "stderr",
          "text": [
            "Epoch7/100 [Val Pass]:  82%|████████▏ | 27/33 [00:47<00:10,  1.78s/it, loss=4.82]"
          ]
        },
        {
          "output_type": "stream",
          "name": "stdout",
          "text": [
            "Sample Predictions: [ 0  0  0  0 75 75 75  0  0 75 75  0  0 75  0  0 75  0 75 75  0  0  0 75\n",
            "  0  0  0 75 75  0  0  0  0  0  0 75  0  0 75  0  0  0  0  0  0  0 75  0\n",
            "  0  0  0  0  0  0 75 75  0  0 75  0 75 75 75  0 75 75  0  0 75 75 75 75\n",
            "  0  0  0 75  0  0 75  0  0  0 75 75 75  0  0 75  0 75 75 75  0 75  0  0\n",
            "  0  0 75  0  0 75  0  0  0  0 75  0  0  0 75  0  0  0  0 75 75  0 75  0\n",
            "  0 75 75  0 75 75 75  0]\n"
          ]
        },
        {
          "output_type": "stream",
          "name": "stderr",
          "text": [
            "Epoch7/100 [Val Pass]:  85%|████████▍ | 28/33 [00:47<00:07,  1.43s/it, loss=4.81]"
          ]
        },
        {
          "output_type": "stream",
          "name": "stdout",
          "text": [
            "Sample Predictions: [75 75  0  0  0  0  0 75 75 75  0  0 75  0 75  0 75 75 75  0  0 75 75 75\n",
            "  0 75 75  0  0 75  0  0  0  0  0  0  0  0 75  0 75  0  0  0  0  0 75  0\n",
            "  0  0  0  0  0  0 75  0 75 75  0 75 75  0 75  0  0  0  0  0  0 75  0  0\n",
            " 75  0  0 75  0  0  0 75  0  0  0  0 75  0 75  0  0  0 75 75 75  0  0  0\n",
            "  0 75  0 75  0  0  0  0  0  0  0 75  0  0 75 75  0 75 75 75 75 75 75 75\n",
            " 75  0  0  0  0  0 75 75]\n"
          ]
        },
        {
          "output_type": "stream",
          "name": "stderr",
          "text": [
            "Epoch7/100 [Val Pass]:  88%|████████▊ | 29/33 [00:49<00:06,  1.71s/it, loss=4.81]"
          ]
        },
        {
          "output_type": "stream",
          "name": "stdout",
          "text": [
            "Sample Predictions: [75 75  0  0  0  0  0  0  0 75  0 75  0 75  0  0  0 75 75 75  0  0 75 75\n",
            " 75  0  0  0  0  0 75 75  0 75  0  0  0 75 75  0 75  0 75 75  0  0  0  0\n",
            " 75  0  0  0  0  0  0  0 75  0  0 75 75 75  0  0  0  0  0  0  0  0  0  0\n",
            "  0 75 75  0 75 75 75  0  0 75 75  0 75 75 75  0  0 75  0  0  0  0  0  0\n",
            " 75  0  0  0  0 75  0 75  0  0 75 75  0  0 75 75  0  0  0  0  0  0  0  0\n",
            "  0  0  0  0  0  0  0 75]\n"
          ]
        },
        {
          "output_type": "stream",
          "name": "stderr",
          "text": [
            "Epoch7/100 [Val Pass]:  91%|█████████ | 30/33 [00:50<00:04,  1.41s/it, loss=4.87]"
          ]
        },
        {
          "output_type": "stream",
          "name": "stdout",
          "text": [
            "Sample Predictions: [ 0  0 75 75  0 75  0  0  0  0 75  0  0  0  0  0 75 75  0 75  0  0  0  0\n",
            " 75  0  0  0  0  0 75 75  0  0  0 75  0 75  0  0 75 75  0 75  0 75  0  0\n",
            "  0  0  0  0  0  0 75  0  0  0  0 75 75  0  0  0  0 75  0  0  0 75  0 75\n",
            " 75  0  0  0 75  0  0 75  0  0  0  0 75  0 75  0 75  0 75  0  0  0 75  0\n",
            "  0  0  0  0  0 75  0  0  0  0  0  0  0  0 75  0  0 75  0  0 75  0 75  0\n",
            "  0 75 75  0 75 75  0  0]\n"
          ]
        },
        {
          "output_type": "stream",
          "name": "stderr",
          "text": [
            "Epoch7/100 [Val Pass]:  94%|█████████▍| 31/33 [00:54<00:04,  2.05s/it, loss=4.79]"
          ]
        },
        {
          "output_type": "stream",
          "name": "stdout",
          "text": [
            "Sample Predictions: [75  0 75  0  0  0  0 75 75 75  0  0  0 75  0  0 75  0 75  0 75  0 75  0\n",
            "  0 75  0  0  0  0 75  0  0  0  0  0  0 75 75 75 75 75 75  0  0  0  0  0\n",
            "  0 75  0 75  0  0  0  0  0  0  0  0  0 75 75  0 75 75 75  0  0  0 75  0\n",
            "  0 75 75  0  0 75  0  0  0  0  0  0  0  0  0  0 75 75  0  0  0 75 75  0\n",
            " 75  0 75  0  0  0  0 75  0  0 75 75  0  0  0 75 75  0 75  0  0  0  0  0\n",
            " 75  0  0  0 75  0  0  0]\n"
          ]
        },
        {
          "output_type": "stream",
          "name": "stderr",
          "text": [
            "Epoch7/100 [Val Pass]: 100%|██████████| 33/33 [00:55<00:00,  1.67s/it, loss=4.88]\n"
          ]
        },
        {
          "output_type": "stream",
          "name": "stdout",
          "text": [
            "Sample Predictions: [ 0  0 75  0  0  0  0  0  0  0  0  0 75  0  0  0 75 75  0 75  0 75 75 75\n",
            " 75  0  0 75 75  0 75  0  0  0 75  0 75  0  0  0  0 75  0  0  0  0  0  0\n",
            " 75  0  0  0  0  0  0  0  0  0 75  0  0 75  0  0 75  0 75  0  0 75 75  0\n",
            " 75  0 75  0  0  0  0  0  0 75 75 75  0  0  0  0  0  0  0  0  0  0  0  0\n",
            "  0  0  0 75  0  0 75  0  0 75  0  0  0  0  0 75  0  0  0  0  0 75  0  0\n",
            "  0  0  0  0 75 75  0 75]\n",
            "Sample Predictions: [ 0 75  0 75 75 75 75  0  0 75  0  0  0 75 75  0  0  0  0  0]\n",
            "No improvement in Val Loss. Counter: 2/20\n",
            "Epoch 7/100:\n",
            "Train Loss: 4.761 | Train Acc: 1.18 %\n",
            "Val Loss: 4.813 | Val Acc: 0.29 %\n"
          ]
        },
        {
          "output_type": "stream",
          "name": "stderr",
          "text": [
            "Epoch 8/100 [Train Pass]:  41%|████      | 31/76 [01:23<02:09,  2.88s/it, loss=4.77]"
          ]
        }
      ],
      "source": [
        "device = 'cuda' if torch.cuda.is_available() else 'cpu'\n",
        "\n",
        "train_model(resnet18, 'resnet-18', train_loader, val_loader, 128, 100, 1e-3, device)"
      ]
    },
    {
      "cell_type": "markdown",
      "id": "cc284f5f-0ff3-4928-9c02-e89f81e00640",
      "metadata": {
        "id": "cc284f5f-0ff3-4928-9c02-e89f81e00640"
      },
      "source": [
        "## Model Testing"
      ]
    },
    {
      "cell_type": "code",
      "execution_count": null,
      "id": "43cd95c4-6134-4a72-a305-7896d14f00ba",
      "metadata": {
        "id": "43cd95c4-6134-4a72-a305-7896d14f00ba"
      },
      "outputs": [],
      "source": []
    }
  ],
  "metadata": {
    "accelerator": "GPU",
    "colab": {
      "gpuType": "T4",
      "provenance": [],
      "collapsed_sections": [
        "1NTPqRswu6E_",
        "cc284f5f-0ff3-4928-9c02-e89f81e00640"
      ],
      "include_colab_link": true
    },
    "kernelspec": {
      "display_name": "Python 3",
      "name": "python3"
    },
    "language_info": {
      "name": "python"
    }
  },
  "nbformat": 4,
  "nbformat_minor": 5
}
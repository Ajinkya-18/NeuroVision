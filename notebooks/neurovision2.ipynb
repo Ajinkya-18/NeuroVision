{
 "cells": [
  {
   "cell_type": "markdown",
   "metadata": {
    "colab_type": "text",
    "id": "view-in-github"
   },
   "source": [
    "<a href=\"https://colab.research.google.com/github/Ajinkya-18/NeuroVision/blob/main/neurovision2.ipynb\" target=\"_parent\"><img src=\"https://colab.research.google.com/assets/colab-badge.svg\" alt=\"Open In Colab\"/></a>"
   ]
  },
  {
   "cell_type": "markdown",
   "metadata": {
    "id": "58f68d0c-a42d-4ede-a02d-d2ea6dbf9275"
   },
   "source": [
    "# NeuroVision"
   ]
  },
  {
   "cell_type": "markdown",
   "metadata": {
    "id": "ff0a4f18-0cbf-451e-be8c-1aa156eff8a7"
   },
   "source": [
    "## Dataset Processing for PyTorch"
   ]
  },
  {
   "cell_type": "code",
   "execution_count": null,
   "metadata": {},
   "outputs": [],
   "source": [
    "import os\n",
    "import shutil\n",
    "import pandas as pd\n",
    "import numpy as np\n",
    "import torch\n",
    "from scipy import signal\n",
    "from sklearn.model_selection import train_test_split\n",
    "from tqdm.notebook import tqdm  # Use notebook-friendly tqdm\n",
    "from pathlib import Path\n",
    "from torch.utils.data import Dataset, DataLoader\n",
    "from torchvision.transforms import v2 as transforms"
   ]
  },
  {
   "cell_type": "code",
   "execution_count": null,
   "metadata": {},
   "outputs": [
    {
     "name": "stdout",
     "output_type": "stream",
     "text": [
      "Mounted at /content/drive\n"
     ]
    }
   ],
   "source": [
    "from google.colab import drive\n",
    "drive.mount('/content/drive')"
   ]
  },
  {
   "cell_type": "code",
   "execution_count": null,
   "metadata": {},
   "outputs": [
    {
     "name": "stdout",
     "output_type": "stream",
     "text": [
      "Starting to copy dataset folder from Drive to local storage...\n",
      "This may take a significant amount of time, please be patient.\n",
      "Copying complete!\n"
     ]
    }
   ],
   "source": [
    "print(\"Starting to copy dataset folder from Drive to local storage...\")\n",
    "print(\"This may take a significant amount of time, please be patient.\")\n",
    "\n",
    "!cp -r \"/content/drive/MyDrive/NeuroVision/gan_dataset\" \"/content/gan_dataset\"\n",
    "\n",
    "print(\"Copying complete!\")"
   ]
  },
  {
   "cell_type": "code",
   "execution_count": null,
   "metadata": {},
   "outputs": [
    {
     "name": "stdout",
     "output_type": "stream",
     "text": [
      "Starting to copy dataset folder from Drive to local storage...\n",
      "This may take a significant amount of time, please be patient.\n",
      "Copying complete!\n"
     ]
    }
   ],
   "source": [
    "print(\"Starting to copy dataset folder from Drive to local storage...\")\n",
    "print(\"This may take a significant amount of time, please be patient.\")\n",
    "\n",
    "!cp -r \"/content/drive/MyDrive/NeuroVision/gan_imagenet\" \"/content/gan_imagenet\"\n",
    "\n",
    "print(\"Copying complete!\")"
   ]
  },
  {
   "cell_type": "code",
   "execution_count": null,
   "metadata": {},
   "outputs": [],
   "source": [
    "# ==============================================================================\n",
    "# EEG DATA PREPARATION SCRIPT FOR GOOGLE COLAB\n",
    "# ==============================================================================\n",
    "# This single script handles the entire data setup process for a new Colab session.\n",
    "# It copies data from Google Drive, preprocesses it into spectrograms,\n",
    "# calculates normalization stats, and prepares DataLoaders for training.\n",
    "#\n",
    "# HOW TO USE:\n",
    "# 1. Mount your Google Drive in a previous cell:\n",
    "#    from google.colab import drive\n",
    "#    drive.mount('/content/drive')\n",
    "# 2. Update the configuration paths in the section below.\n",
    "# 3. Run this entire cell.\n",
    "# ==============================================================================\n",
    "\n",
    "# --- 1. CONFIGURATION ---\n",
    "# TODO: UPDATE THESE PATHS\n",
    "GDRIVE_RAW_DATA_ROOT = Path('/content/drive/MyDrive/NeuroVision/gan_dataset') # Path to your 567-class folder in GDrive\n",
    "LOCAL_RAW_DATA_ROOT = Path('/content/gan_dataset') # Temporary local copy for speed\n",
    "LOCAL_PROCESSED_ROOT = Path('/content/processed_spectrograms') # Where local spectrograms will be saved\n",
    "\n",
    "# --- Script Parameters ---\n",
    "TRAIN_RATIO = 0.85\n",
    "BATCH_SIZE = 64\n",
    "IMG_SIZE = 224\n",
    "NUM_WORKERS = 2 # Colab usually has 2 CPU cores\n",
    "\n",
    "# --- Spectrogram Parameters ---\n",
    "FS = 128\n",
    "NPERSEG = 64\n",
    "NOVERLAP = 32\n",
    "NUM_CHANNELS = 4 # Assuming AF3, AF4, T7, T8\n",
    "\n",
    "# ==============================================================================\n",
    "# --- 2. DATASET CLASS DEFINITION ---\n",
    "# ==============================================================================\n",
    "\n",
    "class EEGSpectrogramDataset(Dataset):\n",
    "    \"\"\"\n",
    "    Custom PyTorch Dataset for loading pre-computed EEG spectrogram tensors.\n",
    "    \"\"\"\n",
    "    def __init__(self, samples, mode='finetune', img_size=224, mean=None, std=None, is_train=False):\n",
    "        self.samples = samples\n",
    "        self.mode = mode\n",
    "\n",
    "        if not samples:\n",
    "            raise ValueError(\"The 'samples' list cannot be empty.\")\n",
    "        if mode == 'finetune' and not isinstance(samples[0][1], (int, np.integer)):\n",
    "             raise TypeError(f\"In 'finetune' mode, labels must be integers. Got {type(samples[0][1])}\")\n",
    "\n",
    "        if mean is not None and std is not None:\n",
    "            normalization = transforms.Normalize(mean=mean.tolist(), std=std.tolist())\n",
    "        else:\n",
    "            print(\"Warning: Mean and Std are not provided. Data will not be normalized.\")\n",
    "            normalization = transforms.Identity()\n",
    "\n",
    "        if is_train:\n",
    "            self.transform = transforms.Compose([\n",
    "                transforms.ToDtype(torch.float32, scale=False),\n",
    "                transforms.Resize((img_size, img_size), antialias=True),\n",
    "                normalization,\n",
    "            ])\n",
    "        else:\n",
    "            self.transform = transforms.Compose([\n",
    "                transforms.ToDtype(torch.float32, scale=False),\n",
    "                transforms.Resize((img_size, img_size), antialias=True),\n",
    "                normalization,\n",
    "            ])\n",
    "\n",
    "    def __len__(self):\n",
    "        return len(self.samples)\n",
    "\n",
    "    def __getitem__(self, idx):\n",
    "        spectrogram_path, label_idx = self.samples[idx]\n",
    "        spectrogram = torch.load(spectrogram_path)\n",
    "        transformed_spectrogram = self.transform(spectrogram)\n",
    "        if self.mode == 'pretrain':\n",
    "            return transformed_spectrogram\n",
    "        else:\n",
    "            return transformed_spectrogram, torch.tensor(label_idx, dtype=torch.long)\n",
    "\n",
    "# ==============================================================================\n",
    "# --- 3. HELPER AND SETUP FUNCTIONS ---\n",
    "# ==============================================================================\n",
    "\n",
    "def generate_spectrogram(eeg_data_1d, file_path):\n",
    "    \"\"\"Generates a spectrogram from a 1D EEG signal.\"\"\"\n",
    "    # This logic handles files with 4 or 5 channels, dropping Pz if present.\n",
    "    if eeg_data_1d.shape[1] == 5:\n",
    "        eeg_data_1d = eeg_data_1d[:, :-1]\n",
    "    elif eeg_data_1d.shape[0] == 5:\n",
    "        eeg_data_1d = eeg_data_1d.T[:, :-1]\n",
    "\n",
    "    if eeg_data_1d.shape[1] != NUM_CHANNELS:\n",
    "        if eeg_data_1d.shape[0] == NUM_CHANNELS:\n",
    "            eeg_data_1d = eeg_data_1d.T\n",
    "        else:\n",
    "            raise ValueError(f\"File {file_path} has an invalid shape: {eeg_data_1d.shape}\")\n",
    "\n",
    "    channel_spectrograms = []\n",
    "    for i in range(NUM_CHANNELS):\n",
    "        f, t, Sxx = signal.spectrogram(eeg_data_1d[:, i], fs=FS, nperseg=NPERSEG, noverlap=NOVERLAP)\n",
    "        channel_spectrograms.append(np.log1p(Sxx))\n",
    "    return torch.tensor(np.array(channel_spectrograms), dtype=torch.float32)\n",
    "\n",
    "def setup_data_for_session():\n",
    "    \"\"\"\n",
    "    The main setup function to be run once per Colab session.\n",
    "    \"\"\"\n",
    "    print(\"--- Starting Data Setup for Colab Session ---\")\n",
    "\n",
    "    # Step 1: Copy data from GDrive to local VM for faster I/O\n",
    "    print(f\"1. Copying raw data from '{GDRIVE_RAW_DATA_ROOT}' to '{LOCAL_RAW_DATA_ROOT}'...\")\n",
    "    if LOCAL_RAW_DATA_ROOT.exists():\n",
    "        print(\"Local data directory already exists. Skipping copy.\")\n",
    "    else:\n",
    "        shutil.copytree(GDRIVE_RAW_DATA_ROOT, LOCAL_RAW_DATA_ROOT)\n",
    "    print(\"Copy complete.\")\n",
    "\n",
    "    # Step 2: Discover files, create splits, and process spectrograms\n",
    "    print(\"2. Discovering files and creating train/val splits...\")\n",
    "    all_samples = []\n",
    "    class_names = sorted([d.name for d in LOCAL_RAW_DATA_ROOT.iterdir() if d.is_dir()])\n",
    "    class_to_idx = {name: i for i, name in enumerate(class_names)}\n",
    "    for class_name, label_idx in class_to_idx.items():\n",
    "        for file_path in (LOCAL_RAW_DATA_ROOT / class_name).glob('*.csv'):\n",
    "            all_samples.append((file_path, label_idx))\n",
    "\n",
    "    labels = [s[1] for s in all_samples]\n",
    "    train_samples_raw, val_samples_raw = train_test_split(\n",
    "        all_samples, train_size=TRAIN_RATIO, stratify=labels, random_state=42\n",
    "    )\n",
    "\n",
    "    train_samples_processed, val_samples_processed = [], []\n",
    "    output_train_dir = LOCAL_PROCESSED_ROOT / 'train'\n",
    "    output_val_dir = LOCAL_PROCESSED_ROOT / 'val'\n",
    "\n",
    "    for split_name, raw_samples, processed_list, output_dir in [\n",
    "        ('train', train_samples_raw, train_samples_processed, output_train_dir),\n",
    "        ('val', val_samples_raw, val_samples_processed, output_val_dir)\n",
    "    ]:\n",
    "        print(f\"3. Processing '{split_name}' split and saving to '{output_dir}'...\")\n",
    "        output_dir.mkdir(parents=True, exist_ok=True)\n",
    "        for raw_path, label_idx in tqdm(raw_samples, desc=f\"Processing {split_name}\"):\n",
    "            try:\n",
    "                eeg_data = pd.read_csv(raw_path, header=None, index_col=0).iloc[:-1, :].values\n",
    "                spectrogram_tensor = generate_spectrogram(eeg_data, raw_path)\n",
    "\n",
    "                output_path = output_dir / f\"{raw_path.stem}.pt\"\n",
    "                torch.save(spectrogram_tensor, output_path)\n",
    "                processed_list.append((str(output_path), label_idx))\n",
    "            except Exception as e:\n",
    "                print(f\"Could not process {raw_path}. Error: {e}\")\n",
    "\n",
    "    # Step 4: Calculate Mean and Std from the training set\n",
    "    print(\"4. Calculating mean and std from training set...\")\n",
    "    count, mean, m2 = 0, torch.zeros(NUM_CHANNELS), torch.zeros(NUM_CHANNELS)\n",
    "    for path, _ in tqdm(train_samples_processed, desc=\"Calculating stats\"):\n",
    "        spectrogram = torch.load(path)\n",
    "        flat_spec = spectrogram.view(NUM_CHANNELS, -1)\n",
    "        for i in range(flat_spec.size(1)):\n",
    "            count += 1\n",
    "            delta = flat_spec[:, i] - mean\n",
    "            mean += delta / count\n",
    "            delta2 = flat_spec[:, i] - mean\n",
    "            m2 += delta * delta2\n",
    "    std = torch.sqrt(m2 / (count - 1))\n",
    "\n",
    "    print(\"\\n--- Data Setup Complete ---\")\n",
    "    return train_samples_processed, val_samples_processed, mean, std"
   ]
  },
  {
   "cell_type": "code",
   "execution_count": null,
   "metadata": {},
   "outputs": [],
   "source": [
    "# shutil.rmtree('/content/gan_dataset')"
   ]
  },
  {
   "cell_type": "code",
   "execution_count": null,
   "metadata": {},
   "outputs": [
    {
     "name": "stdout",
     "output_type": "stream",
     "text": [
      "--- Starting Data Setup for Colab Session ---\n",
      "1. Copying raw data from '/content/drive/MyDrive/NeuroVision/gan_dataset' to '/content/gan_dataset'...\n",
      "Local data directory already exists. Skipping copy.\n",
      "Copy complete.\n",
      "2. Discovering files and creating train/val splits...\n",
      "3. Processing 'train' split and saving to '/content/processed_spectrograms/train'...\n"
     ]
    },
    {
     "data": {
      "application/vnd.jupyter.widget-view+json": {
       "model_id": "0f681794e73e4928a0be2e8bbad38cfa",
       "version_major": 2,
       "version_minor": 0
      },
      "text/plain": [
       "Processing train:   0%|          | 0/2214 [00:00<?, ?it/s]"
      ]
     },
     "metadata": {},
     "output_type": "display_data"
    },
    {
     "name": "stdout",
     "output_type": "stream",
     "text": [
      "3. Processing 'val' split and saving to '/content/processed_spectrograms/val'...\n"
     ]
    },
    {
     "data": {
      "application/vnd.jupyter.widget-view+json": {
       "model_id": "6f824aa015ed4320868bd4f4a3fd8162",
       "version_major": 2,
       "version_minor": 0
      },
      "text/plain": [
       "Processing val:   0%|          | 0/391 [00:00<?, ?it/s]"
      ]
     },
     "metadata": {},
     "output_type": "display_data"
    },
    {
     "name": "stdout",
     "output_type": "stream",
     "text": [
      "4. Calculating mean and std from training set...\n"
     ]
    },
    {
     "data": {
      "application/vnd.jupyter.widget-view+json": {
       "model_id": "6b7cac9672c64b788bddf6a9a1bbe402",
       "version_major": 2,
       "version_minor": 0
      },
      "text/plain": [
       "Calculating stats:   0%|          | 0/2214 [00:00<?, ?it/s]"
      ]
     },
     "metadata": {},
     "output_type": "display_data"
    },
    {
     "name": "stdout",
     "output_type": "stream",
     "text": [
      "\n",
      "--- Data Setup Complete ---\n",
      "\n",
      "--- Preparing DataLoaders ---\n",
      "Loaded Mean: [0.9152525663375854, 1.0382862091064453, 0.8692880868911743, 1.0564180612564087]\n",
      "Loaded Std: [1.0261437892913818, 1.1025402545928955, 1.1051104068756104, 1.0888664722442627]\n"
     ]
    }
   ],
   "source": [
    "# ==============================================================================\n",
    "# --- 4. MAIN EXECUTION BLOCK ---\n",
    "# ==============================================================================\n",
    "# This block demonstrates how to use the setup function and the Dataset class.\n",
    "\n",
    "if __name__ == '__main__':\n",
    "    # This check is good practice but not strictly necessary in a notebook.\n",
    "    # It prevents code from running if the script is imported.\n",
    "\n",
    "    # This single function call performs all the necessary setup for the session.\n",
    "    train_samples, val_samples, mean, std = setup_data_for_session()\n",
    "\n",
    "    all_samples = train_samples + val_samples\n",
    "\n",
    "    print(\"\\n--- Preparing DataLoaders ---\")\n",
    "    print(f\"Loaded Mean: {mean.tolist()}\")\n",
    "    print(f\"Loaded Std: {std.tolist()}\")\n",
    "\n",
    "    pretrain_dataset = EEGSpectrogramDataset(\n",
    "        samples=all_samples,\n",
    "        mode='pretrain',\n",
    "        img_size=IMG_SIZE,\n",
    "        mean=mean,\n",
    "        std=std,\n",
    "        is_train=True\n",
    "    )\n",
    "\n",
    "    # Create the training dataset with augmentations\n",
    "    # train_dataset = EEGSpectrogramDataset(\n",
    "    #     samples=train_samples,\n",
    "    #     mode='finetune',\n",
    "    #     img_size=IMG_SIZE,\n",
    "    #     mean=mean,\n",
    "    #     std=std,\n",
    "    #     is_train=True\n",
    "    # )\n",
    "\n",
    "    # # Create the validation dataset without augmentations\n",
    "    # val_dataset = EEGSpectrogramDataset(\n",
    "    #     samples=val_samples,\n",
    "    #     mode='finetune',\n",
    "    #     img_size=IMG_SIZE,\n",
    "    #     mean=mean,\n",
    "    #     std=std,\n",
    "    #     is_train=False\n",
    "    # )\n",
    "\n",
    "    pretrain_loader = DataLoader(\n",
    "        pretrain_dataset,\n",
    "        batch_size=BATCH_SIZE,\n",
    "        shuffle=True,\n",
    "        num_workers=NUM_WORKERS,\n",
    "        pin_memory=True\n",
    "    )\n",
    "\n",
    "    # # Create the DataLoaders\n",
    "    # train_loader = DataLoader(\n",
    "    #     train_dataset,\n",
    "    #     batch_size=BATCH_SIZE,\n",
    "    #     shuffle=True,\n",
    "    #     num_workers=NUM_WORKERS,\n",
    "    #     pin_memory=True\n",
    "    # )\n",
    "    # val_loader = DataLoader(\n",
    "    #     val_dataset,\n",
    "    #     batch_size=BATCH_SIZE,\n",
    "    #     shuffle=False,\n",
    "    #     num_workers=NUM_WORKERS,\n",
    "    #     pin_memory=True\n",
    "    # )\n"
   ]
  },
  {
   "cell_type": "code",
   "execution_count": null,
   "metadata": {},
   "outputs": [],
   "source": [
    "# print(f\"\\nCreated train_loader with {len(train_loader)} batches.\")\n",
    "# print(f\"Created val_loader with {len(val_loader)} batches.\")\n",
    "\n",
    "#     # Test the train_loader by fetching one batch\n",
    "# print(\"\\n--- Testing DataLoader ---\")\n",
    "# try:\n",
    "#     images = next(iter(train_loader))\n",
    "#     print(\"Successfully fetched one batch from train_loader.\")\n",
    "#     print(f\" -> Image batch shape: {images.shape}\")\n",
    "#     # print(f\" -> Label batch shape: {labels.shape}\")\n",
    "# except Exception as e:\n",
    "#     print(f\"An error occurred while testing the DataLoader: {e}\")"
   ]
  },
  {
   "cell_type": "markdown",
   "metadata": {
    "id": "6EWtvnDM7A6Q"
   },
   "source": [
    "## ViT"
   ]
  },
  {
   "cell_type": "code",
   "execution_count": null,
   "metadata": {},
   "outputs": [],
   "source": [
    "import torch\n",
    "import timm\n",
    "import torch.nn as nn"
   ]
  },
  {
   "cell_type": "code",
   "execution_count": null,
   "metadata": {},
   "outputs": [],
   "source": [
    "class MAEDecoder(nn.Module):\n",
    "  def __init__(self, patch_size=16, num_channels=4, embed_dim=192, decoder_embed_dim=128,\n",
    "               decoder_depth=4, decoder_num_heads=4, mlp_ratio=4.0):\n",
    "    super().__init__()\n",
    "\n",
    "    patch_dim = num_channels * patch_size ** 2\n",
    "\n",
    "    # 1. Linear layer to project encoder's features into decoder's dimension\n",
    "    self.decoder_embed = nn.Linear(embed_dim, decoder_embed_dim, bias=True)\n",
    "    # 2. A learnable \"mask token\" to represent the patches that were hidden\n",
    "    self.mask_token = nn.Parameter(torch.zeros(1,1, decoder_embed_dim))\n",
    "    # 3. Positional embeddings for the full sequence of patches\n",
    "    # We need this to tell the decoder WHERE each patch belongs\n",
    "    self.decoder_pos_embed = nn.Parameter(torch.zeros(1, (224//patch_size) **2 + 1, decoder_embed_dim))\n",
    "\n",
    "    # The stack of Transformer blocks for the decoder\n",
    "    decoder_layer = nn.TransformerEncoderLayer(\n",
    "        d_model=decoder_embed_dim, nhead=decoder_num_heads,\n",
    "        dim_feedforward=int(decoder_embed_dim * mlp_ratio),\n",
    "        activation='gelu',\n",
    "        batch_first=True,\n",
    "        norm_first=True\n",
    "    )\n",
    "    self.decoder_blocks = nn.ModuleList([\n",
    "        decoder_layer for _ in range(decoder_depth)\n",
    "    ])\n",
    "\n",
    "    self.decoder_norm = nn.LayerNorm(decoder_embed_dim)\n",
    "    self.decoder_pred = nn.Linear(decoder_embed_dim, patch_dim, bias=True)\n",
    "\n",
    "  def forward(self, x, restore_indices):\n",
    "    # Project the encoder's output to the decoder's dimension\n",
    "    x = self.decoder_embed(x)\n",
    "\n",
    "    cls_token = x[:, :1, :]\n",
    "    patch_tokens = x[:, 1:, :]\n",
    "    num_masked = restore_indices.shape[1] - patch_tokens.shape[1]\n",
    "\n",
    "    # Append the mask tokens to the sequence of visible patch features\n",
    "    mask_tokens = self.mask_token.repeat(x.shape[0], num_masked, 1)\n",
    "    x_ = torch.cat([patch_tokens, mask_tokens], dim=1)\n",
    "\n",
    "    # Re-order the patches back to their original positions\n",
    "    x_restored = torch.gather(x_, dim=1, index=restore_indices.unsqueeze(-1).expand(-1, -1, x.shape[2]))\n",
    "    x = torch.cat([cls_token, x_restored], dim=1)\n",
    "\n",
    "    # Add positional embeddings\n",
    "    x = x + self.decoder_pos_embed\n",
    "\n",
    "    # pass through the decoder Transformer blocks\n",
    "    for blk in self.decoder_blocks:\n",
    "      x = blk(x)\n",
    "    x = self.decoder_norm(x)\n",
    "    # Project back to the patch dimension to reconstruct the image\n",
    "    x = self.decoder_pred(x)\n",
    "    # Remove the class token\n",
    "    x = x[:, 1:, :]\n",
    "\n",
    "    return x\n",
    "\n",
    "class MAE_ViT(nn.Module):\n",
    "  def __init__(self, img_size=224, patch_size=16, num_channels=4, encoder_embed_dim=192, encoder_depth=12,\n",
    "               encoder_num_heads=3, decoder_embed_dim=128, decoder_depth=4, decoder_num_heads=4, mlp_ratio=4.0):\n",
    "    super().__init__()\n",
    "\n",
    "    self.encoder = timm.create_model(\n",
    "        'vit_tiny_patch16_224',\n",
    "        pretrained=False,\n",
    "        num_classes=0,\n",
    "        in_chans=num_channels,\n",
    "        embed_dim=encoder_embed_dim,\n",
    "        depth=encoder_depth,\n",
    "        num_heads=encoder_num_heads,\n",
    "        mlp_ratio=mlp_ratio\n",
    "    )\n",
    "\n",
    "    self.decoder = MAEDecoder(\n",
    "        patch_size=patch_size,\n",
    "        num_channels=num_channels,\n",
    "        embed_dim=encoder_embed_dim,\n",
    "        decoder_embed_dim=decoder_embed_dim,\n",
    "        decoder_depth=decoder_depth,\n",
    "        decoder_num_heads=decoder_num_heads,\n",
    "        mlp_ratio=mlp_ratio\n",
    "    )\n",
    "\n",
    "    self.encoder.forward_features = self._encoder_forward_features\n",
    "\n",
    "  def _encoder_forward_features(self, x, ids_keep):\n",
    "    x = self.encoder.patch_embed(x)\n",
    "\n",
    "    x = torch.gather(x, dim=1, index=ids_keep.unsqueeze(-1).repeat(1, 1, x.shape[2]))\n",
    "\n",
    "    cls_token = self.encoder.cls_token.expand(x.shape[0], -1, -1)\n",
    "    x = torch.cat((cls_token, x), dim=1)\n",
    "\n",
    "    pos_embed_cls = self.encoder.pos_embed[:, :1, :].expand(x.shape[0], -1, -1)\n",
    "\n",
    "    pos_embed_patches = torch.gather(\n",
    "        self.encoder.pos_embed[:, 1:, :].repeat(x.shape[0], 1, 1),\n",
    "        dim=1, index=ids_keep.unsqueeze(-1).repeat(1,1, self.encoder.pos_embed.shape[2])\n",
    "    )\n",
    "\n",
    "    x = x + torch.cat((pos_embed_cls, pos_embed_patches), dim=1)\n",
    "\n",
    "    for blk in self.encoder.blocks:\n",
    "      x = blk(x)\n",
    "\n",
    "    x = self.encoder.norm(x)\n",
    "\n",
    "    return x\n",
    "\n",
    "  def forward(self, x, mask):\n",
    "    # x is the input spectrogram: (batch_size, num_channels, height, width)\n",
    "    # masked_indices tells us which patches to hide\n",
    "    # Pass the visible patches through the encoder\n",
    "    x_encoded = self.encoder.forward_features(x, ids_keep=mask.ids_keep)\n",
    "    # Reconstruct the full image from the encoded features\n",
    "    x_reconstructed = self.decoder(x_encoded, restore_indices=mask.ids_restore)\n",
    "\n",
    "    return x_reconstructed\n",
    "\n",
    "\n",
    "def _generate_test_data(batch_size, num_channels, img_size):\n",
    "  dummy_spectrogram = torch.randn(batch_size, num_channels, img_size, img_size)\n",
    "\n",
    "  num_patches = (img_size // 16) ** 2\n",
    "  num_visible_patches = 50\n",
    "\n",
    "  class MockMask:\n",
    "    def __init__(self):\n",
    "      self.ids_keep = torch.randperm(num_patches)[:num_visible_patches].unsqueeze(0).repeat(batch_size, 1)\n",
    "\n",
    "      self.ids_restore = torch.argsort(torch.randn(batch_size, num_patches), dim=1)\n",
    "\n",
    "  return dummy_spectrogram, MockMask()\n"
   ]
  },
  {
   "cell_type": "code",
   "execution_count": null,
   "metadata": {},
   "outputs": [
    {
     "name": "stdout",
     "output_type": "stream",
     "text": [
      "--- Testing the MAE_ViT Architecture ---\n",
      "Model instantiated successfully.\n",
      "Input spectrogram shape: torch.Size([4, 4, 224, 224])\n",
      "Forward pass completed.\n",
      "Output shape: torch.Size([4, 196, 1024])\n",
      "Expected shape: (4, 196, 1024)\n",
      "\n",
      "✅ Architecture test passed!\n"
     ]
    }
   ],
   "source": [
    "if __name__ == '__main__':\n",
    "    print(\"--- Testing the MAE_ViT Architecture ---\")\n",
    "\n",
    "    # --- Configuration ---\n",
    "    BATCH_SIZE = 4\n",
    "    NUM_CHANNELS = 4\n",
    "    IMG_SIZE = 224\n",
    "    PATCH_SIZE = 16\n",
    "\n",
    "    # 1. Instantiate the model\n",
    "    model = MAE_ViT(\n",
    "        img_size=IMG_SIZE,\n",
    "        patch_size=PATCH_SIZE,\n",
    "        num_channels=NUM_CHANNELS\n",
    "    )\n",
    "    print(\"Model instantiated successfully.\")\n",
    "\n",
    "    # 2. Generate dummy data\n",
    "    spectrograms, mask = _generate_test_data(BATCH_SIZE, NUM_CHANNELS, IMG_SIZE)\n",
    "    print(f\"Input spectrogram shape: {spectrograms.shape}\")\n",
    "\n",
    "    # 3. Perform a forward pass\n",
    "    reconstructed_patches = model(spectrograms, mask)\n",
    "    print(\"Forward pass completed.\")\n",
    "\n",
    "    # 4. Check the output shape\n",
    "    # The output should be (batch_size, num_patches, patch_dim)\n",
    "    num_patches = (IMG_SIZE // PATCH_SIZE) ** 2\n",
    "    patch_dim = NUM_CHANNELS * PATCH_SIZE * PATCH_SIZE\n",
    "    print(f\"Output shape: {reconstructed_patches.shape}\")\n",
    "    print(f\"Expected shape: ({BATCH_SIZE}, {num_patches}, {patch_dim})\")\n",
    "    assert reconstructed_patches.shape == (BATCH_SIZE, num_patches, patch_dim)\n",
    "    print(\"\\n✅ Architecture test passed!\")"
   ]
  },
  {
   "cell_type": "markdown",
   "metadata": {
    "id": "wHoKPNVTqHIQ"
   },
   "source": [
    "## ViT PreTraining"
   ]
  },
  {
   "cell_type": "code",
   "execution_count": null,
   "metadata": {},
   "outputs": [],
   "source": [
    "import math\n",
    "\n",
    "def image_to_patches(x, patch_size=16):\n",
    "  B, C, H, W = x.shape\n",
    "  assert H == W and H % patch_size == 0\n",
    "\n",
    "  num_patches_h = H // patch_size\n",
    "  num_patches_w = W // patch_size\n",
    "\n",
    "  patches = x.reshape(B, C, num_patches_h, patch_size, num_patches_w, patch_size)\n",
    "  patches = torch.einsum('bchpwq->bhwpcq', patches)\n",
    "  patches = patches.reshape(B, num_patches_h * num_patches_w, C * patch_size * patch_size)\n",
    "  return patches\n",
    "\n",
    "def random_masking(x, mask_ratio=0.75):\n",
    "  B, L, D = x.shape\n",
    "  len_keep = int(L  *(1.0 - mask_ratio))\n",
    "\n",
    "  noise = torch.rand(B, L, device=x.device)\n",
    "\n",
    "  ids_shuffle = torch.argsort(noise, dim=1)\n",
    "  ids_restore = torch.argsort(ids_shuffle, dim=1)\n",
    "\n",
    "  ids_keep = ids_shuffle[:, :len_keep]\n",
    "\n",
    "  mask = torch.zeros([B, L], device=x.device)\n",
    "  mask[:, :len_keep] = 1\n",
    "  mask = torch.gather(mask, dim=1, index=ids_restore)\n",
    "\n",
    "  return ids_restore, mask, ids_keep\n",
    "\n",
    "def pretrain_mae(model, data_loader, optimizer, scheduler, device, epochs=100):\n",
    "  model.to(device)\n",
    "  model.train()\n",
    "\n",
    "  print('---Starting MAE Pre-training---')\n",
    "\n",
    "\n",
    "  for epoch in range(epochs):\n",
    "    total_loss = 0.0\n",
    "\n",
    "    train_bar = tqdm(data_loader, desc='Train Loop', leave=True)\n",
    "\n",
    "    for i, batch in enumerate(train_bar):\n",
    "      images = batch.to(device)\n",
    "\n",
    "      patches = image_to_patches(images)\n",
    "      B, L, D = patches.shape\n",
    "      ids_restore, mask, ids_keep = random_masking(patches)\n",
    "\n",
    "      class MaskObject:\n",
    "        def __init__(self, keep, restore):\n",
    "          self.ids_keep = keep\n",
    "          self.ids_restore = restore\n",
    "\n",
    "      mask_object = MaskObject(ids_keep, ids_restore)\n",
    "\n",
    "      reconstructed_patches = model(images, mask_object)\n",
    "\n",
    "      loss_mask = torch.tensor((1 - mask).bool(), dtype=torch.long)\n",
    "\n",
    "      target_patches = torch.gather(patches, dim=1, index=loss_mask.unsqueeze(-1).expand(-1, -1, D))\n",
    "\n",
    "      pred_patches = torch.gather(reconstructed_patches, dim=1, index=loss_mask.unsqueeze(-1).expand(-1, -1, D))\n",
    "\n",
    "      loss = nn.functional.mse_loss(pred_patches, target_patches)\n",
    "\n",
    "      optimizer.zero_grad()\n",
    "      loss.backward()\n",
    "      optimizer.step()\n",
    "\n",
    "      scheduler.step()\n",
    "\n",
    "      total_loss += loss.item()\n",
    "\n",
    "      if (i+1)%(len(data_loader)//4) == 0:\n",
    "        print(f\"Epoch [{epoch+1}/{epochs}], Step [{i+1}/{len(data_loader)}], Loss: {loss.item():.4f}\")\n",
    "\n",
    "    # scheduler.step()\n",
    "\n",
    "    avg_loss = total_loss / len(data_loader)\n",
    "    curr_lr = scheduler.get_last_lr()\n",
    "    print(f\"--Epoch {epoch+1} Finished --- Avg Loss: {avg_loss:.4f}, LR: {curr_lr[0]:.6f}\")\n",
    "\n",
    "    if (epoch+1)%10 == 0:\n",
    "      torch.save({'epoch': epoch,\n",
    "                  'model_state_dict': model.encoder.state_dict(),\n",
    "                  'optimizer_state_dict': optimizer.state_dict()}, f'mae_encoder_epoch_{epoch+1}.pth')\n",
    "\n"
   ]
  },
  {
   "cell_type": "code",
   "execution_count": null,
   "metadata": {},
   "outputs": [],
   "source": [
    "from tqdm.notebook import tqdm\n",
    "import torch.optim as optim\n",
    "from torch.utils.tensorboard import SummaryWriter\n",
    "from datetime import datetime\n",
    "# ==============================================================================\n",
    "class PretrainEarlyStopping:\n",
    "    def __init__(self, model_to_save, save_path, patience=10, delta=0):\n",
    "        self.model_to_save = model_to_save # This will be the MAE_ViT model\n",
    "        self.save_path = save_path\n",
    "        self.patience = patience\n",
    "        self.counter = 0\n",
    "        self.best_loss = float('inf')\n",
    "        self.early_stop = False\n",
    "        self.delta = delta\n",
    "\n",
    "    def __call__(self, train_loss):\n",
    "        if train_loss < self.best_loss - self.delta:\n",
    "            self.best_loss = train_loss\n",
    "            self.save_checkpoint()\n",
    "            self.counter = 0\n",
    "        else:\n",
    "            self.counter += 1\n",
    "            print(f'Pre-train loss did not improve. Counter: {self.counter}/{self.patience}')\n",
    "            if self.counter >= self.patience:\n",
    "                self.early_stop = True\n",
    "\n",
    "    def save_checkpoint(self):\n",
    "        \"\"\"Saves only the encoder's state_dict when loss decreases.\"\"\"\n",
    "        print(f'Pre-train loss improved ({self.best_loss:.6f}). Saving ENCODER to {self.save_path}')\n",
    "        # The crucial fix: save model.encoder.state_dict(), not the whole model\n",
    "        torch.save({\n",
    "            'model_state_dict': self.model_to_save.encoder.state_dict(),\n",
    "            'best_loss': self.best_loss\n",
    "        }, self.save_path)\n",
    "\n",
    "# ==============================================================================\n",
    "\n",
    "def run_pretraining(model, data_loader, optimizer, scheduler, device, epochs, log_dir, checkpoint_path):\n",
    "    writer = SummaryWriter(log_dir=log_dir)\n",
    "    model.to(device)\n",
    "    model.train()\n",
    "\n",
    "    early_stopping = PretrainEarlyStopping(model, save_path=checkpoint_path, patience=15, delta=1e-5)\n",
    "\n",
    "    global_step = 0\n",
    "    print(f'--- Starting MAE Pre-training ---')\n",
    "\n",
    "    for epoch in range(epochs):\n",
    "        epoch_loss = 0.0\n",
    "        train_bar = tqdm(data_loader, desc=f'Epoch {epoch+1}/{epochs} [Pre-training]', leave=False)\n",
    "\n",
    "        for batch in train_bar:\n",
    "            images = batch.to(device)\n",
    "\n",
    "            # --- MAE Core Logic (same as before) ---\n",
    "            patches = image_to_patches(images)\n",
    "            ids_restore, mask, ids_keep = random_masking(patches)\n",
    "\n",
    "            class MaskObject:\n",
    "                def __init__(self, keep, restore):\n",
    "                    self.ids_keep = keep\n",
    "                    self.ids_restore = restore\n",
    "            mask_object = MaskObject(ids_keep, ids_restore)\n",
    "\n",
    "            reconstructed_patches = model(images, mask_object)\n",
    "\n",
    "            # ==================================================================\n",
    "            # --- THE FIX IS HERE ---\n",
    "            # ==================================================================\n",
    "            # Calculate loss by comparing the reconstructed patches to the\n",
    "            # original patches directly.\n",
    "\n",
    "            # 1. Calculate the per-patch loss for the entire image\n",
    "            loss_per_patch = nn.functional.mse_loss(reconstructed_patches, patches, reduction='none')\n",
    "            # loss_per_patch will have shape (Batch, Num_Patches, Patch_Dim)\n",
    "\n",
    "            # 2. The `mask` tensor has shape (Batch, Num_Patches), with 1s for masked\n",
    "            #    (to be reconstructed) and 0s for visible. We use it to select the loss\n",
    "            #    only for the patches that were hidden.\n",
    "            #    We need to add a dimension to `mask` to match the loss tensor.\n",
    "            loss = (loss_per_patch * mask.unsqueeze(-1)).sum() / mask.sum()\n",
    "            # ==================================================================\n",
    "\n",
    "\n",
    "            # --- Backpropagation ---\n",
    "            optimizer.zero_grad()\n",
    "            loss.backward()\n",
    "            optimizer.step()\n",
    "            scheduler.step()\n",
    "\n",
    "            # --- Logging ---\n",
    "            step_loss = loss.item()\n",
    "            epoch_loss += step_loss\n",
    "            writer.add_scalar('Pre-train/Step Loss', step_loss, global_step)\n",
    "            train_bar.set_postfix(loss=step_loss)\n",
    "            global_step += 1\n",
    "\n",
    "        avg_epoch_loss = epoch_loss / len(data_loader)\n",
    "        writer.add_scalar('Pre-train/Epoch Loss', avg_epoch_loss, epoch)\n",
    "        writer.add_scalar('Pre-train/Learning Rate', scheduler.get_last_lr()[0], epoch)\n",
    "        print(f\"Epoch {epoch+1}/{epochs} -> Pre-train Avg Loss: {avg_epoch_loss:.4f}\")\n",
    "\n",
    "        # Call early stopping with the average epoch loss\n",
    "        early_stopping(avg_epoch_loss)\n",
    "        if early_stopping.early_stop:\n",
    "            print(\"Early stopping triggered. Pre-training finished.\")\n",
    "            break\n",
    "\n",
    "    writer.close()\n",
    "    print('--- MAE Pre-training Complete ---')\n"
   ]
  },
  {
   "cell_type": "code",
   "execution_count": null,
   "metadata": {},
   "outputs": [],
   "source": [
    "device = torch.device('cuda' if torch.cuda.is_available() else 'cpu')\n",
    "mae_model = MAE_ViT(num_channels=4)"
   ]
  },
  {
   "cell_type": "code",
   "execution_count": null,
   "metadata": {},
   "outputs": [],
   "source": [
    "# import torch.optim as optim\n",
    "# from datetime import datetime\n",
    "\n",
    "# timestamp = datetime.now().strftime('%Y%m%d_%H%M%S')\n",
    "\n",
    "# # CORRECT LOG DIRECTORY: A unique sub-folder inside 'runs'\n",
    "# log_dir = f'/content/drive/MyDrive/NeuroVision/runs/pretrain_{timestamp}'\n",
    "\n",
    "# # CORRECT CHECKPOINT PATH: A unique, complete filename inside 'models'\n",
    "# checkpoint_path = f'/content/drive/MyDrive/NeuroVision/models/pretrain_encoder_{timestamp}_best.pth'\n",
    "\n",
    "\n",
    "# optimizer = optim.AdamW(mae_model.parameters(), lr=1.5e-4, weight_decay=0.05)\n",
    "\n",
    "# total_steps = len(pretrain_loader) * 150\n",
    "# scheduler = optim.lr_scheduler.CosineAnnealingLR(optimizer, T_max=total_steps)\n",
    "\n",
    "\n",
    "# # --- 4. Call the Pre-training Function with Corrected Paths ---\n",
    "# print(f\"--- Starting Experiment Run: {timestamp} ---\")\n",
    "# print(f\"TensorBoard logs will be saved to: {log_dir}\")\n",
    "# print(f\"Best model checkpoint will be saved to: {checkpoint_path}\")\n",
    "\n",
    "# run_pretraining(\n",
    "#     model=mae_model,\n",
    "#     data_loader=pretrain_loader,\n",
    "#     optimizer=optimizer,\n",
    "#     scheduler=scheduler,\n",
    "#     device=device,\n",
    "#     epochs=150,\n",
    "#     log_dir=log_dir,           # Use the unique directory\n",
    "#     checkpoint_path=checkpoint_path # Use the unique filename\n",
    "# )"
   ]
  },
  {
   "cell_type": "code",
   "execution_count": null,
   "metadata": {},
   "outputs": [],
   "source": [
    "# %load_ext tensorboard"
   ]
  },
  {
   "cell_type": "code",
   "execution_count": null,
   "metadata": {},
   "outputs": [],
   "source": [
    "# %tensorboard --logdir /content/drive/MyDrive/NeuroVision/runs"
   ]
  },
  {
   "cell_type": "code",
   "execution_count": null,
   "metadata": {},
   "outputs": [],
   "source": [
    "# class EarlyStopping(object):\n",
    "#     def __init__(self, model, save_path='../content/drive/MyDrive/eeg_classifier.pt', patience=4, tol=1e-3):\n",
    "#         self.model = model\n",
    "#         self.save_path = save_path\n",
    "#         self.patience = patience\n",
    "#         self.counter = 0\n",
    "#         self.tol = tol\n",
    "#         self.best_val_loss = float('inf')\n",
    "#         self.early_stop = False\n",
    "\n",
    "#     def __call__(self, batch_val_loss):\n",
    "#         if batch_val_loss < self.best_val_loss - self.tol:\n",
    "#             torch.save(self.model.state_dict(), self.save_path)\n",
    "#             self.best_val_loss = batch_val_loss\n",
    "#             self.counter = 0\n",
    "#             print(f'Validation Loss improved -> model saved to {self.save_path}')\n",
    "\n",
    "#         else:\n",
    "#             if self.counter < self.patience:\n",
    "#                 self.counter += 1\n",
    "#                 print(f'No improvement in Val Loss. Counter: {self.counter}/{self.patience}')\n",
    "\n",
    "#             else:\n",
    "#                 self.early_stop = True\n",
    "#                 print(f\"Early Stopping triggered!\")\n",
    "\n",
    "\n",
    "# def run_finetuning(model, train_loader, val_loader, optimizer, scheduler, device, epochs, log_dir, save_path, patience=10):\n",
    "#   writer = SummaryWriter(log_dir=log_dir)\n",
    "#   early_stopping = EarlyStopping(model, save_path=save_path, patience=patience)\n",
    "#   criterion = nn.CrossEntropyLoss()\n",
    "#   model.to(device)\n",
    "\n",
    "#   print('----Starting Supervised Fine tuning----')\n",
    "#   for epoch in range(epochs):\n",
    "#     model.train()\n",
    "#     total_train_loss, train_correct, train_total = 0.0, 0, 0\n",
    "#     train_bar = tqdm(train_loader, desc=f\"Epoch {epoch+1}/{epochs} [Fine-tune Train]\", leave=False)\n",
    "\n",
    "#     for images, labels in train_bar:\n",
    "#       images, labels = images.to(device), labels.to(device)\n",
    "\n",
    "#       optimizer.zero_grad()\n",
    "#       outputs = model(images)\n",
    "#       loss = criterion(outputs, labels)\n",
    "#       loss.backward()\n",
    "#       optimizer.step()\n",
    "\n",
    "#       total_train_loss += loss.item()\n",
    "#       _, predicted = torch.max(outputs.data, 1)\n",
    "#       train_total += labels.size(0)\n",
    "#       train_correct += (predicted == labels).sum().item()\n",
    "#       train_bar.set_postfix(loss=loss.item())\n",
    "\n",
    "#     avg_train_loss = total_train_loss / len(train_loader)\n",
    "#     train_accuracy = 100 * (train_correct/train_total)\n",
    "\n",
    "#     model.eval()\n",
    "#     total_val_loss, val_correct, val_total = 0.0, 0, 0\n",
    "#     val_bar = tqdm(val_loader, desc=f'Epoch {epoch+1}/{epochs} [Fine-tune Val]', leave=False)\n",
    "\n",
    "#     with torch.no_grad():\n",
    "#       for images, labels in val_bar:\n",
    "#         images, labels = images.to(device), labels.to(device)\n",
    "#         outputs = model(images)\n",
    "#         loss = criterion(outputs, labels)\n",
    "#         total_val_loss += loss.item()\n",
    "#         _, predicted = torch.max(outputs.data, 1)\n",
    "#         val_total += labels.size(0)\n",
    "#         val_correct += (predicted==labels).sum().item()\n",
    "#         val_bar.set_postfix(loss=loss.item())\n",
    "\n",
    "#     avg_val_loss = total_val_loss / len(val_loader)\n",
    "#     val_accuracy = 100 * val_correct / val_total\n",
    "\n",
    "#     scheduler.step(avg_val_loss)\n",
    "\n",
    "#     writer.add_scalar('Fine-tune/Train Loss', avg_train_loss, epoch)\n",
    "#     writer.add_scalar('Fine-tune/Train Accuracy', train_accuracy, epoch)\n",
    "#     writer.add_scalar('Fine-tune/Val Loss', avg_val_loss, epoch)\n",
    "#     writer.add_scalar('Fine-tune/Val Accuracy', val_accuracy, epoch)\n",
    "#     writer.add_scalar('Fine-tune/Learning Rate', optimizer.param_groups[0]['lr'], epoch)\n",
    "\n",
    "#     print(f\"Epoch {epoch+1}/{epochs} -> Train Loss: {avg_train_loss:.4f}, Train Acc: {train_accuracy:.2f}% | Val Loss: {avg_val_loss:.4f}, Val Acc: {val_accuracy:.2f}%\")\n",
    "\n",
    "#     early_stopping(avg_val_loss)\n",
    "#     if early_stopping.early_stop:\n",
    "#       print('early Stopping Triggered!')\n",
    "#       break\n",
    "\n",
    "#   writer.close()\n",
    "#   print('----Supervised fine-tuning Complete----')"
   ]
  },
  {
   "cell_type": "code",
   "execution_count": null,
   "metadata": {},
   "outputs": [],
   "source": [
    "# from datetime import datetime\n",
    "# from collections import OrderedDict\n",
    "\n",
    "# # ==============================================================================\n",
    "# # --- FINAL FINE-TUNING SETUP ---\n",
    "# # ==============================================================================\n",
    "\n",
    "# # --- 1. CRITICAL: Use the PRE-TRAINED encoder path, not a fine-tuned one ---\n",
    "# vit_model_path = '/content/drive/MyDrive/NeuroVision/models/pretrain_encoder_20250905_194203_best.pth' # <-- UPDATE THIS TO YOUR LATEST PRE-TRAIN FILE\n",
    "# dataset_root_dir = '/content/drive/MyDrive/NeuroVision/Segregated_Dataset'\n",
    "# timestamp = datetime.now().strftime('%Y%m%d_%H%M%S')\n",
    "# NUM_CHANNELS = 4\n",
    "\n",
    "# # --- 2. Robustly Calculate Number of Classes ---\n",
    "# class_dirs = [d for d in os.listdir(dataset_root_dir) if os.path.isdir(os.path.join(dataset_root_dir, d))]\n",
    "# NUM_CLASSES = len(class_dirs)\n",
    "# print(f\"Found {NUM_CLASSES} classes in the dataset.\")\n",
    "\n",
    "# # --- 3. Create the Fine-tuning Model ---\n",
    "# finetune_model = timm.create_model(\n",
    "#     'vit_tiny_patch16_224',\n",
    "#     pretrained=False,\n",
    "#     num_classes=NUM_CLASSES,\n",
    "#     in_chans=NUM_CHANNELS\n",
    "# )\n",
    "\n",
    "# # --- 4. CRITICAL: Correctly load and remap the keys from the pre-trained checkpoint ---\n",
    "# print(\"\\n--- Loading and Correcting Pre-trained Weights ---\")\n",
    "# checkpoint = torch.load(vit_model_path, map_location='cpu')\n",
    "# encoder_state_dict = checkpoint['model_state_dict']\n",
    "# new_state_dict = OrderedDict()\n",
    "# for key, value in encoder_state_dict.items():\n",
    "#     if key.startswith('encoder.'):\n",
    "#         new_key = key.replace('encoder.', '', 1)\n",
    "#         new_state_dict[new_key] = value\n",
    "#     else:\n",
    "#         new_state_dict[key] = value # This handles checkpoints saved without the prefix\n",
    "\n",
    "# msg = finetune_model.load_state_dict(new_state_dict, strict=False)\n",
    "# print(\"\\n--- Load Status ---\")\n",
    "# print(msg) # This should ONLY list 'head.weight' and 'head.bias' as missing.\n",
    "# print(\"\\n✅ Pre-trained encoder weights corrected and loaded successfully.\")\n",
    "\n",
    "# # --- 5. CRITICAL: Use a much smaller learning rate for fine-tuning ---\n",
    "# finetune_optimizer = optim.AdamW(finetune_model.parameters(), lr=5e-6, weight_decay=0.05) # <-- START WITH 5e-6\n",
    "\n",
    "# # --- 6. Use a scheduler suitable for fine-tuning (ReduceLROnPlateau is safer) ---\n",
    "# finetune_scheduler = torch.optim.lr_scheduler.ReduceLROnPlateau(finetune_optimizer, 'min', patience=5, factor=0.5)\n",
    "\n",
    "# # --- 7. Define Paths and Run ---\n",
    "# finetune_log_dir = f'/content/drive/MyDrive/NeuroVision/runs/finetune_{timestamp}'\n",
    "# finetune_save_path = f'/content/drive/MyDrive/NeuroVision/models/finetune_{timestamp}_best.pth'\n",
    "\n",
    "# print(f\"\\nModel is ready for fine-tuning. Logs will be saved to: {finetune_log_dir}\")\n"
   ]
  },
  {
   "cell_type": "code",
   "execution_count": null,
   "metadata": {},
   "outputs": [],
   "source": [
    "# run_finetuning(\n",
    "#     model=finetune_model,\n",
    "#     train_loader=train_loader, # Ensure this is your fine-tune loader\n",
    "#     val_loader=val_loader,     # Ensure this is your fine-tune loader\n",
    "#     optimizer=finetune_optimizer,\n",
    "#     scheduler=finetune_scheduler,\n",
    "#     device=device,\n",
    "#     epochs=100,\n",
    "#     log_dir=finetune_log_dir,\n",
    "#     save_path=finetune_save_path,\n",
    "#     patience=15 # A patience of 15 is good\n",
    "# )\n",
    "\n",
    "# print(\"Unified script with TensorBoard logging is ready.\")"
   ]
  },
  {
   "cell_type": "code",
   "execution_count": null,
   "metadata": {},
   "outputs": [
    {
     "name": "stdout",
     "output_type": "stream",
     "text": [
      "1. Preparing data splits and DataLoaders...\n",
      "Data ready. Found 97 classes.\n",
      "2. Initializing model for fine-tuning...\n",
      "Loaded pre-trained weights. Missing keys: ['head.weight', 'head.bias']\n",
      "\n",
      "--- Starting Encoder Fine-tuning ---\n"
     ]
    },
    {
     "data": {
      "application/vnd.jupyter.widget-view+json": {
       "model_id": "77b988205def41c8a60a3ea06348a129",
       "version_major": 2,
       "version_minor": 0
      },
      "text/plain": [
       "Epoch 1/200 [Train]:   0%|          | 0/33 [00:00<?, ?it/s]"
      ]
     },
     "metadata": {},
     "output_type": "display_data"
    },
    {
     "name": "stdout",
     "output_type": "stream",
     "text": [
      "Epoch 1: Train Loss: 4.5513, Train Acc: 4.09%, Val Acc: 4.30%\n",
      "Validation accuracy improved (4.30%). Saving model to /content/drive/MyDrive/NeuroVision/finetune_outputs/finetuned_encoder_20250912_120211_best.pth\n"
     ]
    },
    {
     "data": {
      "application/vnd.jupyter.widget-view+json": {
       "model_id": "492246d632794d40b69ed606d8583dec",
       "version_major": 2,
       "version_minor": 0
      },
      "text/plain": [
       "Epoch 2/200 [Train]:   0%|          | 0/33 [00:00<?, ?it/s]"
      ]
     },
     "metadata": {},
     "output_type": "display_data"
    },
    {
     "name": "stdout",
     "output_type": "stream",
     "text": [
      "Epoch 2: Train Loss: 4.5059, Train Acc: 4.14%, Val Acc: 4.30%\n",
      "Validation accuracy did not improve. Counter: 1/15\n"
     ]
    },
    {
     "data": {
      "application/vnd.jupyter.widget-view+json": {
       "model_id": "63a9ad206bbd4823b41fa032001d1704",
       "version_major": 2,
       "version_minor": 0
      },
      "text/plain": [
       "Epoch 3/200 [Train]:   0%|          | 0/33 [00:00<?, ?it/s]"
      ]
     },
     "metadata": {},
     "output_type": "display_data"
    },
    {
     "name": "stdout",
     "output_type": "stream",
     "text": [
      "Epoch 3: Train Loss: 4.5019, Train Acc: 4.14%, Val Acc: 4.30%\n",
      "Validation accuracy did not improve. Counter: 2/15\n"
     ]
    },
    {
     "data": {
      "application/vnd.jupyter.widget-view+json": {
       "model_id": "414c2eabde7b4d62a52cd5fde518c5e0",
       "version_major": 2,
       "version_minor": 0
      },
      "text/plain": [
       "Epoch 4/200 [Train]:   0%|          | 0/33 [00:00<?, ?it/s]"
      ]
     },
     "metadata": {},
     "output_type": "display_data"
    },
    {
     "name": "stdout",
     "output_type": "stream",
     "text": [
      "Epoch 4: Train Loss: 4.4984, Train Acc: 4.04%, Val Acc: 4.30%\n",
      "Validation accuracy did not improve. Counter: 3/15\n"
     ]
    },
    {
     "data": {
      "application/vnd.jupyter.widget-view+json": {
       "model_id": "a014f08ffa854d668ac95252a8a920ef",
       "version_major": 2,
       "version_minor": 0
      },
      "text/plain": [
       "Epoch 5/200 [Train]:   0%|          | 0/33 [00:00<?, ?it/s]"
      ]
     },
     "metadata": {},
     "output_type": "display_data"
    },
    {
     "name": "stdout",
     "output_type": "stream",
     "text": [
      "Epoch 5: Train Loss: 4.4961, Train Acc: 4.42%, Val Acc: 4.30%\n",
      "Validation accuracy did not improve. Counter: 4/15\n"
     ]
    },
    {
     "data": {
      "application/vnd.jupyter.widget-view+json": {
       "model_id": "3d7e4408e3c9419490dd3a5eb5b49896",
       "version_major": 2,
       "version_minor": 0
      },
      "text/plain": [
       "Epoch 6/200 [Train]:   0%|          | 0/33 [00:00<?, ?it/s]"
      ]
     },
     "metadata": {},
     "output_type": "display_data"
    },
    {
     "name": "stdout",
     "output_type": "stream",
     "text": [
      "Epoch 6: Train Loss: 4.4933, Train Acc: 4.04%, Val Acc: 4.30%\n",
      "Validation accuracy did not improve. Counter: 5/15\n"
     ]
    },
    {
     "data": {
      "application/vnd.jupyter.widget-view+json": {
       "model_id": "64014ea0dee94452802dbeb7e1faa3e5",
       "version_major": 2,
       "version_minor": 0
      },
      "text/plain": [
       "Epoch 7/200 [Train]:   0%|          | 0/33 [00:00<?, ?it/s]"
      ]
     },
     "metadata": {},
     "output_type": "display_data"
    },
    {
     "name": "stdout",
     "output_type": "stream",
     "text": [
      "Epoch 7: Train Loss: 4.4864, Train Acc: 4.42%, Val Acc: 4.03%\n",
      "Validation accuracy did not improve. Counter: 6/15\n"
     ]
    },
    {
     "data": {
      "application/vnd.jupyter.widget-view+json": {
       "model_id": "59d7e08fb4a44227a92ff8ea7b07f6d9",
       "version_major": 2,
       "version_minor": 0
      },
      "text/plain": [
       "Epoch 8/200 [Train]:   0%|          | 0/33 [00:00<?, ?it/s]"
      ]
     },
     "metadata": {},
     "output_type": "display_data"
    },
    {
     "name": "stdout",
     "output_type": "stream",
     "text": [
      "Epoch 8: Train Loss: 4.4756, Train Acc: 4.47%, Val Acc: 4.30%\n",
      "Validation accuracy did not improve. Counter: 7/15\n"
     ]
    },
    {
     "data": {
      "application/vnd.jupyter.widget-view+json": {
       "model_id": "6e4f2069862b467ab2f1c7683d0eae9b",
       "version_major": 2,
       "version_minor": 0
      },
      "text/plain": [
       "Epoch 9/200 [Train]:   0%|          | 0/33 [00:00<?, ?it/s]"
      ]
     },
     "metadata": {},
     "output_type": "display_data"
    },
    {
     "name": "stdout",
     "output_type": "stream",
     "text": [
      "Epoch 9: Train Loss: 4.4711, Train Acc: 4.76%, Val Acc: 4.30%\n",
      "Validation accuracy did not improve. Counter: 8/15\n"
     ]
    },
    {
     "data": {
      "application/vnd.jupyter.widget-view+json": {
       "model_id": "5bf0318ded8647b2a7820bbf2e2ce4c9",
       "version_major": 2,
       "version_minor": 0
      },
      "text/plain": [
       "Epoch 10/200 [Train]:   0%|          | 0/33 [00:00<?, ?it/s]"
      ]
     },
     "metadata": {},
     "output_type": "display_data"
    },
    {
     "name": "stdout",
     "output_type": "stream",
     "text": [
      "Epoch 10: Train Loss: 4.4662, Train Acc: 5.04%, Val Acc: 3.76%\n",
      "Validation accuracy did not improve. Counter: 9/15\n"
     ]
    },
    {
     "data": {
      "application/vnd.jupyter.widget-view+json": {
       "model_id": "0ed2fc8afe314f18b19ebef069406c28",
       "version_major": 2,
       "version_minor": 0
      },
      "text/plain": [
       "Epoch 11/200 [Train]:   0%|          | 0/33 [00:00<?, ?it/s]"
      ]
     },
     "metadata": {},
     "output_type": "display_data"
    },
    {
     "name": "stdout",
     "output_type": "stream",
     "text": [
      "Epoch 11: Train Loss: 4.4629, Train Acc: 4.71%, Val Acc: 4.30%\n",
      "Validation accuracy did not improve. Counter: 10/15\n"
     ]
    },
    {
     "data": {
      "application/vnd.jupyter.widget-view+json": {
       "model_id": "88cb4fc5da434153aa97869f1bca2b21",
       "version_major": 2,
       "version_minor": 0
      },
      "text/plain": [
       "Epoch 12/200 [Train]:   0%|          | 0/33 [00:00<?, ?it/s]"
      ]
     },
     "metadata": {},
     "output_type": "display_data"
    },
    {
     "name": "stdout",
     "output_type": "stream",
     "text": [
      "Epoch 12: Train Loss: 4.4568, Train Acc: 4.80%, Val Acc: 4.57%\n",
      "Validation accuracy improved (4.57%). Saving model to /content/drive/MyDrive/NeuroVision/finetune_outputs/finetuned_encoder_20250912_120211_best.pth\n"
     ]
    },
    {
     "data": {
      "application/vnd.jupyter.widget-view+json": {
       "model_id": "afc7b17fa47544f9a6392bb0a43fd96b",
       "version_major": 2,
       "version_minor": 0
      },
      "text/plain": [
       "Epoch 13/200 [Train]:   0%|          | 0/33 [00:00<?, ?it/s]"
      ]
     },
     "metadata": {},
     "output_type": "display_data"
    },
    {
     "name": "stdout",
     "output_type": "stream",
     "text": [
      "Epoch 13: Train Loss: 4.4546, Train Acc: 4.14%, Val Acc: 3.76%\n",
      "Validation accuracy did not improve. Counter: 1/15\n"
     ]
    },
    {
     "data": {
      "application/vnd.jupyter.widget-view+json": {
       "model_id": "eebe16015ce9472d96927766397528e3",
       "version_major": 2,
       "version_minor": 0
      },
      "text/plain": [
       "Epoch 14/200 [Train]:   0%|          | 0/33 [00:00<?, ?it/s]"
      ]
     },
     "metadata": {},
     "output_type": "display_data"
    },
    {
     "name": "stdout",
     "output_type": "stream",
     "text": [
      "Epoch 14: Train Loss: 4.4492, Train Acc: 4.85%, Val Acc: 4.03%\n",
      "Validation accuracy did not improve. Counter: 2/15\n"
     ]
    },
    {
     "data": {
      "application/vnd.jupyter.widget-view+json": {
       "model_id": "19f096c4035b4fc08f7cce77adfc145d",
       "version_major": 2,
       "version_minor": 0
      },
      "text/plain": [
       "Epoch 15/200 [Train]:   0%|          | 0/33 [00:00<?, ?it/s]"
      ]
     },
     "metadata": {},
     "output_type": "display_data"
    },
    {
     "name": "stdout",
     "output_type": "stream",
     "text": [
      "Epoch 15: Train Loss: 4.4456, Train Acc: 5.04%, Val Acc: 4.30%\n",
      "Validation accuracy did not improve. Counter: 3/15\n"
     ]
    },
    {
     "data": {
      "application/vnd.jupyter.widget-view+json": {
       "model_id": "c78b6203d9f64b66adfee7be8a3a1f3c",
       "version_major": 2,
       "version_minor": 0
      },
      "text/plain": [
       "Epoch 16/200 [Train]:   0%|          | 0/33 [00:00<?, ?it/s]"
      ]
     },
     "metadata": {},
     "output_type": "display_data"
    },
    {
     "name": "stdout",
     "output_type": "stream",
     "text": [
      "Epoch 16: Train Loss: 4.4407, Train Acc: 4.66%, Val Acc: 4.30%\n",
      "Validation accuracy did not improve. Counter: 4/15\n"
     ]
    },
    {
     "data": {
      "application/vnd.jupyter.widget-view+json": {
       "model_id": "109e273bba2a493295a9e7415cd067bb",
       "version_major": 2,
       "version_minor": 0
      },
      "text/plain": [
       "Epoch 17/200 [Train]:   0%|          | 0/33 [00:00<?, ?it/s]"
      ]
     },
     "metadata": {},
     "output_type": "display_data"
    },
    {
     "name": "stdout",
     "output_type": "stream",
     "text": [
      "Epoch 17: Train Loss: 4.4345, Train Acc: 5.33%, Val Acc: 4.30%\n",
      "Validation accuracy did not improve. Counter: 5/15\n"
     ]
    },
    {
     "data": {
      "application/vnd.jupyter.widget-view+json": {
       "model_id": "5d9f67e83bee46b4af7e88c0a7cf4c1b",
       "version_major": 2,
       "version_minor": 0
      },
      "text/plain": [
       "Epoch 18/200 [Train]:   0%|          | 0/33 [00:00<?, ?it/s]"
      ]
     },
     "metadata": {},
     "output_type": "display_data"
    },
    {
     "name": "stdout",
     "output_type": "stream",
     "text": [
      "Epoch 18: Train Loss: 4.4285, Train Acc: 4.85%, Val Acc: 4.30%\n",
      "Validation accuracy did not improve. Counter: 6/15\n"
     ]
    },
    {
     "data": {
      "application/vnd.jupyter.widget-view+json": {
       "model_id": "81c5fca45e0b41c2880e0cb9b5309c2e",
       "version_major": 2,
       "version_minor": 0
      },
      "text/plain": [
       "Epoch 19/200 [Train]:   0%|          | 0/33 [00:00<?, ?it/s]"
      ]
     },
     "metadata": {},
     "output_type": "display_data"
    },
    {
     "name": "stdout",
     "output_type": "stream",
     "text": [
      "Epoch 19: Train Loss: 4.4176, Train Acc: 5.09%, Val Acc: 4.57%\n",
      "Validation accuracy did not improve. Counter: 7/15\n"
     ]
    },
    {
     "data": {
      "application/vnd.jupyter.widget-view+json": {
       "model_id": "e5b15efa718847cd8ed4fada3cff0b8a",
       "version_major": 2,
       "version_minor": 0
      },
      "text/plain": [
       "Epoch 20/200 [Train]:   0%|          | 0/33 [00:00<?, ?it/s]"
      ]
     },
     "metadata": {},
     "output_type": "display_data"
    },
    {
     "name": "stdout",
     "output_type": "stream",
     "text": [
      "Epoch 20: Train Loss: 4.4131, Train Acc: 5.00%, Val Acc: 3.76%\n",
      "Validation accuracy did not improve. Counter: 8/15\n"
     ]
    },
    {
     "data": {
      "application/vnd.jupyter.widget-view+json": {
       "model_id": "0d9fdd4baecc4ff5ad036ae6e02c38a6",
       "version_major": 2,
       "version_minor": 0
      },
      "text/plain": [
       "Epoch 21/200 [Train]:   0%|          | 0/33 [00:00<?, ?it/s]"
      ]
     },
     "metadata": {},
     "output_type": "display_data"
    },
    {
     "name": "stdout",
     "output_type": "stream",
     "text": [
      "Epoch 21: Train Loss: 4.4111, Train Acc: 5.14%, Val Acc: 3.76%\n",
      "Validation accuracy did not improve. Counter: 9/15\n"
     ]
    },
    {
     "data": {
      "application/vnd.jupyter.widget-view+json": {
       "model_id": "f2e3fc49d3db489780443abfa7770988",
       "version_major": 2,
       "version_minor": 0
      },
      "text/plain": [
       "Epoch 22/200 [Train]:   0%|          | 0/33 [00:00<?, ?it/s]"
      ]
     },
     "metadata": {},
     "output_type": "display_data"
    },
    {
     "name": "stdout",
     "output_type": "stream",
     "text": [
      "Epoch 22: Train Loss: 4.4096, Train Acc: 5.04%, Val Acc: 4.03%\n",
      "Validation accuracy did not improve. Counter: 10/15\n"
     ]
    },
    {
     "data": {
      "application/vnd.jupyter.widget-view+json": {
       "model_id": "08de2de0ad5f47bf9b09568e7986dad7",
       "version_major": 2,
       "version_minor": 0
      },
      "text/plain": [
       "Epoch 23/200 [Train]:   0%|          | 0/33 [00:00<?, ?it/s]"
      ]
     },
     "metadata": {},
     "output_type": "display_data"
    },
    {
     "name": "stdout",
     "output_type": "stream",
     "text": [
      "Epoch 23: Train Loss: 4.4078, Train Acc: 4.85%, Val Acc: 4.84%\n",
      "Validation accuracy improved (4.84%). Saving model to /content/drive/MyDrive/NeuroVision/finetune_outputs/finetuned_encoder_20250912_120211_best.pth\n"
     ]
    },
    {
     "data": {
      "application/vnd.jupyter.widget-view+json": {
       "model_id": "2ecbc18c2b11432f863f16603d47b940",
       "version_major": 2,
       "version_minor": 0
      },
      "text/plain": [
       "Epoch 24/200 [Train]:   0%|          | 0/33 [00:00<?, ?it/s]"
      ]
     },
     "metadata": {},
     "output_type": "display_data"
    },
    {
     "name": "stdout",
     "output_type": "stream",
     "text": [
      "Epoch 24: Train Loss: 4.4005, Train Acc: 5.04%, Val Acc: 4.84%\n",
      "Validation accuracy did not improve. Counter: 1/15\n"
     ]
    },
    {
     "data": {
      "application/vnd.jupyter.widget-view+json": {
       "model_id": "b8255a5972fd4bca93f00d31958f8941",
       "version_major": 2,
       "version_minor": 0
      },
      "text/plain": [
       "Epoch 25/200 [Train]:   0%|          | 0/33 [00:00<?, ?it/s]"
      ]
     },
     "metadata": {},
     "output_type": "display_data"
    },
    {
     "name": "stdout",
     "output_type": "stream",
     "text": [
      "Epoch 25: Train Loss: 4.4012, Train Acc: 5.38%, Val Acc: 4.30%\n",
      "Validation accuracy did not improve. Counter: 2/15\n"
     ]
    },
    {
     "data": {
      "application/vnd.jupyter.widget-view+json": {
       "model_id": "8d7bc2bd3aea49b0b62654b5a761d58c",
       "version_major": 2,
       "version_minor": 0
      },
      "text/plain": [
       "Epoch 26/200 [Train]:   0%|          | 0/33 [00:00<?, ?it/s]"
      ]
     },
     "metadata": {},
     "output_type": "display_data"
    },
    {
     "name": "stdout",
     "output_type": "stream",
     "text": [
      "Epoch 26: Train Loss: 4.3960, Train Acc: 4.95%, Val Acc: 4.03%\n",
      "Validation accuracy did not improve. Counter: 3/15\n"
     ]
    },
    {
     "data": {
      "application/vnd.jupyter.widget-view+json": {
       "model_id": "1539e49804bb48b1985974a693c1ab69",
       "version_major": 2,
       "version_minor": 0
      },
      "text/plain": [
       "Epoch 27/200 [Train]:   0%|          | 0/33 [00:00<?, ?it/s]"
      ]
     },
     "metadata": {},
     "output_type": "display_data"
    },
    {
     "name": "stdout",
     "output_type": "stream",
     "text": [
      "Epoch 27: Train Loss: 4.3923, Train Acc: 4.71%, Val Acc: 4.57%\n",
      "Validation accuracy did not improve. Counter: 4/15\n"
     ]
    },
    {
     "data": {
      "application/vnd.jupyter.widget-view+json": {
       "model_id": "9a1599fba3624ccf87f2c44b3499fa80",
       "version_major": 2,
       "version_minor": 0
      },
      "text/plain": [
       "Epoch 28/200 [Train]:   0%|          | 0/33 [00:00<?, ?it/s]"
      ]
     },
     "metadata": {},
     "output_type": "display_data"
    },
    {
     "name": "stdout",
     "output_type": "stream",
     "text": [
      "Epoch 28: Train Loss: 4.3878, Train Acc: 5.28%, Val Acc: 4.84%\n",
      "Validation accuracy did not improve. Counter: 5/15\n"
     ]
    },
    {
     "data": {
      "application/vnd.jupyter.widget-view+json": {
       "model_id": "c89b3dffebad4910ab20b4d4adec137c",
       "version_major": 2,
       "version_minor": 0
      },
      "text/plain": [
       "Epoch 29/200 [Train]:   0%|          | 0/33 [00:00<?, ?it/s]"
      ]
     },
     "metadata": {},
     "output_type": "display_data"
    },
    {
     "name": "stdout",
     "output_type": "stream",
     "text": [
      "Epoch 29: Train Loss: 4.3811, Train Acc: 5.04%, Val Acc: 4.84%\n",
      "Validation accuracy did not improve. Counter: 6/15\n"
     ]
    },
    {
     "data": {
      "application/vnd.jupyter.widget-view+json": {
       "model_id": "8ac6630161a34073b435664695f65061",
       "version_major": 2,
       "version_minor": 0
      },
      "text/plain": [
       "Epoch 30/200 [Train]:   0%|          | 0/33 [00:00<?, ?it/s]"
      ]
     },
     "metadata": {},
     "output_type": "display_data"
    },
    {
     "name": "stdout",
     "output_type": "stream",
     "text": [
      "Epoch 30: Train Loss: 4.3712, Train Acc: 5.38%, Val Acc: 4.84%\n",
      "Validation accuracy did not improve. Counter: 7/15\n"
     ]
    },
    {
     "data": {
      "application/vnd.jupyter.widget-view+json": {
       "model_id": "a0fc04abb32a4d34936bae84485e2deb",
       "version_major": 2,
       "version_minor": 0
      },
      "text/plain": [
       "Epoch 31/200 [Train]:   0%|          | 0/33 [00:00<?, ?it/s]"
      ]
     },
     "metadata": {},
     "output_type": "display_data"
    },
    {
     "name": "stdout",
     "output_type": "stream",
     "text": [
      "Epoch 31: Train Loss: 4.3688, Train Acc: 5.09%, Val Acc: 3.76%\n",
      "Validation accuracy did not improve. Counter: 8/15\n"
     ]
    },
    {
     "data": {
      "application/vnd.jupyter.widget-view+json": {
       "model_id": "80b847ef24624bf7971d4237f7d6beea",
       "version_major": 2,
       "version_minor": 0
      },
      "text/plain": [
       "Epoch 32/200 [Train]:   0%|          | 0/33 [00:00<?, ?it/s]"
      ]
     },
     "metadata": {},
     "output_type": "display_data"
    },
    {
     "name": "stdout",
     "output_type": "stream",
     "text": [
      "Epoch 32: Train Loss: 4.3648, Train Acc: 5.33%, Val Acc: 4.57%\n",
      "Validation accuracy did not improve. Counter: 9/15\n"
     ]
    },
    {
     "data": {
      "application/vnd.jupyter.widget-view+json": {
       "model_id": "1e6bb0158cdc40b08c1d4f5489d81860",
       "version_major": 2,
       "version_minor": 0
      },
      "text/plain": [
       "Epoch 33/200 [Train]:   0%|          | 0/33 [00:00<?, ?it/s]"
      ]
     },
     "metadata": {},
     "output_type": "display_data"
    },
    {
     "name": "stdout",
     "output_type": "stream",
     "text": [
      "Epoch 33: Train Loss: 4.3573, Train Acc: 4.95%, Val Acc: 3.76%\n",
      "Validation accuracy did not improve. Counter: 10/15\n"
     ]
    },
    {
     "data": {
      "application/vnd.jupyter.widget-view+json": {
       "model_id": "8041513b4e0343b48f110421bf207c70",
       "version_major": 2,
       "version_minor": 0
      },
      "text/plain": [
       "Epoch 34/200 [Train]:   0%|          | 0/33 [00:00<?, ?it/s]"
      ]
     },
     "metadata": {},
     "output_type": "display_data"
    },
    {
     "name": "stdout",
     "output_type": "stream",
     "text": [
      "Epoch 34: Train Loss: 4.3610, Train Acc: 5.00%, Val Acc: 4.03%\n",
      "Validation accuracy did not improve. Counter: 11/15\n"
     ]
    },
    {
     "data": {
      "application/vnd.jupyter.widget-view+json": {
       "model_id": "fdb254f39a2549eba70c255852c726c9",
       "version_major": 2,
       "version_minor": 0
      },
      "text/plain": [
       "Epoch 35/200 [Train]:   0%|          | 0/33 [00:00<?, ?it/s]"
      ]
     },
     "metadata": {},
     "output_type": "display_data"
    },
    {
     "name": "stdout",
     "output_type": "stream",
     "text": [
      "Epoch 35: Train Loss: 4.3569, Train Acc: 5.33%, Val Acc: 4.03%\n",
      "Validation accuracy did not improve. Counter: 12/15\n"
     ]
    },
    {
     "data": {
      "application/vnd.jupyter.widget-view+json": {
       "model_id": "645e20d1425849c1b0f3f3765352b092",
       "version_major": 2,
       "version_minor": 0
      },
      "text/plain": [
       "Epoch 36/200 [Train]:   0%|          | 0/33 [00:00<?, ?it/s]"
      ]
     },
     "metadata": {},
     "output_type": "display_data"
    },
    {
     "name": "stdout",
     "output_type": "stream",
     "text": [
      "Epoch 36: Train Loss: 4.3482, Train Acc: 5.71%, Val Acc: 4.30%\n",
      "Validation accuracy did not improve. Counter: 13/15\n"
     ]
    },
    {
     "data": {
      "application/vnd.jupyter.widget-view+json": {
       "model_id": "1acbbbec78be4d7f866c37b8e0b2820f",
       "version_major": 2,
       "version_minor": 0
      },
      "text/plain": [
       "Epoch 37/200 [Train]:   0%|          | 0/33 [00:00<?, ?it/s]"
      ]
     },
     "metadata": {},
     "output_type": "display_data"
    },
    {
     "name": "stdout",
     "output_type": "stream",
     "text": [
      "Epoch 37: Train Loss: 4.3443, Train Acc: 5.76%, Val Acc: 4.57%\n",
      "Validation accuracy did not improve. Counter: 14/15\n"
     ]
    },
    {
     "data": {
      "application/vnd.jupyter.widget-view+json": {
       "model_id": "92aec4b158bc484889cc1c19ce19a207",
       "version_major": 2,
       "version_minor": 0
      },
      "text/plain": [
       "Epoch 38/200 [Train]:   0%|          | 0/33 [00:00<?, ?it/s]"
      ]
     },
     "metadata": {},
     "output_type": "display_data"
    },
    {
     "name": "stdout",
     "output_type": "stream",
     "text": [
      "Epoch 38: Train Loss: 4.3405, Train Acc: 5.28%, Val Acc: 4.30%\n",
      "Validation accuracy did not improve. Counter: 15/15\n",
      "Early stopping triggered.\n",
      "--- Fine-tuning complete. Best model saved to /content/drive/MyDrive/NeuroVision/finetune_outputs/finetuned_encoder_20250912_120211_best.pth ---\n"
     ]
    }
   ],
   "source": [
    "import os\n",
    "import torch\n",
    "import timm\n",
    "import pandas as pd\n",
    "from pathlib import Path\n",
    "from collections import OrderedDict\n",
    "from datetime import datetime\n",
    "from sklearn.model_selection import train_test_split\n",
    "from tqdm.notebook import tqdm\n",
    "from torch.utils.data import Dataset, DataLoader\n",
    "from torchvision.transforms import v2 as transforms\n",
    "import torch.nn as nn\n",
    "import torch.optim as optim\n",
    "from torch.utils.tensorboard import SummaryWriter\n",
    "\n",
    "# ==============================================================================\n",
    "# --- 1. CONFIGURATION FOR ENCODER FINE-TUNING ---\n",
    "# ==============================================================================\n",
    "class CONFIG_FINETUNE:\n",
    "    # --- UPDATE THESE PATHS ---\n",
    "    PRETRAINED_ENCODER_PATH = '/content/drive/MyDrive/NeuroVision/models/pretrain_encoder_20250905_194203_best.pth'\n",
    "    SPECTROGRAMS_ROOT = '/content/cwt_scalograms_by_class'\n",
    "    STATS_MEAN_PATH = '/content/cwt_scalograms_by_class/mean.pt'\n",
    "    STATS_STD_PATH = '/content/cwt_scalograms_by_class/std.pt'\n",
    "\n",
    "    # --- Output Paths (Script will create these) ---\n",
    "    OUTPUT_DIR = '/content/drive/MyDrive/NeuroVision/finetune_outputs'\n",
    "\n",
    "    # --- Hyperparameters ---\n",
    "    LR = 1e-4  # A slightly higher starting LR for fine-tuning\n",
    "    WEIGHT_DECAY = 0.05\n",
    "    BATCH_SIZE = 64\n",
    "    NUM_EPOCHS = 200\n",
    "    IMG_SIZE = 224\n",
    "    EEG_CHANNELS = 4\n",
    "    TRAIN_RATIO = 0.85 # Using a standard train/val split\n",
    "\n",
    "# ==============================================================================\n",
    "# --- 2. DATASET & HELPER CLASSES ---\n",
    "# ==============================================================================\n",
    "class FinetuneDataset(Dataset):\n",
    "    def __init__(self, samples, transform=None):\n",
    "        self.samples = samples\n",
    "        self.transform = transform\n",
    "\n",
    "    def __len__(self):\n",
    "        return len(self.samples)\n",
    "\n",
    "    def __getitem__(self, idx):\n",
    "        path, label = self.samples[idx]\n",
    "        spectrogram = torch.load(path)\n",
    "        if self.transform:\n",
    "            spectrogram = self.transform(spectrogram)\n",
    "        return spectrogram, torch.tensor(label, dtype=torch.long)\n",
    "\n",
    "class EarlyStopping:\n",
    "    def __init__(self, model, save_path, patience=10, delta=0):\n",
    "        self.model = model\n",
    "        self.save_path = save_path\n",
    "        self.patience = patience\n",
    "        self.counter = 0\n",
    "        self.best_acc = 0\n",
    "        self.early_stop = False\n",
    "        self.delta = delta\n",
    "\n",
    "    def __call__(self, val_acc):\n",
    "        if val_acc > self.best_acc + self.delta:\n",
    "            self.best_acc = val_acc\n",
    "            self.save_checkpoint()\n",
    "            self.counter = 0\n",
    "        else:\n",
    "            self.counter += 1\n",
    "            print(f'Validation accuracy did not improve. Counter: {self.counter}/{self.patience}')\n",
    "            if self.counter >= self.patience:\n",
    "                self.early_stop = True\n",
    "\n",
    "    def save_checkpoint(self):\n",
    "        print(f'Validation accuracy improved ({self.best_acc:.2f}%). Saving model to {self.save_path}')\n",
    "        torch.save(self.model.state_dict(), self.save_path)\n",
    "\n",
    "# ==============================================================================\n",
    "# --- 3. FINE-TUNING SCRIPT ---\n",
    "# ==============================================================================\n",
    "def run_finetuning(config):\n",
    "    timestamp = datetime.now().strftime('%Y%m%d_%H%M%S')\n",
    "    device = torch.device(\"cuda\" if torch.cuda.is_available() else \"cpu\")\n",
    "    log_dir = os.path.join(config.OUTPUT_DIR, f'logs_{timestamp}')\n",
    "    model_path = os.path.join(config.OUTPUT_DIR, f'finetuned_encoder_{timestamp}_best.pth')\n",
    "    os.makedirs(os.path.dirname(model_path), exist_ok=True)\n",
    "    writer = SummaryWriter(log_dir)\n",
    "\n",
    "    # --- Prepare Data ---\n",
    "    print(\"1. Preparing data splits and DataLoaders...\")\n",
    "    all_samples = []\n",
    "    root_dir = Path(config.SPECTROGRAMS_ROOT) / 'train' # Use the existing processed spectrograms\n",
    "    class_names = sorted([d.name for d in root_dir.iterdir() if d.is_dir()])\n",
    "    class_to_idx = {name: i for i, name in enumerate(class_names)}\n",
    "    NUM_CLASSES = len(class_names)\n",
    "\n",
    "    for class_name, label_idx in class_to_idx.items():\n",
    "        for file_path in (root_dir / class_name).glob('*.pt'):\n",
    "            all_samples.append((str(file_path), label_idx))\n",
    "\n",
    "    labels = [s[1] for s in all_samples]\n",
    "    train_samples, val_samples = train_test_split(all_samples, train_size=config.TRAIN_RATIO, stratify=labels, random_state=42)\n",
    "\n",
    "    mean = torch.load(config.STATS_MEAN_PATH)\n",
    "    std = torch.load(config.STATS_STD_PATH)\n",
    "\n",
    "    train_transform = transforms.Compose([\n",
    "        transforms.ToDtype(torch.float32, scale=False),\n",
    "        transforms.Resize((config.IMG_SIZE, config.IMG_SIZE), antialias=True),\n",
    "        transforms.RandomAffine(degrees=10, translate=(0.05, 0.05), scale=(0.95, 1.05)),\n",
    "        transforms.Normalize(mean=mean.tolist(), std=std.tolist())\n",
    "    ])\n",
    "    val_transform = transforms.Compose([\n",
    "        transforms.ToDtype(torch.float32, scale=False),\n",
    "        transforms.Resize((config.IMG_SIZE, config.IMG_SIZE), antialias=True),\n",
    "        transforms.Normalize(mean=mean.tolist(), std=std.tolist())\n",
    "    ])\n",
    "\n",
    "    train_dataset = FinetuneDataset(train_samples, transform=train_transform)\n",
    "    val_dataset = FinetuneDataset(val_samples, transform=val_transform)\n",
    "\n",
    "    train_loader = DataLoader(train_dataset, batch_size=config.BATCH_SIZE, shuffle=True, num_workers=2)\n",
    "    val_loader = DataLoader(val_dataset, batch_size=config.BATCH_SIZE, shuffle=False, num_workers=2)\n",
    "    print(f\"Data ready. Found {NUM_CLASSES} classes.\")\n",
    "\n",
    "    # --- Initialize Model ---\n",
    "    print(\"2. Initializing model for fine-tuning...\")\n",
    "    model = timm.create_model('vit_tiny_patch16_224', in_chans=config.EEG_CHANNELS, num_classes=NUM_CLASSES)\n",
    "\n",
    "    checkpoint = torch.load(config.PRETRAINED_ENCODER_PATH, map_location='cpu')\n",
    "    encoder_state_dict = checkpoint.get('model_state_dict', checkpoint)\n",
    "\n",
    "    msg = model.load_state_dict(encoder_state_dict, strict=False)\n",
    "    print(f\"Loaded pre-trained weights. Missing keys: {msg.missing_keys}\") # Should only be 'head.weight' and 'head.bias'\n",
    "    model.to(device)\n",
    "\n",
    "    # --- Training Setup ---\n",
    "    criterion = nn.CrossEntropyLoss()\n",
    "    optimizer = optim.AdamW(model.parameters(), lr=config.LR, weight_decay=config.WEIGHT_DECAY)\n",
    "    scheduler = optim.lr_scheduler.ReduceLROnPlateau(optimizer, 'max', patience=5, factor=0.5)\n",
    "    early_stopping = EarlyStopping(model, save_path=model_path, patience=15)\n",
    "\n",
    "    # --- Training Loop ---\n",
    "    print(f\"\\n--- Starting Encoder Fine-tuning ---\")\n",
    "    for epoch in range(config.NUM_EPOCHS):\n",
    "        model.train()\n",
    "        train_loss, train_correct, train_total = 0.0, 0, 0\n",
    "        for inputs, labels in tqdm(train_loader, desc=f\"Epoch {epoch+1}/{config.NUM_EPOCHS} [Train]\"):\n",
    "            inputs, labels = inputs.to(device), labels.to(device)\n",
    "            optimizer.zero_grad()\n",
    "            outputs = model(inputs)\n",
    "            loss = criterion(outputs, labels)\n",
    "            loss.backward()\n",
    "            optimizer.step()\n",
    "\n",
    "            train_loss += loss.item()\n",
    "            _, predicted = torch.max(outputs.data, 1)\n",
    "            train_total += labels.size(0)\n",
    "            train_correct += (predicted == labels).sum().item()\n",
    "\n",
    "        model.eval()\n",
    "        val_correct, val_total = 0, 0\n",
    "        with torch.no_grad():\n",
    "            for inputs, labels in val_loader:\n",
    "                inputs, labels = inputs.to(device), labels.to(device)\n",
    "                outputs = model(inputs)\n",
    "                _, predicted = torch.max(outputs.data, 1)\n",
    "                val_total += labels.size(0)\n",
    "                val_correct += (predicted == labels).sum().item()\n",
    "\n",
    "        train_acc = 100 * train_correct / train_total\n",
    "        val_acc = 100 * val_correct / val_total\n",
    "        avg_train_loss = train_loss / len(train_loader)\n",
    "\n",
    "        writer.add_scalar('Loss/train', avg_train_loss, epoch)\n",
    "        writer.add_scalar('Accuracy/train', train_acc, epoch)\n",
    "        writer.add_scalar('Accuracy/val', val_acc, epoch)\n",
    "        writer.add_scalar('Learning Rate', optimizer.param_groups[0]['lr'], epoch)\n",
    "\n",
    "        print(f\"Epoch {epoch+1}: Train Loss: {avg_train_loss:.4f}, Train Acc: {train_acc:.2f}%, Val Acc: {val_acc:.2f}%\")\n",
    "\n",
    "        scheduler.step(val_acc)\n",
    "        early_stopping(val_acc)\n",
    "        if early_stopping.early_stop:\n",
    "            print(\"Early stopping triggered.\")\n",
    "            break\n",
    "\n",
    "    writer.close()\n",
    "    print(f\"--- Fine-tuning complete. Best model saved to {model_path} ---\")\n",
    "\n",
    "# ==============================================================================\n",
    "# --- 4. EXECUTION ---\n",
    "# ==============================================================================\n",
    "if __name__ == '__main__':\n",
    "    ft_config = CONFIG_FINETUNE()\n",
    "    run_finetuning(ft_config)"
   ]
  },
  {
   "cell_type": "markdown",
   "metadata": {
    "id": "GKhnfwXcd8V4"
   },
   "source": [
    "## GAN Training"
   ]
  },
  {
   "cell_type": "code",
   "execution_count": null,
   "metadata": {},
   "outputs": [
    {
     "name": "stdout",
     "output_type": "stream",
     "text": [
      "Using device: cuda\n",
      "--- Starting data preparation for GAN training ---\n",
      "1. Discovering raw EEG files and creating splits...\n",
      "2. Generating 2474 spectrograms for training set...\n"
     ]
    },
    {
     "data": {
      "application/vnd.jupyter.widget-view+json": {
       "model_id": "91e8198e0ffd4c37bc6b67e0623a9d5d",
       "version_major": 2,
       "version_minor": 0
      },
      "text/plain": [
       "Processing spectrograms:   0%|          | 0/2474 [00:00<?, ?it/s]"
      ]
     },
     "metadata": {},
     "output_type": "display_data"
    },
    {
     "name": "stdout",
     "output_type": "stream",
     "text": [
      "3. Calculating mean and std from training set...\n"
     ]
    },
    {
     "data": {
      "application/vnd.jupyter.widget-view+json": {
       "model_id": "c1ef4ff3ad274df7afea2fd928eb5225",
       "version_major": 2,
       "version_minor": 0
      },
      "text/plain": [
       "Calculating stats:   0%|          | 0/2474 [00:00<?, ?it/s]"
      ]
     },
     "metadata": {},
     "output_type": "display_data"
    },
    {
     "name": "stdout",
     "output_type": "stream",
     "text": [
      "\n",
      "Saved Mean/Std. Data preparation complete.\n"
     ]
    },
    {
     "name": "stderr",
     "output_type": "stream",
     "text": [
      "/usr/local/lib/python3.12/dist-packages/torchvision/transforms/v2/_deprecated.py:42: UserWarning: The transform `ToTensor()` is deprecated and will be removed in a future release. Instead, please use `v2.Compose([v2.ToImage(), v2.ToDtype(torch.float32, scale=True)])`.Output is equivalent up to float precision.\n",
      "  warnings.warn(\n"
     ]
    }
   ],
   "source": [
    "import os\n",
    "import shutil\n",
    "import pandas as pd\n",
    "from pathlib import Path\n",
    "from tqdm.notebook import tqdm\n",
    "import torch\n",
    "from torch.utils.data import Dataset, DataLoader\n",
    "from torchvision.transforms import v2 as transforms\n",
    "from PIL import Image, ImageDraw, ImageFont\n",
    "import random\n",
    "import torch.nn as nn\n",
    "import torch.optim as optim\n",
    "from torchvision.utils import make_grid\n",
    "import timm\n",
    "from collections import OrderedDict\n",
    "import datetime\n",
    "from scipy import signal\n",
    "import numpy as np\n",
    "from sklearn.model_selection import train_test_split\n",
    "\n",
    "# ==============================================================================\n",
    "# --- 1. CONFIGURATION ---\n",
    "# All user-configurable paths and hyperparameters are in this section.\n",
    "# ==============================================================================\n",
    "class CONFIG:\n",
    "    # --- Source Data Paths ---\n",
    "    RAW_EEG_ROOT_DIR = '/content/gan_dataset'\n",
    "    IMAGE_ROOT_DIR = '/content/gan_imagenet'\n",
    "    PRETRAINED_ENCODER_PATH = '/content/drive/MyDrive/NeuroVision/models/pretrain_encoder_20250905_194203_best.pth'\n",
    "\n",
    "    # --- Processed Data Paths (This script will create these) ---\n",
    "    GAN_SPECTROGRAMS_ROOT = '/content/cwt_scalograms_by_class'\n",
    "    STATS_MEAN_PATH = '/content/cwt_scalograms_by_class/mean.pt'\n",
    "    STATS_STD_PATH = '/content/cwt_scalograms_by_class/std.pt'\n",
    "\n",
    "    # --- Output Paths ---\n",
    "    OUTPUT_DIR = '/content/drive/MyDrive/NeuroVision/gan_outputs_stylegan_multi_inject' # <-- MODIFIED: New output folder\n",
    "\n",
    "    # --- Hyperparameters ---\n",
    "    LR_GENERATOR = 0.00008\n",
    "    LR_DISCRIMINATOR = 0.0002\n",
    "    LR_ENCODER = 1e-5\n",
    "    BETA1 = 0.0\n",
    "    BETA2 = 0.99\n",
    "    L1_LAMBDA = 100.0            # <-- Keeping L1 Lambda at 200\n",
    "    BATCH_SIZE = 32\n",
    "    NUM_EPOCHS = 500\n",
    "    TRAIN_RATIO = 0.95\n",
    "    LABEL_SMOOTHING = 0.1\n",
    "    PLR_WEIGHT = 2.0\n",
    "    PLR_INTERVAL = 16\n",
    "\n",
    "    # --- Model & Spectrogram Dimensions ---\n",
    "    ENCODER_DIM = 192\n",
    "    STYLE_DIM = 256\n",
    "    ENCODER_IMG_SIZE = 224\n",
    "    GENERATOR_IMG_SIZE = 64\n",
    "    EEG_CHANNELS = 4\n",
    "    IMAGE_CHANNELS = 1\n",
    "    FS = 128\n",
    "    NPERSEG = 64\n",
    "    NOVERLAP = 32\n",
    "\n",
    "# ==============================================================================\n",
    "# --- 2. GAN DATA PREPARATION SCRIPT (RUNS ONCE PER SESSION) ---\n",
    "# ==============================================================================\n",
    "def generate_spectrogram(eeg_data_1d):\n",
    "    \"\"\"Generates a log-spectrogram from a 1D EEG signal array.\"\"\"\n",
    "    channel_spectrograms = []\n",
    "    for i in range(eeg_data_1d.shape[1]):\n",
    "        _, _, Sxx = signal.spectrogram(eeg_data_1d[:, i], fs=CONFIG.FS, nperseg=CONFIG.NPERSEG, noverlap=CONFIG.NOVERLAP)\n",
    "        channel_spectrograms.append(np.log1p(Sxx))\n",
    "    return torch.tensor(np.array(channel_spectrograms), dtype=torch.float32)\n",
    "\n",
    "def prepare_gan_spectrograms(config):\n",
    "    \"\"\"\n",
    "    Scans raw EEG CSVs, generates spectrograms, saves them into a new class-\n",
    "    segregated folder structure, and calculates normalization stats.\n",
    "    \"\"\"\n",
    "    print(\"--- Starting data preparation for GAN training ---\")\n",
    "    if os.path.exists(config.GAN_SPECTROGRAMS_ROOT):\n",
    "        print(f\"Directory '{config.GAN_SPECTROGRAMS_ROOT}' already exists. Skipping preparation.\")\n",
    "        return\n",
    "\n",
    "    print(\"1. Discovering raw EEG files and creating splits...\")\n",
    "    all_samples = []\n",
    "    class_dirs = [d for d in Path(config.RAW_EEG_ROOT_DIR).iterdir() if d.is_dir()]\n",
    "    for class_dir in class_dirs:\n",
    "        for file_path in class_dir.glob('*.csv'):\n",
    "            all_samples.append({'path': file_path, 'class_name': class_dir.name})\n",
    "    if not all_samples: raise FileNotFoundError(f\"No EEG CSV files found in {config.RAW_EEG_ROOT_DIR}\")\n",
    "\n",
    "    df = pd.DataFrame(all_samples)\n",
    "    train_df, _ = train_test_split(df, train_size=config.TRAIN_RATIO, stratify=df['class_name'], random_state=42)\n",
    "\n",
    "    print(f\"2. Generating {len(train_df)} spectrograms for training set...\")\n",
    "    output_train_dir = Path(config.GAN_SPECTROGRAMS_ROOT) / 'train'\n",
    "    train_spec_paths = []\n",
    "    for _, row in tqdm(train_df.iterrows(), total=len(train_df), desc=\"Processing spectrograms\"):\n",
    "        try:\n",
    "            eeg_data = pd.read_csv(row['path'], header=None, index_col=0).iloc[:-1, :].values\n",
    "            if eeg_data.shape[0] == config.EEG_CHANNELS: eeg_data = eeg_data.T\n",
    "            spectrogram_tensor = generate_spectrogram(eeg_data)\n",
    "            dest_dir = output_train_dir / row['class_name']\n",
    "            dest_dir.mkdir(parents=True, exist_ok=True)\n",
    "            output_path = dest_dir / f\"{row['path'].stem}.pt\"\n",
    "            torch.save(spectrogram_tensor, output_path)\n",
    "            train_spec_paths.append(output_path)\n",
    "        except Exception as e:\n",
    "            print(f\"Could not process {row['path']}. Error: {e}\")\n",
    "\n",
    "    print(\"3. Calculating mean and std from training set...\")\n",
    "    count, mean, m2 = 0, torch.zeros(config.EEG_CHANNELS), torch.zeros(config.EEG_CHANNELS)\n",
    "    for path in tqdm(train_spec_paths, desc=\"Calculating stats\"):\n",
    "        spectrogram = torch.load(path)\n",
    "        flat_spec = spectrogram.view(config.EEG_CHANNELS, -1)\n",
    "        for i in range(flat_spec.size(1)):\n",
    "            count += 1; delta = flat_spec[:, i] - mean; mean += delta / count\n",
    "            delta2 = flat_spec[:, i] - mean; m2 += delta * delta2\n",
    "    std = torch.sqrt(m2 / (count - 1))\n",
    "    torch.save(mean, config.STATS_MEAN_PATH); torch.save(std, config.STATS_STD_PATH)\n",
    "    print(f\"\\nSaved Mean/Std. Data preparation complete.\")\n",
    "\n",
    "\n",
    "# ==============================================================================\n",
    "# --- 3. StyleGAN2-INSPIRED ARCHITECTURES (MODIFIED) ---\n",
    "# ==============================================================================\n",
    "class MappingNetwork(nn.Module):\n",
    "    def __init__(self, eeg_dim, style_dim):\n",
    "        super().__init__()\n",
    "        self.network = nn.Sequential(\n",
    "            nn.Linear(eeg_dim, style_dim), nn.LeakyReLU(0.2),\n",
    "            nn.Linear(style_dim, style_dim), nn.LeakyReLU(0.2),\n",
    "            nn.Linear(style_dim, style_dim)\n",
    "        )\n",
    "    def forward(self, x):\n",
    "        return self.network(x)\n",
    "\n",
    "class AdaIN(nn.Module):\n",
    "    def __init__(self, channels, style_dim):\n",
    "        super().__init__()\n",
    "        self.instance_norm = nn.InstanceNorm2d(channels)\n",
    "        self.style_scale_transform = nn.Linear(style_dim, channels)\n",
    "        self.style_shift_transform = nn.Linear(style_dim, channels)\n",
    "\n",
    "    def forward(self, image, style):\n",
    "        normalized_image = self.instance_norm(image)\n",
    "        style_scale = self.style_scale_transform(style)[:, :, None, None]\n",
    "        style_shift = self.style_shift_transform(style)[:, :, None, None]\n",
    "        return style_scale * normalized_image + style_shift\n",
    "\n",
    "class GeneratorBlock(nn.Module):\n",
    "    # <-- MODIFIED: Accept eeg_dim in __init__\n",
    "    def __init__(self, in_channels, out_channels, style_dim, eeg_dim=192):\n",
    "        super().__init__()\n",
    "        self.conv1 = nn.Conv2d(in_channels, out_channels, 3, 1, 1)\n",
    "        self.conv2 = nn.Conv2d(out_channels, out_channels, 3, 1, 1)\n",
    "        self.leaky_relu = nn.LeakyReLU(0.2)\n",
    "        self.adain1 = AdaIN(out_channels, style_dim)\n",
    "        self.adain2 = AdaIN(out_channels, style_dim)\n",
    "        # --- NEW ---\n",
    "        # This projects the EEG features to match the image channel dimension\n",
    "        self.eeg_projection = nn.Linear(eeg_dim, in_channels)\n",
    "\n",
    "    # <-- MODIFIED: Accept eeg_features in forward pass\n",
    "    def forward(self, x, style, eeg_features):\n",
    "        # --- NEW ---\n",
    "        # Project EEG features and add them to the image features\n",
    "        # This forces the block to consider the EEG signal directly\n",
    "        eeg_cond = self.eeg_projection(eeg_features).unsqueeze(-1).unsqueeze(-1)\n",
    "        x = x + eeg_cond\n",
    "        # --- END NEW ---\n",
    "\n",
    "        x = self.conv1(x); x = self.adain1(x, style); x = self.leaky_relu(x)\n",
    "        x = self.conv2(x); x = self.adain2(x, style); x = self.leaky_relu(x)\n",
    "        return x\n",
    "\n",
    "class Generator(nn.Module):\n",
    "    def __init__(self, style_dim, channels_list, out_channels=1, eeg_dim=192):\n",
    "        super().__init__()\n",
    "        self.initial_constant = nn.Parameter(torch.randn(1, channels_list[0], 4, 4))\n",
    "        self.mapping_network = MappingNetwork(eeg_dim, style_dim)\n",
    "        self.upsample = nn.Upsample(scale_factor=2, mode='bilinear', align_corners=False)\n",
    "\n",
    "        self.blocks = nn.ModuleList()\n",
    "        in_ch = channels_list[0]\n",
    "        for out_ch in channels_list:\n",
    "            # <-- MODIFIED: Pass eeg_dim to each GeneratorBlock\n",
    "            self.blocks.append(GeneratorBlock(in_ch, out_ch, style_dim, eeg_dim))\n",
    "            in_ch = out_ch\n",
    "\n",
    "        self.final_conv = nn.Conv2d(channels_list[-1], out_channels, 1, 1, 0)\n",
    "        self.tanh = nn.Tanh()\n",
    "\n",
    "    def forward(self, eeg_features):\n",
    "        batch_size = eeg_features.shape[0]\n",
    "        style = self.mapping_network(eeg_features)\n",
    "        x = self.initial_constant.repeat(batch_size, 1, 1, 1)\n",
    "\n",
    "        # <-- MODIFIED: Pass eeg_features to each block in the forward pass\n",
    "        x = self.blocks[0](x, style, eeg_features); x = self.upsample(x)\n",
    "        x = self.blocks[1](x, style, eeg_features); x = self.upsample(x)\n",
    "        x = self.blocks[2](x, style, eeg_features); x = self.upsample(x)\n",
    "        x = self.blocks[3](x, style, eeg_features); x = self.upsample(x)\n",
    "\n",
    "        x = self.final_conv(x)\n",
    "        return self.tanh(x)\n",
    "\n",
    "class ProjectionDiscriminator(nn.Module):\n",
    "    def __init__(self, input_channels=1, eeg_feature_dim=192):\n",
    "        super(ProjectionDiscriminator, self).__init__()\n",
    "        self.features = nn.Sequential(\n",
    "            nn.Conv2d(input_channels, 128, 4, 2, 1, bias=False), nn.LeakyReLU(0.2, inplace=True),\n",
    "            nn.Conv2d(128, 256, 4, 2, 1, bias=False), nn.BatchNorm2d(256), nn.LeakyReLU(0.2, inplace=True),\n",
    "            nn.Conv2d(256, 512, 4, 2, 1, bias=False), nn.BatchNorm2d(512), nn.LeakyReLU(0.2, inplace=True),\n",
    "            nn.Conv2d(512, 1024, 4, 2, 1, bias=False), nn.BatchNorm2d(1024), nn.LeakyReLU(0.2, inplace=True),\n",
    "        )\n",
    "        self.real_fake_conv = nn.Conv2d(1024, 1, 4, 1, 0, bias=False)\n",
    "        self.eeg_embedding = nn.Linear(eeg_feature_dim, 1024 * 4 * 4)\n",
    "\n",
    "    def forward(self, image, eeg_features):\n",
    "        image_features = self.features(image)\n",
    "        real_fake_score = self.real_fake_conv(image_features).view(-1)\n",
    "        eeg_projection = self.eeg_embedding(eeg_features).view(-1, 1024, 4, 4)\n",
    "        consistency_score = (image_features * eeg_projection).sum(dim=[1, 2, 3])\n",
    "        return real_fake_score + consistency_score\n",
    "\n",
    "class EEGImageDataset(Dataset):\n",
    "    def __init__(self, eeg_root_dir, image_root_dir, eeg_transform=None, image_transform=None):\n",
    "        self.eeg_root_dir = Path(eeg_root_dir); self.image_root_dir = Path(image_root_dir)\n",
    "        self.eeg_transform = eeg_transform; self.image_transform = image_transform\n",
    "        self.eeg_samples = self._find_eeg_samples(); self.image_map = self._create_image_map()\n",
    "        self.class_to_indices = {}\n",
    "        for i, sample in enumerate(self.eeg_samples):\n",
    "            class_name = sample['class_name']\n",
    "            if class_name not in self.class_to_indices: self.class_to_indices[class_name] = []\n",
    "            self.class_to_indices[class_name].append(i)\n",
    "\n",
    "    def _find_eeg_samples(self):\n",
    "        samples = []\n",
    "        for class_dir in self.eeg_root_dir.iterdir():\n",
    "            if class_dir.is_dir():\n",
    "                for eeg_file in class_dir.glob('*.pt'):\n",
    "                    samples.append({'path': str(eeg_file), 'class_name': class_dir.name})\n",
    "        return samples\n",
    "    def _create_image_map(self):\n",
    "        image_map = {}; class_dirs = [d for d in self.image_root_dir.iterdir() if d.is_dir()]\n",
    "        for class_dir in class_dirs: image_map[class_dir.name] = [str(p) for p in class_dir.glob('*.*')]\n",
    "        return image_map\n",
    "    def __len__(self): return len(self.eeg_samples)\n",
    "    def __getitem__(self, idx):\n",
    "        eeg_info = self.eeg_samples[idx]; eeg_path, class_name = eeg_info['path'], eeg_info['class_name']\n",
    "        spectrogram = torch.load(eeg_path); image_path_list = self.image_map.get(class_name)\n",
    "        if not image_path_list: return self.__getitem__((idx + 1) % len(self))\n",
    "        random_image_path = random.choice(image_path_list); image = Image.open(random_image_path).convert(\"L\")\n",
    "        if self.eeg_transform: spectrogram = self.eeg_transform(spectrogram)\n",
    "        if self.image_transform: image = self.image_transform(image)\n",
    "        return spectrogram, image, class_name\n",
    "\n",
    "# ==============================================================================\n",
    "# --- 4. TRAINING SETUP AND MAIN LOOP ---\n",
    "# ==============================================================================\n",
    "def save_image_grid_with_titles(tensor, save_path, titles):\n",
    "    grid = make_grid(tensor, normalize=True, nrow=8)\n",
    "    ndarr = grid.mul(255).add_(0.5).clamp_(0, 255).permute(1, 2, 0).to('cpu', torch.uint8).numpy()\n",
    "    img = Image.fromarray(ndarr)\n",
    "    title_height = 20 * len(titles); new_img = Image.new('RGB', (img.width, img.height + title_height), 'black')\n",
    "    new_img.paste(img, (0, title_height)); draw = ImageDraw.Draw(new_img)\n",
    "    try: font = ImageFont.truetype(\"arial.ttf\", 15)\n",
    "    except IOError: font = ImageFont.load_default()\n",
    "    for i, title in enumerate(titles):\n",
    "        draw.text((10, 5 + i * 20), f\"Row {i+1}: {title}\", fill=\"white\", font=font)\n",
    "    new_img.save(save_path)\n",
    "\n",
    "def weights_init(m):\n",
    "    classname = m.__class__.__name__\n",
    "    if classname.find('Conv') != -1: nn.init.normal_(m.weight.data, 0.0, 0.02)\n",
    "    elif classname.find('BatchNorm') != -1: nn.init.normal_(m.weight.data, 1.0, 0.02); nn.init.constant_(m.bias.data, 0)\n",
    "\n",
    "def initialize_models(config, device):\n",
    "    print(\"--- Initializing models ---\")\n",
    "    encoder = timm.create_model('vit_tiny_patch16_224', in_chans=config.EEG_CHANNELS, num_classes=0)\n",
    "    checkpoint = torch.load(config.PRETRAINED_ENCODER_PATH, map_location='cpu')\n",
    "    encoder_state_dict = checkpoint.get('model_state_dict', checkpoint)\n",
    "    new_state_dict = OrderedDict()\n",
    "    for k, v in encoder_state_dict.items(): new_state_dict[k.replace('encoder.', '', 1)] = v\n",
    "    encoder.load_state_dict(new_state_dict)\n",
    "    encoder.to(device); encoder.train()\n",
    "    print(\"✅ Pre-trained Encoder loaded for fine-tuning.\")\n",
    "\n",
    "    channels = [512, 512, 256, 128]\n",
    "    generator = Generator(config.STYLE_DIM, channels, config.IMAGE_CHANNELS, config.ENCODER_DIM).to(device)\n",
    "    discriminator = ProjectionDiscriminator(config.IMAGE_CHANNELS, config.ENCODER_DIM).to(device)\n",
    "\n",
    "    generator.apply(weights_init); discriminator.apply(weights_init)\n",
    "    print(\"✅ StyleGAN2 Generator and Projection Discriminator initialized.\")\n",
    "    return encoder, generator, discriminator\n",
    "\n",
    "def train_gan(encoder, generator, discriminator, data_loader, config, device):\n",
    "    timestamp = datetime.datetime.now().strftime('%Y%m%d_%H%M%S')\n",
    "    sample_dir = os.path.join(config.OUTPUT_DIR, f'samples_{timestamp}')\n",
    "    model_dir = os.path.join(config.OUTPUT_DIR, f'models_{timestamp}')\n",
    "    os.makedirs(sample_dir, exist_ok=True); os.makedirs(model_dir, exist_ok=True)\n",
    "    criterion_adv = nn.BCEWithLogitsLoss()\n",
    "    criterion_l1 = nn.L1Loss()\n",
    "\n",
    "    fixed_eeg_prompts, fixed_eeg_class_names = [], []\n",
    "    try:\n",
    "        dataset = data_loader.dataset\n",
    "        available_classes = list(dataset.class_to_indices.keys())\n",
    "        prompt_classes = random.sample(available_classes, min(8, len(available_classes)))\n",
    "        for class_name in prompt_classes:\n",
    "            sample_idx = random.choice(dataset.class_to_indices[class_name])\n",
    "            eeg_tensor, _, _ = dataset[sample_idx]\n",
    "            fixed_eeg_prompts.extend([eeg_tensor] * 8)\n",
    "            fixed_eeg_class_names.append(class_name)\n",
    "        fixed_eeg_prompts = torch.stack(fixed_eeg_prompts).to(device)\n",
    "        print(f\"✅ Created diverse fixed EEG prompt for visualization. Classes: {fixed_eeg_class_names}\")\n",
    "    except Exception as e:\n",
    "        print(f\"⚠️ Could not create fixed EEG prompt. Visualization will be disabled. Error: {e}\")\n",
    "        fixed_eeg_prompts = None\n",
    "\n",
    "    optimizer_D = optim.Adam(discriminator.parameters(), lr=config.LR_DISCRIMINATOR, betas=(config.BETA1, config.BETA2))\n",
    "    optimizer_GE = optim.Adam(\n",
    "        [{'params': generator.parameters(), 'lr': config.LR_GENERATOR},\n",
    "         {'params': encoder.parameters(), 'lr': config.LR_ENCODER}],\n",
    "        betas=(config.BETA1, config.BETA2)\n",
    "    )\n",
    "\n",
    "    pl_mean = torch.zeros(1, device=device)\n",
    "\n",
    "    print(\"\\n--- Starting GAN Training with Multi-Injection, L1 Loss, and PLR ---\")\n",
    "    for epoch in range(config.NUM_EPOCHS):\n",
    "        path_loss_for_display = 0.0\n",
    "        l1_loss_for_display = 0.0\n",
    "        progress_bar = tqdm(data_loader, desc=f\"Epoch {epoch+1}/{config.NUM_EPOCHS}\")\n",
    "\n",
    "        for i, (eeg_spectrograms, real_images, _) in enumerate(progress_bar):\n",
    "            eeg_spectrograms, real_images = eeg_spectrograms.to(device), real_images.to(device)\n",
    "            b_size = real_images.size(0)\n",
    "            if b_size <= 1: continue\n",
    "\n",
    "            # --- (1) Update Discriminator ---\n",
    "            discriminator.zero_grad()\n",
    "            real_label = torch.full((b_size,), 1.0 - config.LABEL_SMOOTHING, device=device)\n",
    "            fake_label = torch.full((b_size,), 0.0, device=device)\n",
    "\n",
    "            with torch.no_grad():\n",
    "                eeg_features = encoder.forward_features(eeg_spectrograms)[:, 0]\n",
    "\n",
    "            output_real = discriminator(real_images, eeg_features); errD_real = criterion_adv(output_real, real_label)\n",
    "            errD_real.backward()\n",
    "\n",
    "            fake_images = generator(eeg_features.detach())\n",
    "            output_fake = discriminator(fake_images.detach(), eeg_features.detach()); errD_fake = criterion_adv(output_fake, fake_label)\n",
    "            errD_fake.backward();\n",
    "            torch.nn.utils.clip_grad_norm_(discriminator.parameters(), 1.0)\n",
    "            optimizer_D.step()\n",
    "            errD = errD_real + errD_fake\n",
    "\n",
    "            # --- (2) Update Generator & Encoder ---\n",
    "            encoder.zero_grad(); generator.zero_grad()\n",
    "            fresh_eeg_features = encoder.forward_features(eeg_spectrograms)[:, 0]\n",
    "            fresh_fake_images = generator(fresh_eeg_features)\n",
    "            output_GE = discriminator(fresh_fake_images, fresh_eeg_features)\n",
    "\n",
    "            # --- Calculate Losses ---\n",
    "            errGE_adv = criterion_adv(output_GE, real_label)\n",
    "            errGE_l1 = criterion_l1(fresh_fake_images, real_images)\n",
    "            l1_loss_for_display = errGE_l1.item()\n",
    "\n",
    "            path_loss = torch.tensor(0.0, device=device)\n",
    "            if i % config.PLR_INTERVAL == 0:\n",
    "                style_noise = torch.randn_like(fresh_eeg_features) / np.sqrt(fresh_eeg_features.shape[1])\n",
    "                perturbed_fake_images = generator(fresh_eeg_features + style_noise)\n",
    "                distance = (fresh_fake_images - perturbed_fake_images).square().mean()\n",
    "                path_loss = (distance - pl_mean).square()\n",
    "                pl_mean = 0.99 * pl_mean + 0.01 * distance.detach()\n",
    "                path_loss_for_display = path_loss.item()\n",
    "\n",
    "            errGE_total = errGE_adv + (config.L1_LAMBDA * errGE_l1) + (config.PLR_WEIGHT * path_loss)\n",
    "\n",
    "            errGE_total.backward()\n",
    "            torch.nn.utils.clip_grad_norm_(generator.parameters(), 1.0)\n",
    "            torch.nn.utils.clip_grad_norm_(encoder.parameters(), 1.0)\n",
    "            optimizer_GE.step()\n",
    "\n",
    "            progress_bar.set_postfix(Loss_D=f\"{errD.item():.4f}\", Loss_GE=f\"{errGE_adv.item():.4f}\", L1_Loss=f\"{l1_loss_for_display:.4f}\", PathLoss=f\"{path_loss_for_display:.4f}\")\n",
    "\n",
    "        if fixed_eeg_prompts is not None:\n",
    "            with torch.no_grad():\n",
    "                fixed_eeg_features = encoder.forward_features(fixed_eeg_prompts)[:, 0]\n",
    "                fake_samples = generator(fixed_eeg_features).detach().cpu()\n",
    "            save_path = os.path.join(sample_dir, f\"epoch_{epoch+1}.png\")\n",
    "            save_image_grid_with_titles(fake_samples, save_path, fixed_eeg_class_names)\n",
    "\n",
    "        if (epoch + 1) % 50 == 0:\n",
    "            torch.save(generator.state_dict(), os.path.join(model_dir, f'generator_epoch_{epoch+1}.pth'))\n",
    "            torch.save(encoder.state_dict(), os.path.join(model_dir, f'encoder_epoch_{epoch+1}.pth'))\n",
    "            print(f\"\\nSaved generator and encoder models at epoch {epoch+1}\")\n",
    "\n",
    "# ==============================================================================\n",
    "# --- 5. MAIN EXECUTION BLOCK ---\n",
    "# ==============================================================================\n",
    "if __name__ == '__main__':\n",
    "    cfg = CONFIG()\n",
    "    device = torch.device(\"cuda\" if torch.cuda.is_available() else \"cpu\")\n",
    "    print(f\"Using device: {device}\")\n",
    "\n",
    "    prepare_gan_spectrograms(cfg)\n",
    "\n",
    "    mean = torch.load(cfg.STATS_MEAN_PATH); std = torch.load(cfg.STATS_STD_PATH)\n",
    "\n",
    "    eeg_transform = transforms.Compose([\n",
    "        transforms.ToDtype(torch.float32, scale=False),\n",
    "        transforms.Resize((cfg.ENCODER_IMG_SIZE, cfg.ENCODER_IMG_SIZE), antialias=True),\n",
    "        transforms.RandomAffine(degrees=10, translate=(0.05, 0.05), scale=(0.95, 1.05)),\n",
    "        transforms.RandomErasing(p=0.5, scale=(0.02, 0.1), ratio=(0.1, 2.0), value=0, inplace=False),\n",
    "        transforms.Normalize(mean=mean.tolist(), std=std.tolist())\n",
    "    ])\n",
    "\n",
    "    image_transform = transforms.Compose([\n",
    "        transforms.Resize((cfg.GENERATOR_IMG_SIZE, cfg.GENERATOR_IMG_SIZE)),\n",
    "        transforms.RandomHorizontalFlip(),\n",
    "        transforms.ToTensor(),\n",
    "        transforms.Normalize((0.5,), (0.5,))\n",
    "    ])\n",
    "\n",
    "    gan_dataset = EEGImageDataset(\n",
    "        eeg_root_dir=os.path.join(cfg.GAN_SPECTROGRAMS_ROOT, 'train'),\n",
    "        image_root_dir=cfg.IMAGE_ROOT_DIR,\n",
    "        eeg_transform=eeg_transform, image_transform=image_transform\n",
    "    )\n",
    "\n",
    "    gan_dataloader = DataLoader(\n",
    "        gan_dataset, batch_size=cfg.BATCH_SIZE, shuffle=True,\n",
    "        num_workers=2, pin_memory=True, drop_last=True\n",
    "    )\n",
    "\n",
    "    # encoder, generator, discriminator = initialize_models(cfg, device)\n",
    "    # train_gan(encoder, generator, discriminator, gan_dataloader, cfg, device)"
   ]
  },
  {
   "cell_type": "code",
   "execution_count": null,
   "metadata": {},
   "outputs": [
    {
     "name": "stdout",
     "output_type": "stream",
     "text": [
      "--- Starting CWT Scalogram data preparation ---\n",
      "1. Discovering raw EEG files and creating splits...\n",
      "2. Generating 2474 CWT scalograms for training set...\n"
     ]
    },
    {
     "data": {
      "application/vnd.jupyter.widget-view+json": {
       "model_id": "80fca0a9cdff489e9435a72e32fe4df7",
       "version_major": 2,
       "version_minor": 0
      },
      "text/plain": [
       "Processing scalograms:   0%|          | 0/2474 [00:00<?, ?it/s]"
      ]
     },
     "metadata": {},
     "output_type": "display_data"
    },
    {
     "name": "stdout",
     "output_type": "stream",
     "text": [
      "3. Calculating new mean and std from the CWT scalograms...\n"
     ]
    },
    {
     "data": {
      "application/vnd.jupyter.widget-view+json": {
       "model_id": "60ce9e79c41e41fc9360269365853fb8",
       "version_major": 2,
       "version_minor": 0
      },
      "text/plain": [
       "Calculating stats:   0%|          | 0/2474 [00:00<?, ?it/s]"
      ]
     },
     "metadata": {},
     "output_type": "display_data"
    },
    {
     "name": "stdout",
     "output_type": "stream",
     "text": [
      "\n",
      "Saved new Mean/Std. Data preparation complete.\n",
      "Your new CWT scalogram dataset is ready at: /content/cwt_scalograms_by_class\n"
     ]
    }
   ],
   "source": [
    "import os\n",
    "import torch\n",
    "import pandas as pd\n",
    "from pathlib import Path\n",
    "from tqdm.notebook import tqdm\n",
    "import numpy as np\n",
    "from scipy.signal import butter, sosfiltfilt\n",
    "import pywt # PyWavelets library for CWT\n",
    "from sklearn.model_selection import train_test_split\n",
    "\n",
    "# ==============================================================================\n",
    "# --- 1. CONFIGURATION for CWT Preprocessing ---\n",
    "# ==============================================================================\n",
    "class CONFIG_CWT:\n",
    "    # --- Source Data Path ---\n",
    "    RAW_EEG_ROOT_DIR = '/content/gan_dataset'\n",
    "\n",
    "    # --- Processed Data Paths (This script will create these) ---\n",
    "    CWT_SCALOGRAMS_ROOT = '/content/cwt_scalograms_by_class'\n",
    "    STATS_MEAN_PATH = '/content/cwt_scalograms_by_class/mean.pt'\n",
    "    STATS_STD_PATH = '/content/cwt_scalograms_by_class/std.pt'\n",
    "\n",
    "    # --- Signal Processing Hyperparameters ---\n",
    "    FS = 128\n",
    "    LOW_CUT = 4\n",
    "    HIGH_CUT = 60  # <-- MODIFIED: Corrected to be less than FS/2 (64 Hz)\n",
    "    FILTER_ORDER = 5\n",
    "    MIN_SIGNAL_LENGTH = 128 # <-- NEW: Minimum samples required to process a file\n",
    "\n",
    "    # --- CWT Hyperparameters ---\n",
    "    WAVELET = 'morl'\n",
    "    SCALES = np.arange(1, 65)\n",
    "\n",
    "    # --- Other Parameters ---\n",
    "    EEG_CHANNELS = 4\n",
    "    TRAIN_RATIO = 0.95\n",
    "\n",
    "# ==============================================================================\n",
    "# --- 2. New Preprocessing Functions ---\n",
    "# ==============================================================================\n",
    "\n",
    "def bandpass_filter(data, lowcut, highcut, fs, order=5):\n",
    "    \"\"\"Applies a bandpass filter to the EEG data.\"\"\"\n",
    "    nyq = 0.5 * fs\n",
    "    low = lowcut / nyq\n",
    "    high = highcut / nyq\n",
    "    sos = butter(order, [low, high], analog=False, btype='band', output='sos')\n",
    "    filtered_data = sosfiltfilt(sos, data, axis=0)\n",
    "    return filtered_data\n",
    "\n",
    "def generate_cwt_scalogram(eeg_data_1d, config):\n",
    "    \"\"\"\n",
    "    Applies a band-pass filter and then generates a CWT scalogram for each\n",
    "    EEG channel.\n",
    "    \"\"\"\n",
    "    channel_scalograms = []\n",
    "\n",
    "    filtered_eeg = bandpass_filter(eeg_data_1d, config.LOW_CUT, config.HIGH_CUT, config.FS, config.FILTER_ORDER)\n",
    "\n",
    "    for i in range(filtered_eeg.shape[1]):\n",
    "        coef, _ = pywt.cwt(filtered_eeg[:, i], config.SCALES, config.WAVELET)\n",
    "        scalogram = np.log1p(np.abs(coef))\n",
    "        channel_scalograms.append(scalogram)\n",
    "\n",
    "    return torch.tensor(np.array(channel_scalograms), dtype=torch.float32)\n",
    "\n",
    "# ==============================================================================\n",
    "# --- 3. Main Data Preparation Script ---\n",
    "# ==============================================================================\n",
    "def prepare_cwt_scalograms(config):\n",
    "    \"\"\"\n",
    "    Scans raw EEG CSVs, generates CWT scalograms, saves them into a new class-\n",
    "    segregated folder structure, and calculates normalization stats.\n",
    "    \"\"\"\n",
    "    print(\"--- Starting CWT Scalogram data preparation ---\")\n",
    "    if os.path.exists(config.CWT_SCALOGRAMS_ROOT):\n",
    "        print(f\"Directory '{config.CWT_SCALOGRAMS_ROOT}' already exists. Skipping preparation.\")\n",
    "        return\n",
    "\n",
    "    print(\"1. Discovering raw EEG files and creating splits...\")\n",
    "    all_samples = []\n",
    "    class_dirs = [d for d in Path(config.RAW_EEG_ROOT_DIR).iterdir() if d.is_dir()]\n",
    "    for class_dir in class_dirs:\n",
    "        for file_path in class_dir.glob('*.csv'):\n",
    "            all_samples.append({'path': file_path, 'class_name': class_dir.name})\n",
    "    if not all_samples: raise FileNotFoundError(f\"No EEG CSV files found in {config.RAW_EEG_ROOT_DIR}\")\n",
    "\n",
    "    df = pd.DataFrame(all_samples)\n",
    "    train_df, _ = train_test_split(df, train_size=config.TRAIN_RATIO, stratify=df['class_name'], random_state=42)\n",
    "\n",
    "    print(f\"2. Generating {len(train_df)} CWT scalograms for training set...\")\n",
    "    output_train_dir = Path(config.CWT_SCALOGRAMS_ROOT) / 'train'\n",
    "    train_spec_paths = []\n",
    "    skipped_count = 0\n",
    "    for _, row in tqdm(train_df.iterrows(), total=len(train_df), desc=\"Processing scalograms\"):\n",
    "        try:\n",
    "            eeg_data = pd.read_csv(row['path'], header=None, index_col=0).iloc[:-1, :].values\n",
    "            if eeg_data.shape[0] == config.EEG_CHANNELS:\n",
    "                eeg_data = eeg_data.T\n",
    "\n",
    "            # --- NEW: Robustness check for short signals ---\n",
    "            if eeg_data.shape[0] < config.MIN_SIGNAL_LENGTH:\n",
    "                skipped_count += 1\n",
    "                continue # Skip this file\n",
    "\n",
    "            scalogram_tensor = generate_cwt_scalogram(eeg_data, config)\n",
    "\n",
    "            dest_dir = output_train_dir / row['class_name']\n",
    "            dest_dir.mkdir(parents=True, exist_ok=True)\n",
    "            output_path = dest_dir / f\"{row['path'].stem}.pt\"\n",
    "            torch.save(scalogram_tensor, output_path)\n",
    "            train_spec_paths.append(output_path)\n",
    "        except Exception as e:\n",
    "            print(f\"Could not process {row['path']}. Error: {e}\")\n",
    "\n",
    "    if skipped_count > 0:\n",
    "        print(f\"Skipped {skipped_count} files due to short signal length.\")\n",
    "\n",
    "    print(\"3. Calculating new mean and std from the CWT scalograms...\")\n",
    "    count, mean, m2 = 0, torch.zeros(config.EEG_CHANNELS), torch.zeros(config.EEG_CHANNELS)\n",
    "    for path in tqdm(train_spec_paths, desc=\"Calculating stats\"):\n",
    "        scalogram = torch.load(path)\n",
    "        flat_spec = scalogram.view(config.EEG_CHANNELS, -1)\n",
    "        for i in range(flat_spec.size(1)):\n",
    "            count += 1\n",
    "            delta = flat_spec[:, i] - mean\n",
    "            mean += delta / count\n",
    "            delta2 = flat_spec[:, i] - mean\n",
    "            m2 += delta * delta2\n",
    "\n",
    "    std = torch.sqrt(m2 / (count - 1))\n",
    "    torch.save(mean, config.STATS_MEAN_PATH)\n",
    "    torch.save(std, config.STATS_STD_PATH)\n",
    "    print(f\"\\nSaved new Mean/Std. Data preparation complete.\")\n",
    "    print(f\"Your new CWT scalogram dataset is ready at: {config.CWT_SCALOGRAMS_ROOT}\")\n",
    "\n",
    "# ==============================================================================\n",
    "# --- 4. EXECUTION ---\n",
    "# ==============================================================================\n",
    "if __name__ == '__main__':\n",
    "    cwt_config = CONFIG_CWT()\n",
    "    prepare_cwt_scalograms(cwt_config)"
   ]
  },
  {
   "cell_type": "markdown",
   "metadata": {
    "id": "pb_fYEp_JGUc"
   },
   "source": [
    "## Evaluations"
   ]
  },
  {
   "cell_type": "code",
   "execution_count": null,
   "metadata": {},
   "outputs": [],
   "source": [
    "# import torch\n",
    "# import timm\n",
    "# import numpy as np\n",
    "# import pandas as pd\n",
    "# from pathlib import Path\n",
    "# from collections import OrderedDict\n",
    "# from sklearn.manifold import TSNE\n",
    "# import matplotlib.pyplot as plt\n",
    "# import seaborn as sns\n",
    "# from tqdm.notebook import tqdm\n",
    "# from torch.utils.data import Dataset, DataLoader\n",
    "# from torchvision.transforms import v2 as transforms\n",
    "\n",
    "# # ==============================================================================\n",
    "# # --- 1. CONFIGURATION FOR T-SNE ANALYSIS ---\n",
    "# # ==============================================================================\n",
    "# class CONFIG_TSNE:\n",
    "#     # --- UPDATE THESE PATHS ---\n",
    "#     PRETRAINED_ENCODER_PATH = '/content/drive/MyDrive/NeuroVision/models/pretrain_encoder_20250905_194203_best.pth'\n",
    "#     GAN_SPECTROGRAMS_ROOT = '/content/gan_spectrograms_by_class'\n",
    "#     STATS_MEAN_PATH = '/content/gan_spectrograms_by_class/mean.pt'\n",
    "#     STATS_STD_PATH = '/content/gan_spectrograms_by_class/std.pt'\n",
    "\n",
    "#     # --- Parameters ---\n",
    "#     ENCODER_IMG_SIZE = 224\n",
    "#     EEG_CHANNELS = 4\n",
    "#     BATCH_SIZE = 64 # Can use a larger batch size for inference\n",
    "#     NUM_SAMPLES_PER_CLASS = 20 # Limit samples to make plotting faster/cleaner. Set to None to use all.\n",
    "\n",
    "# # ==============================================================================\n",
    "# # --- 2. DATASET (Simplified for this analysis) ---\n",
    "# # ==============================================================================\n",
    "# class EEGFeatureDataset(Dataset):\n",
    "#     def __init__(self, eeg_root_dir, eeg_transform, max_per_class=None):\n",
    "#         self.eeg_transform = eeg_transform\n",
    "#         self.samples = self._find_eeg_samples(Path(eeg_root_dir), max_per_class)\n",
    "#         self.class_names = sorted(list(set(s['class_name'] for s in self.samples)))\n",
    "#         self.class_to_idx = {name: i for i, name in enumerate(self.class_names)}\n",
    "\n",
    "#     def _find_eeg_samples(self, eeg_root_dir, max_per_class):\n",
    "#         samples = []\n",
    "#         for class_dir in eeg_root_dir.iterdir():\n",
    "#             if class_dir.is_dir():\n",
    "#                 paths = list(class_dir.glob('*.pt'))\n",
    "#                 if max_per_class:\n",
    "#                     paths = paths[:max_per_class]\n",
    "#                 for eeg_file in paths:\n",
    "#                     samples.append({'path': str(eeg_file), 'class_name': class_dir.name})\n",
    "#         return samples\n",
    "\n",
    "#     def __len__(self):\n",
    "#         return len(self.samples)\n",
    "\n",
    "#     def __getitem__(self, idx):\n",
    "#         eeg_info = self.samples[idx]\n",
    "#         spectrogram = torch.load(eeg_info['path'])\n",
    "#         if self.eeg_transform:\n",
    "#             spectrogram = self.eeg_transform(spectrogram)\n",
    "#         label = self.class_to_idx[eeg_info['class_name']]\n",
    "#         return spectrogram, label\n",
    "\n",
    "# # ==============================================================================\n",
    "# # --- 3. ANALYSIS SCRIPT ---\n",
    "# # ==============================================================================\n",
    "# def analyze_features(config):\n",
    "#     device = torch.device(\"cuda\" if torch.cuda.is_available() else \"cpu\")\n",
    "#     print(f\"Using device: {device}\")\n",
    "\n",
    "#     # --- Load Encoder ---\n",
    "#     print(\"Loading pre-trained encoder...\")\n",
    "#     encoder = timm.create_model('vit_tiny_patch16_224', in_chans=config.EEG_CHANNELS, num_classes=0)\n",
    "#     checkpoint = torch.load(config.PRETRAINED_ENCODER_PATH, map_location='cpu')\n",
    "#     encoder_state_dict = checkpoint.get('model_state_dict', checkpoint)\n",
    "#     new_state_dict = OrderedDict()\n",
    "#     for k, v in encoder_state_dict.items():\n",
    "#         new_state_dict[k.replace('encoder.', '', 1)] = v\n",
    "#     encoder.load_state_dict(new_state_dict)\n",
    "#     encoder.to(device)\n",
    "#     encoder.eval()\n",
    "#     print(\"Encoder loaded.\")\n",
    "\n",
    "#     # --- Prepare Dataset ---\n",
    "#     print(\"Preparing dataset and dataloader...\")\n",
    "#     mean = torch.load(config.STATS_MEAN_PATH)\n",
    "#     std = torch.load(config.STATS_STD_PATH)\n",
    "#     eeg_transform = transforms.Compose([\n",
    "#         transforms.ToDtype(torch.float32, scale=False),\n",
    "#         transforms.Resize((config.ENCODER_IMG_SIZE, config.ENCODER_IMG_SIZE), antialias=True),\n",
    "#         transforms.Normalize(mean=mean.tolist(), std=std.tolist())\n",
    "#     ])\n",
    "#     dataset = EEGFeatureDataset(\n",
    "#         eeg_root_dir=os.path.join(config.GAN_SPECTROGRAMS_ROOT, 'train'),\n",
    "#         eeg_transform=eeg_transform,\n",
    "#         max_per_class=config.NUM_SAMPLES_PER_CLASS\n",
    "#     )\n",
    "#     dataloader = DataLoader(dataset, batch_size=config.BATCH_SIZE, shuffle=False)\n",
    "#     print(f\"Found {len(dataset.class_names)} classes.\")\n",
    "\n",
    "#     # --- Extract Features ---\n",
    "#     print(\"Extracting features from all samples...\")\n",
    "#     all_features = []\n",
    "#     all_labels = []\n",
    "#     with torch.no_grad():\n",
    "#         for spectrograms, labels in tqdm(dataloader, desc=\"Extracting Features\"):\n",
    "#             spectrograms = spectrograms.to(device)\n",
    "#             features = encoder.forward_features(spectrograms)[:, 0] # Get [CLS] token\n",
    "#             all_features.append(features.cpu().numpy())\n",
    "#             all_labels.append(labels.cpu().numpy())\n",
    "\n",
    "#     all_features = np.concatenate(all_features)\n",
    "#     all_labels = np.concatenate(all_labels)\n",
    "#     print(f\"Extracted {all_features.shape[0]} feature vectors.\")\n",
    "\n",
    "#     # --- Run t-SNE ---\n",
    "#     print(\"Running t-SNE... (This may take a few minutes)\")\n",
    "#     tsne = TSNE(n_components=2, verbose=1, perplexity=40, n_iter=300)\n",
    "#     tsne_results = tsne.fit_transform(all_features)\n",
    "#     print(\"t-SNE complete.\")\n",
    "\n",
    "#     # --- Plot Results ---\n",
    "#     print(\"Generating plot...\")\n",
    "#     df = pd.DataFrame()\n",
    "#     df['tsne-2d-one'] = tsne_results[:,0]\n",
    "#     df['tsne-2d-two'] = tsne_results[:,1]\n",
    "#     df['label'] = [dataset.class_names[i] for i in all_labels]\n",
    "\n",
    "#     plt.figure(figsize=(16,10))\n",
    "#     sns.scatterplot(\n",
    "#         x=\"tsne-2d-one\", y=\"tsne-2d-two\",\n",
    "#         hue=\"label\",\n",
    "#         palette=sns.color_palette(\"hls\", len(dataset.class_names)),\n",
    "#         data=df,\n",
    "#         legend=\"full\",\n",
    "#         alpha=0.7\n",
    "#     )\n",
    "#     plt.title(\"t-SNE Visualization of Pre-Trained EEG Features\")\n",
    "#     plt.xlabel(\"t-SNE Dimension 1\")\n",
    "#     plt.ylabel(\"t-SNE Dimension 2\")\n",
    "#     plt.legend(bbox_to_anchor=(1.05, 1), loc=2, borderaxespad=0.)\n",
    "#     plt.show()\n",
    "\n",
    "# # ==============================================================================\n",
    "# # --- 4. EXECUTION ---\n",
    "# # ==============================================================================\n",
    "# if __name__ == '__main__':\n",
    "#     tsne_config = CONFIG_TSNE()\n",
    "#     analyze_features(tsne_config)"
   ]
  },
  {
   "cell_type": "code",
   "execution_count": null,
   "metadata": {},
   "outputs": [
    {
     "name": "stdout",
     "output_type": "stream",
     "text": [
      "Using device: cuda\n",
      "Loading contrastive-trained EEG encoder...\n",
      "Encoder loaded successfully.\n",
      "Preparing dataset and dataloader...\n",
      "Found 97 classes.\n",
      "Extracting features from all samples...\n"
     ]
    },
    {
     "data": {
      "application/vnd.jupyter.widget-view+json": {
       "model_id": "cc6b94478355483c80cd153f16cac6d9",
       "version_major": 2,
       "version_minor": 0
      },
      "text/plain": [
       "Extracting Features:   0%|          | 0/30 [00:00<?, ?it/s]"
      ]
     },
     "metadata": {},
     "output_type": "display_data"
    },
    {
     "name": "stdout",
     "output_type": "stream",
     "text": [
      "Extracted 1871 feature vectors.\n",
      "Running t-SNE... (This may take a few minutes)\n",
      "[t-SNE] Computing 91 nearest neighbors...\n",
      "[t-SNE] Indexed 1871 samples in 0.001s...\n"
     ]
    },
    {
     "name": "stderr",
     "output_type": "stream",
     "text": [
      "/usr/local/lib/python3.12/dist-packages/sklearn/manifold/_t_sne.py:1164: FutureWarning: 'n_iter' was renamed to 'max_iter' in version 1.5 and will be removed in 1.7.\n",
      "  warnings.warn(\n"
     ]
    },
    {
     "name": "stdout",
     "output_type": "stream",
     "text": [
      "[t-SNE] Computed neighbors for 1871 samples in 0.217s...\n",
      "[t-SNE] Computed conditional probabilities for sample 1000 / 1871\n",
      "[t-SNE] Computed conditional probabilities for sample 1871 / 1871\n",
      "[t-SNE] Mean sigma: 4.442511\n",
      "[t-SNE] KL divergence after 50 iterations with early exaggeration: 78.368996\n",
      "[t-SNE] KL divergence after 400 iterations: 2.466761\n",
      "t-SNE complete.\n",
      "Generating plot...\n"
     ]
    },
    {
     "name": "stderr",
     "output_type": "stream",
     "text": [
      "/tmp/ipython-input-2881664843.py:148: UserWarning: Tight layout not applied. The bottom and top margins cannot be made large enough to accommodate all Axes decorations.\n",
      "  plt.tight_layout(rect=[0,0,0.85,1]) # Adjust layout to make room for legend\n"
     ]
    },
    {
     "data": {
      "image/png": "[encoded data removed]",
      "text/plain": [
       "<Figure size 1600x1000 with 1 Axes>"
      ]
     },
     "metadata": {},
     "output_type": "display_data"
    }
   ],
   "source": [
    "import torch\n",
    "import timm\n",
    "import numpy as np\n",
    "import pandas as pd\n",
    "from pathlib import Path\n",
    "from collections import OrderedDict\n",
    "from sklearn.manifold import TSNE\n",
    "import matplotlib.pyplot as plt\n",
    "import seaborn as sns\n",
    "from tqdm.notebook import tqdm\n",
    "from torch.utils.data import Dataset, DataLoader\n",
    "from torchvision.transforms import v2 as transforms\n",
    "import os\n",
    "\n",
    "# ==============================================================================\n",
    "# --- 1. CONFIGURATION FOR T-SNE ANALYSIS ---\n",
    "# ==============================================================================\n",
    "class CONFIG_TSNE_CONTRASTIVE:\n",
    "    # --- UPDATE THIS PATH ---\n",
    "    # Point this to the '.pth' file saved by the contrastive training script\n",
    "    CONTRASTIVE_ENCODER_PATH = '/content/drive/MyDrive/NeuroVision/contrastive_outputs/run_20250912_150114/contrastive_eeg_encoder_best.pth' #<-- UPDATE THIS!\n",
    "\n",
    "    # --- Other paths (should be correct from before) ---\n",
    "    CWT_SCALOGRAMS_ROOT = '/content/cwt_scalograms_by_class'\n",
    "    STATS_MEAN_PATH = '/content/cwt_scalograms_by_class/mean.pt'\n",
    "    STATS_STD_PATH = '/content/cwt_scalograms_by_class/std.pt'\n",
    "\n",
    "    # --- Parameters ---\n",
    "    ENCODER_IMG_SIZE = 224\n",
    "    EEG_CHANNELS = 4\n",
    "    BATCH_SIZE = 64\n",
    "    NUM_SAMPLES_PER_CLASS = 20 # Limit samples to make plotting faster/cleaner.\n",
    "\n",
    "# ==============================================================================\n",
    "# --- 2. DATASET (Unchanged) ---\n",
    "# ==============================================================================\n",
    "class EEGFeatureDataset(Dataset):\n",
    "    def __init__(self, eeg_root_dir, eeg_transform, max_per_class=None):\n",
    "        self.eeg_transform = eeg_transform\n",
    "        self.samples = self._find_eeg_samples(Path(eeg_root_dir), max_per_class)\n",
    "        self.class_names = sorted(list(set(s['class_name'] for s in self.samples)))\n",
    "        self.class_to_idx = {name: i for i, name in enumerate(self.class_names)}\n",
    "\n",
    "    def _find_eeg_samples(self, eeg_root_dir, max_per_class):\n",
    "        samples = []\n",
    "        # We need the 'train' subdirectory\n",
    "        train_root = eeg_root_dir / 'train'\n",
    "        for class_dir in train_root.iterdir():\n",
    "            if class_dir.is_dir():\n",
    "                paths = list(class_dir.glob('*.pt'))\n",
    "                if max_per_class:\n",
    "                    paths = paths[:max_per_class]\n",
    "                for eeg_file in paths:\n",
    "                    samples.append({'path': str(eeg_file), 'class_name': class_dir.name})\n",
    "        return samples\n",
    "\n",
    "    def __len__(self):\n",
    "        return len(self.samples)\n",
    "\n",
    "    def __getitem__(self, idx):\n",
    "        eeg_info = self.samples[idx]\n",
    "        spectrogram = torch.load(eeg_info['path'])\n",
    "        if self.eeg_transform:\n",
    "            spectrogram = self.eeg_transform(spectrogram)\n",
    "        label = self.class_to_idx[eeg_info['class_name']]\n",
    "        return spectrogram, label\n",
    "\n",
    "# ==============================================================================\n",
    "# --- 3. ANALYSIS SCRIPT (MODIFIED) ---\n",
    "# ==============================================================================\n",
    "def analyze_contrastive_features(config):\n",
    "    device = torch.device(\"cuda\" if torch.cuda.is_available() else \"cpu\")\n",
    "    print(f\"Using device: {device}\")\n",
    "\n",
    "    # --- Load Encoder (MODIFIED SECTION) ---\n",
    "    print(\"Loading contrastive-trained EEG encoder...\")\n",
    "    # 1. Create a new instance of the model architecture\n",
    "    encoder = timm.create_model('vit_tiny_patch16_224', in_chans=config.EEG_CHANNELS, num_classes=0)\n",
    "\n",
    "    # 2. Load the saved weights (the state_dict)\n",
    "    state_dict = torch.load(config.CONTRASTIVE_ENCODER_PATH, map_location='cpu')\n",
    "\n",
    "    # 3. Load the state_dict into the model instance\n",
    "    encoder.load_state_dict(state_dict)\n",
    "    encoder.to(device)\n",
    "    encoder.eval()\n",
    "    print(\"Encoder loaded successfully.\")\n",
    "\n",
    "    # --- Prepare Dataset ---\n",
    "    print(\"Preparing dataset and dataloader...\")\n",
    "    mean = torch.load(config.STATS_MEAN_PATH)\n",
    "    std = torch.load(config.STATS_STD_PATH)\n",
    "    eeg_transform = transforms.Compose([\n",
    "        transforms.ToDtype(torch.float32, scale=False),\n",
    "        transforms.Resize((config.ENCODER_IMG_SIZE, config.ENCODER_IMG_SIZE), antialias=True),\n",
    "        transforms.Normalize(mean=mean.tolist(), std=std.tolist())\n",
    "    ])\n",
    "    dataset = EEGFeatureDataset(\n",
    "        eeg_root_dir=Path(config.CWT_SCALOGRAMS_ROOT),\n",
    "        eeg_transform=eeg_transform,\n",
    "        max_per_class=config.NUM_SAMPLES_PER_CLASS\n",
    "    )\n",
    "    dataloader = DataLoader(dataset, batch_size=config.BATCH_SIZE, shuffle=False)\n",
    "    print(f\"Found {len(dataset.class_names)} classes.\")\n",
    "\n",
    "    # --- Extract Features ---\n",
    "    print(\"Extracting features from all samples...\")\n",
    "    all_features = []\n",
    "    all_labels = []\n",
    "    with torch.no_grad():\n",
    "        for spectrograms, labels in tqdm(dataloader, desc=\"Extracting Features\"):\n",
    "            spectrograms = spectrograms.to(device)\n",
    "            features = encoder.forward_features(spectrograms)[:, 0] # Get [CLS] token\n",
    "            all_features.append(features.cpu().numpy())\n",
    "            all_labels.append(labels.cpu().numpy())\n",
    "\n",
    "    all_features = np.concatenate(all_features)\n",
    "    all_labels = np.concatenate(all_labels)\n",
    "    print(f\"Extracted {all_features.shape[0]} feature vectors.\")\n",
    "\n",
    "    # --- Run t-SNE ---\n",
    "    print(\"Running t-SNE... (This may take a few minutes)\")\n",
    "    tsne = TSNE(n_components=2, verbose=1, perplexity=30, n_iter=400, learning_rate='auto', init='pca')\n",
    "    tsne_results = tsne.fit_transform(all_features)\n",
    "    print(\"t-SNE complete.\")\n",
    "\n",
    "    # --- Plot Results ---\n",
    "    print(\"Generating plot...\")\n",
    "    df = pd.DataFrame()\n",
    "    df['tsne-2d-one'] = tsne_results[:,0]\n",
    "    df['tsne-2d-two'] = tsne_results[:,1]\n",
    "    df['label'] = [dataset.class_names[i] for i in all_labels]\n",
    "\n",
    "    plt.figure(figsize=(16,10))\n",
    "    sns.scatterplot(\n",
    "        x=\"tsne-2d-one\", y=\"tsne-2d-two\",\n",
    "        hue=\"label\",\n",
    "        palette=sns.color_palette(\"hls\", len(dataset.class_names)),\n",
    "        data=df,\n",
    "        legend=\"full\",\n",
    "        alpha=0.8\n",
    "    )\n",
    "    plt.title(\"t-SNE Visualization of Contrastive-Trained EEG Features\")\n",
    "    plt.xlabel(\"t-SNE Dimension 1\")\n",
    "    plt.ylabel(\"t-SNE Dimension 2\")\n",
    "    # Adjust legend to prevent it from overlapping with the plot\n",
    "    plt.legend(bbox_to_anchor=(1.05, 1), loc=2, borderaxespad=0., markerscale=2)\n",
    "    plt.tight_layout(rect=[0,0,0.85,1]) # Adjust layout to make room for legend\n",
    "    plt.show()\n",
    "\n",
    "# ==============================================================================\n",
    "# --- 4. EXECUTION ---\n",
    "# ==============================================================================\n",
    "if __name__ == '__main__':\n",
    "    # Make sure to update the path in the config class above\n",
    "    tsne_config = CONFIG_TSNE_CONTRASTIVE()\n",
    "    analyze_contrastive_features(tsne_config)"
   ]
  },
  {
   "cell_type": "markdown",
   "metadata": {
    "id": "WTNZgX1AJOP7"
   },
   "source": [
    "## Contrastive Training"
   ]
  },
  {
   "cell_type": "code",
   "execution_count": null,
   "metadata": {},
   "outputs": [],
   "source": [
    "# import os\n",
    "# import torch\n",
    "# import timm\n",
    "# import pandas as pd\n",
    "# from pathlib import Path\n",
    "# from collections import OrderedDict\n",
    "# from datetime import datetime\n",
    "# from sklearn.model_selection import train_test_split\n",
    "# from tqdm.notebook import tqdm\n",
    "# from torch.utils.data import Dataset, DataLoader\n",
    "# from torchvision.transforms import v2 as transforms\n",
    "# import torch.nn as nn\n",
    "# import torch.optim as optim\n",
    "# from torch.utils.tensorboard import SummaryWriter\n",
    "# from PIL import Image\n",
    "# import random\n",
    "# import torch.nn.functional as F\n",
    "\n",
    "# # ==============================================================================\n",
    "# # --- 1. CONFIGURATION for Contrastive Learning ---\n",
    "# # ==============================================================================\n",
    "# class CONFIG_CONTRASTIVE:\n",
    "#     # --- UPDATE THESE PATHS ---\n",
    "#     PRETRAINED_EEG_ENCODER_PATH = '/content/drive/MyDrive/NeuroVision/models/pretrain_encoder_20250905_194203_best.pth'\n",
    "#     CWT_SCALOGRAMS_ROOT = '/content/cwt_scalograms_by_class/train'\n",
    "#     IMAGE_ROOT_DIR = '/content/gan_imagenet' # Your original image folder\n",
    "#     STATS_MEAN_PATH = '/content/cwt_scalograms_by_class/mean.pt'\n",
    "#     STATS_STD_PATH = '/content/cwt_scalograms_by_class/std.pt'\n",
    "\n",
    "#     # --- Output Paths ---\n",
    "#     OUTPUT_DIR = '/content/drive/MyDrive/NeuroVision/contrastive_outputs'\n",
    "\n",
    "#     # --- Hyperparameters ---\n",
    "#     LR = 1e-5 # A smaller LR is often better for contrastive fine-tuning\n",
    "#     WEIGHT_DECAY = 0.02\n",
    "#     BATCH_SIZE = 48 # A moderate batch size is crucial for good negative sampling\n",
    "#     NUM_EPOCHS = 150\n",
    "#     IMG_SIZE = 224\n",
    "#     EEG_CHANNELS = 4\n",
    "\n",
    "#     # --- Model Dimensions ---\n",
    "#     ENCODER_DIM = 192 # Output dim of ViT-Tiny\n",
    "#     PROJECTION_DIM = 256 # The dimension of the shared embedding space\n",
    "\n",
    "# # ==============================================================================\n",
    "# # --- 2. MODEL DEFINITIONS ---\n",
    "# # ==============================================================================\n",
    "# class ProjectionHead(nn.Module):\n",
    "#     \"\"\" Projects the encoder's features into the shared embedding space. \"\"\"\n",
    "#     def __init__(self, embedding_dim, projection_dim):\n",
    "#         super().__init__()\n",
    "#         self.projection = nn.Linear(embedding_dim, projection_dim)\n",
    "#         self.gelu = nn.GELU()\n",
    "#         self.fc = nn.Linear(projection_dim, projection_dim)\n",
    "#         self.dropout = nn.Dropout(0.1)\n",
    "#         self.layer_norm = nn.LayerNorm(projection_dim)\n",
    "\n",
    "#     def forward(self, x):\n",
    "#         projected = self.projection(x)\n",
    "#         x = self.gelu(projected)\n",
    "#         x = self.fc(x)\n",
    "#         x = self.dropout(x)\n",
    "#         x = x + projected # Add residual connection\n",
    "#         x = self.layer_norm(x)\n",
    "#         return x\n",
    "\n",
    "# class ContrastiveLoss(nn.Module):\n",
    "#     \"\"\" The loss function for contrastive learning. \"\"\"\n",
    "#     def __init__(self, temperature=0.07):\n",
    "#         super().__init__()\n",
    "#         self.temperature = nn.Parameter(torch.tensor(temperature))\n",
    "\n",
    "#     def forward(self, eeg_embeddings, image_embeddings):\n",
    "#         # Normalize the embeddings to have unit length\n",
    "#         eeg_embeddings = F.normalize(eeg_embeddings, p=2, dim=1)\n",
    "#         image_embeddings = F.normalize(image_embeddings, p=2, dim=1)\n",
    "\n",
    "#         # Calculate the similarity matrix\n",
    "#         logits = (eeg_embeddings @ image_embeddings.T) / self.temperature\n",
    "\n",
    "#         # The labels are the diagonal elements (positive pairs)\n",
    "#         labels = torch.arange(len(logits)).to(logits.device)\n",
    "\n",
    "#         # Calculate loss in both directions (EEG->Image and Image->EEG)\n",
    "#         loss_eeg = F.cross_entropy(logits, labels)\n",
    "#         loss_image = F.cross_entropy(logits.T, labels)\n",
    "\n",
    "#         return (loss_eeg + loss_image) / 2\n",
    "\n",
    "# # ==============================================================================\n",
    "# # --- 3. DATASET CLASS ---\n",
    "# # ==============================================================================\n",
    "# class EEGImageContrastiveDataset(Dataset):\n",
    "#     def __init__(self, eeg_root_dir, image_root_dir, eeg_transform, image_transform):\n",
    "#         self.eeg_transform = eeg_transform\n",
    "#         self.image_transform = image_transform\n",
    "#         self.samples = self._create_samples(Path(eeg_root_dir), Path(image_root_dir))\n",
    "\n",
    "#     def _create_samples(self, eeg_root, image_root):\n",
    "#         samples = []\n",
    "#         image_map = {d.name: [str(p) for p in d.glob('*.*')] for d in image_root.iterdir() if d.is_dir()}\n",
    "\n",
    "#         for class_dir in eeg_root.iterdir():\n",
    "#             if class_dir.is_dir() and class_dir.name in image_map:\n",
    "#                 image_paths = image_map[class_dir.name]\n",
    "#                 for eeg_file in class_dir.glob('*.pt'):\n",
    "#                     # Each EEG file is paired with a random image from its class\n",
    "#                     samples.append({'eeg_path': str(eeg_file), 'image_path': random.choice(image_paths)})\n",
    "#         return samples\n",
    "\n",
    "#     def __len__(self):\n",
    "#         return len(self.samples)\n",
    "\n",
    "#     def __getitem__(self, idx):\n",
    "#         sample = self.samples[idx]\n",
    "\n",
    "#         # Load EEG Scalogram\n",
    "#         eeg_tensor = torch.load(sample['eeg_path'])\n",
    "#         eeg_tensor = self.eeg_transform(eeg_tensor)\n",
    "\n",
    "#         # Load Image\n",
    "#         image = Image.open(sample['image_path']).convert(\"RGB\") # Use RGB for standard pre-trained models\n",
    "#         image_tensor = self.image_transform(image)\n",
    "\n",
    "#         return eeg_tensor, image_tensor\n",
    "\n",
    "# # ==============================================================================\n",
    "# # --- 4. MAIN TRAINING SCRIPT ---\n",
    "# # ==============================================================================\n",
    "# def run_contrastive_training(config):\n",
    "#     timestamp = datetime.now().strftime('%Y%m%d_%H%M%S')\n",
    "#     device = torch.device(\"cuda\" if torch.cuda.is_available() else \"cpu\")\n",
    "#     output_dir = os.path.join(config.OUTPUT_DIR, f'run_{timestamp}')\n",
    "#     model_path = os.path.join(output_dir, f'contrastive_eeg_encoder_best.pth')\n",
    "#     os.makedirs(output_dir, exist_ok=True)\n",
    "#     writer = SummaryWriter(os.path.join(output_dir, 'logs'))\n",
    "\n",
    "#     # --- Prepare Data ---\n",
    "#     print(\"1. Preparing data and DataLoaders...\")\n",
    "#     mean = torch.load(config.STATS_MEAN_PATH)\n",
    "#     std = torch.load(config.STATS_STD_PATH)\n",
    "\n",
    "#     eeg_transform = transforms.Compose([\n",
    "#         transforms.ToDtype(torch.float32, scale=False),\n",
    "#         transforms.Resize((config.IMG_SIZE, config.IMG_SIZE), antialias=True),\n",
    "#         transforms.Normalize(mean=mean.tolist(), std=std.tolist())\n",
    "#     ])\n",
    "#     image_transform = transforms.Compose([\n",
    "#         transforms.Resize((config.IMG_SIZE, config.IMG_SIZE)),\n",
    "#         transforms.ToTensor(),\n",
    "#         transforms.Normalize(mean=[0.485, 0.456, 0.406], std=[0.229, 0.224, 0.225]) # Standard ImageNet normalization\n",
    "#     ])\n",
    "\n",
    "#     dataset = EEGImageContrastiveDataset(config.CWT_SCALOGRAMS_ROOT, config.IMAGE_ROOT_DIR, eeg_transform, image_transform)\n",
    "#     loader = DataLoader(dataset, batch_size=config.BATCH_SIZE, shuffle=True, num_workers=2, drop_last=True)\n",
    "\n",
    "#     # --- Initialize Models ---\n",
    "#     print(\"2. Initializing models...\")\n",
    "#     # EEG Encoder\n",
    "#     eeg_encoder = timm.create_model('vit_tiny_patch16_224', in_chans=config.EEG_CHANNELS, num_classes=0)\n",
    "#     checkpoint = torch.load(config.PRETRAINED_EEG_ENCODER_PATH, map_location='cpu')\n",
    "#     eeg_encoder.load_state_dict(checkpoint.get('model_state_dict', checkpoint), strict=False)\n",
    "#     eeg_encoder.to(device)\n",
    "\n",
    "#     # Image Encoder (pre-trained on ImageNet)\n",
    "#     image_encoder = timm.create_model('vit_tiny_patch16_224', pretrained=True, num_classes=0)\n",
    "#     image_encoder.to(device)\n",
    "\n",
    "#     # Projection Heads\n",
    "#     eeg_projection = ProjectionHead(config.ENCODER_DIM, config.PROJECTION_DIM).to(device)\n",
    "#     image_projection = ProjectionHead(config.ENCODER_DIM, config.PROJECTION_DIM).to(device)\n",
    "\n",
    "#     # --- Training Setup ---\n",
    "#     criterion = ContrastiveLoss().to(device)\n",
    "#     # Combine all parameters for the optimizer\n",
    "#     all_params = list(eeg_encoder.parameters()) + list(image_encoder.parameters()) + \\\n",
    "#                  list(eeg_projection.parameters()) + list(image_projection.parameters())\n",
    "#     optimizer = optim.AdamW(all_params, lr=config.LR, weight_decay=config.WEIGHT_DECAY)\n",
    "\n",
    "#     best_loss = float('inf')\n",
    "\n",
    "#     # --- Training Loop ---\n",
    "#     print(\"\\n--- Starting Contrastive Learning ---\")\n",
    "#     for epoch in range(config.NUM_EPOCHS):\n",
    "#         eeg_encoder.train(); image_encoder.train(); eeg_projection.train(); image_projection.train()\n",
    "#         total_loss = 0.0\n",
    "\n",
    "#         progress_bar = tqdm(loader, desc=f\"Epoch {epoch+1}/{config.NUM_EPOCHS}\")\n",
    "#         for eeg_tensors, image_tensors in progress_bar:\n",
    "#             eeg_tensors, image_tensors = eeg_tensors.to(device), image_tensors.to(device)\n",
    "#             optimizer.zero_grad()\n",
    "\n",
    "#             # Get feature embeddings\n",
    "#             eeg_features = eeg_encoder.forward_features(eeg_tensors)[:, 0]\n",
    "#             image_features = image_encoder.forward_features(image_tensors)[:, 0]\n",
    "\n",
    "#             # Project to shared space\n",
    "#             eeg_embeddings = eeg_projection(eeg_features)\n",
    "#             image_embeddings = image_projection(image_features)\n",
    "\n",
    "#             loss = criterion(eeg_embeddings, image_embeddings)\n",
    "#             loss.backward()\n",
    "#             optimizer.step()\n",
    "\n",
    "#             total_loss += loss.item()\n",
    "#             progress_bar.set_postfix(Loss=f\"{loss.item():.4f}\")\n",
    "\n",
    "#         avg_loss = total_loss / len(loader)\n",
    "#         writer.add_scalar('Loss/train', avg_loss, epoch)\n",
    "#         print(f\"Epoch {epoch+1}: Average Loss: {avg_loss:.4f}\")\n",
    "\n",
    "#         # Save the best model based on loss\n",
    "#         if avg_loss < best_loss:\n",
    "#             best_loss = avg_loss\n",
    "#             print(f\"New best loss ({best_loss:.4f}). Saving EEG encoder to {model_path}\")\n",
    "#             torch.save(eeg_encoder.state_dict(), model_path)\n",
    "\n",
    "#     writer.close()\n",
    "#     print(f\"--- Training complete. Best model saved to {model_path} ---\")\n",
    "\n",
    "# # ==============================================================================\n",
    "# # --- 5. EXECUTION ---\n",
    "# # ==============================================================================\n",
    "# if __name__ == '__main__':\n",
    "#     cl_config = CONFIG_CONTRASTIVE()\n",
    "#     run_contrastive_training(cl_config)"
   ]
  },
  {
   "cell_type": "code",
   "execution_count": null,
   "metadata": {},
   "outputs": [
    {
     "name": "stdout",
     "output_type": "stream",
     "text": [
      "1. Loading all models...\n",
      "2. Preparing dataset and dataloader...\n",
      "3. Setting up optimizer and accelerator...\n",
      "\n",
      "--- Starting Diffusion Model Fine-Tuning ---\n"
     ]
    },
    {
     "data": {
      "application/vnd.jupyter.widget-view+json": {
       "model_id": "ac824bd849ba49829cc2e56e22963090",
       "version_major": 2,
       "version_minor": 0
      },
      "text/plain": [
       "Epoch 1/100:   0%|          | 0/619 [00:00<?, ?it/s]"
      ]
     },
     "metadata": {},
     "output_type": "display_data"
    },
    {
     "data": {
      "application/vnd.jupyter.widget-view+json": {
       "model_id": "57f201771c0c4e1d978c1ee0673d922b",
       "version_major": 2,
       "version_minor": 0
      },
      "text/plain": [
       "Epoch 2/100:   0%|          | 0/619 [00:00<?, ?it/s]"
      ]
     },
     "metadata": {},
     "output_type": "display_data"
    },
    {
     "data": {
      "application/vnd.jupyter.widget-view+json": {
       "model_id": "267f6b7621bb414c9095fbee9b302aad",
       "version_major": 2,
       "version_minor": 0
      },
      "text/plain": [
       "Epoch 3/100:   0%|          | 0/619 [00:00<?, ?it/s]"
      ]
     },
     "metadata": {},
     "output_type": "display_data"
    },
    {
     "data": {
      "application/vnd.jupyter.widget-view+json": {
       "model_id": "576a9b2e6b2f499c928c0925e3bb2ecc",
       "version_major": 2,
       "version_minor": 0
      },
      "text/plain": [
       "Epoch 4/100:   0%|          | 0/619 [00:00<?, ?it/s]"
      ]
     },
     "metadata": {},
     "output_type": "display_data"
    },
    {
     "data": {
      "application/vnd.jupyter.widget-view+json": {
       "model_id": "458f2b5d228141f799aa9533333ef176",
       "version_major": 2,
       "version_minor": 0
      },
      "text/plain": [
       "Epoch 5/100:   0%|          | 0/619 [00:00<?, ?it/s]"
      ]
     },
     "metadata": {},
     "output_type": "display_data"
    },
    {
     "name": "stdout",
     "output_type": "stream",
     "text": [
      "Generating sample images for epoch 5...\n"
     ]
    },
    {
     "data": {
      "application/vnd.jupyter.widget-view+json": {
       "model_id": "506c71cdd34c43b886459e5e49ead54d",
       "version_major": 2,
       "version_minor": 0
      },
      "text/plain": [
       "Denoising:   0%|          | 0/51 [00:00<?, ?it/s]"
      ]
     },
     "metadata": {},
     "output_type": "display_data"
    },
    {
     "name": "stdout",
     "output_type": "stream",
     "text": [
      "Saved sample grid to /content/drive/MyDrive/NeuroVision/diffusion_reconstructions/run_20250912_171626/samples/epoch_5_classes_microwave_computer_keyboard_airliner_scorpion.png\n"
     ]
    },
    {
     "data": {
      "application/vnd.jupyter.widget-view+json": {
       "model_id": "e8725a308e724eb2ad4c7e4643578ecd",
       "version_major": 2,
       "version_minor": 0
      },
      "text/plain": [
       "Epoch 6/100:   0%|          | 0/619 [00:00<?, ?it/s]"
      ]
     },
     "metadata": {},
     "output_type": "display_data"
    },
    {
     "data": {
      "application/vnd.jupyter.widget-view+json": {
       "model_id": "ef99e8e52448414da9fa05d6ac987513",
       "version_major": 2,
       "version_minor": 0
      },
      "text/plain": [
       "Epoch 7/100:   0%|          | 0/619 [00:00<?, ?it/s]"
      ]
     },
     "metadata": {},
     "output_type": "display_data"
    },
    {
     "data": {
      "application/vnd.jupyter.widget-view+json": {
       "model_id": "26f1c595e522441d8344a36d25127f0e",
       "version_major": 2,
       "version_minor": 0
      },
      "text/plain": [
       "Epoch 8/100:   0%|          | 0/619 [00:00<?, ?it/s]"
      ]
     },
     "metadata": {},
     "output_type": "display_data"
    },
    {
     "data": {
      "application/vnd.jupyter.widget-view+json": {
       "model_id": "6041c69b56504d36a5bb0a3d49e40005",
       "version_major": 2,
       "version_minor": 0
      },
      "text/plain": [
       "Epoch 9/100:   0%|          | 0/619 [00:00<?, ?it/s]"
      ]
     },
     "metadata": {},
     "output_type": "display_data"
    },
    {
     "data": {
      "application/vnd.jupyter.widget-view+json": {
       "model_id": "760504fac0484f83a48eed5db0ce1b33",
       "version_major": 2,
       "version_minor": 0
      },
      "text/plain": [
       "Epoch 10/100:   0%|          | 0/619 [00:00<?, ?it/s]"
      ]
     },
     "metadata": {},
     "output_type": "display_data"
    },
    {
     "name": "stdout",
     "output_type": "stream",
     "text": [
      "Generating sample images for epoch 10...\n"
     ]
    },
    {
     "data": {
      "application/vnd.jupyter.widget-view+json": {
       "model_id": "5e7d400b4b2c4b5c8086509dcbab5856",
       "version_major": 2,
       "version_minor": 0
      },
      "text/plain": [
       "Denoising:   0%|          | 0/51 [00:00<?, ?it/s]"
      ]
     },
     "metadata": {},
     "output_type": "display_data"
    },
    {
     "name": "stdout",
     "output_type": "stream",
     "text": [
      "Saved sample grid to /content/drive/MyDrive/NeuroVision/diffusion_reconstructions/run_20250912_171626/samples/epoch_10_classes_house_finch_screwdriver_speedboat_microphone.png\n"
     ]
    },
    {
     "data": {
      "application/vnd.jupyter.widget-view+json": {
       "model_id": "0bab37427d8b41febeb6f5cf13c2d4b2",
       "version_major": 2,
       "version_minor": 0
      },
      "text/plain": [
       "Epoch 11/100:   0%|          | 0/619 [00:00<?, ?it/s]"
      ]
     },
     "metadata": {},
     "output_type": "display_data"
    },
    {
     "data": {
      "application/vnd.jupyter.widget-view+json": {
       "model_id": "bf55d0e8fdb0462ca6d4ade908ab971a",
       "version_major": 2,
       "version_minor": 0
      },
      "text/plain": [
       "Epoch 12/100:   0%|          | 0/619 [00:00<?, ?it/s]"
      ]
     },
     "metadata": {},
     "output_type": "display_data"
    },
    {
     "data": {
      "application/vnd.jupyter.widget-view+json": {
       "model_id": "597443c4dcea4845a5f021aa3aa93810",
       "version_major": 2,
       "version_minor": 0
      },
      "text/plain": [
       "Epoch 13/100:   0%|          | 0/619 [00:00<?, ?it/s]"
      ]
     },
     "metadata": {},
     "output_type": "display_data"
    },
    {
     "data": {
      "application/vnd.jupyter.widget-view+json": {
       "model_id": "315f7feda095437c9932cb6aa5685586",
       "version_major": 2,
       "version_minor": 0
      },
      "text/plain": [
       "Epoch 14/100:   0%|          | 0/619 [00:00<?, ?it/s]"
      ]
     },
     "metadata": {},
     "output_type": "display_data"
    },
    {
     "data": {
      "application/vnd.jupyter.widget-view+json": {
       "model_id": "4c83bba455ae4423965024d6e1c8854c",
       "version_major": 2,
       "version_minor": 0
      },
      "text/plain": [
       "Epoch 15/100:   0%|          | 0/619 [00:00<?, ?it/s]"
      ]
     },
     "metadata": {},
     "output_type": "display_data"
    },
    {
     "name": "stdout",
     "output_type": "stream",
     "text": [
      "Generating sample images for epoch 15...\n"
     ]
    },
    {
     "data": {
      "application/vnd.jupyter.widget-view+json": {
       "model_id": "78dc1f69cab8438aa58787a1c6b38a3a",
       "version_major": 2,
       "version_minor": 0
      },
      "text/plain": [
       "Denoising:   0%|          | 0/51 [00:00<?, ?it/s]"
      ]
     },
     "metadata": {},
     "output_type": "display_data"
    },
    {
     "name": "stdout",
     "output_type": "stream",
     "text": [
      "Saved sample grid to /content/drive/MyDrive/NeuroVision/diffusion_reconstructions/run_20250912_171626/samples/epoch_15_classes_dumbbell_pineapple_stethoscope_giant_panda.png\n"
     ]
    },
    {
     "data": {
      "application/vnd.jupyter.widget-view+json": {
       "model_id": "fb3e1daeafd648cb8c0f8a37a7208010",
       "version_major": 2,
       "version_minor": 0
      },
      "text/plain": [
       "Epoch 16/100:   0%|          | 0/619 [00:00<?, ?it/s]"
      ]
     },
     "metadata": {},
     "output_type": "display_data"
    },
    {
     "data": {
      "application/vnd.jupyter.widget-view+json": {
       "model_id": "df9a34ffe1ef4de380ccfa48d47f73f9",
       "version_major": 2,
       "version_minor": 0
      },
      "text/plain": [
       "Epoch 17/100:   0%|          | 0/619 [00:00<?, ?it/s]"
      ]
     },
     "metadata": {},
     "output_type": "display_data"
    },
    {
     "data": {
      "application/vnd.jupyter.widget-view+json": {
       "model_id": "68d0043557f74f93b3cdb60820fcdbe1",
       "version_major": 2,
       "version_minor": 0
      },
      "text/plain": [
       "Epoch 18/100:   0%|          | 0/619 [00:00<?, ?it/s]"
      ]
     },
     "metadata": {},
     "output_type": "display_data"
    },
    {
     "data": {
      "application/vnd.jupyter.widget-view+json": {
       "model_id": "eefe31cea39b4c8d90b084a6ce1c73bf",
       "version_major": 2,
       "version_minor": 0
      },
      "text/plain": [
       "Epoch 19/100:   0%|          | 0/619 [00:00<?, ?it/s]"
      ]
     },
     "metadata": {},
     "output_type": "display_data"
    },
    {
     "data": {
      "application/vnd.jupyter.widget-view+json": {
       "model_id": "70dcdd29716141538883760262ca49e0",
       "version_major": 2,
       "version_minor": 0
      },
      "text/plain": [
       "Epoch 20/100:   0%|          | 0/619 [00:00<?, ?it/s]"
      ]
     },
     "metadata": {},
     "output_type": "display_data"
    },
    {
     "name": "stdout",
     "output_type": "stream",
     "text": [
      "Generating sample images for epoch 20...\n"
     ]
    },
    {
     "data": {
      "application/vnd.jupyter.widget-view+json": {
       "model_id": "5a802249645d49a9bee6b8253f93ad3a",
       "version_major": 2,
       "version_minor": 0
      },
      "text/plain": [
       "Denoising:   0%|          | 0/51 [00:00<?, ?it/s]"
      ]
     },
     "metadata": {},
     "output_type": "display_data"
    },
    {
     "name": "stdout",
     "output_type": "stream",
     "text": [
      "Saved sample grid to /content/drive/MyDrive/NeuroVision/diffusion_reconstructions/run_20250912_171626/samples/epoch_20_classes_screwdriver_dining_table_bee_mouse.png\n"
     ]
    },
    {
     "data": {
      "application/vnd.jupyter.widget-view+json": {
       "model_id": "a02ccf0df0534945b6075c017d2dd5a6",
       "version_major": 2,
       "version_minor": 0
      },
      "text/plain": [
       "Epoch 21/100:   0%|          | 0/619 [00:00<?, ?it/s]"
      ]
     },
     "metadata": {},
     "output_type": "display_data"
    },
    {
     "data": {
      "application/vnd.jupyter.widget-view+json": {
       "model_id": "761df03faeb343829be2faef281d6f88",
       "version_major": 2,
       "version_minor": 0
      },
      "text/plain": [
       "Epoch 22/100:   0%|          | 0/619 [00:00<?, ?it/s]"
      ]
     },
     "metadata": {},
     "output_type": "display_data"
    },
    {
     "data": {
      "application/vnd.jupyter.widget-view+json": {
       "model_id": "1d671e5f969c42f382288f6fa4ef3041",
       "version_major": 2,
       "version_minor": 0
      },
      "text/plain": [
       "Epoch 23/100:   0%|          | 0/619 [00:00<?, ?it/s]"
      ]
     },
     "metadata": {},
     "output_type": "display_data"
    },
    {
     "data": {
      "application/vnd.jupyter.widget-view+json": {
       "model_id": "006631bcb54d47148ee564e5c1027ad1",
       "version_major": 2,
       "version_minor": 0
      },
      "text/plain": [
       "Epoch 24/100:   0%|          | 0/619 [00:00<?, ?it/s]"
      ]
     },
     "metadata": {},
     "output_type": "display_data"
    },
    {
     "data": {
      "application/vnd.jupyter.widget-view+json": {
       "model_id": "b6b6a156dfc34893b3cd5b79dd82e8ed",
       "version_major": 2,
       "version_minor": 0
      },
      "text/plain": [
       "Epoch 25/100:   0%|          | 0/619 [00:00<?, ?it/s]"
      ]
     },
     "metadata": {},
     "output_type": "display_data"
    },
    {
     "name": "stdout",
     "output_type": "stream",
     "text": [
      "Generating sample images for epoch 25...\n"
     ]
    },
    {
     "data": {
      "application/vnd.jupyter.widget-view+json": {
       "model_id": "a960a9e35332457d9358f94f127b485d",
       "version_major": 2,
       "version_minor": 0
      },
      "text/plain": [
       "Denoising:   0%|          | 0/51 [00:00<?, ?it/s]"
      ]
     },
     "metadata": {},
     "output_type": "display_data"
    },
    {
     "name": "stdout",
     "output_type": "stream",
     "text": [
      "Saved sample grid to /content/drive/MyDrive/NeuroVision/diffusion_reconstructions/run_20250912_171626/samples/epoch_25_classes_snakes_printer_washer_pencil_sharpener.png\n"
     ]
    },
    {
     "data": {
      "application/vnd.jupyter.widget-view+json": {
       "model_id": "fde9c089bfd94b78b36ee73d8e0a3c0c",
       "version_major": 2,
       "version_minor": 0
      },
      "text/plain": [
       "Epoch 26/100:   0%|          | 0/619 [00:00<?, ?it/s]"
      ]
     },
     "metadata": {},
     "output_type": "display_data"
    },
    {
     "data": {
      "application/vnd.jupyter.widget-view+json": {
       "model_id": "2edb02a5a292447bac11c4d2977656c5",
       "version_major": 2,
       "version_minor": 0
      },
      "text/plain": [
       "Epoch 27/100:   0%|          | 0/619 [00:00<?, ?it/s]"
      ]
     },
     "metadata": {},
     "output_type": "display_data"
    },
    {
     "data": {
      "application/vnd.jupyter.widget-view+json": {
       "model_id": "5873975adcad481ea9275113ce501fbd",
       "version_major": 2,
       "version_minor": 0
      },
      "text/plain": [
       "Epoch 28/100:   0%|          | 0/619 [00:00<?, ?it/s]"
      ]
     },
     "metadata": {},
     "output_type": "display_data"
    },
    {
     "data": {
      "application/vnd.jupyter.widget-view+json": {
       "model_id": "3b4c05b90c12474eb91852c953929772",
       "version_major": 2,
       "version_minor": 0
      },
      "text/plain": [
       "Epoch 29/100:   0%|          | 0/619 [00:00<?, ?it/s]"
      ]
     },
     "metadata": {},
     "output_type": "display_data"
    },
    {
     "data": {
      "application/vnd.jupyter.widget-view+json": {
       "model_id": "3a461f3a4488495488d87691bd4b0e5e",
       "version_major": 2,
       "version_minor": 0
      },
      "text/plain": [
       "Epoch 30/100:   0%|          | 0/619 [00:00<?, ?it/s]"
      ]
     },
     "metadata": {},
     "output_type": "display_data"
    },
    {
     "name": "stdout",
     "output_type": "stream",
     "text": [
      "Generating sample images for epoch 30...\n"
     ]
    },
    {
     "data": {
      "application/vnd.jupyter.widget-view+json": {
       "model_id": "a63bd662187c41838c1cdf138fbebfd1",
       "version_major": 2,
       "version_minor": 0
      },
      "text/plain": [
       "Denoising:   0%|          | 0/51 [00:00<?, ?it/s]"
      ]
     },
     "metadata": {},
     "output_type": "display_data"
    },
    {
     "name": "stdout",
     "output_type": "stream",
     "text": [
      "Saved sample grid to /content/drive/MyDrive/NeuroVision/diffusion_reconstructions/run_20250912_171626/samples/epoch_30_classes_pomegranate_airliner_bookcase_pizza.png\n"
     ]
    },
    {
     "data": {
      "application/vnd.jupyter.widget-view+json": {
       "model_id": "48818537505944f18430b8f3413d97ca",
       "version_major": 2,
       "version_minor": 0
      },
      "text/plain": [
       "Epoch 31/100:   0%|          | 0/619 [00:00<?, ?it/s]"
      ]
     },
     "metadata": {},
     "output_type": "display_data"
    },
    {
     "data": {
      "application/vnd.jupyter.widget-view+json": {
       "model_id": "38deabd386624feeb9f86e9746df2913",
       "version_major": 2,
       "version_minor": 0
      },
      "text/plain": [
       "Epoch 32/100:   0%|          | 0/619 [00:00<?, ?it/s]"
      ]
     },
     "metadata": {},
     "output_type": "display_data"
    },
    {
     "data": {
      "application/vnd.jupyter.widget-view+json": {
       "model_id": "a77f8a344ca742a8a40ccf4423d4e641",
       "version_major": 2,
       "version_minor": 0
      },
      "text/plain": [
       "Epoch 33/100:   0%|          | 0/619 [00:00<?, ?it/s]"
      ]
     },
     "metadata": {},
     "output_type": "display_data"
    },
    {
     "data": {
      "application/vnd.jupyter.widget-view+json": {
       "model_id": "f476b0d5daca4e4bb7b3b09eb858e741",
       "version_major": 2,
       "version_minor": 0
      },
      "text/plain": [
       "Epoch 34/100:   0%|          | 0/619 [00:00<?, ?it/s]"
      ]
     },
     "metadata": {},
     "output_type": "display_data"
    },
    {
     "data": {
      "application/vnd.jupyter.widget-view+json": {
       "model_id": "66c8f5542ab9429cb5b38f2e63f1e23c",
       "version_major": 2,
       "version_minor": 0
      },
      "text/plain": [
       "Epoch 35/100:   0%|          | 0/619 [00:00<?, ?it/s]"
      ]
     },
     "metadata": {},
     "output_type": "display_data"
    },
    {
     "name": "stdout",
     "output_type": "stream",
     "text": [
      "Generating sample images for epoch 35...\n"
     ]
    },
    {
     "data": {
      "application/vnd.jupyter.widget-view+json": {
       "model_id": "e3e39cc50e4843daad17dfcc6d41a8f5",
       "version_major": 2,
       "version_minor": 0
      },
      "text/plain": [
       "Denoising:   0%|          | 0/51 [00:00<?, ?it/s]"
      ]
     },
     "metadata": {},
     "output_type": "display_data"
    },
    {
     "name": "stdout",
     "output_type": "stream",
     "text": [
      "Saved sample grid to /content/drive/MyDrive/NeuroVision/diffusion_reconstructions/run_20250912_171626/samples/epoch_35_classes_stove_bookcase_pomegranate_syringe.png\n"
     ]
    },
    {
     "data": {
      "application/vnd.jupyter.widget-view+json": {
       "model_id": "894efa126fd3449fb8b3679c7883e956",
       "version_major": 2,
       "version_minor": 0
      },
      "text/plain": [
       "Epoch 36/100:   0%|          | 0/619 [00:00<?, ?it/s]"
      ]
     },
     "metadata": {},
     "output_type": "display_data"
    },
    {
     "data": {
      "application/vnd.jupyter.widget-view+json": {
       "model_id": "4ce9356aba9c48629cc29407182252a4",
       "version_major": 2,
       "version_minor": 0
      },
      "text/plain": [
       "Epoch 37/100:   0%|          | 0/619 [00:00<?, ?it/s]"
      ]
     },
     "metadata": {},
     "output_type": "display_data"
    },
    {
     "data": {
      "application/vnd.jupyter.widget-view+json": {
       "model_id": "a2a2cc680d784d3c9475544bd04c9c3e",
       "version_major": 2,
       "version_minor": 0
      },
      "text/plain": [
       "Epoch 38/100:   0%|          | 0/619 [00:00<?, ?it/s]"
      ]
     },
     "metadata": {},
     "output_type": "display_data"
    },
    {
     "data": {
      "application/vnd.jupyter.widget-view+json": {
       "model_id": "5d61bea763f847eeb52bef9c22586835",
       "version_major": 2,
       "version_minor": 0
      },
      "text/plain": [
       "Epoch 39/100:   0%|          | 0/619 [00:00<?, ?it/s]"
      ]
     },
     "metadata": {},
     "output_type": "display_data"
    },
    {
     "data": {
      "application/vnd.jupyter.widget-view+json": {
       "model_id": "feb683b8211a4e7580e8ae4028e2c436",
       "version_major": 2,
       "version_minor": 0
      },
      "text/plain": [
       "Epoch 40/100:   0%|          | 0/619 [00:00<?, ?it/s]"
      ]
     },
     "metadata": {},
     "output_type": "display_data"
    },
    {
     "name": "stdout",
     "output_type": "stream",
     "text": [
      "Generating sample images for epoch 40...\n"
     ]
    },
    {
     "data": {
      "application/vnd.jupyter.widget-view+json": {
       "model_id": "8528570a94c541acac376e6ef889fdbd",
       "version_major": 2,
       "version_minor": 0
      },
      "text/plain": [
       "Denoising:   0%|          | 0/51 [00:00<?, ?it/s]"
      ]
     },
     "metadata": {},
     "output_type": "display_data"
    },
    {
     "name": "stdout",
     "output_type": "stream",
     "text": [
      "Saved sample grid to /content/drive/MyDrive/NeuroVision/diffusion_reconstructions/run_20250912_171626/samples/epoch_40_classes_Indian_elephant_snakes_table_lamp_mud_turtle.png\n"
     ]
    },
    {
     "data": {
      "application/vnd.jupyter.widget-view+json": {
       "model_id": "d90e5ef80ae549d19003675eb2c91cd0",
       "version_major": 2,
       "version_minor": 0
      },
      "text/plain": [
       "Epoch 41/100:   0%|          | 0/619 [00:00<?, ?it/s]"
      ]
     },
     "metadata": {},
     "output_type": "display_data"
    },
    {
     "data": {
      "application/vnd.jupyter.widget-view+json": {
       "model_id": "b1fcddfc1c8c41bb8954228ebe7b2012",
       "version_major": 2,
       "version_minor": 0
      },
      "text/plain": [
       "Epoch 42/100:   0%|          | 0/619 [00:00<?, ?it/s]"
      ]
     },
     "metadata": {},
     "output_type": "display_data"
    },
    {
     "data": {
      "application/vnd.jupyter.widget-view+json": {
       "model_id": "6b625fa849244c9eab69f0990c46aa8d",
       "version_major": 2,
       "version_minor": 0
      },
      "text/plain": [
       "Epoch 43/100:   0%|          | 0/619 [00:00<?, ?it/s]"
      ]
     },
     "metadata": {},
     "output_type": "display_data"
    },
    {
     "data": {
      "application/vnd.jupyter.widget-view+json": {
       "model_id": "acb689f8e313478c863f4f39737df472",
       "version_major": 2,
       "version_minor": 0
      },
      "text/plain": [
       "Epoch 44/100:   0%|          | 0/619 [00:00<?, ?it/s]"
      ]
     },
     "metadata": {},
     "output_type": "display_data"
    },
    {
     "data": {
      "application/vnd.jupyter.widget-view+json": {
       "model_id": "47329d0c72144a958e1f58b6d95bd734",
       "version_major": 2,
       "version_minor": 0
      },
      "text/plain": [
       "Epoch 45/100:   0%|          | 0/619 [00:00<?, ?it/s]"
      ]
     },
     "metadata": {},
     "output_type": "display_data"
    },
    {
     "name": "stdout",
     "output_type": "stream",
     "text": [
      "Generating sample images for epoch 45...\n"
     ]
    },
    {
     "data": {
      "application/vnd.jupyter.widget-view+json": {
       "model_id": "6634c4b01a934886aa118ad1ef1c1f97",
       "version_major": 2,
       "version_minor": 0
      },
      "text/plain": [
       "Denoising:   0%|          | 0/51 [00:00<?, ?it/s]"
      ]
     },
     "metadata": {},
     "output_type": "display_data"
    },
    {
     "name": "stdout",
     "output_type": "stream",
     "text": [
      "Saved sample grid to /content/drive/MyDrive/NeuroVision/diffusion_reconstructions/run_20250912_171626/samples/epoch_45_classes_microwave_red_fox_Arabian_camel_crane.png\n"
     ]
    },
    {
     "data": {
      "application/vnd.jupyter.widget-view+json": {
       "model_id": "1a9f5c55622448aca02880df32d8c1d9",
       "version_major": 2,
       "version_minor": 0
      },
      "text/plain": [
       "Epoch 46/100:   0%|          | 0/619 [00:00<?, ?it/s]"
      ]
     },
     "metadata": {},
     "output_type": "display_data"
    },
    {
     "data": {
      "application/vnd.jupyter.widget-view+json": {
       "model_id": "343f843afbdf4de68c639f12ea642ddb",
       "version_major": 2,
       "version_minor": 0
      },
      "text/plain": [
       "Epoch 47/100:   0%|          | 0/619 [00:00<?, ?it/s]"
      ]
     },
     "metadata": {},
     "output_type": "display_data"
    },
    {
     "data": {
      "application/vnd.jupyter.widget-view+json": {
       "model_id": "fe545b5b63514a52923c2d6a2d922326",
       "version_major": 2,
       "version_minor": 0
      },
      "text/plain": [
       "Epoch 48/100:   0%|          | 0/619 [00:00<?, ?it/s]"
      ]
     },
     "metadata": {},
     "output_type": "display_data"
    },
    {
     "data": {
      "application/vnd.jupyter.widget-view+json": {
       "model_id": "725b7aac284a4948a7311f9d173c7c76",
       "version_major": 2,
       "version_minor": 0
      },
      "text/plain": [
       "Epoch 49/100:   0%|          | 0/619 [00:00<?, ?it/s]"
      ]
     },
     "metadata": {},
     "output_type": "display_data"
    },
    {
     "data": {
      "application/vnd.jupyter.widget-view+json": {
       "model_id": "f182a3c0ef264d0891987b0dfbcd9910",
       "version_major": 2,
       "version_minor": 0
      },
      "text/plain": [
       "Epoch 50/100:   0%|          | 0/619 [00:00<?, ?it/s]"
      ]
     },
     "metadata": {},
     "output_type": "display_data"
    },
    {
     "name": "stdout",
     "output_type": "stream",
     "text": [
      "Generating sample images for epoch 50...\n"
     ]
    },
    {
     "data": {
      "application/vnd.jupyter.widget-view+json": {
       "model_id": "ba87e32c47144b2583e6cf9fe9e8ebdc",
       "version_major": 2,
       "version_minor": 0
      },
      "text/plain": [
       "Denoising:   0%|          | 0/51 [00:00<?, ?it/s]"
      ]
     },
     "metadata": {},
     "output_type": "display_data"
    },
    {
     "name": "stdout",
     "output_type": "stream",
     "text": [
      "Saved sample grid to /content/drive/MyDrive/NeuroVision/diffusion_reconstructions/run_20250912_171626/samples/epoch_50_classes_vulture_zebra_tiger_bee.png\n"
     ]
    },
    {
     "data": {
      "application/vnd.jupyter.widget-view+json": {
       "model_id": "82ca77412b374af69da3614e93e90e53",
       "version_major": 2,
       "version_minor": 0
      },
      "text/plain": [
       "Epoch 51/100:   0%|          | 0/619 [00:00<?, ?it/s]"
      ]
     },
     "metadata": {},
     "output_type": "display_data"
    },
    {
     "data": {
      "application/vnd.jupyter.widget-view+json": {
       "model_id": "f25f49f1d0b54f1189873ddf05f096e6",
       "version_major": 2,
       "version_minor": 0
      },
      "text/plain": [
       "Epoch 52/100:   0%|          | 0/619 [00:00<?, ?it/s]"
      ]
     },
     "metadata": {},
     "output_type": "display_data"
    },
    {
     "data": {
      "application/vnd.jupyter.widget-view+json": {
       "model_id": "d7fd0440c5aa4b6ca0c89240e9757a8c",
       "version_major": 2,
       "version_minor": 0
      },
      "text/plain": [
       "Epoch 53/100:   0%|          | 0/619 [00:00<?, ?it/s]"
      ]
     },
     "metadata": {},
     "output_type": "display_data"
    },
    {
     "data": {
      "application/vnd.jupyter.widget-view+json": {
       "model_id": "fd16e026a5fe44a1af0b5f21f59ca23e",
       "version_major": 2,
       "version_minor": 0
      },
      "text/plain": [
       "Epoch 54/100:   0%|          | 0/619 [00:00<?, ?it/s]"
      ]
     },
     "metadata": {},
     "output_type": "display_data"
    },
    {
     "data": {
      "application/vnd.jupyter.widget-view+json": {
       "model_id": "99260fa7507c488d92dbbff481eb90e7",
       "version_major": 2,
       "version_minor": 0
      },
      "text/plain": [
       "Epoch 55/100:   0%|          | 0/619 [00:00<?, ?it/s]"
      ]
     },
     "metadata": {},
     "output_type": "display_data"
    },
    {
     "name": "stdout",
     "output_type": "stream",
     "text": [
      "Generating sample images for epoch 55...\n"
     ]
    },
    {
     "data": {
      "application/vnd.jupyter.widget-view+json": {
       "model_id": "2e7d6e84f4e849ca8ef7cace2490fa48",
       "version_major": 2,
       "version_minor": 0
      },
      "text/plain": [
       "Denoising:   0%|          | 0/51 [00:00<?, ?it/s]"
      ]
     },
     "metadata": {},
     "output_type": "display_data"
    },
    {
     "name": "stdout",
     "output_type": "stream",
     "text": [
      "Saved sample grid to /content/drive/MyDrive/NeuroVision/diffusion_reconstructions/run_20250912_171626/samples/epoch_55_classes_tabby_strawberry_hammer_lemon.png\n"
     ]
    },
    {
     "data": {
      "application/vnd.jupyter.widget-view+json": {
       "model_id": "45184a48062144deb8f02211b4ac3841",
       "version_major": 2,
       "version_minor": 0
      },
      "text/plain": [
       "Epoch 56/100:   0%|          | 0/619 [00:00<?, ?it/s]"
      ]
     },
     "metadata": {},
     "output_type": "display_data"
    },
    {
     "data": {
      "application/vnd.jupyter.widget-view+json": {
       "model_id": "20e89376b2784b98b8bbb3fadb190a79",
       "version_major": 2,
       "version_minor": 0
      },
      "text/plain": [
       "Epoch 57/100:   0%|          | 0/619 [00:00<?, ?it/s]"
      ]
     },
     "metadata": {},
     "output_type": "display_data"
    },
    {
     "data": {
      "application/vnd.jupyter.widget-view+json": {
       "model_id": "42f88532125b40fcba9b7d16fd375702",
       "version_major": 2,
       "version_minor": 0
      },
      "text/plain": [
       "Epoch 58/100:   0%|          | 0/619 [00:00<?, ?it/s]"
      ]
     },
     "metadata": {},
     "output_type": "display_data"
    },
    {
     "data": {
      "application/vnd.jupyter.widget-view+json": {
       "model_id": "3d29db4741f7440e8b8516e199a08b18",
       "version_major": 2,
       "version_minor": 0
      },
      "text/plain": [
       "Epoch 59/100:   0%|          | 0/619 [00:00<?, ?it/s]"
      ]
     },
     "metadata": {},
     "output_type": "display_data"
    },
    {
     "data": {
      "application/vnd.jupyter.widget-view+json": {
       "model_id": "edd683f95d534838977824cd22d4ebe4",
       "version_major": 2,
       "version_minor": 0
      },
      "text/plain": [
       "Epoch 60/100:   0%|          | 0/619 [00:00<?, ?it/s]"
      ]
     },
     "metadata": {},
     "output_type": "display_data"
    },
    {
     "name": "stdout",
     "output_type": "stream",
     "text": [
      "Generating sample images for epoch 60...\n"
     ]
    },
    {
     "data": {
      "application/vnd.jupyter.widget-view+json": {
       "model_id": "f1288642e15e45149c5e520e52c99776",
       "version_major": 2,
       "version_minor": 0
      },
      "text/plain": [
       "Denoising:   0%|          | 0/51 [00:00<?, ?it/s]"
      ]
     },
     "metadata": {},
     "output_type": "display_data"
    },
    {
     "name": "stdout",
     "output_type": "stream",
     "text": [
      "Saved sample grid to /content/drive/MyDrive/NeuroVision/diffusion_reconstructions/run_20250912_171626/samples/epoch_60_classes_washer_soup_bowl_violin_traffic_light.png\n"
     ]
    },
    {
     "data": {
      "application/vnd.jupyter.widget-view+json": {
       "model_id": "a6079670827c481f8cb86cbf4dfc82e6",
       "version_major": 2,
       "version_minor": 0
      },
      "text/plain": [
       "Epoch 61/100:   0%|          | 0/619 [00:00<?, ?it/s]"
      ]
     },
     "metadata": {},
     "output_type": "display_data"
    },
    {
     "data": {
      "application/vnd.jupyter.widget-view+json": {
       "model_id": "068ee8512ef5466d8a144b027ae22cbc",
       "version_major": 2,
       "version_minor": 0
      },
      "text/plain": [
       "Epoch 62/100:   0%|          | 0/619 [00:00<?, ?it/s]"
      ]
     },
     "metadata": {},
     "output_type": "display_data"
    },
    {
     "data": {
      "application/vnd.jupyter.widget-view+json": {
       "model_id": "aec50c83cdea45faa6636e970629ed4b",
       "version_major": 2,
       "version_minor": 0
      },
      "text/plain": [
       "Epoch 63/100:   0%|          | 0/619 [00:00<?, ?it/s]"
      ]
     },
     "metadata": {},
     "output_type": "display_data"
    },
    {
     "data": {
      "application/vnd.jupyter.widget-view+json": {
       "model_id": "e9ecd3e9199e4b169b775202c0d3943f",
       "version_major": 2,
       "version_minor": 0
      },
      "text/plain": [
       "Epoch 64/100:   0%|          | 0/619 [00:00<?, ?it/s]"
      ]
     },
     "metadata": {},
     "output_type": "display_data"
    },
    {
     "data": {
      "application/vnd.jupyter.widget-view+json": {
       "model_id": "2522a14c24794aa99aee550f0e608d55",
       "version_major": 2,
       "version_minor": 0
      },
      "text/plain": [
       "Epoch 65/100:   0%|          | 0/619 [00:00<?, ?it/s]"
      ]
     },
     "metadata": {},
     "output_type": "display_data"
    },
    {
     "name": "stdout",
     "output_type": "stream",
     "text": [
      "Generating sample images for epoch 65...\n"
     ]
    },
    {
     "data": {
      "application/vnd.jupyter.widget-view+json": {
       "model_id": "ec53fe17afee42318810a34b4551a1ce",
       "version_major": 2,
       "version_minor": 0
      },
      "text/plain": [
       "Denoising:   0%|          | 0/51 [00:00<?, ?it/s]"
      ]
     },
     "metadata": {},
     "output_type": "display_data"
    },
    {
     "name": "stdout",
     "output_type": "stream",
     "text": [
      "Saved sample grid to /content/drive/MyDrive/NeuroVision/diffusion_reconstructions/run_20250912_171626/samples/epoch_65_classes_hand_blower_bookcase_microphone_crane.png\n"
     ]
    },
    {
     "data": {
      "application/vnd.jupyter.widget-view+json": {
       "model_id": "24dc4d94ad054e77af393f6d4b8deeee",
       "version_major": 2,
       "version_minor": 0
      },
      "text/plain": [
       "Epoch 66/100:   0%|          | 0/619 [00:00<?, ?it/s]"
      ]
     },
     "metadata": {},
     "output_type": "display_data"
    },
    {
     "data": {
      "application/vnd.jupyter.widget-view+json": {
       "model_id": "0ff34d0ba0454e3bbd87d44a13c611a1",
       "version_major": 2,
       "version_minor": 0
      },
      "text/plain": [
       "Epoch 67/100:   0%|          | 0/619 [00:00<?, ?it/s]"
      ]
     },
     "metadata": {},
     "output_type": "display_data"
    },
    {
     "data": {
      "application/vnd.jupyter.widget-view+json": {
       "model_id": "e49eb4ec9e944d0bacbdc55e5ebee55c",
       "version_major": 2,
       "version_minor": 0
      },
      "text/plain": [
       "Epoch 68/100:   0%|          | 0/619 [00:00<?, ?it/s]"
      ]
     },
     "metadata": {},
     "output_type": "display_data"
    },
    {
     "data": {
      "application/vnd.jupyter.widget-view+json": {
       "model_id": "ba356d5dce5f4c3f9d5349de5580d3be",
       "version_major": 2,
       "version_minor": 0
      },
      "text/plain": [
       "Epoch 69/100:   0%|          | 0/619 [00:00<?, ?it/s]"
      ]
     },
     "metadata": {},
     "output_type": "display_data"
    },
    {
     "data": {
      "application/vnd.jupyter.widget-view+json": {
       "model_id": "76a28bb96e5040168b03eee295be6d62",
       "version_major": 2,
       "version_minor": 0
      },
      "text/plain": [
       "Epoch 70/100:   0%|          | 0/619 [00:00<?, ?it/s]"
      ]
     },
     "metadata": {},
     "output_type": "display_data"
    },
    {
     "name": "stdout",
     "output_type": "stream",
     "text": [
      "Generating sample images for epoch 70...\n"
     ]
    },
    {
     "data": {
      "application/vnd.jupyter.widget-view+json": {
       "model_id": "065949336e22409e86f04ab5d2b15e14",
       "version_major": 2,
       "version_minor": 0
      },
      "text/plain": [
       "Denoising:   0%|          | 0/51 [00:00<?, ?it/s]"
      ]
     },
     "metadata": {},
     "output_type": "display_data"
    },
    {
     "name": "stdout",
     "output_type": "stream",
     "text": [
      "Saved sample grid to /content/drive/MyDrive/NeuroVision/diffusion_reconstructions/run_20250912_171626/samples/epoch_70_classes_goose_cab_traffic_light_vacuum.png\n"
     ]
    },
    {
     "data": {
      "application/vnd.jupyter.widget-view+json": {
       "model_id": "e1e85212c7224f3a900ef32cdd8279c2",
       "version_major": 2,
       "version_minor": 0
      },
      "text/plain": [
       "Epoch 71/100:   0%|          | 0/619 [00:00<?, ?it/s]"
      ]
     },
     "metadata": {},
     "output_type": "display_data"
    },
    {
     "data": {
      "application/vnd.jupyter.widget-view+json": {
       "model_id": "b4673123a7084f8c8a9a4863c804a86d",
       "version_major": 2,
       "version_minor": 0
      },
      "text/plain": [
       "Epoch 72/100:   0%|          | 0/619 [00:00<?, ?it/s]"
      ]
     },
     "metadata": {},
     "output_type": "display_data"
    },
    {
     "data": {
      "application/vnd.jupyter.widget-view+json": {
       "model_id": "563cf0bd3ec947fdb8e5dbf48cb0444a",
       "version_major": 2,
       "version_minor": 0
      },
      "text/plain": [
       "Epoch 73/100:   0%|          | 0/619 [00:00<?, ?it/s]"
      ]
     },
     "metadata": {},
     "output_type": "display_data"
    },
    {
     "data": {
      "application/vnd.jupyter.widget-view+json": {
       "model_id": "19b4f87159a44add9955286b1ef776f5",
       "version_major": 2,
       "version_minor": 0
      },
      "text/plain": [
       "Epoch 74/100:   0%|          | 0/619 [00:00<?, ?it/s]"
      ]
     },
     "metadata": {},
     "output_type": "display_data"
    },
    {
     "data": {
      "application/vnd.jupyter.widget-view+json": {
       "model_id": "8c7b324cb48c4430ae56ffd9c2d7b940",
       "version_major": 2,
       "version_minor": 0
      },
      "text/plain": [
       "Epoch 75/100:   0%|          | 0/619 [00:00<?, ?it/s]"
      ]
     },
     "metadata": {},
     "output_type": "display_data"
    },
    {
     "name": "stdout",
     "output_type": "stream",
     "text": [
      "Generating sample images for epoch 75...\n"
     ]
    },
    {
     "data": {
      "application/vnd.jupyter.widget-view+json": {
       "model_id": "f89941ae405448758dff694d376f063c",
       "version_major": 2,
       "version_minor": 0
      },
      "text/plain": [
       "Denoising:   0%|          | 0/51 [00:00<?, ?it/s]"
      ]
     },
     "metadata": {},
     "output_type": "display_data"
    },
    {
     "name": "stdout",
     "output_type": "stream",
     "text": [
      "Saved sample grid to /content/drive/MyDrive/NeuroVision/diffusion_reconstructions/run_20250912_171626/samples/epoch_75_classes_head_cabbage_snakes_hand_blower_airliner.png\n"
     ]
    },
    {
     "data": {
      "application/vnd.jupyter.widget-view+json": {
       "model_id": "84ead5cd1de04238a850010a873d7e6f",
       "version_major": 2,
       "version_minor": 0
      },
      "text/plain": [
       "Epoch 76/100:   0%|          | 0/619 [00:00<?, ?it/s]"
      ]
     },
     "metadata": {},
     "output_type": "display_data"
    },
    {
     "data": {
      "application/vnd.jupyter.widget-view+json": {
       "model_id": "010417bad6784cc2b76b33ceea245158",
       "version_major": 2,
       "version_minor": 0
      },
      "text/plain": [
       "Epoch 77/100:   0%|          | 0/619 [00:00<?, ?it/s]"
      ]
     },
     "metadata": {},
     "output_type": "display_data"
    },
    {
     "data": {
      "application/vnd.jupyter.widget-view+json": {
       "model_id": "c2182d56a9774724b249b8ebfbb2fa3e",
       "version_major": 2,
       "version_minor": 0
      },
      "text/plain": [
       "Epoch 78/100:   0%|          | 0/619 [00:00<?, ?it/s]"
      ]
     },
     "metadata": {},
     "output_type": "display_data"
    },
    {
     "data": {
      "application/vnd.jupyter.widget-view+json": {
       "model_id": "3e8532d068004f88a1a55beb48f29961",
       "version_major": 2,
       "version_minor": 0
      },
      "text/plain": [
       "Epoch 79/100:   0%|          | 0/619 [00:00<?, ?it/s]"
      ]
     },
     "metadata": {},
     "output_type": "display_data"
    },
    {
     "data": {
      "application/vnd.jupyter.widget-view+json": {
       "model_id": "edc018e47ed54d2fa878fdd464e56ac1",
       "version_major": 2,
       "version_minor": 0
      },
      "text/plain": [
       "Epoch 80/100:   0%|          | 0/619 [00:00<?, ?it/s]"
      ]
     },
     "metadata": {},
     "output_type": "display_data"
    },
    {
     "name": "stdout",
     "output_type": "stream",
     "text": [
      "Generating sample images for epoch 80...\n"
     ]
    },
    {
     "data": {
      "application/vnd.jupyter.widget-view+json": {
       "model_id": "5dfbbe823c164f63a646a4b5c3c347c1",
       "version_major": 2,
       "version_minor": 0
      },
      "text/plain": [
       "Denoising:   0%|          | 0/51 [00:00<?, ?it/s]"
      ]
     },
     "metadata": {},
     "output_type": "display_data"
    },
    {
     "name": "stdout",
     "output_type": "stream",
     "text": [
      "Saved sample grid to /content/drive/MyDrive/NeuroVision/diffusion_reconstructions/run_20250912_171626/samples/epoch_80_classes_mouse_computer_keyboard_violin_vulture.png\n"
     ]
    },
    {
     "data": {
      "application/vnd.jupyter.widget-view+json": {
       "model_id": "6776545c57884887b811bbd14c101f56",
       "version_major": 2,
       "version_minor": 0
      },
      "text/plain": [
       "Epoch 81/100:   0%|          | 0/619 [00:00<?, ?it/s]"
      ]
     },
     "metadata": {},
     "output_type": "display_data"
    },
    {
     "data": {
      "application/vnd.jupyter.widget-view+json": {
       "model_id": "84a679e5e9274d61b9be81b2941753bf",
       "version_major": 2,
       "version_minor": 0
      },
      "text/plain": [
       "Epoch 82/100:   0%|          | 0/619 [00:00<?, ?it/s]"
      ]
     },
     "metadata": {},
     "output_type": "display_data"
    },
    {
     "data": {
      "application/vnd.jupyter.widget-view+json": {
       "model_id": "1aa09cf3ec31485ca1111be5be1ea1d3",
       "version_major": 2,
       "version_minor": 0
      },
      "text/plain": [
       "Epoch 83/100:   0%|          | 0/619 [00:00<?, ?it/s]"
      ]
     },
     "metadata": {},
     "output_type": "display_data"
    },
    {
     "data": {
      "application/vnd.jupyter.widget-view+json": {
       "model_id": "a9688e7251ad4214bbed9209bdc7e141",
       "version_major": 2,
       "version_minor": 0
      },
      "text/plain": [
       "Epoch 84/100:   0%|          | 0/619 [00:00<?, ?it/s]"
      ]
     },
     "metadata": {},
     "output_type": "display_data"
    },
    {
     "data": {
      "application/vnd.jupyter.widget-view+json": {
       "model_id": "3b760d0df751470ea0c6b23a21b6a22d",
       "version_major": 2,
       "version_minor": 0
      },
      "text/plain": [
       "Epoch 85/100:   0%|          | 0/619 [00:00<?, ?it/s]"
      ]
     },
     "metadata": {},
     "output_type": "display_data"
    },
    {
     "name": "stdout",
     "output_type": "stream",
     "text": [
      "Generating sample images for epoch 85...\n"
     ]
    },
    {
     "data": {
      "application/vnd.jupyter.widget-view+json": {
       "model_id": "c109d9d9ca2c4449b4a290d3fbafa688",
       "version_major": 2,
       "version_minor": 0
      },
      "text/plain": [
       "Denoising:   0%|          | 0/51 [00:00<?, ?it/s]"
      ]
     },
     "metadata": {},
     "output_type": "display_data"
    },
    {
     "name": "stdout",
     "output_type": "stream",
     "text": [
      "Saved sample grid to /content/drive/MyDrive/NeuroVision/diffusion_reconstructions/run_20250912_171626/samples/epoch_85_classes_lion_lemon_red_fox_crash_helmet.png\n"
     ]
    },
    {
     "data": {
      "application/vnd.jupyter.widget-view+json": {
       "model_id": "4e651e5eda0242b28bbfc92a60fed929",
       "version_major": 2,
       "version_minor": 0
      },
      "text/plain": [
       "Epoch 86/100:   0%|          | 0/619 [00:00<?, ?it/s]"
      ]
     },
     "metadata": {},
     "output_type": "display_data"
    },
    {
     "data": {
      "application/vnd.jupyter.widget-view+json": {
       "model_id": "8ae415da21b344998713e8ad7569c6a4",
       "version_major": 2,
       "version_minor": 0
      },
      "text/plain": [
       "Epoch 87/100:   0%|          | 0/619 [00:00<?, ?it/s]"
      ]
     },
     "metadata": {},
     "output_type": "display_data"
    },
    {
     "data": {
      "application/vnd.jupyter.widget-view+json": {
       "model_id": "aad9af0d2d8e40fdbdec04d06ecaecbf",
       "version_major": 2,
       "version_minor": 0
      },
      "text/plain": [
       "Epoch 88/100:   0%|          | 0/619 [00:00<?, ?it/s]"
      ]
     },
     "metadata": {},
     "output_type": "display_data"
    },
    {
     "data": {
      "application/vnd.jupyter.widget-view+json": {
       "model_id": "10dbdad7d4d441ebaf66ec2c6e7018bf",
       "version_major": 2,
       "version_minor": 0
      },
      "text/plain": [
       "Epoch 89/100:   0%|          | 0/619 [00:00<?, ?it/s]"
      ]
     },
     "metadata": {},
     "output_type": "display_data"
    },
    {
     "data": {
      "application/vnd.jupyter.widget-view+json": {
       "model_id": "5bc90b19916840e5949ef695e9058aa6",
       "version_major": 2,
       "version_minor": 0
      },
      "text/plain": [
       "Epoch 90/100:   0%|          | 0/619 [00:00<?, ?it/s]"
      ]
     },
     "metadata": {},
     "output_type": "display_data"
    },
    {
     "name": "stdout",
     "output_type": "stream",
     "text": [
      "Generating sample images for epoch 90...\n"
     ]
    },
    {
     "data": {
      "application/vnd.jupyter.widget-view+json": {
       "model_id": "99a1997733be4fc585edb64ef57db708",
       "version_major": 2,
       "version_minor": 0
      },
      "text/plain": [
       "Denoising:   0%|          | 0/51 [00:00<?, ?it/s]"
      ]
     },
     "metadata": {},
     "output_type": "display_data"
    },
    {
     "name": "stdout",
     "output_type": "stream",
     "text": [
      "Saved sample grid to /content/drive/MyDrive/NeuroVision/diffusion_reconstructions/run_20250912_171626/samples/epoch_90_classes_sports_car_table_lamp_toaster_coffee_mug.png\n"
     ]
    },
    {
     "data": {
      "application/vnd.jupyter.widget-view+json": {
       "model_id": "eb00e653e22d4afcb2538fa003c38d75",
       "version_major": 2,
       "version_minor": 0
      },
      "text/plain": [
       "Epoch 91/100:   0%|          | 0/619 [00:00<?, ?it/s]"
      ]
     },
     "metadata": {},
     "output_type": "display_data"
    },
    {
     "data": {
      "application/vnd.jupyter.widget-view+json": {
       "model_id": "16f2ad55177945c2a52381f67a210cfe",
       "version_major": 2,
       "version_minor": 0
      },
      "text/plain": [
       "Epoch 92/100:   0%|          | 0/619 [00:00<?, ?it/s]"
      ]
     },
     "metadata": {},
     "output_type": "display_data"
    },
    {
     "data": {
      "application/vnd.jupyter.widget-view+json": {
       "model_id": "9844c4217f074477a6fc6eaa2a65d919",
       "version_major": 2,
       "version_minor": 0
      },
      "text/plain": [
       "Epoch 93/100:   0%|          | 0/619 [00:00<?, ?it/s]"
      ]
     },
     "metadata": {},
     "output_type": "display_data"
    },
    {
     "data": {
      "application/vnd.jupyter.widget-view+json": {
       "model_id": "a1b01cbdf34c447d80defd030859a7d5",
       "version_major": 2,
       "version_minor": 0
      },
      "text/plain": [
       "Epoch 94/100:   0%|          | 0/619 [00:00<?, ?it/s]"
      ]
     },
     "metadata": {},
     "output_type": "display_data"
    },
    {
     "data": {
      "application/vnd.jupyter.widget-view+json": {
       "model_id": "bd2f7396d9254bbaa6ee8df11d8cec34",
       "version_major": 2,
       "version_minor": 0
      },
      "text/plain": [
       "Epoch 95/100:   0%|          | 0/619 [00:00<?, ?it/s]"
      ]
     },
     "metadata": {},
     "output_type": "display_data"
    },
    {
     "name": "stdout",
     "output_type": "stream",
     "text": [
      "Generating sample images for epoch 95...\n"
     ]
    },
    {
     "data": {
      "application/vnd.jupyter.widget-view+json": {
       "model_id": "7dd243c9c48e47de85957e51a2d80dc7",
       "version_major": 2,
       "version_minor": 0
      },
      "text/plain": [
       "Denoising:   0%|          | 0/51 [00:00<?, ?it/s]"
      ]
     },
     "metadata": {},
     "output_type": "display_data"
    },
    {
     "name": "stdout",
     "output_type": "stream",
     "text": [
      "Saved sample grid to /content/drive/MyDrive/NeuroVision/diffusion_reconstructions/run_20250912_171626/samples/epoch_95_classes_goose_vacuum_hammer_screwdriver.png\n"
     ]
    },
    {
     "data": {
      "application/vnd.jupyter.widget-view+json": {
       "model_id": "dd05977dd88c42988edf60f211f38fcc",
       "version_major": 2,
       "version_minor": 0
      },
      "text/plain": [
       "Epoch 96/100:   0%|          | 0/619 [00:00<?, ?it/s]"
      ]
     },
     "metadata": {},
     "output_type": "display_data"
    },
    {
     "data": {
      "application/vnd.jupyter.widget-view+json": {
       "model_id": "c6cf7b84a3084df4927eaee2a683e8ad",
       "version_major": 2,
       "version_minor": 0
      },
      "text/plain": [
       "Epoch 97/100:   0%|          | 0/619 [00:00<?, ?it/s]"
      ]
     },
     "metadata": {},
     "output_type": "display_data"
    },
    {
     "data": {
      "application/vnd.jupyter.widget-view+json": {
       "model_id": "10581b68e79a4405a9443a976df5d40c",
       "version_major": 2,
       "version_minor": 0
      },
      "text/plain": [
       "Epoch 98/100:   0%|          | 0/619 [00:00<?, ?it/s]"
      ]
     },
     "metadata": {},
     "output_type": "display_data"
    },
    {
     "data": {
      "application/vnd.jupyter.widget-view+json": {
       "model_id": "1781e960ba1f49459713985a01c89539",
       "version_major": 2,
       "version_minor": 0
      },
      "text/plain": [
       "Epoch 99/100:   0%|          | 0/619 [00:00<?, ?it/s]"
      ]
     },
     "metadata": {},
     "output_type": "display_data"
    },
    {
     "data": {
      "application/vnd.jupyter.widget-view+json": {
       "model_id": "72b59abc3f99479c8ba9153c3548fdac",
       "version_major": 2,
       "version_minor": 0
      },
      "text/plain": [
       "Epoch 100/100:   0%|          | 0/619 [00:00<?, ?it/s]"
      ]
     },
     "metadata": {},
     "output_type": "display_data"
    },
    {
     "name": "stdout",
     "output_type": "stream",
     "text": [
      "Generating sample images for epoch 100...\n"
     ]
    },
    {
     "data": {
      "application/vnd.jupyter.widget-view+json": {
       "model_id": "09ab564921da4af88311b627b5c4d516",
       "version_major": 2,
       "version_minor": 0
      },
      "text/plain": [
       "Denoising:   0%|          | 0/51 [00:00<?, ?it/s]"
      ]
     },
     "metadata": {},
     "output_type": "display_data"
    },
    {
     "name": "stdout",
     "output_type": "stream",
     "text": [
      "Saved sample grid to /content/drive/MyDrive/NeuroVision/diffusion_reconstructions/run_20250912_171626/samples/epoch_100_classes_Indian_elephant_bullet_train_school_bus_soup_bowl.png\n",
      "--- Training Complete ---\n"
     ]
    }
   ],
   "source": [
    "import os\n",
    "import torch\n",
    "import timm\n",
    "from pathlib import Path\n",
    "from tqdm.auto import tqdm\n",
    "from torch.utils.data import Dataset, DataLoader\n",
    "from torchvision.transforms import v2 as transforms\n",
    "from PIL import Image\n",
    "import random\n",
    "import torch.nn.functional as F\n",
    "from diffusers import AutoencoderKL, UNet2DConditionModel, PNDMScheduler\n",
    "import accelerate\n",
    "import torch.nn as nn\n",
    "from datetime import datetime\n",
    "from torchvision.utils import make_grid\n",
    "\n",
    "# ==============================================================================\n",
    "# --- 1. CONFIGURATION for Guided Diffusion ---\n",
    "# ==============================================================================\n",
    "class CONFIG_DIFFUSION:\n",
    "    # --- UPDATE THESE PATHS ---\n",
    "    CONTRASTIVE_ENCODER_PATH = '/content/drive/MyDrive/NeuroVision/contrastive_outputs/run_20250912_150114/contrastive_eeg_encoder_best.pth' #<-- UPDATE THIS!\n",
    "    CWT_SCALOGRAMS_ROOT = '/content/cwt_scalograms_by_class/train'\n",
    "    IMAGE_ROOT_DIR = '/content/gan_imagenet'\n",
    "    STATS_MEAN_PATH = '/content/cwt_scalograms_by_class/mean.pt'\n",
    "    STATS_STD_PATH = '/content/cwt_scalograms_by_class/std.pt'\n",
    "\n",
    "    # --- Output Paths ---\n",
    "    OUTPUT_DIR = '/content/drive/MyDrive/NeuroVision/diffusion_reconstructions'\n",
    "\n",
    "    # --- Hyperparameters ---\n",
    "    LR = 1e-4\n",
    "    BATCH_SIZE = 4 # Reduced to prevent memory issues\n",
    "    NUM_EPOCHS = 100\n",
    "    IMG_SIZE = 256\n",
    "    EEG_CHANNELS = 4\n",
    "    ENCODER_DIM = 192\n",
    "\n",
    "    # --- Diffusion Model Settings ---\n",
    "    MODEL_ID = \"CompVis/stable-diffusion-v1-4\"\n",
    "    UNET_CROSS_ATTENTION_DIM = 768\n",
    "    NUM_INFERENCE_STEPS = 50 # Number of steps for generating sample images\n",
    "\n",
    "# ==============================================================================\n",
    "# --- 2. DATASET CLASS (Unchanged) ---\n",
    "# ==============================================================================\n",
    "class EEGImageDiffusionDataset(Dataset):\n",
    "    def __init__(self, eeg_root_dir, image_root_dir, eeg_transform, image_transform):\n",
    "        self.eeg_transform = eeg_transform\n",
    "        self.image_transform = image_transform\n",
    "        eeg_root_path = Path(eeg_root_dir)\n",
    "        image_root_path = Path(image_root_dir)\n",
    "        self.samples = self._create_samples(eeg_root_path, image_root_path)\n",
    "        self.class_to_eeg_paths = {d.name: [str(p) for p in (eeg_root_path/d.name).glob('*.pt')] for d in eeg_root_path.iterdir() if d.is_dir()}\n",
    "\n",
    "    def _create_samples(self, eeg_root, image_root):\n",
    "        samples = []\n",
    "        image_map = {d.name: [str(p) for p in d.glob('*.*')] for d in image_root.iterdir() if d.is_dir()}\n",
    "        for class_dir in eeg_root.iterdir():\n",
    "            if class_dir.is_dir() and class_dir.name in image_map:\n",
    "                image_paths = image_map[class_dir.name]\n",
    "                for eeg_file in class_dir.glob('*.pt'):\n",
    "                    samples.append({'eeg_path': str(eeg_file), 'image_path': random.choice(image_paths)})\n",
    "        return samples\n",
    "\n",
    "    def __len__(self):\n",
    "        return len(self.samples)\n",
    "\n",
    "    def __getitem__(self, idx):\n",
    "        sample = self.samples[idx]\n",
    "        eeg_tensor = torch.load(sample['eeg_path'])\n",
    "        eeg_tensor = self.eeg_transform(eeg_tensor)\n",
    "        image = Image.open(sample['image_path']).convert(\"RGB\")\n",
    "        image_tensor = self.image_transform(image)\n",
    "        return eeg_tensor, image_tensor\n",
    "\n",
    "# ==============================================================================\n",
    "# --- 3. MAIN TRAINING SCRIPT (CORRECTED) ---\n",
    "# ==============================================================================\n",
    "def run_diffusion_training(config):\n",
    "    # --- Setup ---\n",
    "    timestamp = datetime.now().strftime('%Y%m%d_%H%M%S')\n",
    "    output_dir = os.path.join(config.OUTPUT_DIR, f'run_{timestamp}')\n",
    "    samples_dir = os.path.join(output_dir, 'samples')\n",
    "    model_dir = os.path.join(output_dir, 'model')\n",
    "    os.makedirs(samples_dir, exist_ok=True)\n",
    "    os.makedirs(model_dir, exist_ok=True)\n",
    "\n",
    "    # --- Load Models ---\n",
    "    print(\"1. Loading all models...\")\n",
    "    eeg_encoder = timm.create_model('vit_tiny_patch16_224', in_chans=config.EEG_CHANNELS, num_classes=0)\n",
    "    eeg_encoder.load_state_dict(torch.load(config.CONTRASTIVE_ENCODER_PATH, map_location='cpu'))\n",
    "\n",
    "    vae = AutoencoderKL.from_pretrained(config.MODEL_ID, subfolder=\"vae\")\n",
    "    unet = UNet2DConditionModel.from_pretrained(config.MODEL_ID, subfolder=\"unet\")\n",
    "    noise_scheduler = PNDMScheduler.from_pretrained(config.MODEL_ID, subfolder=\"scheduler\")\n",
    "\n",
    "    eeg_projection = nn.Linear(config.ENCODER_DIM, config.UNET_CROSS_ATTENTION_DIM)\n",
    "\n",
    "    vae.requires_grad_(False)\n",
    "    eeg_encoder.requires_grad_(False)\n",
    "    unet.requires_grad_(False)\n",
    "    for name, param in unet.named_parameters():\n",
    "        if \"attn2\" in name:\n",
    "            param.requires_grad_(True)\n",
    "\n",
    "    # --- Prepare Data ---\n",
    "    print(\"2. Preparing dataset and dataloader...\")\n",
    "    mean = torch.load(config.STATS_MEAN_PATH)\n",
    "    std = torch.load(config.STATS_STD_PATH)\n",
    "\n",
    "    eeg_transform = transforms.Compose([\n",
    "        transforms.ToDtype(torch.float32, scale=False),\n",
    "        transforms.Resize((224, 224), antialias=True),\n",
    "        transforms.Normalize(mean=mean.tolist(), std=std.tolist())\n",
    "    ])\n",
    "    image_transform = transforms.Compose([\n",
    "        transforms.Resize(config.IMG_SIZE),\n",
    "        transforms.CenterCrop(config.IMG_SIZE),\n",
    "        transforms.ToTensor(),\n",
    "        transforms.Normalize([0.5], [0.5]),\n",
    "    ])\n",
    "\n",
    "    dataset = EEGImageDiffusionDataset(config.CWT_SCALOGRAMS_ROOT, config.IMAGE_ROOT_DIR, eeg_transform, image_transform)\n",
    "    loader = DataLoader(dataset, batch_size=config.BATCH_SIZE, shuffle=True, num_workers=2)\n",
    "\n",
    "    # --- Prepare for Training ---\n",
    "    print(\"3. Setting up optimizer and accelerator...\")\n",
    "    trainable_params = list(eeg_projection.parameters()) + [p for n, p in unet.named_parameters() if p.requires_grad]\n",
    "    optimizer = torch.optim.AdamW(trainable_params, lr=config.LR)\n",
    "\n",
    "    accelerator = accelerate.Accelerator()\n",
    "    unet, eeg_projection, optimizer, loader = accelerator.prepare(unet, eeg_projection, optimizer, loader)\n",
    "    eeg_encoder.to(accelerator.device)\n",
    "    vae.to(accelerator.device)\n",
    "\n",
    "    # --- Training Loop ---\n",
    "    print(\"\\n--- Starting Diffusion Model Fine-Tuning ---\")\n",
    "    for epoch in range(config.NUM_EPOCHS):\n",
    "        unet.train()\n",
    "        eeg_projection.train()\n",
    "        progress_bar = tqdm(loader, desc=f\"Epoch {epoch+1}/{config.NUM_EPOCHS}\")\n",
    "\n",
    "        for eeg_tensors, image_tensors in progress_bar:\n",
    "            with torch.no_grad():\n",
    "                latents = vae.encode(image_tensors).latent_dist.sample() * vae.config.scaling_factor\n",
    "                eeg_features = eeg_encoder.forward_features(eeg_tensors)[:, 0]\n",
    "\n",
    "            eeg_embeddings = eeg_projection(eeg_features)\n",
    "            eeg_embeddings = eeg_embeddings.unsqueeze(1)\n",
    "\n",
    "            noise = torch.randn_like(latents)\n",
    "            bsz = latents.shape[0]\n",
    "            timesteps = torch.randint(0, noise_scheduler.config.num_train_timesteps, (bsz,), device=latents.device).long()\n",
    "            noisy_latents = noise_scheduler.add_noise(latents, noise, timesteps)\n",
    "\n",
    "            noise_pred = unet(noisy_latents, timesteps, encoder_hidden_states=eeg_embeddings).sample\n",
    "\n",
    "            loss = F.mse_loss(noise_pred, noise)\n",
    "\n",
    "            accelerator.backward(loss)\n",
    "            optimizer.step()\n",
    "            optimizer.zero_grad()\n",
    "\n",
    "            progress_bar.set_postfix(Loss=f\"{loss.item():.4f}\")\n",
    "\n",
    "        # --- Generate and Save Sample Images ---\n",
    "        if (epoch + 1) % 5 == 0:\n",
    "            print(f\"Generating sample images for epoch {epoch+1}...\")\n",
    "            unet.eval()\n",
    "            eeg_projection.eval()\n",
    "            with torch.no_grad():\n",
    "                fixed_eeg_tensors = []\n",
    "                prompt_classes = random.sample(list(dataset.class_to_eeg_paths.keys()), k=min(4, len(dataset.class_to_eeg_paths)))\n",
    "                for class_name in prompt_classes:\n",
    "                    eeg_path = random.choice(dataset.class_to_eeg_paths[class_name])\n",
    "                    eeg_tensor = torch.load(eeg_path)\n",
    "                    fixed_eeg_tensors.append(eeg_transform(eeg_tensor))\n",
    "\n",
    "                fixed_eeg_tensors = torch.stack(fixed_eeg_tensors).to(accelerator.device)\n",
    "                fixed_eeg_features = eeg_encoder.forward_features(fixed_eeg_tensors)[:, 0]\n",
    "\n",
    "                fixed_eeg_embeddings = eeg_projection(fixed_eeg_features)\n",
    "                fixed_eeg_embeddings = fixed_eeg_embeddings.unsqueeze(1)\n",
    "\n",
    "                latents = torch.randn((fixed_eeg_embeddings.shape[0], unet.config.in_channels, config.IMG_SIZE // 8, config.IMG_SIZE // 8), device=accelerator.device)\n",
    "\n",
    "                # <-- THE FIX IS HERE: Initialize the scheduler's timesteps for inference\n",
    "                noise_scheduler.set_timesteps(config.NUM_INFERENCE_STEPS)\n",
    "\n",
    "                for t in tqdm(noise_scheduler.timesteps, desc=\"Denoising\"):\n",
    "                    noise_pred = unet(latents, t, encoder_hidden_states=fixed_eeg_embeddings).sample\n",
    "                    latents = noise_scheduler.step(noise_pred, t, latents).prev_sample\n",
    "\n",
    "                images = vae.decode(latents / vae.config.scaling_factor).sample\n",
    "                images = (images / 2 + 0.5).clamp(0, 1)\n",
    "\n",
    "                grid = transforms.ToPILImage()(make_grid(images))\n",
    "                # Make class names file-system safe\n",
    "                safe_class_names = [name.replace(\" \", \"_\").replace(\"/\", \"_\") for name in prompt_classes]\n",
    "                save_path = os.path.join(samples_dir, f\"epoch_{epoch+1}_classes_{'_'.join(safe_class_names)}.png\")\n",
    "                grid.save(save_path)\n",
    "                print(f\"Saved sample grid to {save_path}\")\n",
    "\n",
    "    print(\"--- Training Complete ---\")\n",
    "\n",
    "# ==============================================================================\n",
    "# --- 4. EXECUTION ---\n",
    "# ==============================================================================\n",
    "if __name__ == '__main__':\n",
    "    diff_config = CONFIG_DIFFUSION()\n",
    "    run_diffusion_training(diff_config)"
   ]
  },
  {
   "cell_type": "code",
   "execution_count": null,
   "metadata": {},
   "outputs": [],
   "source": []
  }
 ],
 "metadata": {
  "language_info": {
   "name": "python"
  }
 },
 "nbformat": 4,
 "nbformat_minor": 0
}

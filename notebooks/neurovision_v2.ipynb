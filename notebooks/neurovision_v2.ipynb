{
 "cells": [
  {
   "cell_type": "markdown",
   "id": "58f68d0c-a42d-4ede-a02d-d2ea6dbf9275",
   "metadata": {
    "id": "58f68d0c-a42d-4ede-a02d-d2ea6dbf9275"
   },
   "source": [
    "# NeuroVision"
   ]
  },
  {
   "cell_type": "markdown",
   "id": "7162949c-6fe9-43c2-a775-7dbf886ab75a",
   "metadata": {
    "id": "7162949c-6fe9-43c2-a775-7dbf886ab75a",
    "jp-MarkdownHeadingCollapsed": true
   },
   "source": [
    "## Dataset Preparation"
   ]
  },
  {
   "cell_type": "code",
   "execution_count": 4,
   "id": "6fce1e7a-a9dd-47e5-970b-682938b29ae3",
   "metadata": {
    "executionInfo": {
     "elapsed": 2285,
     "status": "ok",
     "timestamp": 1756290573737,
     "user": {
      "displayName": "Ajinkya Tamhankar",
      "userId": "13339717589125783649"
     },
     "user_tz": -330
    },
    "id": "6fce1e7a-a9dd-47e5-970b-682938b29ae3"
   },
   "outputs": [],
   "source": [
    "import numpy as np\n",
    "import pandas as pd\n",
    "import matplotlib.pyplot as plt\n",
    "import seaborn as sns\n",
    "import os\n",
    "import shutil"
   ]
  },
  {
   "cell_type": "code",
   "execution_count": 5,
   "id": "9fbc4228-6ab9-4fb4-8dbc-13d2b07e5d17",
   "metadata": {
    "executionInfo": {
     "elapsed": 27,
     "status": "ok",
     "timestamp": 1756290573739,
     "user": {
      "displayName": "Ajinkya Tamhankar",
      "userId": "13339717589125783649"
     },
     "user_tz": -330
    },
    "id": "9fbc4228-6ab9-4fb4-8dbc-13d2b07e5d17"
   },
   "outputs": [],
   "source": [
    "# function to read the dir contents of dataset folder and segregate them\n",
    "# into n separate classes.\n",
    "def create_dataset_folders(metadata_file:str, csv_dir:str, output_dir:str):\n",
    "    class_id_to_folder = {}\n",
    "\n",
    "    with open(metadata_file, 'r', encoding='utf-8') as f:\n",
    "        for line in f:\n",
    "            parts = line.strip().split('\\t')\n",
    "\n",
    "            if len(parts) < 3:\n",
    "                continue\n",
    "\n",
    "            label_str, _, class_id = parts\n",
    "            # print(label_str, class_id)\n",
    "            first_label = label_str.split(',')[0].strip()\n",
    "            # print(first_label)\n",
    "            class_id_to_folder[class_id] = first_label\n",
    "\n",
    "        count = 0\n",
    "        for filename in os.listdir(csv_dir):\n",
    "            if not filename.endswith('.csv'):\n",
    "                continue\n",
    "\n",
    "            class_id = filename.split('_')[3]\n",
    "\n",
    "            folder_name = class_id_to_folder.get(class_id)\n",
    "            print(folder_name)\n",
    "\n",
    "            if not folder_name:\n",
    "                print(f'Unknown class id: {class_id}')\n",
    "                continue\n",
    "\n",
    "            safe_folder = folder_name.replace('/', '_').replace('\\\\', '_').strip()\n",
    "\n",
    "            dest_folder = os.path.join(output_dir, safe_folder)\n",
    "            os.makedirs(dest_folder, exist_ok=True)\n",
    "\n",
    "            src_path = os.path.join(csv_dir, filename)\n",
    "            dst_path = os.path.join(dest_folder, filename)\n",
    "\n",
    "            # print(f\"Move: {src_path} to {dst_path}\")\n",
    "            count+=1\n",
    "            print(count)\n",
    "            shutil.copy(src_path, dst_path)\n"
   ]
  },
  {
   "cell_type": "code",
   "execution_count": 6,
   "id": "4ee0ee6e-277d-43c4-8269-88ef54a61c04",
   "metadata": {
    "executionInfo": {
     "elapsed": 17,
     "status": "ok",
     "timestamp": 1756290573741,
     "user": {
      "displayName": "Ajinkya Tamhankar",
      "userId": "13339717589125783649"
     },
     "user_tz": -330
    },
    "id": "4ee0ee6e-277d-43c4-8269-88ef54a61c04",
    "scrolled": true
   },
   "outputs": [],
   "source": [
    "# create_dataset_folders('../data/WordReport-v1.04.txt',\n",
    "#                        '../data/MindBigData-Imagenet',\n",
    "#                        '../data/Segregated_Dataset')"
   ]
  },
  {
   "cell_type": "code",
   "execution_count": 7,
   "id": "dcc0b3cc-e26c-4823-8bd0-d3904f696b4e",
   "metadata": {
    "executionInfo": {
     "elapsed": 15,
     "status": "ok",
     "timestamp": 1756290573747,
     "user": {
      "displayName": "Ajinkya Tamhankar",
      "userId": "13339717589125783649"
     },
     "user_tz": -330
    },
    "id": "dcc0b3cc-e26c-4823-8bd0-d3904f696b4e"
   },
   "outputs": [],
   "source": [
    "import shutil\n",
    "import json\n",
    "import os\n",
    "\n",
    "def reorganize_dataset(mapping_file, src_root, dst_root, move=False):\n",
    "    with open(mapping_file, 'r') as f:\n",
    "        mapping = json.load(f)\n",
    "\n",
    "    os.makedirs(dst_root, exist_ok=True)\n",
    "\n",
    "    for super_class, sub_classes in mapping.items():\n",
    "        super_cls_dir = os.path.join(dst_root, super_class)\n",
    "        os.makedirs(super_cls_dir, exist_ok=True)\n",
    "\n",
    "        for sub_class in sub_classes:\n",
    "            sub_cls_dir = os.path.join(src_root, sub_class)\n",
    "            if not os.path.exists(sub_cls_dir):\n",
    "                print(f\"[Warning] Sub-class folder not found: {sub_cls_dir}\")\n",
    "                continue\n",
    "\n",
    "            for file_name in os.listdir(sub_cls_dir):\n",
    "                src_file = os.path.join(sub_cls_dir, file_name)\n",
    "                dst_file = os.path.join(super_cls_dir, file_name)\n",
    "\n",
    "                if move:\n",
    "                    shutil.move(src_file, dst_file)\n",
    "\n",
    "                else:\n",
    "                    shutil.copy2(src_file, dst_file)\n",
    "\n",
    "            print(f\"[OK] {'Moved' if move else 'Copied'} {sub_class} -> {super_class}\")\n",
    "    print(\"Dataset reorganization complete!\")\n"
   ]
  },
  {
   "cell_type": "code",
   "execution_count": 8,
   "id": "f93d8148-91b6-47b6-890f-46ed86a39094",
   "metadata": {
    "executionInfo": {
     "elapsed": 25,
     "status": "ok",
     "timestamp": 1756290573776,
     "user": {
      "displayName": "Ajinkya Tamhankar",
      "userId": "13339717589125783649"
     },
     "user_tz": -330
    },
    "id": "f93d8148-91b6-47b6-890f-46ed86a39094",
    "scrolled": true
   },
   "outputs": [],
   "source": [
    "# reorganize_dataset(mapping_file='../data/class_mapping_v2.json',\n",
    "#                    src_root='../data/Segregated_Dataset',\n",
    "#                    dst_root='../data/Class_Combined_Balanced_Dataset',\n",
    "#                    move=False)"
   ]
  },
  {
   "cell_type": "markdown",
   "id": "ff0a4f18-0cbf-451e-be8c-1aa156eff8a7",
   "metadata": {
    "id": "ff0a4f18-0cbf-451e-be8c-1aa156eff8a7",
    "jp-MarkdownHeadingCollapsed": true
   },
   "source": [
    "## Dataset Processing for PyTorch"
   ]
  },
  {
   "cell_type": "code",
   "execution_count": 9,
   "id": "a6f7ba77-0e7b-46c4-9823-85ed74ec2bda",
   "metadata": {
    "executionInfo": {
     "elapsed": 7628,
     "status": "ok",
     "timestamp": 1756290581409,
     "user": {
      "displayName": "Ajinkya Tamhankar",
      "userId": "13339717589125783649"
     },
     "user_tz": -330
    },
    "id": "a6f7ba77-0e7b-46c4-9823-85ed74ec2bda"
   },
   "outputs": [],
   "source": [
    "import torch\n",
    "import os\n",
    "import pandas as pd\n",
    "from torch.utils.data import DataLoader, Dataset, Subset\n",
    "from sklearn.model_selection import train_test_split"
   ]
  },
  {
   "cell_type": "code",
   "execution_count": 10,
   "id": "027fe9b8-8ee9-4f76-b0b0-20f528f20261",
   "metadata": {
    "executionInfo": {
     "elapsed": 18,
     "status": "ok",
     "timestamp": 1756290581434,
     "user": {
      "displayName": "Ajinkya Tamhankar",
      "userId": "13339717589125783649"
     },
     "user_tz": -330
    },
    "id": "027fe9b8-8ee9-4f76-b0b0-20f528f20261"
   },
   "outputs": [],
   "source": [
    "class EEGDataset(Dataset):\n",
    "    def __init__(self, root_dir, samples, transform=None):\n",
    "        self.root_dir = root_dir\n",
    "        self.samples = samples\n",
    "        self.transform = transform\n",
    "\n",
    "    def __len__(self):\n",
    "        return len(self.samples)\n",
    "\n",
    "    def __getitem__(self, idx):\n",
    "        file_path, label = self.samples[idx]\n",
    "\n",
    "        df = pd.read_csv(file_path, header=None, index_col=0)\n",
    "        eeg_data = torch.tensor(df.values, dtype=torch.float32)\n",
    "\n",
    "        if eeg_data.shape[0] < eeg_data.shape[1]:\n",
    "            eeg_data = eeg_data.T\n",
    "\n",
    "        if self.transform:\n",
    "            eeg_data = self.transform(eeg_data)\n",
    "\n",
    "        return eeg_data, label\n"
   ]
  },
  {
   "cell_type": "code",
   "execution_count": 11,
   "id": "cd4342db-dfec-4a91-bd75-848017a33149",
   "metadata": {
    "executionInfo": {
     "elapsed": 8,
     "status": "ok",
     "timestamp": 1756290581450,
     "user": {
      "displayName": "Ajinkya Tamhankar",
      "userId": "13339717589125783649"
     },
     "user_tz": -330
    },
    "id": "cd4342db-dfec-4a91-bd75-848017a33149"
   },
   "outputs": [],
   "source": [
    "def make_datasets(root_dir, val_ratio=0.25, random_state=42):\n",
    "    class_names = os.listdir(root_dir)\n",
    "    class_to_idx = {cls:idx for idx, cls in enumerate(class_names)}\n",
    "\n",
    "    all_samples = []\n",
    "    all_labels = []\n",
    "\n",
    "    for cls in class_names:\n",
    "        cls_dir = os.path.join(root_dir, cls)\n",
    "\n",
    "        for fname in os.listdir(cls_dir):\n",
    "            if fname.endswith('.csv'):\n",
    "                path = os.path.join(cls_dir, fname)\n",
    "                all_samples.append((path, class_to_idx[cls]))\n",
    "                all_labels.append(class_to_idx[cls])\n",
    "\n",
    "    train_idx, val_idx = train_test_split(\n",
    "        list(range(len(all_samples))),\n",
    "        test_size=val_ratio,\n",
    "        random_state=random_state,\n",
    "        stratify=all_labels\n",
    "    )\n",
    "\n",
    "    train_samples = [all_samples[i] for i in train_idx]\n",
    "    val_samples = [all_samples[i] for i in val_idx]\n",
    "\n",
    "    train_dataset = EEGDataset(root_dir, train_samples)\n",
    "    val_dataset = EEGDataset(root_dir, val_samples)\n",
    "\n",
    "    return train_dataset, val_dataset"
   ]
  },
  {
   "cell_type": "code",
   "execution_count": 12,
   "id": "d0696ba6-64c0-427e-895e-0dead7a43cea",
   "metadata": {
    "executionInfo": {
     "elapsed": 13,
     "status": "ok",
     "timestamp": 1756290581469,
     "user": {
      "displayName": "Ajinkya Tamhankar",
      "userId": "13339717589125783649"
     },
     "user_tz": -330
    },
    "id": "d0696ba6-64c0-427e-895e-0dead7a43cea"
   },
   "outputs": [],
   "source": [
    "from torch.nn.utils.rnn import pad_sequence\n",
    "\n",
    "def collate_fn(batch):\n",
    "    sequences, labels = zip(*batch)\n",
    "\n",
    "    lengths = torch.tensor([seq.size(0) for seq in sequences], dtype=torch.long)\n",
    "    padded_seqs = pad_sequence(sequences, batch_first=True)\n",
    "\n",
    "    return padded_seqs, torch.tensor(labels), lengths"
   ]
  },
  {
   "cell_type": "code",
   "execution_count": 13,
   "id": "44d72aba-d8c1-46e8-a055-52cf6ba2cae1",
   "metadata": {
    "executionInfo": {
     "elapsed": 11,
     "status": "ok",
     "timestamp": 1756290581486,
     "user": {
      "displayName": "Ajinkya Tamhankar",
      "userId": "13339717589125783649"
     },
     "user_tz": -330
    },
    "id": "44d72aba-d8c1-46e8-a055-52cf6ba2cae1"
   },
   "outputs": [],
   "source": [
    "def get_class_weights(dataset):\n",
    "    from collections import defaultdict\n",
    "\n",
    "    cls_samples_count = defaultdict(int)\n",
    "\n",
    "    for sample in dataset.samples:\n",
    "        cls_idx = sample[1]\n",
    "        cls_samples_count[cls_idx] += 1\n",
    "\n",
    "    for cls_idx, count in cls_samples_count.items():\n",
    "        cls_samples_count[cls_idx] = round(count/len(dataset.samples), 4)\n",
    "\n",
    "    return cls_samples_count"
   ]
  },
  {
   "cell_type": "code",
   "execution_count": 14,
   "id": "J2eF5aADwe74",
   "metadata": {
    "colab": {
     "base_uri": "https://localhost:8080/"
    },
    "executionInfo": {
     "elapsed": 23670,
     "status": "ok",
     "timestamp": 1756290605164,
     "user": {
      "displayName": "Ajinkya Tamhankar",
      "userId": "13339717589125783649"
     },
     "user_tz": -330
    },
    "id": "J2eF5aADwe74",
    "outputId": "f8e89236-afaf-443d-c95c-80b1579e8630"
   },
   "outputs": [
    {
     "name": "stdout",
     "output_type": "stream",
     "text": [
      "Mounted at /content/drive\n"
     ]
    }
   ],
   "source": [
    "from google.colab import drive\n",
    "drive.mount('/content/drive')"
   ]
  },
  {
   "cell_type": "code",
   "execution_count": 15,
   "id": "cc8180c7-8721-41be-9a88-1dfd1e25a3ca",
   "metadata": {
    "executionInfo": {
     "elapsed": 10,
     "status": "ok",
     "timestamp": 1756290605171,
     "user": {
      "displayName": "Ajinkya Tamhankar",
      "userId": "13339717589125783649"
     },
     "user_tz": -330
    },
    "id": "cc8180c7-8721-41be-9a88-1dfd1e25a3ca"
   },
   "outputs": [],
   "source": [
    "root_dir = '..//content/drive/MyDrive/Class_Combined_Balanced_Dataset'"
   ]
  },
  {
   "cell_type": "code",
   "execution_count": 16,
   "id": "d3aa364a-238c-4491-b180-38f91b9e998f",
   "metadata": {
    "executionInfo": {
     "elapsed": 19183,
     "status": "ok",
     "timestamp": 1756290624360,
     "user": {
      "displayName": "Ajinkya Tamhankar",
      "userId": "13339717589125783649"
     },
     "user_tz": -330
    },
    "id": "d3aa364a-238c-4491-b180-38f91b9e998f"
   },
   "outputs": [],
   "source": [
    "train_dataset, val_dataset = make_datasets(root_dir)"
   ]
  },
  {
   "cell_type": "code",
   "execution_count": 17,
   "id": "56ae671d-61a8-4965-a5c7-ab50304d1aef",
   "metadata": {
    "executionInfo": {
     "elapsed": 20,
     "status": "ok",
     "timestamp": 1756290624366,
     "user": {
      "displayName": "Ajinkya Tamhankar",
      "userId": "13339717589125783649"
     },
     "user_tz": -330
    },
    "id": "56ae671d-61a8-4965-a5c7-ab50304d1aef",
    "scrolled": true
   },
   "outputs": [],
   "source": [
    "train_cls_wts_dict = get_class_weights(train_dataset)\n",
    "\n",
    "train_cls_wts = [item[1] for item in sorted(train_cls_wts_dict.items())]"
   ]
  },
  {
   "cell_type": "code",
   "execution_count": 18,
   "id": "de184be0-616d-4513-8df8-33ee2a2fdbc1",
   "metadata": {
    "executionInfo": {
     "elapsed": 32,
     "status": "ok",
     "timestamp": 1756290624383,
     "user": {
      "displayName": "Ajinkya Tamhankar",
      "userId": "13339717589125783649"
     },
     "user_tz": -330
    },
    "id": "de184be0-616d-4513-8df8-33ee2a2fdbc1"
   },
   "outputs": [],
   "source": [
    "from torch.utils.data import WeightedRandomSampler\n",
    "\n",
    "sampler = WeightedRandomSampler(weights=train_cls_wts,\n",
    "                                num_samples=len(train_dataset.samples),\n",
    "                                replacement=True)"
   ]
  },
  {
   "cell_type": "code",
   "execution_count": 19,
   "id": "1b9db34b-54f7-4a6d-8e85-0a7f7d0ba655",
   "metadata": {
    "executionInfo": {
     "elapsed": 14,
     "status": "ok",
     "timestamp": 1756290624404,
     "user": {
      "displayName": "Ajinkya Tamhankar",
      "userId": "13339717589125783649"
     },
     "user_tz": -330
    },
    "id": "1b9db34b-54f7-4a6d-8e85-0a7f7d0ba655"
   },
   "outputs": [],
   "source": [
    "train_loader = DataLoader(train_dataset, batch_size=128, shuffle=False, sampler=sampler,\n",
    "                          collate_fn=collate_fn, num_workers=2, pin_memory=False,\n",
    "                          persistent_workers=True, prefetch_factor=2)\n",
    "\n",
    "val_loader = DataLoader(val_dataset, batch_size=128, shuffle=False, collate_fn=collate_fn,\n",
    "                        num_workers=2, pin_memory=False, persistent_workers=True, prefetch_factor=2)"
   ]
  },
  {
   "cell_type": "code",
   "execution_count": 20,
   "id": "a5412098-f7ad-4b4f-8e31-73655285f7d2",
   "metadata": {
    "executionInfo": {
     "elapsed": 21,
     "status": "ok",
     "timestamp": 1756290624429,
     "user": {
      "displayName": "Ajinkya Tamhankar",
      "userId": "13339717589125783649"
     },
     "user_tz": -330
    },
    "id": "a5412098-f7ad-4b4f-8e31-73655285f7d2",
    "scrolled": true
   },
   "outputs": [],
   "source": [
    "# # class_weights\n",
    "# samples_count = 0\n",
    "# dataset_dir = '../data/Class_Combined_Balanced_Dataset'\n",
    "# class_wts = defaultdict(float)\n",
    "\n",
    "# for cls in os.listdir(dataset_dir):\n",
    "#     print(cls)\n",
    "#     cls_count = len(os.listdir(os.path.join(dataset_dir, cls)))\n",
    "#     samples_count += cls_count\n",
    "#     class_wts[cls] = cls_count\n",
    "\n",
    "# print(f\"Total Samples: {samples_count}\")"
   ]
  },
  {
   "cell_type": "code",
   "execution_count": 21,
   "id": "128be87e-ba11-4475-a173-b38957af8941",
   "metadata": {
    "executionInfo": {
     "elapsed": 11,
     "status": "ok",
     "timestamp": 1756290624446,
     "user": {
      "displayName": "Ajinkya Tamhankar",
      "userId": "13339717589125783649"
     },
     "user_tz": -330
    },
    "id": "128be87e-ba11-4475-a173-b38957af8941"
   },
   "outputs": [],
   "source": [
    "# with open('../data/class_samples_count.json', 'w') as f:\n",
    "#     json.dump(class_wts, f)"
   ]
  },
  {
   "cell_type": "code",
   "execution_count": 22,
   "id": "63fbc990-5aeb-4894-a035-e2210b0f6ec6",
   "metadata": {
    "executionInfo": {
     "elapsed": 6,
     "status": "ok",
     "timestamp": 1756290624457,
     "user": {
      "displayName": "Ajinkya Tamhankar",
      "userId": "13339717589125783649"
     },
     "user_tz": -330
    },
    "id": "63fbc990-5aeb-4894-a035-e2210b0f6ec6"
   },
   "outputs": [],
   "source": [
    "# for cls, count in class_wts.items():\n",
    "#     class_wts[cls] = count/samples_count"
   ]
  },
  {
   "cell_type": "code",
   "execution_count": 23,
   "id": "63cb4ed5-1c53-46bc-906e-cb1e4614eb57",
   "metadata": {
    "executionInfo": {
     "elapsed": 8,
     "status": "ok",
     "timestamp": 1756290624470,
     "user": {
      "displayName": "Ajinkya Tamhankar",
      "userId": "13339717589125783649"
     },
     "user_tz": -330
    },
    "id": "63cb4ed5-1c53-46bc-906e-cb1e4614eb57"
   },
   "outputs": [],
   "source": [
    "# with open('../data/class_weights.json', 'w') as f:\n",
    "#     json.dump(class_wts, f)"
   ]
  },
  {
   "cell_type": "markdown",
   "id": "7f3a21f8-2bf8-43e3-a97e-921a0309a3ea",
   "metadata": {
    "id": "7f3a21f8-2bf8-43e3-a97e-921a0309a3ea"
   },
   "source": [
    "## Model Architecture"
   ]
  },
  {
   "cell_type": "code",
   "execution_count": 24,
   "id": "e2419cd3-599a-433b-a84e-8a69bf5f8f46",
   "metadata": {
    "executionInfo": {
     "elapsed": 18,
     "status": "ok",
     "timestamp": 1756290624491,
     "user": {
      "displayName": "Ajinkya Tamhankar",
      "userId": "13339717589125783649"
     },
     "user_tz": -330
    },
    "id": "e2419cd3-599a-433b-a84e-8a69bf5f8f46"
   },
   "outputs": [],
   "source": [
    "import torch\n",
    "import torch.nn as nn"
   ]
  },
  {
   "cell_type": "code",
   "execution_count": 25,
   "id": "1e6a7229-ac9e-4bed-bd54-97f1e0cbc70c",
   "metadata": {
    "executionInfo": {
     "elapsed": 14,
     "status": "ok",
     "timestamp": 1756290624509,
     "user": {
      "displayName": "Ajinkya Tamhankar",
      "userId": "13339717589125783649"
     },
     "user_tz": -330
    },
    "id": "1e6a7229-ac9e-4bed-bd54-97f1e0cbc70c"
   },
   "outputs": [],
   "source": [
    "class EegLstm(nn.Module):\n",
    "    def __init__(self, input_dims=5, hidden_dims=128, num_layers=3, dropout=0.3 , num_classes=len(os.listdir(root_dir))):\n",
    "        super(EegLstm, self).__init__()\n",
    "\n",
    "        self.lstm = nn.LSTM(\n",
    "            input_size=input_dims,\n",
    "            hidden_size=hidden_dims,\n",
    "            num_layers=num_layers,\n",
    "            batch_first=True,\n",
    "            dropout=dropout if num_layers >= 2 else 0\n",
    "        )\n",
    "\n",
    "        self.fc = nn.Sequential(\n",
    "            nn.Linear(hidden_dims, hidden_dims),\n",
    "            nn.BatchNorm1d(hidden_dims),\n",
    "            nn.LeakyReLU(),\n",
    "            nn.Dropout(dropout),\n",
    "            nn.Linear(hidden_dims, hidden_dims),\n",
    "            nn.BatchNorm1d(hidden_dims),\n",
    "            nn.LeakyReLU(),\n",
    "            nn.Dropout(dropout),\n",
    "            nn.Linear(hidden_dims, hidden_dims//2),\n",
    "            nn.BatchNorm1d(hidden_dims//2),\n",
    "            nn.LeakyReLU(),\n",
    "            nn.Linear(hidden_dims//2, num_classes)\n",
    "        )\n",
    "\n",
    "    def forward(self, x, lengths=None):\n",
    "        if lengths is not None:\n",
    "            packed = nn.utils.rnn.pack_padded_sequence(\n",
    "                x, lengths.cpu(), batch_first=True, enforce_sorted=False\n",
    "            )\n",
    "\n",
    "            packed_out, (h_n, c_n) = self.lstm(packed)\n",
    "\n",
    "        else:\n",
    "            out, (h_n, c_n) = self.lstm(x)\n",
    "\n",
    "        last_hidden = h_n[-1]\n",
    "        logits=self.fc(last_hidden)\n",
    "\n",
    "        return logits"
   ]
  },
  {
   "cell_type": "code",
   "execution_count": 26,
   "id": "bf8cb365-9915-4f3a-afd4-6946979a0590",
   "metadata": {
    "executionInfo": {
     "elapsed": 3144,
     "status": "ok",
     "timestamp": 1756290627647,
     "user": {
      "displayName": "Ajinkya Tamhankar",
      "userId": "13339717589125783649"
     },
     "user_tz": -330
    },
    "id": "bf8cb365-9915-4f3a-afd4-6946979a0590"
   },
   "outputs": [],
   "source": [
    "from tqdm import tqdm\n",
    "import torch.optim as optim\n",
    "from torch.utils.tensorboard import SummaryWriter"
   ]
  },
  {
   "cell_type": "code",
   "execution_count": 27,
   "id": "89fb3cb9-1dec-4a6a-9c4e-7a445954daaf",
   "metadata": {
    "executionInfo": {
     "elapsed": 27,
     "status": "ok",
     "timestamp": 1756290627677,
     "user": {
      "displayName": "Ajinkya Tamhankar",
      "userId": "13339717589125783649"
     },
     "user_tz": -330
    },
    "id": "89fb3cb9-1dec-4a6a-9c4e-7a445954daaf"
   },
   "outputs": [],
   "source": [
    "class EarlyStopping(object):\n",
    "    def __init__(self, model, save_path='../content/drive/MyDrive/eeg_classifier.pt', patience=4, tol=1e-3):\n",
    "        self.model = model\n",
    "        self.save_path = save_path\n",
    "        self.patience = patience\n",
    "        self.counter = 0\n",
    "        self.tol = tol\n",
    "        self.best_val_loss = float('inf')\n",
    "        self.early_stop = False\n",
    "\n",
    "    def __call__(self, batch_val_loss):\n",
    "        if batch_val_loss < self.best_val_loss - self.tol:\n",
    "            torch.save(self.model.state_dict(), self.save_path)\n",
    "            self.best_val_loss = batch_val_loss\n",
    "            self.counter = 0\n",
    "            print(f'Validation Loss improved -> model saved to {self.save_path}')\n",
    "\n",
    "        else:\n",
    "            if self.counter < self.patience:\n",
    "                self.counter += 1\n",
    "                print(f'No improvement in Val Loss. Counter: {self.counter}/{self.patience}')\n",
    "\n",
    "            else:\n",
    "                self.early_stop = True\n",
    "                print(f\"Early Stopping triggered!\")\n"
   ]
  },
  {
   "cell_type": "code",
   "execution_count": 28,
   "id": "0401a423-49b1-40f1-b535-4db7af34c7d6",
   "metadata": {
    "executionInfo": {
     "elapsed": 4,
     "status": "ok",
     "timestamp": 1756290627686,
     "user": {
      "displayName": "Ajinkya Tamhankar",
      "userId": "13339717589125783649"
     },
     "user_tz": -330
    },
    "id": "0401a423-49b1-40f1-b535-4db7af34c7d6"
   },
   "outputs": [],
   "source": [
    "def train_model(model, model_name, train_loader, val_loader, epochs=15, lr=1e-3, device='cpu'):\n",
    "    log_dir = f'../content/drive/MyDrive/NeuroVision/runs/{model_name}'\n",
    "    save_path = f'../content/drive/MyDrive/NeuroVision/models/{model_name}_v1_best.pth'\n",
    "    os.makedirs(os.path.dirname(log_dir), exist_ok=True)\n",
    "    os.makedirs(os.path.dirname(save_path), exist_ok=True)\n",
    "\n",
    "    criterion = nn.CrossEntropyLoss(weight=torch.Tensor(train_cls_wts).to(device))\n",
    "    optimizer = optim.Adam(model.parameters(), lr=lr)\n",
    "    writer = SummaryWriter(log_dir=log_dir)\n",
    "    scheduler = optim.lr_scheduler.ReduceLROnPlateau(optimizer, mode='min', factor=0.1, patience=3)\n",
    "    early_stopping = EarlyStopping(model, save_path=save_path, patience=6)\n",
    "    model.to(device)\n",
    "\n",
    "    for epoch in range(epochs):\n",
    "        model.train()\n",
    "        train_loss, train_correct, train_total = 0.0, 0, 0\n",
    "        train_bar = tqdm(train_loader, desc=f'Epoch {epoch+1}/{epochs} [Train Pass]', leave=True)\n",
    "\n",
    "        for batch_x, batch_y, lengths in train_bar:\n",
    "            batch_x, batch_y, lengths = batch_x.to(device), batch_y.to(device), lengths.to(device)\n",
    "\n",
    "            optimizer.zero_grad()\n",
    "            y_preds = model(batch_x, lengths)\n",
    "\n",
    "            loss = criterion(y_preds, batch_y)\n",
    "            loss.backward()\n",
    "            torch.nn.utils.clip_grad_norm_(model.parameters(), max_norm=5.0)\n",
    "            optimizer.step()\n",
    "\n",
    "            train_loss += loss.item() * batch_x.size(0)\n",
    "            _, preds = torch.max(y_preds, 1)\n",
    "            train_correct += (preds == batch_y).sum().item()\n",
    "            train_total += batch_y.size(0)\n",
    "\n",
    "            train_bar.set_postfix(loss=loss.item())\n",
    "\n",
    "        train_acc = train_correct / train_total\n",
    "        train_loss /= train_total\n",
    "\n",
    "\n",
    "        model.eval()\n",
    "        val_loss, val_correct, val_total = 0.0, 0, 0\n",
    "\n",
    "        val_bar = tqdm(val_loader, desc=f\"Epoch{epoch+1}/{epochs} [Val Pass]\", leave=True)\n",
    "\n",
    "        with torch.no_grad():\n",
    "            for batch_x, batch_y, lengths in val_bar:\n",
    "                batch_x, batch_y, lengths = batch_x.to(device), batch_y.to(device), lengths.to(device)\n",
    "\n",
    "                y_preds = model(batch_x, lengths)\n",
    "                loss = criterion(y_preds, batch_y)\n",
    "\n",
    "                val_loss += loss.item() * batch_x.size(0)\n",
    "                _, preds = torch.max(y_preds, 1)\n",
    "                val_correct += (preds == batch_y).sum().item()\n",
    "                val_total += batch_y.size(0)\n",
    "\n",
    "                val_bar.set_postfix(loss=loss.item())\n",
    "\n",
    "        val_acc = val_correct / val_total\n",
    "        val_loss /= val_total\n",
    "\n",
    "        scheduler.step(val_loss)\n",
    "\n",
    "        early_stopping(val_loss)\n",
    "        if early_stopping.early_stop:\n",
    "            break\n",
    "\n",
    "\n",
    "        # logging\n",
    "        writer.add_scalar('Loss/train', train_loss, epoch)\n",
    "        writer.add_scalar('Loss/val', val_loss, epoch)\n",
    "        writer.add_scalar('Accuracy/train', train_acc, epoch)\n",
    "        writer.add_scalar('Accuracy/val', val_acc, epoch)\n",
    "\n",
    "        print(f\"Epoch {epoch+1}/{epochs}:\\nTrain Loss: {train_loss:.3f} | Train Acc: {train_acc*100:.2f} %\\nVal Loss: {val_loss:.3f} | Val Acc: {val_acc*100:.2f} %\")\n",
    "\n",
    "    writer.close()"
   ]
  },
  {
   "cell_type": "code",
   "execution_count": 29,
   "id": "bdc98eb7-1f94-448f-9631-a983d33d4c14",
   "metadata": {
    "executionInfo": {
     "elapsed": 27,
     "status": "ok",
     "timestamp": 1756290627725,
     "user": {
      "displayName": "Ajinkya Tamhankar",
      "userId": "13339717589125783649"
     },
     "user_tz": -330
    },
    "id": "bdc98eb7-1f94-448f-9631-a983d33d4c14"
   },
   "outputs": [],
   "source": [
    "def model_summary(model):\n",
    "    print('========================================= Model Summary ==============================================\\n')\n",
    "    print(f\"\\n{'='*55}\")\n",
    "    print(f\"{'| Parameter Name':31}|| Number of Parameters|\")\n",
    "    print(f\"{'='*55}\")\n",
    "\n",
    "    total_params = 0\n",
    "\n",
    "    for name, param in model.named_parameters():\n",
    "        print(f'| {name:30}|{param.numel():20} |')\n",
    "        print(f\"{'-'*55}\")\n",
    "        total_params += param.numel()\n",
    "\n",
    "    print(f\"\\nTotal Parameters: {total_params:,}\")"
   ]
  },
  {
   "cell_type": "markdown",
   "id": "9df9cb8d-ac5b-4ba4-a4ec-8b2d0877b6f0",
   "metadata": {
    "id": "9df9cb8d-ac5b-4ba4-a4ec-8b2d0877b6f0"
   },
   "source": [
    "## Model Training"
   ]
  },
  {
   "cell_type": "code",
   "execution_count": 30,
   "id": "450a101a-3a4c-4e5b-85f0-4189cae1651b",
   "metadata": {
    "executionInfo": {
     "elapsed": 4,
     "status": "ok",
     "timestamp": 1756290627735,
     "user": {
      "displayName": "Ajinkya Tamhankar",
      "userId": "13339717589125783649"
     },
     "user_tz": -330
    },
    "id": "450a101a-3a4c-4e5b-85f0-4189cae1651b"
   },
   "outputs": [],
   "source": [
    "lstm_model = EegLstm(input_dims=5, hidden_dims=256, num_layers=5, dropout=0.3)"
   ]
  },
  {
   "cell_type": "code",
   "execution_count": 31,
   "id": "4b3ffcf2-4219-4dd0-b84a-57ca835d803a",
   "metadata": {
    "colab": {
     "base_uri": "https://localhost:8080/"
    },
    "executionInfo": {
     "elapsed": 28,
     "status": "ok",
     "timestamp": 1756290627773,
     "user": {
      "displayName": "Ajinkya Tamhankar",
      "userId": "13339717589125783649"
     },
     "user_tz": -330
    },
    "id": "4b3ffcf2-4219-4dd0-b84a-57ca835d803a",
    "outputId": "047119f3-25ee-478b-9a3e-1c95a0ecd972",
    "scrolled": true
   },
   "outputs": [
    {
     "name": "stdout",
     "output_type": "stream",
     "text": [
      "========================================= Model Summary ==============================================\n",
      "\n",
      "\n",
      "=======================================================\n",
      "| Parameter Name               || Number of Parameters|\n",
      "=======================================================\n",
      "| lstm.weight_ih_l0             |                5120 |\n",
      "-------------------------------------------------------\n",
      "| lstm.weight_hh_l0             |              262144 |\n",
      "-------------------------------------------------------\n",
      "| lstm.bias_ih_l0               |                1024 |\n",
      "-------------------------------------------------------\n",
      "| lstm.bias_hh_l0               |                1024 |\n",
      "-------------------------------------------------------\n",
      "| lstm.weight_ih_l1             |              262144 |\n",
      "-------------------------------------------------------\n",
      "| lstm.weight_hh_l1             |              262144 |\n",
      "-------------------------------------------------------\n",
      "| lstm.bias_ih_l1               |                1024 |\n",
      "-------------------------------------------------------\n",
      "| lstm.bias_hh_l1               |                1024 |\n",
      "-------------------------------------------------------\n",
      "| lstm.weight_ih_l2             |              262144 |\n",
      "-------------------------------------------------------\n",
      "| lstm.weight_hh_l2             |              262144 |\n",
      "-------------------------------------------------------\n",
      "| lstm.bias_ih_l2               |                1024 |\n",
      "-------------------------------------------------------\n",
      "| lstm.bias_hh_l2               |                1024 |\n",
      "-------------------------------------------------------\n",
      "| lstm.weight_ih_l3             |              262144 |\n",
      "-------------------------------------------------------\n",
      "| lstm.weight_hh_l3             |              262144 |\n",
      "-------------------------------------------------------\n",
      "| lstm.bias_ih_l3               |                1024 |\n",
      "-------------------------------------------------------\n",
      "| lstm.bias_hh_l3               |                1024 |\n",
      "-------------------------------------------------------\n",
      "| lstm.weight_ih_l4             |              262144 |\n",
      "-------------------------------------------------------\n",
      "| lstm.weight_hh_l4             |              262144 |\n",
      "-------------------------------------------------------\n",
      "| lstm.bias_ih_l4               |                1024 |\n",
      "-------------------------------------------------------\n",
      "| lstm.bias_hh_l4               |                1024 |\n",
      "-------------------------------------------------------\n",
      "| fc.0.weight                   |               65536 |\n",
      "-------------------------------------------------------\n",
      "| fc.0.bias                     |                 256 |\n",
      "-------------------------------------------------------\n",
      "| fc.1.weight                   |                 256 |\n",
      "-------------------------------------------------------\n",
      "| fc.1.bias                     |                 256 |\n",
      "-------------------------------------------------------\n",
      "| fc.4.weight                   |               65536 |\n",
      "-------------------------------------------------------\n",
      "| fc.4.bias                     |                 256 |\n",
      "-------------------------------------------------------\n",
      "| fc.5.weight                   |                 256 |\n",
      "-------------------------------------------------------\n",
      "| fc.5.bias                     |                 256 |\n",
      "-------------------------------------------------------\n",
      "| fc.8.weight                   |               32768 |\n",
      "-------------------------------------------------------\n",
      "| fc.8.bias                     |                 128 |\n",
      "-------------------------------------------------------\n",
      "| fc.9.weight                   |                 128 |\n",
      "-------------------------------------------------------\n",
      "| fc.9.bias                     |                 128 |\n",
      "-------------------------------------------------------\n",
      "| fc.11.weight                  |                3200 |\n",
      "-------------------------------------------------------\n",
      "| fc.11.bias                    |                  25 |\n",
      "-------------------------------------------------------\n",
      "\n",
      "Total Parameters: 2,543,641\n"
     ]
    }
   ],
   "source": [
    "model_summary(lstm_model)"
   ]
  },
  {
   "cell_type": "code",
   "execution_count": 32,
   "id": "a1b77474-4ff5-4ad0-8f17-2cb024182b02",
   "metadata": {
    "colab": {
     "base_uri": "https://localhost:8080/"
    },
    "executionInfo": {
     "elapsed": 2031536,
     "status": "ok",
     "timestamp": 1756292659327,
     "user": {
      "displayName": "Ajinkya Tamhankar",
      "userId": "13339717589125783649"
     },
     "user_tz": -330
    },
    "id": "a1b77474-4ff5-4ad0-8f17-2cb024182b02",
    "outputId": "f2cc2d00-f2ea-4f5e-a773-a1d8447a47a8"
   },
   "outputs": [
    {
     "name": "stderr",
     "output_type": "stream",
     "text": [
      "Epoch 1/10 [Train Pass]: 100%|██████████| 82/82 [01:52<00:00,  1.37s/it, loss=1.57]\n",
      "Epoch1/10 [Val Pass]: 100%|██████████| 28/28 [12:12<00:00, 26.16s/it, loss=5.2]\n"
     ]
    },
    {
     "name": "stdout",
     "output_type": "stream",
     "text": [
      "Validation Loss improved -> model saved to ../content/drive/MyDrive/NeuroVision/models/EEG_LSTM_v1_best.pth\n",
      "Epoch 1/10:\n",
      "Train Loss: 1.417 | Train Acc: 49.49 %\n",
      "Val Loss: 3.231 | Val Acc: 21.80 %\n"
     ]
    },
    {
     "name": "stderr",
     "output_type": "stream",
     "text": [
      "Epoch 2/10 [Train Pass]: 100%|██████████| 82/82 [01:42<00:00,  1.24s/it, loss=1.96]\n",
      "Epoch2/10 [Val Pass]: 100%|██████████| 28/28 [00:32<00:00,  1.15s/it, loss=3.56]\n"
     ]
    },
    {
     "name": "stdout",
     "output_type": "stream",
     "text": [
      "Validation Loss improved -> model saved to ../content/drive/MyDrive/NeuroVision/models/EEG_LSTM_v1_best.pth\n",
      "Epoch 2/10:\n",
      "Train Loss: 0.942 | Train Acc: 54.04 %\n",
      "Val Loss: 2.244 | Val Acc: 21.80 %\n"
     ]
    },
    {
     "name": "stderr",
     "output_type": "stream",
     "text": [
      "Epoch 3/10 [Train Pass]: 100%|██████████| 82/82 [01:40<00:00,  1.22s/it, loss=0.932]\n",
      "Epoch3/10 [Val Pass]: 100%|██████████| 28/28 [00:32<00:00,  1.16s/it, loss=3.5]\n"
     ]
    },
    {
     "name": "stdout",
     "output_type": "stream",
     "text": [
      "No improvement in Val Loss. Counter: 1/6\n",
      "Epoch 3/10:\n",
      "Train Loss: 0.902 | Train Acc: 55.00 %\n",
      "Val Loss: 2.250 | Val Acc: 21.80 %\n"
     ]
    },
    {
     "name": "stderr",
     "output_type": "stream",
     "text": [
      "Epoch 4/10 [Train Pass]: 100%|██████████| 82/82 [01:38<00:00,  1.21s/it, loss=0.76]\n",
      "Epoch4/10 [Val Pass]: 100%|██████████| 28/28 [00:31<00:00,  1.13s/it, loss=3.66]\n"
     ]
    },
    {
     "name": "stdout",
     "output_type": "stream",
     "text": [
      "No improvement in Val Loss. Counter: 2/6\n",
      "Epoch 4/10:\n",
      "Train Loss: 0.948 | Train Acc: 54.10 %\n",
      "Val Loss: 2.365 | Val Acc: 21.80 %\n"
     ]
    },
    {
     "name": "stderr",
     "output_type": "stream",
     "text": [
      "Epoch 5/10 [Train Pass]: 100%|██████████| 82/82 [01:38<00:00,  1.21s/it, loss=1.41]\n",
      "Epoch5/10 [Val Pass]: 100%|██████████| 28/28 [00:32<00:00,  1.16s/it, loss=3.29]\n"
     ]
    },
    {
     "name": "stdout",
     "output_type": "stream",
     "text": [
      "No improvement in Val Loss. Counter: 3/6\n",
      "Epoch 5/10:\n",
      "Train Loss: 0.987 | Train Acc: 52.90 %\n",
      "Val Loss: 2.359 | Val Acc: 21.80 %\n"
     ]
    },
    {
     "name": "stderr",
     "output_type": "stream",
     "text": [
      "Epoch 6/10 [Train Pass]: 100%|██████████| 82/82 [01:39<00:00,  1.22s/it, loss=0.868]\n",
      "Epoch6/10 [Val Pass]: 100%|██████████| 28/28 [00:31<00:00,  1.13s/it, loss=3.43]\n"
     ]
    },
    {
     "name": "stdout",
     "output_type": "stream",
     "text": [
      "Validation Loss improved -> model saved to ../content/drive/MyDrive/NeuroVision/models/EEG_LSTM_v1_best.pth\n",
      "Epoch 6/10:\n",
      "Train Loss: 0.911 | Train Acc: 54.93 %\n",
      "Val Loss: 2.219 | Val Acc: 21.80 %\n"
     ]
    },
    {
     "name": "stderr",
     "output_type": "stream",
     "text": [
      "Epoch 7/10 [Train Pass]: 100%|██████████| 82/82 [01:39<00:00,  1.22s/it, loss=0.998]\n",
      "Epoch7/10 [Val Pass]: 100%|██████████| 28/28 [00:31<00:00,  1.11s/it, loss=3.8]\n"
     ]
    },
    {
     "name": "stdout",
     "output_type": "stream",
     "text": [
      "No improvement in Val Loss. Counter: 1/6\n",
      "Epoch 7/10:\n",
      "Train Loss: 0.929 | Train Acc: 53.86 %\n",
      "Val Loss: 2.415 | Val Acc: 21.80 %\n"
     ]
    },
    {
     "name": "stderr",
     "output_type": "stream",
     "text": [
      "Epoch 8/10 [Train Pass]: 100%|██████████| 82/82 [01:38<00:00,  1.20s/it, loss=0.636]\n",
      "Epoch8/10 [Val Pass]: 100%|██████████| 28/28 [00:31<00:00,  1.14s/it, loss=3.77]\n"
     ]
    },
    {
     "name": "stdout",
     "output_type": "stream",
     "text": [
      "No improvement in Val Loss. Counter: 2/6\n",
      "Epoch 8/10:\n",
      "Train Loss: 0.914 | Train Acc: 54.85 %\n",
      "Val Loss: 2.419 | Val Acc: 21.80 %\n"
     ]
    },
    {
     "name": "stderr",
     "output_type": "stream",
     "text": [
      "Epoch 9/10 [Train Pass]: 100%|██████████| 82/82 [01:38<00:00,  1.20s/it, loss=0.506]\n",
      "Epoch9/10 [Val Pass]: 100%|██████████| 28/28 [00:31<00:00,  1.11s/it, loss=3.95]\n"
     ]
    },
    {
     "name": "stdout",
     "output_type": "stream",
     "text": [
      "No improvement in Val Loss. Counter: 3/6\n",
      "Epoch 9/10:\n",
      "Train Loss: 0.898 | Train Acc: 54.79 %\n",
      "Val Loss: 2.482 | Val Acc: 21.80 %\n"
     ]
    },
    {
     "name": "stderr",
     "output_type": "stream",
     "text": [
      "Epoch 10/10 [Train Pass]: 100%|██████████| 82/82 [01:38<00:00,  1.20s/it, loss=0.712]\n",
      "Epoch10/10 [Val Pass]: 100%|██████████| 28/28 [00:31<00:00,  1.13s/it, loss=3.98]"
     ]
    },
    {
     "name": "stdout",
     "output_type": "stream",
     "text": [
      "No improvement in Val Loss. Counter: 4/6\n",
      "Epoch 10/10:\n",
      "Train Loss: 0.927 | Train Acc: 53.96 %\n",
      "Val Loss: 2.520 | Val Acc: 21.80 %\n"
     ]
    },
    {
     "name": "stderr",
     "output_type": "stream",
     "text": [
      "\n"
     ]
    }
   ],
   "source": [
    "device = 'cuda' if torch.cuda.is_available() else 'cpu'\n",
    "train_model(lstm_model, 'EEG_LSTM', train_loader, val_loader, 10, 1e-3, device)"
   ]
  },
  {
   "cell_type": "markdown",
   "id": "cc284f5f-0ff3-4928-9c02-e89f81e00640",
   "metadata": {
    "id": "cc284f5f-0ff3-4928-9c02-e89f81e00640"
   },
   "source": [
    "## Model Testing"
   ]
  },
  {
   "cell_type": "code",
   "execution_count": 32,
   "id": "43cd95c4-6134-4a72-a305-7896d14f00ba",
   "metadata": {
    "executionInfo": {
     "elapsed": 23,
     "status": "ok",
     "timestamp": 1756292659355,
     "user": {
      "displayName": "Ajinkya Tamhankar",
      "userId": "13339717589125783649"
     },
     "user_tz": -330
    },
    "id": "43cd95c4-6134-4a72-a305-7896d14f00ba"
   },
   "outputs": [],
   "source": []
  }
 ],
 "metadata": {
  "accelerator": "GPU",
  "colab": {
   "collapsed_sections": [
    "7162949c-6fe9-43c2-a775-7dbf886ab75a",
    "ff0a4f18-0cbf-451e-be8c-1aa156eff8a7"
   ],
   "gpuType": "T4",
   "provenance": []
  },
  "kernelspec": {
   "display_name": "neurovision",
   "language": "python",
   "name": "neurovision"
  },
  "language_info": {
   "codemirror_mode": {
    "name": "ipython",
    "version": 3
   },
   "file_extension": ".py",
   "mimetype": "text/x-python",
   "name": "python",
   "nbconvert_exporter": "python",
   "pygments_lexer": "ipython3",
   "version": "3.10.18"
  }
 },
 "nbformat": 4,
 "nbformat_minor": 5
}
